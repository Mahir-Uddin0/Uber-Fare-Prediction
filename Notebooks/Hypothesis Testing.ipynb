{
 "cells": [
  {
   "cell_type": "code",
   "execution_count": 65,
   "id": "6b114e49",
   "metadata": {},
   "outputs": [],
   "source": [
    "import pandas as pd\n",
    "import matplotlib.pyplot as plt\n",
    "from scipy.stats import ttest_ind\n",
    "from scipy.stats import chi2_contingency"
   ]
  },
  {
   "cell_type": "code",
   "execution_count": 4,
   "id": "72398b2f",
   "metadata": {},
   "outputs": [
    {
     "data": {
      "text/html": [
       "<div>\n",
       "<style scoped>\n",
       "    .dataframe tbody tr th:only-of-type {\n",
       "        vertical-align: middle;\n",
       "    }\n",
       "\n",
       "    .dataframe tbody tr th {\n",
       "        vertical-align: top;\n",
       "    }\n",
       "\n",
       "    .dataframe thead th {\n",
       "        text-align: right;\n",
       "    }\n",
       "</style>\n",
       "<table border=\"1\" class=\"dataframe\">\n",
       "  <thead>\n",
       "    <tr style=\"text-align: right;\">\n",
       "      <th></th>\n",
       "      <th>timestamp</th>\n",
       "      <th>date</th>\n",
       "      <th>hour</th>\n",
       "      <th>day_of_week</th>\n",
       "      <th>month</th>\n",
       "      <th>source</th>\n",
       "      <th>destination</th>\n",
       "      <th>ride_company</th>\n",
       "      <th>vehicle</th>\n",
       "      <th>visibility</th>\n",
       "      <th>...</th>\n",
       "      <th>distance</th>\n",
       "      <th>surge_multiplier</th>\n",
       "      <th>fare</th>\n",
       "      <th>humidity</th>\n",
       "      <th>wind_speed</th>\n",
       "      <th>weather_desc_short</th>\n",
       "      <th>weather_desc_long</th>\n",
       "      <th>weather_status</th>\n",
       "      <th>pressure</th>\n",
       "      <th>temperature_C</th>\n",
       "    </tr>\n",
       "  </thead>\n",
       "  <tbody>\n",
       "    <tr>\n",
       "      <th>0</th>\n",
       "      <td>2018-11-26 03:40:46</td>\n",
       "      <td>2018-11-26</td>\n",
       "      <td>3</td>\n",
       "      <td>Monday</td>\n",
       "      <td>11</td>\n",
       "      <td>Boston University</td>\n",
       "      <td>Financial District</td>\n",
       "      <td>Lyft</td>\n",
       "      <td>Lux Black</td>\n",
       "      <td>1.685</td>\n",
       "      <td>...</td>\n",
       "      <td>4.46</td>\n",
       "      <td>1.75</td>\n",
       "      <td>62.5</td>\n",
       "      <td>0.92</td>\n",
       "      <td>0.51</td>\n",
       "      <td>Foggy</td>\n",
       "      <td>Rain in the morning and afternoon.</td>\n",
       "      <td>fog</td>\n",
       "      <td>1014.1</td>\n",
       "      <td>5.46</td>\n",
       "    </tr>\n",
       "    <tr>\n",
       "      <th>1</th>\n",
       "      <td>2018-11-26 03:40:46</td>\n",
       "      <td>2018-11-26</td>\n",
       "      <td>3</td>\n",
       "      <td>Monday</td>\n",
       "      <td>11</td>\n",
       "      <td>Boston University</td>\n",
       "      <td>Financial District</td>\n",
       "      <td>Lyft</td>\n",
       "      <td>Lux</td>\n",
       "      <td>1.685</td>\n",
       "      <td>...</td>\n",
       "      <td>4.46</td>\n",
       "      <td>1.75</td>\n",
       "      <td>47.5</td>\n",
       "      <td>0.92</td>\n",
       "      <td>0.51</td>\n",
       "      <td>Foggy</td>\n",
       "      <td>Rain in the morning and afternoon.</td>\n",
       "      <td>fog</td>\n",
       "      <td>1014.1</td>\n",
       "      <td>5.46</td>\n",
       "    </tr>\n",
       "    <tr>\n",
       "      <th>2</th>\n",
       "      <td>2018-11-26 03:40:46</td>\n",
       "      <td>2018-11-26</td>\n",
       "      <td>3</td>\n",
       "      <td>Monday</td>\n",
       "      <td>11</td>\n",
       "      <td>North Station</td>\n",
       "      <td>Fenway</td>\n",
       "      <td>Uber</td>\n",
       "      <td>WAV</td>\n",
       "      <td>1.685</td>\n",
       "      <td>...</td>\n",
       "      <td>3.05</td>\n",
       "      <td>1.00</td>\n",
       "      <td>10.5</td>\n",
       "      <td>0.92</td>\n",
       "      <td>0.51</td>\n",
       "      <td>Foggy</td>\n",
       "      <td>Rain in the morning and afternoon.</td>\n",
       "      <td>fog</td>\n",
       "      <td>1014.1</td>\n",
       "      <td>5.46</td>\n",
       "    </tr>\n",
       "    <tr>\n",
       "      <th>3</th>\n",
       "      <td>2018-11-26 03:40:46</td>\n",
       "      <td>2018-11-26</td>\n",
       "      <td>3</td>\n",
       "      <td>Monday</td>\n",
       "      <td>11</td>\n",
       "      <td>Boston University</td>\n",
       "      <td>Theatre District</td>\n",
       "      <td>Lyft</td>\n",
       "      <td>Lux Black XL</td>\n",
       "      <td>1.685</td>\n",
       "      <td>...</td>\n",
       "      <td>3.03</td>\n",
       "      <td>1.00</td>\n",
       "      <td>34.0</td>\n",
       "      <td>0.92</td>\n",
       "      <td>0.51</td>\n",
       "      <td>Foggy</td>\n",
       "      <td>Rain in the morning and afternoon.</td>\n",
       "      <td>fog</td>\n",
       "      <td>1014.1</td>\n",
       "      <td>5.46</td>\n",
       "    </tr>\n",
       "    <tr>\n",
       "      <th>4</th>\n",
       "      <td>2018-11-26 03:40:46</td>\n",
       "      <td>2018-11-26</td>\n",
       "      <td>3</td>\n",
       "      <td>Monday</td>\n",
       "      <td>11</td>\n",
       "      <td>Northeastern University</td>\n",
       "      <td>Beacon Hill</td>\n",
       "      <td>Lyft</td>\n",
       "      <td>Lyft</td>\n",
       "      <td>1.685</td>\n",
       "      <td>...</td>\n",
       "      <td>2.43</td>\n",
       "      <td>1.00</td>\n",
       "      <td>10.5</td>\n",
       "      <td>0.92</td>\n",
       "      <td>0.51</td>\n",
       "      <td>Foggy</td>\n",
       "      <td>Rain in the morning and afternoon.</td>\n",
       "      <td>fog</td>\n",
       "      <td>1014.1</td>\n",
       "      <td>5.46</td>\n",
       "    </tr>\n",
       "  </tbody>\n",
       "</table>\n",
       "<p>5 rows × 22 columns</p>\n",
       "</div>"
      ],
      "text/plain": [
       "             timestamp        date  hour day_of_week  month  \\\n",
       "0  2018-11-26 03:40:46  2018-11-26     3      Monday     11   \n",
       "1  2018-11-26 03:40:46  2018-11-26     3      Monday     11   \n",
       "2  2018-11-26 03:40:46  2018-11-26     3      Monday     11   \n",
       "3  2018-11-26 03:40:46  2018-11-26     3      Monday     11   \n",
       "4  2018-11-26 03:40:46  2018-11-26     3      Monday     11   \n",
       "\n",
       "                    source         destination ride_company       vehicle  \\\n",
       "0        Boston University  Financial District         Lyft     Lux Black   \n",
       "1        Boston University  Financial District         Lyft           Lux   \n",
       "2            North Station              Fenway         Uber           WAV   \n",
       "3        Boston University    Theatre District         Lyft  Lux Black XL   \n",
       "4  Northeastern University         Beacon Hill         Lyft          Lyft   \n",
       "\n",
       "   visibility  ...  distance  surge_multiplier  fare  humidity  wind_speed  \\\n",
       "0       1.685  ...      4.46              1.75  62.5      0.92        0.51   \n",
       "1       1.685  ...      4.46              1.75  47.5      0.92        0.51   \n",
       "2       1.685  ...      3.05              1.00  10.5      0.92        0.51   \n",
       "3       1.685  ...      3.03              1.00  34.0      0.92        0.51   \n",
       "4       1.685  ...      2.43              1.00  10.5      0.92        0.51   \n",
       "\n",
       "   weather_desc_short                     weather_desc_long weather_status  \\\n",
       "0               Foggy   Rain in the morning and afternoon.             fog   \n",
       "1               Foggy   Rain in the morning and afternoon.             fog   \n",
       "2               Foggy   Rain in the morning and afternoon.             fog   \n",
       "3               Foggy   Rain in the morning and afternoon.             fog   \n",
       "4               Foggy   Rain in the morning and afternoon.             fog   \n",
       "\n",
       "  pressure temperature_C  \n",
       "0   1014.1          5.46  \n",
       "1   1014.1          5.46  \n",
       "2   1014.1          5.46  \n",
       "3   1014.1          5.46  \n",
       "4   1014.1          5.46  \n",
       "\n",
       "[5 rows x 22 columns]"
      ]
     },
     "execution_count": 4,
     "metadata": {},
     "output_type": "execute_result"
    }
   ],
   "source": [
    "df = pd.read_csv(\"/home/mahir_uddin/Downloads/Uber dataset/Uber Cleaned Dataset.csv\")\n",
    "df.head()"
   ]
  },
  {
   "cell_type": "code",
   "execution_count": 5,
   "id": "a00c2be5",
   "metadata": {},
   "outputs": [
    {
     "data": {
      "text/plain": [
       "Index(['timestamp', 'date', 'hour', 'day_of_week', 'month', 'source',\n",
       "       'destination', 'ride_company', 'vehicle', 'visibility', 'cloud_cover',\n",
       "       'uv_index', 'distance', 'surge_multiplier', 'fare', 'humidity',\n",
       "       'wind_speed', 'weather_desc_short', 'weather_desc_long',\n",
       "       'weather_status', 'pressure', 'temperature_C'],\n",
       "      dtype='object')"
      ]
     },
     "execution_count": 5,
     "metadata": {},
     "output_type": "execute_result"
    }
   ],
   "source": [
    "df.columns"
   ]
  },
  {
   "cell_type": "code",
   "execution_count": 6,
   "id": "202f8109",
   "metadata": {},
   "outputs": [
    {
     "data": {
      "text/plain": [
       "array(['fog', 'rain', 'cloudy', 'partly cloudy', 'clear'], dtype=object)"
      ]
     },
     "execution_count": 6,
     "metadata": {},
     "output_type": "execute_result"
    }
   ],
   "source": [
    "df[\"weather_status\"].unique()"
   ]
  },
  {
   "cell_type": "markdown",
   "id": "ab574acc",
   "metadata": {},
   "source": [
    "# **Test-1**"
   ]
  },
  {
   "cell_type": "markdown",
   "id": "e59eded5",
   "metadata": {},
   "source": [
    "## 📌 **Hypothesis Statement**\n",
    "\n",
    "We want to test whether the fare is significantly higher when the weather is rainy compared to when it is clear.\n",
    "\n",
    "- **Null Hypothesis (H₀)**: There is no difference in the mean fare between rainy and clear weather conditions.\n",
    "- **Alternative Hypothesis (H₁)**: The mean fare is higher when the weather is rainy than when it is clear.\n",
    "\n",
    "This is a **one-tailed** t-test since we're specifically testing if fare is higher in rainy weather."
   ]
  },
  {
   "cell_type": "code",
   "execution_count": 37,
   "id": "846157f8",
   "metadata": {},
   "outputs": [],
   "source": [
    "# Get fare data for 'rain' and 'clear' weather\n",
    "fare_rain = df[df['weather_status'] == 'rain']['fare']\n",
    "fare_clear = df[df['weather_status'] == 'clear']['fare']"
   ]
  },
  {
   "cell_type": "code",
   "execution_count": 38,
   "id": "b1899035",
   "metadata": {},
   "outputs": [
    {
     "name": "stdout",
     "output_type": "stream",
     "text": [
      "Sample size (Rain): 108903\n",
      "Sample size (Clear): 78233\n"
     ]
    }
   ],
   "source": [
    "# Check if sample sizes are reasonable\n",
    "print(\"Sample size (Rain):\", len(fare_rain))\n",
    "print(\"Sample size (Clear):\", len(fare_clear))"
   ]
  },
  {
   "cell_type": "code",
   "execution_count": 44,
   "id": "83544873",
   "metadata": {
    "scrolled": false
   },
   "outputs": [
    {
     "data": {
      "image/png": "[encoded data removed]",
      "text/plain": [
       "<Figure size 640x480 with 1 Axes>"
      ]
     },
     "metadata": {},
     "output_type": "display_data"
    }
   ],
   "source": [
    "# Visualize distributions\n",
    "plt.hist(fare_rain, bins=50, alpha=0.6, label='rain')\n",
    "plt.hist(fare_clear, bins=50, alpha=0.6, label='clear')\n",
    "plt.legend()\n",
    "plt.title(\"Fare Distribution: Rain vs Clear\")\n",
    "plt.xlabel(\"Fare\")\n",
    "plt.ylabel(\"Frequency\")\n",
    "plt.show()"
   ]
  },
  {
   "cell_type": "code",
   "execution_count": 46,
   "id": "9aec22c0",
   "metadata": {},
   "outputs": [
    {
     "data": {
      "text/plain": [
       "(16.550657924942378, 16.475558268249973)"
      ]
     },
     "execution_count": 46,
     "metadata": {},
     "output_type": "execute_result"
    }
   ],
   "source": [
    "fare_rain.mean(), fare_clear.mean()"
   ]
  },
  {
   "cell_type": "code",
   "execution_count": 47,
   "id": "778b7592",
   "metadata": {},
   "outputs": [
    {
     "data": {
      "text/plain": [
       "(9.31472089327568, 9.26386440907696)"
      ]
     },
     "execution_count": 47,
     "metadata": {},
     "output_type": "execute_result"
    }
   ],
   "source": [
    "fare_rain.std(), fare_clear.std()"
   ]
  },
  {
   "cell_type": "markdown",
   "id": "842579f7",
   "metadata": {},
   "source": [
    "The mean and standard deviation under two weather condition is very close. Fare in rainy weather is just slightly more than fare in clear weather. We will now do t-test to confidently determine if that slight increase is a pattern or not."
   ]
  },
  {
   "cell_type": "code",
   "execution_count": 41,
   "id": "1f5efc2a",
   "metadata": {},
   "outputs": [
    {
     "name": "stdout",
     "output_type": "stream",
     "text": [
      "T-statistic: 1.725777675335563\n",
      "Two-tailed P-value: 0.0843892447294878\n",
      "One-tailed P-value: 0.0421946223647439\n"
     ]
    }
   ],
   "source": [
    "# Perform one-tailed t-test (equal_var=False = Welch's t-test)\n",
    "t_stat, p_val_two_tailed = ttest_ind(fare_rain, fare_clear, equal_var=False)\n",
    "\n",
    "print(\"T-statistic:\", t_stat)\n",
    "print(\"Two-tailed P-value:\", p_val_two_tailed)\n",
    "\n",
    "# Convert to one-tailed p-value (for rainy > clear)\n",
    "p_val_one_tailed = p_val / 2 if t_stat > 0 else 1 - (p_val / 2)\n",
    "print(\"One-tailed P-value:\", p_val_one_tailed)\n"
   ]
  },
  {
   "cell_type": "markdown",
   "id": "2c570c02",
   "metadata": {},
   "source": [
    "## ✅ **Hypothesis Test Result and Interpretation**\n",
    "\n",
    "- **T-statistic:** 1.73  \n",
    "- **One-tailed P-value:** 0.0422  \n",
    "- **Significance level (α):** 0.01\n",
    "\n",
    "We conducted a one-tailed independent t-test to evaluate whether the average fare is significantly higher during rainy weather compared to clear weather.\n",
    "\n",
    "At a 1% significance level**, the p-value (0.0422) is greater than 0.01.  \n",
    "Therefore, we fail to reject the null hypothesis.\n",
    "\n",
    "### 📌 **Conclusion:**\n",
    "We do not have strong enough statistical evidence — at the 1% level — to conclude that fares are significantly higher during rainy weather.\n",
    "\n",
    "### ⚠️ **Why Use a Stricter 1% Significance Level?**\n",
    "In this analysis, we are testing whether rainy weather leads to meaningfully higher fares. Since pricing decisions and operational strategies could be influenced by this conclusion, we require a higher degree of confidence. A small increase in average fare could be due to random fluctuations or other uncontrolled factors. Therefore, to avoid making a false positive conclusion (Type I error), we used a more conservative threshold (α = 0.01) to ensure that only strong, reliable evidence would lead us to claim that fares increase during rain."
   ]
  },
  {
   "cell_type": "markdown",
   "id": "379ff780",
   "metadata": {},
   "source": [
    "# **Test-2**"
   ]
  },
  {
   "cell_type": "markdown",
   "id": "d37d82f0",
   "metadata": {},
   "source": [
    "## 📊 **Chi-Square Test of Independence: Source vs Destination**\n",
    "\n",
    "We want to investigate whether there is any relationship between pickup locations (`source`) and drop-off locations (`destination`) in our Uber dataset.\n",
    "\n",
    "This is a classic case for a Chi-Square Test of Independence, which tests whether two categorical variables are associated with each other or independent.\n",
    "\n",
    "### 🧪 **Hypotheses**\n",
    "\n",
    "- **Null Hypothesis (H₀):**  \n",
    "  There is no association between `source` and `destination`.  \n",
    "  (They are independent — the drop-off point does not depend on the pickup location.)\n",
    "\n",
    "- **Alternative Hypothesis (H₁):**  \n",
    "  There is an association between `source` and `destination`.  \n",
    "  (They are dependent — pickup locations influence where riders are likely to go.)\n",
    "\n",
    "We will use a significance level α = 0.05 to evaluate the result.\n"
   ]
  },
  {
   "cell_type": "code",
   "execution_count": 66,
   "id": "12c7b22e",
   "metadata": {},
   "outputs": [
    {
     "name": "stdout",
     "output_type": "stream",
     "text": [
      "Chi-square value: 638278.2411509559\n",
      "Degrees of freedom: 121\n",
      "P-value: 0.0\n"
     ]
    }
   ],
   "source": [
    "# Create the contingency table\n",
    "contingency_table = pd.crosstab(df['source'], df['destination'])\n",
    "\n",
    "# Perform chi-square test\n",
    "chi2, p, dof, expected = chi2_contingency(contingency_table)\n",
    "\n",
    "# Show results\n",
    "print(\"Chi-square value:\", chi2)\n",
    "print(\"Degrees of freedom:\", dof)\n",
    "print(\"P-value:\", p)"
   ]
  },
  {
   "cell_type": "markdown",
   "id": "0795e81f",
   "metadata": {},
   "source": [
    "## ✅ **Result Interpretation: Source vs Destination**\n",
    "\n",
    "- **Chi-square value:** 638,278.24  \n",
    "- **Degrees of freedom:** 121  \n",
    "- **P-value:** 0.000\n",
    "\n",
    "### 🎯 **Conclusion:**\n",
    "\n",
    "Since the p-value is significantly less than the chosen significance level (α = 0.05), we reject the null hypothesis.\n",
    "\n",
    "This provides strong statistical evidence that there is a dependence between source and destination.  \n",
    "In other words, pickup locations influence the drop-off points. This is intuitive, as real-world ride patterns often follow common routes — such as commuting between residential areas and business districts, or traveling to/from airports, universities, or shopping zones.\n",
    "\n",
    "### 📌 **Final Judgment:**\n",
    "There is a clear association between where a ride starts and where it ends. This information can be valuable for:\n",
    "- Route optimization\n",
    "- Demand forecasting\n",
    "- Dynamic pricing strategy\n",
    "- Strategic placement of drivers in high-demand zones\n"
   ]
  }
 ],
 "metadata": {
  "kernelspec": {
   "display_name": "Python 3 (ipykernel)",
   "language": "python",
   "name": "python3"
  },
  "language_info": {
   "codemirror_mode": {
    "name": "ipython",
    "version": 3
   },
   "file_extension": ".py",
   "mimetype": "text/x-python",
   "name": "python",
   "nbconvert_exporter": "python",
   "pygments_lexer": "ipython3",
   "version": "3.12.3"
  }
 },
 "nbformat": 4,
 "nbformat_minor": 5
}
