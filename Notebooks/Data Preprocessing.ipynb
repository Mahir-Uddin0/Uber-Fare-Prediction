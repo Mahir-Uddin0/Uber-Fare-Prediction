{
 "cells": [
  {
   "cell_type": "code",
   "execution_count": 1,
   "id": "8dc23642",
   "metadata": {
    "execution": {
     "iopub.execute_input": "2025-06-16T10:26:50.531363Z",
     "iopub.status.busy": "2025-06-16T10:26:50.531048Z",
     "iopub.status.idle": "2025-06-16T10:26:54.163471Z",
     "shell.execute_reply": "2025-06-16T10:26:54.162560Z"
    },
    "papermill": {
     "duration": 3.650697,
     "end_time": "2025-06-16T10:26:54.165180",
     "exception": false,
     "start_time": "2025-06-16T10:26:50.514483",
     "status": "completed"
    },
    "tags": []
   },
   "outputs": [],
   "source": [
    "import numpy as np\n",
    "import pandas as pd\n",
    "import matplotlib.pyplot as plt\n",
    "import seaborn as sns\n",
    "import datetime"
   ]
  },
  {
   "cell_type": "markdown",
   "id": "f24e4118",
   "metadata": {
    "papermill": {
     "duration": 0.014195,
     "end_time": "2025-06-16T10:26:54.193454",
     "exception": false,
     "start_time": "2025-06-16T10:26:54.179259",
     "status": "completed"
    },
    "tags": []
   },
   "source": [
    "### **Read the raw data**"
   ]
  },
  {
   "cell_type": "code",
   "execution_count": 2,
   "id": "7108c76c",
   "metadata": {
    "execution": {
     "iopub.execute_input": "2025-06-16T10:26:54.222194Z",
     "iopub.status.busy": "2025-06-16T10:26:54.221714Z",
     "iopub.status.idle": "2025-06-16T10:27:05.755668Z",
     "shell.execute_reply": "2025-06-16T10:27:05.754724Z"
    },
    "papermill": {
     "duration": 11.550257,
     "end_time": "2025-06-16T10:27:05.757250",
     "exception": false,
     "start_time": "2025-06-16T10:26:54.206993",
     "status": "completed"
    },
    "tags": []
   },
   "outputs": [
    {
     "data": {
      "text/html": [
       "<div>\n",
       "<style scoped>\n",
       "    .dataframe tbody tr th:only-of-type {\n",
       "        vertical-align: middle;\n",
       "    }\n",
       "\n",
       "    .dataframe tbody tr th {\n",
       "        vertical-align: top;\n",
       "    }\n",
       "\n",
       "    .dataframe thead th {\n",
       "        text-align: right;\n",
       "    }\n",
       "</style>\n",
       "<table border=\"1\" class=\"dataframe\">\n",
       "  <thead>\n",
       "    <tr style=\"text-align: right;\">\n",
       "      <th></th>\n",
       "      <th>id</th>\n",
       "      <th>timestamp</th>\n",
       "      <th>timezone</th>\n",
       "      <th>source</th>\n",
       "      <th>destination</th>\n",
       "      <th>cab_type</th>\n",
       "      <th>product_id</th>\n",
       "      <th>name</th>\n",
       "      <th>price</th>\n",
       "      <th>distance</th>\n",
       "      <th>...</th>\n",
       "      <th>precipIntensityMax</th>\n",
       "      <th>uvIndexTime</th>\n",
       "      <th>temperatureMin</th>\n",
       "      <th>temperatureMinTime</th>\n",
       "      <th>temperatureMax</th>\n",
       "      <th>temperatureMaxTime</th>\n",
       "      <th>apparentTemperatureMin</th>\n",
       "      <th>apparentTemperatureMinTime</th>\n",
       "      <th>apparentTemperatureMax</th>\n",
       "      <th>apparentTemperatureMaxTime</th>\n",
       "    </tr>\n",
       "  </thead>\n",
       "  <tbody>\n",
       "    <tr>\n",
       "      <th>0</th>\n",
       "      <td>424553bb-7174-41ea-aeb4-fe06d4f4b9d7</td>\n",
       "      <td>1.544953e+09</td>\n",
       "      <td>America/New_York</td>\n",
       "      <td>Haymarket Square</td>\n",
       "      <td>North Station</td>\n",
       "      <td>Lyft</td>\n",
       "      <td>lyft_line</td>\n",
       "      <td>Shared</td>\n",
       "      <td>5.0</td>\n",
       "      <td>0.44</td>\n",
       "      <td>...</td>\n",
       "      <td>0.1276</td>\n",
       "      <td>1544979600</td>\n",
       "      <td>39.89</td>\n",
       "      <td>1545012000</td>\n",
       "      <td>43.68</td>\n",
       "      <td>1544968800</td>\n",
       "      <td>33.73</td>\n",
       "      <td>1545012000</td>\n",
       "      <td>38.07</td>\n",
       "      <td>1544958000</td>\n",
       "    </tr>\n",
       "    <tr>\n",
       "      <th>1</th>\n",
       "      <td>4bd23055-6827-41c6-b23b-3c491f24e74d</td>\n",
       "      <td>1.543284e+09</td>\n",
       "      <td>America/New_York</td>\n",
       "      <td>Haymarket Square</td>\n",
       "      <td>North Station</td>\n",
       "      <td>Lyft</td>\n",
       "      <td>lyft_premier</td>\n",
       "      <td>Lux</td>\n",
       "      <td>11.0</td>\n",
       "      <td>0.44</td>\n",
       "      <td>...</td>\n",
       "      <td>0.1300</td>\n",
       "      <td>1543251600</td>\n",
       "      <td>40.49</td>\n",
       "      <td>1543233600</td>\n",
       "      <td>47.30</td>\n",
       "      <td>1543251600</td>\n",
       "      <td>36.20</td>\n",
       "      <td>1543291200</td>\n",
       "      <td>43.92</td>\n",
       "      <td>1543251600</td>\n",
       "    </tr>\n",
       "    <tr>\n",
       "      <th>2</th>\n",
       "      <td>981a3613-77af-4620-a42a-0c0866077d1e</td>\n",
       "      <td>1.543367e+09</td>\n",
       "      <td>America/New_York</td>\n",
       "      <td>Haymarket Square</td>\n",
       "      <td>North Station</td>\n",
       "      <td>Lyft</td>\n",
       "      <td>lyft</td>\n",
       "      <td>Lyft</td>\n",
       "      <td>7.0</td>\n",
       "      <td>0.44</td>\n",
       "      <td>...</td>\n",
       "      <td>0.1064</td>\n",
       "      <td>1543338000</td>\n",
       "      <td>35.36</td>\n",
       "      <td>1543377600</td>\n",
       "      <td>47.55</td>\n",
       "      <td>1543320000</td>\n",
       "      <td>31.04</td>\n",
       "      <td>1543377600</td>\n",
       "      <td>44.12</td>\n",
       "      <td>1543320000</td>\n",
       "    </tr>\n",
       "    <tr>\n",
       "      <th>3</th>\n",
       "      <td>c2d88af2-d278-4bfd-a8d0-29ca77cc5512</td>\n",
       "      <td>1.543554e+09</td>\n",
       "      <td>America/New_York</td>\n",
       "      <td>Haymarket Square</td>\n",
       "      <td>North Station</td>\n",
       "      <td>Lyft</td>\n",
       "      <td>lyft_luxsuv</td>\n",
       "      <td>Lux Black XL</td>\n",
       "      <td>26.0</td>\n",
       "      <td>0.44</td>\n",
       "      <td>...</td>\n",
       "      <td>0.0000</td>\n",
       "      <td>1543507200</td>\n",
       "      <td>34.67</td>\n",
       "      <td>1543550400</td>\n",
       "      <td>45.03</td>\n",
       "      <td>1543510800</td>\n",
       "      <td>30.30</td>\n",
       "      <td>1543550400</td>\n",
       "      <td>38.53</td>\n",
       "      <td>1543510800</td>\n",
       "    </tr>\n",
       "    <tr>\n",
       "      <th>4</th>\n",
       "      <td>e0126e1f-8ca9-4f2e-82b3-50505a09db9a</td>\n",
       "      <td>1.543463e+09</td>\n",
       "      <td>America/New_York</td>\n",
       "      <td>Haymarket Square</td>\n",
       "      <td>North Station</td>\n",
       "      <td>Lyft</td>\n",
       "      <td>lyft_plus</td>\n",
       "      <td>Lyft XL</td>\n",
       "      <td>9.0</td>\n",
       "      <td>0.44</td>\n",
       "      <td>...</td>\n",
       "      <td>0.0001</td>\n",
       "      <td>1543420800</td>\n",
       "      <td>33.10</td>\n",
       "      <td>1543402800</td>\n",
       "      <td>42.18</td>\n",
       "      <td>1543420800</td>\n",
       "      <td>29.11</td>\n",
       "      <td>1543392000</td>\n",
       "      <td>35.75</td>\n",
       "      <td>1543420800</td>\n",
       "    </tr>\n",
       "    <tr>\n",
       "      <th>5</th>\n",
       "      <td>f6f6d7e4-3e18-4922-a5f5-181cdd3fa6f2</td>\n",
       "      <td>1.545071e+09</td>\n",
       "      <td>America/New_York</td>\n",
       "      <td>Haymarket Square</td>\n",
       "      <td>North Station</td>\n",
       "      <td>Lyft</td>\n",
       "      <td>lyft_lux</td>\n",
       "      <td>Lux Black</td>\n",
       "      <td>16.5</td>\n",
       "      <td>0.44</td>\n",
       "      <td>...</td>\n",
       "      <td>0.0221</td>\n",
       "      <td>1545066000</td>\n",
       "      <td>34.19</td>\n",
       "      <td>1545048000</td>\n",
       "      <td>40.66</td>\n",
       "      <td>1545022800</td>\n",
       "      <td>27.39</td>\n",
       "      <td>1545044400</td>\n",
       "      <td>34.97</td>\n",
       "      <td>1545080400</td>\n",
       "    </tr>\n",
       "    <tr>\n",
       "      <th>6</th>\n",
       "      <td>462816a3-820d-408b-8549-0b39e82f65ac</td>\n",
       "      <td>1.543209e+09</td>\n",
       "      <td>America/New_York</td>\n",
       "      <td>Back Bay</td>\n",
       "      <td>Northeastern University</td>\n",
       "      <td>Lyft</td>\n",
       "      <td>lyft_plus</td>\n",
       "      <td>Lyft XL</td>\n",
       "      <td>10.5</td>\n",
       "      <td>1.08</td>\n",
       "      <td>...</td>\n",
       "      <td>0.1245</td>\n",
       "      <td>1543251600</td>\n",
       "      <td>40.67</td>\n",
       "      <td>1543233600</td>\n",
       "      <td>46.46</td>\n",
       "      <td>1543255200</td>\n",
       "      <td>37.45</td>\n",
       "      <td>1543291200</td>\n",
       "      <td>43.81</td>\n",
       "      <td>1543251600</td>\n",
       "    </tr>\n",
       "  </tbody>\n",
       "</table>\n",
       "<p>7 rows × 53 columns</p>\n",
       "</div>"
      ],
      "text/plain": [
       "                                     id     timestamp          timezone  \\\n",
       "0  424553bb-7174-41ea-aeb4-fe06d4f4b9d7  1.544953e+09  America/New_York   \n",
       "1  4bd23055-6827-41c6-b23b-3c491f24e74d  1.543284e+09  America/New_York   \n",
       "2  981a3613-77af-4620-a42a-0c0866077d1e  1.543367e+09  America/New_York   \n",
       "3  c2d88af2-d278-4bfd-a8d0-29ca77cc5512  1.543554e+09  America/New_York   \n",
       "4  e0126e1f-8ca9-4f2e-82b3-50505a09db9a  1.543463e+09  America/New_York   \n",
       "5  f6f6d7e4-3e18-4922-a5f5-181cdd3fa6f2  1.545071e+09  America/New_York   \n",
       "6  462816a3-820d-408b-8549-0b39e82f65ac  1.543209e+09  America/New_York   \n",
       "\n",
       "             source              destination cab_type    product_id  \\\n",
       "0  Haymarket Square            North Station     Lyft     lyft_line   \n",
       "1  Haymarket Square            North Station     Lyft  lyft_premier   \n",
       "2  Haymarket Square            North Station     Lyft          lyft   \n",
       "3  Haymarket Square            North Station     Lyft   lyft_luxsuv   \n",
       "4  Haymarket Square            North Station     Lyft     lyft_plus   \n",
       "5  Haymarket Square            North Station     Lyft      lyft_lux   \n",
       "6          Back Bay  Northeastern University     Lyft     lyft_plus   \n",
       "\n",
       "           name  price  distance  ...  precipIntensityMax  uvIndexTime  \\\n",
       "0        Shared    5.0      0.44  ...              0.1276   1544979600   \n",
       "1           Lux   11.0      0.44  ...              0.1300   1543251600   \n",
       "2          Lyft    7.0      0.44  ...              0.1064   1543338000   \n",
       "3  Lux Black XL   26.0      0.44  ...              0.0000   1543507200   \n",
       "4       Lyft XL    9.0      0.44  ...              0.0001   1543420800   \n",
       "5     Lux Black   16.5      0.44  ...              0.0221   1545066000   \n",
       "6       Lyft XL   10.5      1.08  ...              0.1245   1543251600   \n",
       "\n",
       "   temperatureMin  temperatureMinTime  temperatureMax temperatureMaxTime  \\\n",
       "0           39.89          1545012000           43.68         1544968800   \n",
       "1           40.49          1543233600           47.30         1543251600   \n",
       "2           35.36          1543377600           47.55         1543320000   \n",
       "3           34.67          1543550400           45.03         1543510800   \n",
       "4           33.10          1543402800           42.18         1543420800   \n",
       "5           34.19          1545048000           40.66         1545022800   \n",
       "6           40.67          1543233600           46.46         1543255200   \n",
       "\n",
       "  apparentTemperatureMin  apparentTemperatureMinTime  apparentTemperatureMax  \\\n",
       "0                  33.73                  1545012000                   38.07   \n",
       "1                  36.20                  1543291200                   43.92   \n",
       "2                  31.04                  1543377600                   44.12   \n",
       "3                  30.30                  1543550400                   38.53   \n",
       "4                  29.11                  1543392000                   35.75   \n",
       "5                  27.39                  1545044400                   34.97   \n",
       "6                  37.45                  1543291200                   43.81   \n",
       "\n",
       "  apparentTemperatureMaxTime  \n",
       "0                 1544958000  \n",
       "1                 1543251600  \n",
       "2                 1543320000  \n",
       "3                 1543510800  \n",
       "4                 1543420800  \n",
       "5                 1545080400  \n",
       "6                 1543251600  \n",
       "\n",
       "[7 rows x 53 columns]"
      ]
     },
     "execution_count": 2,
     "metadata": {},
     "output_type": "execute_result"
    }
   ],
   "source": [
    "df = pd.read_csv(\"/kaggle/input/uber-uncleaned-dataset/Uber and Lyft Dataset Boston.csv\")\n",
    "df.head(7)"
   ]
  },
  {
   "cell_type": "code",
   "execution_count": 3,
   "id": "721576e0",
   "metadata": {
    "execution": {
     "iopub.execute_input": "2025-06-16T10:27:05.786192Z",
     "iopub.status.busy": "2025-06-16T10:27:05.785824Z",
     "iopub.status.idle": "2025-06-16T10:27:05.832339Z",
     "shell.execute_reply": "2025-06-16T10:27:05.831475Z"
    },
    "papermill": {
     "duration": 0.062966,
     "end_time": "2025-06-16T10:27:05.834103",
     "exception": false,
     "start_time": "2025-06-16T10:27:05.771137",
     "status": "completed"
    },
    "tags": []
   },
   "outputs": [
    {
     "data": {
      "text/plain": [
       "array(['America/New_York'], dtype=object)"
      ]
     },
     "execution_count": 3,
     "metadata": {},
     "output_type": "execute_result"
    }
   ],
   "source": [
    "df[\"timezone\"].unique()"
   ]
  },
  {
   "cell_type": "code",
   "execution_count": 4,
   "id": "2fa16c22",
   "metadata": {
    "execution": {
     "iopub.execute_input": "2025-06-16T10:27:05.864608Z",
     "iopub.status.busy": "2025-06-16T10:27:05.863877Z",
     "iopub.status.idle": "2025-06-16T10:27:05.871085Z",
     "shell.execute_reply": "2025-06-16T10:27:05.870168Z"
    },
    "papermill": {
     "duration": 0.023966,
     "end_time": "2025-06-16T10:27:05.872463",
     "exception": false,
     "start_time": "2025-06-16T10:27:05.848497",
     "status": "completed"
    },
    "tags": []
   },
   "outputs": [
    {
     "data": {
      "text/plain": [
       "Index(['id', 'timestamp', 'timezone', 'source', 'destination', 'cab_type',\n",
       "       'product_id', 'name', 'price', 'distance', 'surge_multiplier',\n",
       "       'latitude', 'longitude', 'temperature', 'apparentTemperature',\n",
       "       'short_summary', 'long_summary', 'precipIntensity', 'precipProbability',\n",
       "       'humidity', 'windSpeed', 'windGust', 'windGustTime', 'visibility',\n",
       "       'temperatureHigh', 'temperatureHighTime', 'temperatureLow',\n",
       "       'temperatureLowTime', 'apparentTemperatureHigh',\n",
       "       'apparentTemperatureHighTime', 'apparentTemperatureLow',\n",
       "       'apparentTemperatureLowTime', 'icon', 'dewPoint', 'pressure',\n",
       "       'windBearing', 'cloudCover', 'uvIndex', 'visibility.1', 'ozone',\n",
       "       'sunriseTime', 'sunsetTime', 'moonPhase', 'precipIntensityMax',\n",
       "       'uvIndexTime', 'temperatureMin', 'temperatureMinTime', 'temperatureMax',\n",
       "       'temperatureMaxTime', 'apparentTemperatureMin',\n",
       "       'apparentTemperatureMinTime', 'apparentTemperatureMax',\n",
       "       'apparentTemperatureMaxTime'],\n",
       "      dtype='object')"
      ]
     },
     "execution_count": 4,
     "metadata": {},
     "output_type": "execute_result"
    }
   ],
   "source": [
    "df.columns"
   ]
  },
  {
   "cell_type": "markdown",
   "id": "7fd6da35",
   "metadata": {
    "papermill": {
     "duration": 0.013549,
     "end_time": "2025-06-16T10:27:05.900011",
     "exception": false,
     "start_time": "2025-06-16T10:27:05.886462",
     "status": "completed"
    },
    "tags": []
   },
   "source": [
    "## 🎯 Feature Selection for Ride Fare Prediction\n",
    "\n",
    "After exploring the dataset in above cells, we proceed to select relevant features for **predicting ride fare**.\n",
    "\n",
    "Our feature selection strategy is based on:\n",
    "- 🚖 Factors directly influencing price (e.g., distance, surge multiplier)\n",
    "- 🧭 Categorical identifiers (e.g., cab type, ride type, source/destination)\n",
    "- 🌦️ Environmental conditions (e.g., temperature, weather summaries)\n",
    "\n",
    "---\n",
    "\n",
    "### ✅ Selected Features\n",
    "\n",
    "| Feature | Reason for Inclusion |\n",
    "|--------|-----------------------|\n",
    "| `source`, `destination` | Pickup and drop-off locations affect pricing zones and distance. |\n",
    "| `cab_type`, `product_id`, `name` | Identify ride service and vehicle class (Uber, Lyft, Shared, etc.). |\n",
    "| `distance`, `surge_multiplier` | Core pricing factors. |\n",
    "| `price` | 🎯 Target variable to predict. |\n",
    "| `apparentTemperature` | More realistic representation of how weather feels than raw temperature. |\n",
    "| `humidity`, `windSpeed`, `visibility` | May affect ride demand, delays, or availability. |\n",
    "| `short_summary`, `long_summary`, `icon` | Weather context, useful for exploratory data analysis. Text data. |\n",
    "| `pressure`, `cloudCover`, `uvIndex` | Additional weather attributes that may impact rider behavior. |\n",
    "\n",
    "We retain these weather columns for initial analysis and will evaluate their statistical impact during **EDA** and **feature correlation** analysis. We might drop more features during EDA.\n",
    "\n",
    "---\n",
    "\n",
    "### ❌ Dropped Features\n",
    "\n",
    "| Feature | Reason for Removal |\n",
    "|--------|--------------------|\n",
    "| `dewPoint` | Overlaps with `humidity`; redundant. |\n",
    "| `temperature`, `temperatureHigh`, `temperatureLow`, etc. | Covered better by `apparentTemperature`. |\n",
    "| Time-related fields | Too granular or not directly useful for fare prediction. |\n",
    "\n",
    "---\n",
    "\n",
    "### 📌 Next Step\n",
    "\n",
    "We now create a filtered dataset with only the selected features.\n"
   ]
  },
  {
   "cell_type": "code",
   "execution_count": 5,
   "id": "114b4f7a",
   "metadata": {
    "execution": {
     "iopub.execute_input": "2025-06-16T10:27:05.928976Z",
     "iopub.status.busy": "2025-06-16T10:27:05.928670Z",
     "iopub.status.idle": "2025-06-16T10:27:06.026438Z",
     "shell.execute_reply": "2025-06-16T10:27:06.025296Z"
    },
    "papermill": {
     "duration": 0.114085,
     "end_time": "2025-06-16T10:27:06.027936",
     "exception": false,
     "start_time": "2025-06-16T10:27:05.913851",
     "status": "completed"
    },
    "tags": []
   },
   "outputs": [
    {
     "data": {
      "text/html": [
       "<div>\n",
       "<style scoped>\n",
       "    .dataframe tbody tr th:only-of-type {\n",
       "        vertical-align: middle;\n",
       "    }\n",
       "\n",
       "    .dataframe tbody tr th {\n",
       "        vertical-align: top;\n",
       "    }\n",
       "\n",
       "    .dataframe thead th {\n",
       "        text-align: right;\n",
       "    }\n",
       "</style>\n",
       "<table border=\"1\" class=\"dataframe\">\n",
       "  <thead>\n",
       "    <tr style=\"text-align: right;\">\n",
       "      <th></th>\n",
       "      <th>timestamp</th>\n",
       "      <th>source</th>\n",
       "      <th>destination</th>\n",
       "      <th>cab_type</th>\n",
       "      <th>product_id</th>\n",
       "      <th>name</th>\n",
       "      <th>distance</th>\n",
       "      <th>surge_multiplier</th>\n",
       "      <th>apparentTemperature</th>\n",
       "      <th>price</th>\n",
       "      <th>humidity</th>\n",
       "      <th>windSpeed</th>\n",
       "      <th>visibility</th>\n",
       "      <th>short_summary</th>\n",
       "      <th>long_summary</th>\n",
       "      <th>icon</th>\n",
       "      <th>pressure</th>\n",
       "      <th>cloudCover</th>\n",
       "      <th>uvIndex</th>\n",
       "    </tr>\n",
       "  </thead>\n",
       "  <tbody>\n",
       "    <tr>\n",
       "      <th>0</th>\n",
       "      <td>1.544953e+09</td>\n",
       "      <td>Haymarket Square</td>\n",
       "      <td>North Station</td>\n",
       "      <td>Lyft</td>\n",
       "      <td>lyft_line</td>\n",
       "      <td>Shared</td>\n",
       "      <td>0.44</td>\n",
       "      <td>1.0</td>\n",
       "      <td>37.12</td>\n",
       "      <td>5.0</td>\n",
       "      <td>0.68</td>\n",
       "      <td>8.66</td>\n",
       "      <td>10.000</td>\n",
       "      <td>Mostly Cloudy</td>\n",
       "      <td>Rain throughout the day.</td>\n",
       "      <td>partly-cloudy-night</td>\n",
       "      <td>NaN</td>\n",
       "      <td>0.72</td>\n",
       "      <td>0</td>\n",
       "    </tr>\n",
       "    <tr>\n",
       "      <th>1</th>\n",
       "      <td>1.543284e+09</td>\n",
       "      <td>Haymarket Square</td>\n",
       "      <td>North Station</td>\n",
       "      <td>Lyft</td>\n",
       "      <td>lyft_premier</td>\n",
       "      <td>Lux</td>\n",
       "      <td>0.44</td>\n",
       "      <td>1.0</td>\n",
       "      <td>37.35</td>\n",
       "      <td>11.0</td>\n",
       "      <td>0.94</td>\n",
       "      <td>11.98</td>\n",
       "      <td>4.786</td>\n",
       "      <td>Rain</td>\n",
       "      <td>Rain until morning, starting again in the eve...</td>\n",
       "      <td>rain</td>\n",
       "      <td>1003.97</td>\n",
       "      <td>1.00</td>\n",
       "      <td>0</td>\n",
       "    </tr>\n",
       "    <tr>\n",
       "      <th>2</th>\n",
       "      <td>1.543367e+09</td>\n",
       "      <td>Haymarket Square</td>\n",
       "      <td>North Station</td>\n",
       "      <td>Lyft</td>\n",
       "      <td>lyft</td>\n",
       "      <td>Lyft</td>\n",
       "      <td>0.44</td>\n",
       "      <td>1.0</td>\n",
       "      <td>32.93</td>\n",
       "      <td>7.0</td>\n",
       "      <td>0.75</td>\n",
       "      <td>7.33</td>\n",
       "      <td>10.000</td>\n",
       "      <td>Clear</td>\n",
       "      <td>Light rain in the morning.</td>\n",
       "      <td>clear-night</td>\n",
       "      <td>992.28</td>\n",
       "      <td>0.03</td>\n",
       "      <td>0</td>\n",
       "    </tr>\n",
       "    <tr>\n",
       "      <th>3</th>\n",
       "      <td>1.543554e+09</td>\n",
       "      <td>Haymarket Square</td>\n",
       "      <td>North Station</td>\n",
       "      <td>Lyft</td>\n",
       "      <td>lyft_luxsuv</td>\n",
       "      <td>Lux Black XL</td>\n",
       "      <td>0.44</td>\n",
       "      <td>1.0</td>\n",
       "      <td>29.63</td>\n",
       "      <td>26.0</td>\n",
       "      <td>0.73</td>\n",
       "      <td>5.28</td>\n",
       "      <td>10.000</td>\n",
       "      <td>Clear</td>\n",
       "      <td>Partly cloudy throughout the day.</td>\n",
       "      <td>clear-night</td>\n",
       "      <td>1013.73</td>\n",
       "      <td>0.00</td>\n",
       "      <td>0</td>\n",
       "    </tr>\n",
       "    <tr>\n",
       "      <th>4</th>\n",
       "      <td>1.543463e+09</td>\n",
       "      <td>Haymarket Square</td>\n",
       "      <td>North Station</td>\n",
       "      <td>Lyft</td>\n",
       "      <td>lyft_plus</td>\n",
       "      <td>Lyft XL</td>\n",
       "      <td>0.44</td>\n",
       "      <td>1.0</td>\n",
       "      <td>30.88</td>\n",
       "      <td>9.0</td>\n",
       "      <td>0.7</td>\n",
       "      <td>9.14</td>\n",
       "      <td>10.000</td>\n",
       "      <td>Partly Cloudy</td>\n",
       "      <td>Mostly cloudy throughout the day.</td>\n",
       "      <td>☁️rainn%%</td>\n",
       "      <td>998.36</td>\n",
       "      <td>0.44</td>\n",
       "      <td>0</td>\n",
       "    </tr>\n",
       "  </tbody>\n",
       "</table>\n",
       "</div>"
      ],
      "text/plain": [
       "      timestamp            source    destination cab_type    product_id  \\\n",
       "0  1.544953e+09  Haymarket Square  North Station     Lyft     lyft_line   \n",
       "1  1.543284e+09  Haymarket Square  North Station     Lyft  lyft_premier   \n",
       "2  1.543367e+09  Haymarket Square  North Station     Lyft          lyft   \n",
       "3  1.543554e+09  Haymarket Square  North Station     Lyft   lyft_luxsuv   \n",
       "4  1.543463e+09  Haymarket Square  North Station     Lyft     lyft_plus   \n",
       "\n",
       "           name  distance  surge_multiplier  apparentTemperature  price  \\\n",
       "0        Shared      0.44               1.0                37.12    5.0   \n",
       "1           Lux      0.44               1.0                37.35   11.0   \n",
       "2          Lyft      0.44               1.0                32.93    7.0   \n",
       "3  Lux Black XL      0.44               1.0                29.63   26.0   \n",
       "4       Lyft XL      0.44               1.0                30.88    9.0   \n",
       "\n",
       "  humidity  windSpeed  visibility    short_summary  \\\n",
       "0     0.68       8.66      10.000   Mostly Cloudy    \n",
       "1     0.94      11.98       4.786            Rain    \n",
       "2     0.75       7.33      10.000           Clear    \n",
       "3     0.73       5.28      10.000           Clear    \n",
       "4      0.7       9.14      10.000   Partly Cloudy    \n",
       "\n",
       "                                        long_summary                   icon  \\\n",
       "0                          Rain throughout the day.    partly-cloudy-night    \n",
       "1   Rain until morning, starting again in the eve...                  rain    \n",
       "2                        Light rain in the morning.            clear-night    \n",
       "3                 Partly cloudy throughout the day.            clear-night    \n",
       "4                 Mostly cloudy throughout the day.               ☁️rainn%%   \n",
       "\n",
       "  pressure  cloudCover  uvIndex  \n",
       "0      NaN        0.72        0  \n",
       "1  1003.97        1.00        0  \n",
       "2   992.28        0.03        0  \n",
       "3  1013.73        0.00        0  \n",
       "4   998.36        0.44        0  "
      ]
     },
     "execution_count": 5,
     "metadata": {},
     "output_type": "execute_result"
    }
   ],
   "source": [
    "selected_columns = [\n",
    "    \"timestamp\",\"source\", \"destination\", \"cab_type\", \"product_id\", \"name\",\n",
    "    \"distance\", \"surge_multiplier\", \"apparentTemperature\", \"price\",\n",
    "    \"humidity\", \"windSpeed\", \"visibility\",\n",
    "    \"short_summary\", \"long_summary\", \"icon\",\n",
    "    \"pressure\", \"cloudCover\", \"uvIndex\"\n",
    "]\n",
    "\n",
    "df = df[selected_columns]\n",
    "df.head()"
   ]
  },
  {
   "cell_type": "markdown",
   "id": "7b54b117",
   "metadata": {
    "papermill": {
     "duration": 0.014034,
     "end_time": "2025-06-16T10:27:06.056802",
     "exception": false,
     "start_time": "2025-06-16T10:27:06.042768",
     "status": "completed"
    },
    "tags": []
   },
   "source": [
    "### **Dropping Duplicates**"
   ]
  },
  {
   "cell_type": "code",
   "execution_count": 6,
   "id": "61f883e1",
   "metadata": {
    "execution": {
     "iopub.execute_input": "2025-06-16T10:27:06.153004Z",
     "iopub.status.busy": "2025-06-16T10:27:06.152291Z",
     "iopub.status.idle": "2025-06-16T10:27:06.996623Z",
     "shell.execute_reply": "2025-06-16T10:27:06.995674Z"
    },
    "papermill": {
     "duration": 0.861314,
     "end_time": "2025-06-16T10:27:06.998127",
     "exception": false,
     "start_time": "2025-06-16T10:27:06.136813",
     "status": "completed"
    },
    "tags": []
   },
   "outputs": [
    {
     "data": {
      "text/plain": [
       "1250"
      ]
     },
     "execution_count": 6,
     "metadata": {},
     "output_type": "execute_result"
    }
   ],
   "source": [
    "df.duplicated().sum()"
   ]
  },
  {
   "cell_type": "code",
   "execution_count": 7,
   "id": "0d4b12e3",
   "metadata": {
    "execution": {
     "iopub.execute_input": "2025-06-16T10:27:07.029768Z",
     "iopub.status.busy": "2025-06-16T10:27:07.029451Z",
     "iopub.status.idle": "2025-06-16T10:27:07.963808Z",
     "shell.execute_reply": "2025-06-16T10:27:07.962906Z"
    },
    "papermill": {
     "duration": 0.952142,
     "end_time": "2025-06-16T10:27:07.965480",
     "exception": false,
     "start_time": "2025-06-16T10:27:07.013338",
     "status": "completed"
    },
    "tags": []
   },
   "outputs": [],
   "source": [
    "df = df[~df.duplicated()]"
   ]
  },
  {
   "cell_type": "markdown",
   "id": "b507f32f",
   "metadata": {
    "papermill": {
     "duration": 0.014059,
     "end_time": "2025-06-16T10:27:07.994655",
     "exception": false,
     "start_time": "2025-06-16T10:27:07.980596",
     "status": "completed"
    },
    "tags": []
   },
   "source": [
    "### **Renaming Columns**"
   ]
  },
  {
   "cell_type": "code",
   "execution_count": 8,
   "id": "ec8c0146",
   "metadata": {
    "execution": {
     "iopub.execute_input": "2025-06-16T10:27:08.025042Z",
     "iopub.status.busy": "2025-06-16T10:27:08.024753Z",
     "iopub.status.idle": "2025-06-16T10:27:08.030510Z",
     "shell.execute_reply": "2025-06-16T10:27:08.029657Z"
    },
    "papermill": {
     "duration": 0.022439,
     "end_time": "2025-06-16T10:27:08.032117",
     "exception": false,
     "start_time": "2025-06-16T10:27:08.009678",
     "status": "completed"
    },
    "tags": []
   },
   "outputs": [],
   "source": [
    "# Renaming multiple columns for better clarity and consistency\n",
    "df.rename(columns={\n",
    "    \"price\": \"fare\",\n",
    "    \"cab_type\": \"ride_company\",\n",
    "    \"product_id\": \"vehicle_id\",\n",
    "    \"name\": \"vehicle\",\n",
    "    \"apparentTemperature\": \"temperature_F\",\n",
    "    \"short_summary\": \"weather_desc_short\",\n",
    "    \"long_summary\": \"weather_desc_long\",\n",
    "    \"windSpeed\": \"wind_speed\",\n",
    "    \"windGust\": \"wind_gust\",\n",
    "    \"icon\": \"weather_status\",\n",
    "    \"cloudCover\": \"cloud_cover\",\n",
    "    \"uvIndex\": \"uv_index\"\n",
    "}, inplace=True)\n"
   ]
  },
  {
   "cell_type": "markdown",
   "id": "608d3b13",
   "metadata": {
    "papermill": {
     "duration": 0.014003,
     "end_time": "2025-06-16T10:27:08.060705",
     "exception": false,
     "start_time": "2025-06-16T10:27:08.046702",
     "status": "completed"
    },
    "tags": []
   },
   "source": [
    "### **Extract date, hour, day of the week, and month from the timestamp column.**"
   ]
  },
  {
   "cell_type": "code",
   "execution_count": 9,
   "id": "5d8459fd",
   "metadata": {
    "execution": {
     "iopub.execute_input": "2025-06-16T10:27:08.090943Z",
     "iopub.status.busy": "2025-06-16T10:27:08.090619Z",
     "iopub.status.idle": "2025-06-16T10:27:08.870335Z",
     "shell.execute_reply": "2025-06-16T10:27:08.869397Z"
    },
    "papermill": {
     "duration": 0.797644,
     "end_time": "2025-06-16T10:27:08.872614",
     "exception": false,
     "start_time": "2025-06-16T10:27:08.074970",
     "status": "completed"
    },
    "tags": []
   },
   "outputs": [
    {
     "name": "stderr",
     "output_type": "stream",
     "text": [
      "/tmp/ipykernel_13/150795981.py:2: FutureWarning: 'S' is deprecated and will be removed in a future version, please use 's' instead.\n",
      "  df[\"timestamp\"] = pd.to_datetime(df[\"timestamp\"], unit='s').dt.floor(\"S\")\n"
     ]
    }
   ],
   "source": [
    "# Convert UNIX timestamp to datetime\n",
    "df[\"timestamp\"] = pd.to_datetime(df[\"timestamp\"], unit='s').dt.floor(\"S\")\n",
    "\n",
    "# Extract datetime features\n",
    "df[\"date\"] = df[\"timestamp\"].dt.date\n",
    "df[\"hour\"] = df[\"timestamp\"].dt.hour\n",
    "df[\"day_of_week\"] = df[\"timestamp\"].dt.day_name()\n",
    "df[\"month\"] = df[\"timestamp\"].dt.month"
   ]
  },
  {
   "cell_type": "markdown",
   "id": "23a35b67",
   "metadata": {
    "papermill": {
     "duration": 0.014379,
     "end_time": "2025-06-16T10:27:08.901867",
     "exception": false,
     "start_time": "2025-06-16T10:27:08.887488",
     "status": "completed"
    },
    "tags": []
   },
   "source": [
    "### **Column reordering and Row Sorting**"
   ]
  },
  {
   "cell_type": "code",
   "execution_count": 10,
   "id": "a05cff67",
   "metadata": {
    "execution": {
     "iopub.execute_input": "2025-06-16T10:27:08.933134Z",
     "iopub.status.busy": "2025-06-16T10:27:08.932837Z",
     "iopub.status.idle": "2025-06-16T10:27:10.083502Z",
     "shell.execute_reply": "2025-06-16T10:27:10.082479Z"
    },
    "papermill": {
     "duration": 1.167949,
     "end_time": "2025-06-16T10:27:10.085042",
     "exception": false,
     "start_time": "2025-06-16T10:27:08.917093",
     "status": "completed"
    },
    "tags": []
   },
   "outputs": [
    {
     "name": "stderr",
     "output_type": "stream",
     "text": [
      "/usr/local/lib/python3.11/dist-packages/pandas/io/formats/format.py:1458: RuntimeWarning: invalid value encountered in greater\n",
      "  has_large_values = (abs_vals > 1e6).any()\n",
      "/usr/local/lib/python3.11/dist-packages/pandas/io/formats/format.py:1459: RuntimeWarning: invalid value encountered in less\n",
      "  has_small_values = ((abs_vals < 10 ** (-self.digits)) & (abs_vals > 0)).any()\n",
      "/usr/local/lib/python3.11/dist-packages/pandas/io/formats/format.py:1459: RuntimeWarning: invalid value encountered in greater\n",
      "  has_small_values = ((abs_vals < 10 ** (-self.digits)) & (abs_vals > 0)).any()\n",
      "/usr/local/lib/python3.11/dist-packages/pandas/io/formats/format.py:1458: RuntimeWarning: invalid value encountered in greater\n",
      "  has_large_values = (abs_vals > 1e6).any()\n",
      "/usr/local/lib/python3.11/dist-packages/pandas/io/formats/format.py:1459: RuntimeWarning: invalid value encountered in less\n",
      "  has_small_values = ((abs_vals < 10 ** (-self.digits)) & (abs_vals > 0)).any()\n",
      "/usr/local/lib/python3.11/dist-packages/pandas/io/formats/format.py:1459: RuntimeWarning: invalid value encountered in greater\n",
      "  has_small_values = ((abs_vals < 10 ** (-self.digits)) & (abs_vals > 0)).any()\n"
     ]
    },
    {
     "data": {
      "text/html": [
       "<div>\n",
       "<style scoped>\n",
       "    .dataframe tbody tr th:only-of-type {\n",
       "        vertical-align: middle;\n",
       "    }\n",
       "\n",
       "    .dataframe tbody tr th {\n",
       "        vertical-align: top;\n",
       "    }\n",
       "\n",
       "    .dataframe thead th {\n",
       "        text-align: right;\n",
       "    }\n",
       "</style>\n",
       "<table border=\"1\" class=\"dataframe\">\n",
       "  <thead>\n",
       "    <tr style=\"text-align: right;\">\n",
       "      <th></th>\n",
       "      <th>timestamp</th>\n",
       "      <th>date</th>\n",
       "      <th>hour</th>\n",
       "      <th>day_of_week</th>\n",
       "      <th>month</th>\n",
       "      <th>source</th>\n",
       "      <th>destination</th>\n",
       "      <th>ride_company</th>\n",
       "      <th>vehicle_id</th>\n",
       "      <th>vehicle</th>\n",
       "      <th>...</th>\n",
       "      <th>distance</th>\n",
       "      <th>surge_multiplier</th>\n",
       "      <th>fare</th>\n",
       "      <th>temperature_F</th>\n",
       "      <th>humidity</th>\n",
       "      <th>wind_speed</th>\n",
       "      <th>weather_desc_short</th>\n",
       "      <th>weather_desc_long</th>\n",
       "      <th>weather_status</th>\n",
       "      <th>pressure</th>\n",
       "    </tr>\n",
       "  </thead>\n",
       "  <tbody>\n",
       "    <tr>\n",
       "      <th>0</th>\n",
       "      <td>2018-11-26 03:40:46</td>\n",
       "      <td>2018-11-26</td>\n",
       "      <td>3</td>\n",
       "      <td>Monday</td>\n",
       "      <td>11</td>\n",
       "      <td>Haymarket Square</td>\n",
       "      <td>Theatre District</td>\n",
       "      <td>Uber</td>\n",
       "      <td>8cf7e821-f0d3-49c6-8eba-e679c0ebcf6a</td>\n",
       "      <td>Taxi</td>\n",
       "      <td>...</td>\n",
       "      <td>1.16</td>\n",
       "      <td>1.00</td>\n",
       "      <td>NaN</td>\n",
       "      <td>41.83</td>\n",
       "      <td>0.92</td>\n",
       "      <td>0.51</td>\n",
       "      <td>Foggy</td>\n",
       "      <td>Rain in the morning and afternoon.</td>\n",
       "      <td>fog</td>\n",
       "      <td>1014.1</td>\n",
       "    </tr>\n",
       "    <tr>\n",
       "      <th>1</th>\n",
       "      <td>2018-11-26 03:40:46</td>\n",
       "      <td>2018-11-26</td>\n",
       "      <td>3</td>\n",
       "      <td>Monday</td>\n",
       "      <td>11</td>\n",
       "      <td>Theatre District</td>\n",
       "      <td>North End</td>\n",
       "      <td>Uber</td>\n",
       "      <td>8cf7e821-f0d3-49c6-8eba-e679c0ebcf6a</td>\n",
       "      <td>Taxi</td>\n",
       "      <td>...</td>\n",
       "      <td>1.57</td>\n",
       "      <td>1.00</td>\n",
       "      <td>NaN</td>\n",
       "      <td>41.83</td>\n",
       "      <td>0.92</td>\n",
       "      <td>0.51</td>\n",
       "      <td>Foggy</td>\n",
       "      <td>Rain in the morning and afternoon.</td>\n",
       "      <td>fog</td>\n",
       "      <td>1014.1</td>\n",
       "    </tr>\n",
       "    <tr>\n",
       "      <th>2</th>\n",
       "      <td>2018-11-26 03:40:46</td>\n",
       "      <td>2018-11-26</td>\n",
       "      <td>3</td>\n",
       "      <td>Monday</td>\n",
       "      <td>11</td>\n",
       "      <td>Boston University</td>\n",
       "      <td>Financial District</td>\n",
       "      <td>Lyft</td>\n",
       "      <td>lyft_lux</td>\n",
       "      <td>Lux Black</td>\n",
       "      <td>...</td>\n",
       "      <td>4.46</td>\n",
       "      <td>1.75</td>\n",
       "      <td>62.5</td>\n",
       "      <td>41.83</td>\n",
       "      <td>0.92</td>\n",
       "      <td>0.51</td>\n",
       "      <td>Foggy</td>\n",
       "      <td>Rain in the morning and afternoon.</td>\n",
       "      <td>fog</td>\n",
       "      <td>1014.1</td>\n",
       "    </tr>\n",
       "    <tr>\n",
       "      <th>3</th>\n",
       "      <td>2018-11-26 03:40:46</td>\n",
       "      <td>2018-11-26</td>\n",
       "      <td>3</td>\n",
       "      <td>Monday</td>\n",
       "      <td>11</td>\n",
       "      <td>Boston University</td>\n",
       "      <td>Financial District</td>\n",
       "      <td>Lyft</td>\n",
       "      <td>lyft_premier</td>\n",
       "      <td>Lux</td>\n",
       "      <td>...</td>\n",
       "      <td>4.46</td>\n",
       "      <td>1.75</td>\n",
       "      <td>47.5</td>\n",
       "      <td>41.83</td>\n",
       "      <td>0.92</td>\n",
       "      <td>0.51</td>\n",
       "      <td>Foggy</td>\n",
       "      <td>Rain in the morning and afternoon.</td>\n",
       "      <td>fog</td>\n",
       "      <td>1014.1</td>\n",
       "    </tr>\n",
       "    <tr>\n",
       "      <th>4</th>\n",
       "      <td>2018-11-26 03:40:46</td>\n",
       "      <td>2018-11-26</td>\n",
       "      <td>3</td>\n",
       "      <td>Monday</td>\n",
       "      <td>11</td>\n",
       "      <td>North Station</td>\n",
       "      <td>Fenway</td>\n",
       "      <td>Uber</td>\n",
       "      <td>9a0e7b09-b92b-4c41-9779-2ad22b4d779d</td>\n",
       "      <td>WAV</td>\n",
       "      <td>...</td>\n",
       "      <td>3.05</td>\n",
       "      <td>1.00</td>\n",
       "      <td>10.5</td>\n",
       "      <td>41.83</td>\n",
       "      <td>0.92</td>\n",
       "      <td>0.51</td>\n",
       "      <td>Foggy</td>\n",
       "      <td>Rain in the morning and afternoon.</td>\n",
       "      <td>fog</td>\n",
       "      <td>1014.1</td>\n",
       "    </tr>\n",
       "  </tbody>\n",
       "</table>\n",
       "<p>5 rows × 23 columns</p>\n",
       "</div>"
      ],
      "text/plain": [
       "            timestamp        date  hour day_of_week  month             source  \\\n",
       "0 2018-11-26 03:40:46  2018-11-26     3      Monday     11   Haymarket Square   \n",
       "1 2018-11-26 03:40:46  2018-11-26     3      Monday     11   Theatre District   \n",
       "2 2018-11-26 03:40:46  2018-11-26     3      Monday     11  Boston University   \n",
       "3 2018-11-26 03:40:46  2018-11-26     3      Monday     11  Boston University   \n",
       "4 2018-11-26 03:40:46  2018-11-26     3      Monday     11      North Station   \n",
       "\n",
       "          destination ride_company                            vehicle_id  \\\n",
       "0    Theatre District         Uber  8cf7e821-f0d3-49c6-8eba-e679c0ebcf6a   \n",
       "1           North End         Uber  8cf7e821-f0d3-49c6-8eba-e679c0ebcf6a   \n",
       "2  Financial District         Lyft                              lyft_lux   \n",
       "3  Financial District         Lyft                          lyft_premier   \n",
       "4              Fenway         Uber  9a0e7b09-b92b-4c41-9779-2ad22b4d779d   \n",
       "\n",
       "     vehicle  ...  distance  surge_multiplier  fare  temperature_F  humidity  \\\n",
       "0       Taxi  ...      1.16              1.00   NaN          41.83      0.92   \n",
       "1       Taxi  ...      1.57              1.00   NaN          41.83      0.92   \n",
       "2  Lux Black  ...      4.46              1.75  62.5          41.83      0.92   \n",
       "3        Lux  ...      4.46              1.75  47.5          41.83      0.92   \n",
       "4        WAV  ...      3.05              1.00  10.5          41.83      0.92   \n",
       "\n",
       "   wind_speed  weather_desc_short                     weather_desc_long  \\\n",
       "0        0.51              Foggy    Rain in the morning and afternoon.    \n",
       "1        0.51              Foggy    Rain in the morning and afternoon.    \n",
       "2        0.51              Foggy    Rain in the morning and afternoon.    \n",
       "3        0.51              Foggy    Rain in the morning and afternoon.    \n",
       "4        0.51              Foggy    Rain in the morning and afternoon.    \n",
       "\n",
       "   weather_status pressure  \n",
       "0            fog    1014.1  \n",
       "1            fog    1014.1  \n",
       "2            fog    1014.1  \n",
       "3            fog    1014.1  \n",
       "4            fog    1014.1  \n",
       "\n",
       "[5 rows x 23 columns]"
      ]
     },
     "execution_count": 10,
     "metadata": {},
     "output_type": "execute_result"
    }
   ],
   "source": [
    "cols = ['timestamp', 'date', 'hour', 'day_of_week', 'month', 'source', 'destination', 'ride_company', 'vehicle_id', 'vehicle', 'visibility', 'cloud_cover', \n",
    "        'uv_index', 'distance', 'surge_multiplier', 'fare', 'temperature_F', 'humidity', 'wind_speed', 'weather_desc_short', 'weather_desc_long', 'weather_status', 'pressure']\n",
    "df = df[cols]\n",
    "# Sort the DataFrame by timestamp in ascending order\n",
    "df = df.sort_values(by=\"timestamp\").reset_index(drop=True)\n",
    "df.head()"
   ]
  },
  {
   "cell_type": "code",
   "execution_count": 11,
   "id": "13ac8d07",
   "metadata": {
    "execution": {
     "iopub.execute_input": "2025-06-16T10:27:10.116699Z",
     "iopub.status.busy": "2025-06-16T10:27:10.116390Z",
     "iopub.status.idle": "2025-06-16T10:27:10.633640Z",
     "shell.execute_reply": "2025-06-16T10:27:10.632392Z"
    },
    "papermill": {
     "duration": 0.534954,
     "end_time": "2025-06-16T10:27:10.635248",
     "exception": false,
     "start_time": "2025-06-16T10:27:10.100294",
     "status": "completed"
    },
    "tags": []
   },
   "outputs": [
    {
     "name": "stdout",
     "output_type": "stream",
     "text": [
      "<class 'pandas.core.frame.DataFrame'>\n",
      "RangeIndex: 691821 entries, 0 to 691820\n",
      "Data columns (total 23 columns):\n",
      " #   Column              Non-Null Count   Dtype         \n",
      "---  ------              --------------   -----         \n",
      " 0   timestamp           691821 non-null  datetime64[ns]\n",
      " 1   date                691821 non-null  object        \n",
      " 2   hour                691821 non-null  int32         \n",
      " 3   day_of_week         691821 non-null  object        \n",
      " 4   month               691821 non-null  int32         \n",
      " 5   source              691821 non-null  object        \n",
      " 6   destination         691821 non-null  object        \n",
      " 7   ride_company        691821 non-null  object        \n",
      " 8   vehicle_id          691821 non-null  object        \n",
      " 9   vehicle             691821 non-null  object        \n",
      " 10  visibility          691821 non-null  float64       \n",
      " 11  cloud_cover         691821 non-null  float64       \n",
      " 12  uv_index            691821 non-null  int64         \n",
      " 13  distance            684890 non-null  float64       \n",
      " 14  surge_multiplier    691821 non-null  float64       \n",
      " 15  fare                637194 non-null  float64       \n",
      " 16  temperature_F       683782 non-null  float64       \n",
      " 17  humidity            687143 non-null  object        \n",
      " 18  wind_speed          691821 non-null  float64       \n",
      " 19  weather_desc_short  691821 non-null  object        \n",
      " 20  weather_desc_long   691821 non-null  object        \n",
      " 21  weather_status      691821 non-null  object        \n",
      " 22  pressure            679450 non-null  object        \n",
      "dtypes: datetime64[ns](1), float64(7), int32(2), int64(1), object(12)\n",
      "memory usage: 116.1+ MB\n"
     ]
    }
   ],
   "source": [
    "df.info()"
   ]
  },
  {
   "cell_type": "markdown",
   "id": "efb5a14e",
   "metadata": {
    "papermill": {
     "duration": 0.014363,
     "end_time": "2025-06-16T10:27:10.664610",
     "exception": false,
     "start_time": "2025-06-16T10:27:10.650247",
     "status": "completed"
    },
    "tags": []
   },
   "source": [
    "### **Change Data type**\n",
    "humidity, pressure, surge_multiplier are numerical columns but has object data type. pd.to_numeric will convert Non-numeric strings to NaN. "
   ]
  },
  {
   "cell_type": "code",
   "execution_count": 12,
   "id": "f7cbf12b",
   "metadata": {
    "execution": {
     "iopub.execute_input": "2025-06-16T10:27:10.695557Z",
     "iopub.status.busy": "2025-06-16T10:27:10.694775Z",
     "iopub.status.idle": "2025-06-16T10:27:11.096491Z",
     "shell.execute_reply": "2025-06-16T10:27:11.095456Z"
    },
    "papermill": {
     "duration": 0.418956,
     "end_time": "2025-06-16T10:27:11.098215",
     "exception": false,
     "start_time": "2025-06-16T10:27:10.679259",
     "status": "completed"
    },
    "tags": []
   },
   "outputs": [],
   "source": [
    "df[\"humidity\"] = pd.to_numeric(df[\"humidity\"], errors=\"coerce\")\n",
    "df[\"pressure\"] = pd.to_numeric(df[\"pressure\"], errors=\"coerce\")\n",
    "df[\"surge_multiplier\"] = pd.to_numeric(df[\"surge_multiplier\"], errors=\"coerce\")"
   ]
  },
  {
   "cell_type": "code",
   "execution_count": 13,
   "id": "23ec2426",
   "metadata": {
    "execution": {
     "iopub.execute_input": "2025-06-16T10:27:11.132347Z",
     "iopub.status.busy": "2025-06-16T10:27:11.132027Z",
     "iopub.status.idle": "2025-06-16T10:27:11.494148Z",
     "shell.execute_reply": "2025-06-16T10:27:11.493298Z"
    },
    "papermill": {
     "duration": 0.380093,
     "end_time": "2025-06-16T10:27:11.495772",
     "exception": false,
     "start_time": "2025-06-16T10:27:11.115679",
     "status": "completed"
    },
    "tags": []
   },
   "outputs": [
    {
     "data": {
      "text/html": [
       "<div>\n",
       "<style scoped>\n",
       "    .dataframe tbody tr th:only-of-type {\n",
       "        vertical-align: middle;\n",
       "    }\n",
       "\n",
       "    .dataframe tbody tr th {\n",
       "        vertical-align: top;\n",
       "    }\n",
       "\n",
       "    .dataframe thead th {\n",
       "        text-align: right;\n",
       "    }\n",
       "</style>\n",
       "<table border=\"1\" class=\"dataframe\">\n",
       "  <thead>\n",
       "    <tr style=\"text-align: right;\">\n",
       "      <th></th>\n",
       "      <th>timestamp</th>\n",
       "      <th>hour</th>\n",
       "      <th>month</th>\n",
       "      <th>visibility</th>\n",
       "      <th>cloud_cover</th>\n",
       "      <th>uv_index</th>\n",
       "      <th>distance</th>\n",
       "      <th>surge_multiplier</th>\n",
       "      <th>fare</th>\n",
       "      <th>temperature_F</th>\n",
       "      <th>humidity</th>\n",
       "      <th>wind_speed</th>\n",
       "      <th>pressure</th>\n",
       "    </tr>\n",
       "  </thead>\n",
       "  <tbody>\n",
       "    <tr>\n",
       "      <th>count</th>\n",
       "      <td>691821</td>\n",
       "      <td>691821.000000</td>\n",
       "      <td>691821.000000</td>\n",
       "      <td>691821.000000</td>\n",
       "      <td>691821.000000</td>\n",
       "      <td>691821.000000</td>\n",
       "      <td>684890.000000</td>\n",
       "      <td>691821.000000</td>\n",
       "      <td>637194.000000</td>\n",
       "      <td>683782.000000</td>\n",
       "      <td>682465.000000</td>\n",
       "      <td>691821.000000</td>\n",
       "      <td>667079.000000</td>\n",
       "    </tr>\n",
       "    <tr>\n",
       "      <th>mean</th>\n",
       "      <td>2018-12-05 21:42:19.921011456</td>\n",
       "      <td>11.618518</td>\n",
       "      <td>11.587052</td>\n",
       "      <td>8.468426</td>\n",
       "      <td>0.686394</td>\n",
       "      <td>0.248991</td>\n",
       "      <td>2.399801</td>\n",
       "      <td>1.013895</td>\n",
       "      <td>18.136820</td>\n",
       "      <td>36.091633</td>\n",
       "      <td>0.741067</td>\n",
       "      <td>6.235108</td>\n",
       "      <td>1010.107340</td>\n",
       "    </tr>\n",
       "    <tr>\n",
       "      <th>min</th>\n",
       "      <td>2018-11-26 03:40:46</td>\n",
       "      <td>0.000000</td>\n",
       "      <td>11.000000</td>\n",
       "      <td>0.717000</td>\n",
       "      <td>0.000000</td>\n",
       "      <td>0.000000</td>\n",
       "      <td>0.020000</td>\n",
       "      <td>1.000000</td>\n",
       "      <td>2.500000</td>\n",
       "      <td>12.130000</td>\n",
       "      <td>0.380000</td>\n",
       "      <td>0.450000</td>\n",
       "      <td>988.090000</td>\n",
       "    </tr>\n",
       "    <tr>\n",
       "      <th>25%</th>\n",
       "      <td>2018-11-28 22:29:09</td>\n",
       "      <td>6.000000</td>\n",
       "      <td>11.000000</td>\n",
       "      <td>8.432000</td>\n",
       "      <td>0.370000</td>\n",
       "      <td>0.000000</td>\n",
       "      <td>1.280000</td>\n",
       "      <td>1.000000</td>\n",
       "      <td>9.000000</td>\n",
       "      <td>31.910000</td>\n",
       "      <td>0.640000</td>\n",
       "      <td>3.410000</td>\n",
       "      <td>999.840000</td>\n",
       "    </tr>\n",
       "    <tr>\n",
       "      <th>50%</th>\n",
       "      <td>2018-12-02 08:03:00</td>\n",
       "      <td>12.000000</td>\n",
       "      <td>12.000000</td>\n",
       "      <td>9.880000</td>\n",
       "      <td>0.820000</td>\n",
       "      <td>0.000000</td>\n",
       "      <td>2.170000</td>\n",
       "      <td>1.000000</td>\n",
       "      <td>13.500000</td>\n",
       "      <td>35.970000</td>\n",
       "      <td>0.710000</td>\n",
       "      <td>5.920000</td>\n",
       "      <td>1009.250000</td>\n",
       "    </tr>\n",
       "    <tr>\n",
       "      <th>75%</th>\n",
       "      <td>2018-12-14 22:45:13</td>\n",
       "      <td>18.000000</td>\n",
       "      <td>12.000000</td>\n",
       "      <td>9.996000</td>\n",
       "      <td>1.000000</td>\n",
       "      <td>0.000000</td>\n",
       "      <td>2.940000</td>\n",
       "      <td>1.000000</td>\n",
       "      <td>22.500000</td>\n",
       "      <td>40.720000</td>\n",
       "      <td>0.880000</td>\n",
       "      <td>8.410000</td>\n",
       "      <td>1021.860000</td>\n",
       "    </tr>\n",
       "    <tr>\n",
       "      <th>max</th>\n",
       "      <td>2018-12-18 19:15:11</td>\n",
       "      <td>23.000000</td>\n",
       "      <td>12.000000</td>\n",
       "      <td>10.000000</td>\n",
       "      <td>1.000000</td>\n",
       "      <td>2.000000</td>\n",
       "      <td>149.200000</td>\n",
       "      <td>3.000000</td>\n",
       "      <td>1300.000000</td>\n",
       "      <td>85.830000</td>\n",
       "      <td>0.960000</td>\n",
       "      <td>37.500000</td>\n",
       "      <td>1035.550000</td>\n",
       "    </tr>\n",
       "    <tr>\n",
       "      <th>std</th>\n",
       "      <td>NaN</td>\n",
       "      <td>6.947689</td>\n",
       "      <td>0.492364</td>\n",
       "      <td>2.602581</td>\n",
       "      <td>0.358578</td>\n",
       "      <td>0.474179</td>\n",
       "      <td>3.572232</td>\n",
       "      <td>0.091722</td>\n",
       "      <td>27.480774</td>\n",
       "      <td>8.209859</td>\n",
       "      <td>0.138601</td>\n",
       "      <td>3.265309</td>\n",
       "      <td>13.471712</td>\n",
       "    </tr>\n",
       "  </tbody>\n",
       "</table>\n",
       "</div>"
      ],
      "text/plain": [
       "                           timestamp           hour          month  \\\n",
       "count                         691821  691821.000000  691821.000000   \n",
       "mean   2018-12-05 21:42:19.921011456      11.618518      11.587052   \n",
       "min              2018-11-26 03:40:46       0.000000      11.000000   \n",
       "25%              2018-11-28 22:29:09       6.000000      11.000000   \n",
       "50%              2018-12-02 08:03:00      12.000000      12.000000   \n",
       "75%              2018-12-14 22:45:13      18.000000      12.000000   \n",
       "max              2018-12-18 19:15:11      23.000000      12.000000   \n",
       "std                              NaN       6.947689       0.492364   \n",
       "\n",
       "          visibility    cloud_cover       uv_index       distance  \\\n",
       "count  691821.000000  691821.000000  691821.000000  684890.000000   \n",
       "mean        8.468426       0.686394       0.248991       2.399801   \n",
       "min         0.717000       0.000000       0.000000       0.020000   \n",
       "25%         8.432000       0.370000       0.000000       1.280000   \n",
       "50%         9.880000       0.820000       0.000000       2.170000   \n",
       "75%         9.996000       1.000000       0.000000       2.940000   \n",
       "max        10.000000       1.000000       2.000000     149.200000   \n",
       "std         2.602581       0.358578       0.474179       3.572232   \n",
       "\n",
       "       surge_multiplier           fare  temperature_F       humidity  \\\n",
       "count     691821.000000  637194.000000  683782.000000  682465.000000   \n",
       "mean           1.013895      18.136820      36.091633       0.741067   \n",
       "min            1.000000       2.500000      12.130000       0.380000   \n",
       "25%            1.000000       9.000000      31.910000       0.640000   \n",
       "50%            1.000000      13.500000      35.970000       0.710000   \n",
       "75%            1.000000      22.500000      40.720000       0.880000   \n",
       "max            3.000000    1300.000000      85.830000       0.960000   \n",
       "std            0.091722      27.480774       8.209859       0.138601   \n",
       "\n",
       "          wind_speed       pressure  \n",
       "count  691821.000000  667079.000000  \n",
       "mean        6.235108    1010.107340  \n",
       "min         0.450000     988.090000  \n",
       "25%         3.410000     999.840000  \n",
       "50%         5.920000    1009.250000  \n",
       "75%         8.410000    1021.860000  \n",
       "max        37.500000    1035.550000  \n",
       "std         3.265309      13.471712  "
      ]
     },
     "execution_count": 13,
     "metadata": {},
     "output_type": "execute_result"
    }
   ],
   "source": [
    "df.describe()"
   ]
  },
  {
   "cell_type": "markdown",
   "id": "72f5e8d8",
   "metadata": {
    "papermill": {
     "duration": 0.015247,
     "end_time": "2025-06-16T10:27:11.526559",
     "exception": false,
     "start_time": "2025-06-16T10:27:11.511312",
     "status": "completed"
    },
    "tags": []
   },
   "source": [
    "#### price, distance, temperature, windSpeed has some outliers as their max is significantly larger than 75th percentile value. These needs to be removed or replaced with some realistic values. Let's take each feature and work on its outlier and missing values."
   ]
  },
  {
   "cell_type": "code",
   "execution_count": 14,
   "id": "25c2e286",
   "metadata": {
    "execution": {
     "iopub.execute_input": "2025-06-16T10:27:11.560049Z",
     "iopub.status.busy": "2025-06-16T10:27:11.559456Z",
     "iopub.status.idle": "2025-06-16T10:27:12.002724Z",
     "shell.execute_reply": "2025-06-16T10:27:12.001715Z"
    },
    "papermill": {
     "duration": 0.462048,
     "end_time": "2025-06-16T10:27:12.004401",
     "exception": false,
     "start_time": "2025-06-16T10:27:11.542353",
     "status": "completed"
    },
    "tags": []
   },
   "outputs": [
    {
     "data": {
      "text/plain": [
       "timestamp                 0\n",
       "date                      0\n",
       "hour                      0\n",
       "day_of_week               0\n",
       "month                     0\n",
       "source                    0\n",
       "destination               0\n",
       "ride_company              0\n",
       "vehicle_id                0\n",
       "vehicle                   0\n",
       "visibility                0\n",
       "cloud_cover               0\n",
       "uv_index                  0\n",
       "distance               6931\n",
       "surge_multiplier          0\n",
       "fare                  54627\n",
       "temperature_F          8039\n",
       "humidity               9356\n",
       "wind_speed                0\n",
       "weather_desc_short        0\n",
       "weather_desc_long         0\n",
       "weather_status            0\n",
       "pressure              24742\n",
       "dtype: int64"
      ]
     },
     "execution_count": 14,
     "metadata": {},
     "output_type": "execute_result"
    }
   ],
   "source": [
    "df.isnull().sum()"
   ]
  },
  {
   "cell_type": "markdown",
   "id": "d9d7dfff",
   "metadata": {
    "papermill": {
     "duration": 0.015378,
     "end_time": "2025-06-16T10:27:12.035554",
     "exception": false,
     "start_time": "2025-06-16T10:27:12.020176",
     "status": "completed"
    },
    "tags": []
   },
   "source": [
    "### **Handling missing fare values.**\n",
    "#### The price column has the highest number of missing values, approximately 8% of the dataset. Since this is our target variable, it's crucial to investigate the nature of these missing entries before deciding how to handle them.\n",
    "#### Let’s display only the rows where the price is missing to better understand any patterns or correlations in the missing data."
   ]
  },
  {
   "cell_type": "code",
   "execution_count": 15,
   "id": "b29bd50f",
   "metadata": {
    "execution": {
     "iopub.execute_input": "2025-06-16T10:27:12.067750Z",
     "iopub.status.busy": "2025-06-16T10:27:12.067445Z",
     "iopub.status.idle": "2025-06-16T10:27:12.161726Z",
     "shell.execute_reply": "2025-06-16T10:27:12.160709Z"
    },
    "papermill": {
     "duration": 0.112169,
     "end_time": "2025-06-16T10:27:12.163111",
     "exception": false,
     "start_time": "2025-06-16T10:27:12.050942",
     "status": "completed"
    },
    "tags": []
   },
   "outputs": [
    {
     "name": "stderr",
     "output_type": "stream",
     "text": [
      "/usr/local/lib/python3.11/dist-packages/pandas/io/formats/format.py:1458: RuntimeWarning: invalid value encountered in greater\n",
      "  has_large_values = (abs_vals > 1e6).any()\n",
      "/usr/local/lib/python3.11/dist-packages/pandas/io/formats/format.py:1459: RuntimeWarning: invalid value encountered in less\n",
      "  has_small_values = ((abs_vals < 10 ** (-self.digits)) & (abs_vals > 0)).any()\n",
      "/usr/local/lib/python3.11/dist-packages/pandas/io/formats/format.py:1459: RuntimeWarning: invalid value encountered in greater\n",
      "  has_small_values = ((abs_vals < 10 ** (-self.digits)) & (abs_vals > 0)).any()\n",
      "/usr/local/lib/python3.11/dist-packages/pandas/io/formats/format.py:1458: RuntimeWarning: invalid value encountered in greater\n",
      "  has_large_values = (abs_vals > 1e6).any()\n",
      "/usr/local/lib/python3.11/dist-packages/pandas/io/formats/format.py:1459: RuntimeWarning: invalid value encountered in less\n",
      "  has_small_values = ((abs_vals < 10 ** (-self.digits)) & (abs_vals > 0)).any()\n",
      "/usr/local/lib/python3.11/dist-packages/pandas/io/formats/format.py:1459: RuntimeWarning: invalid value encountered in greater\n",
      "  has_small_values = ((abs_vals < 10 ** (-self.digits)) & (abs_vals > 0)).any()\n"
     ]
    },
    {
     "data": {
      "text/html": [
       "<div>\n",
       "<style scoped>\n",
       "    .dataframe tbody tr th:only-of-type {\n",
       "        vertical-align: middle;\n",
       "    }\n",
       "\n",
       "    .dataframe tbody tr th {\n",
       "        vertical-align: top;\n",
       "    }\n",
       "\n",
       "    .dataframe thead th {\n",
       "        text-align: right;\n",
       "    }\n",
       "</style>\n",
       "<table border=\"1\" class=\"dataframe\">\n",
       "  <thead>\n",
       "    <tr style=\"text-align: right;\">\n",
       "      <th></th>\n",
       "      <th>timestamp</th>\n",
       "      <th>date</th>\n",
       "      <th>hour</th>\n",
       "      <th>day_of_week</th>\n",
       "      <th>month</th>\n",
       "      <th>source</th>\n",
       "      <th>destination</th>\n",
       "      <th>ride_company</th>\n",
       "      <th>vehicle_id</th>\n",
       "      <th>vehicle</th>\n",
       "      <th>...</th>\n",
       "      <th>distance</th>\n",
       "      <th>surge_multiplier</th>\n",
       "      <th>fare</th>\n",
       "      <th>temperature_F</th>\n",
       "      <th>humidity</th>\n",
       "      <th>wind_speed</th>\n",
       "      <th>weather_desc_short</th>\n",
       "      <th>weather_desc_long</th>\n",
       "      <th>weather_status</th>\n",
       "      <th>pressure</th>\n",
       "    </tr>\n",
       "  </thead>\n",
       "  <tbody>\n",
       "    <tr>\n",
       "      <th>0</th>\n",
       "      <td>2018-11-26 03:40:46</td>\n",
       "      <td>2018-11-26</td>\n",
       "      <td>3</td>\n",
       "      <td>Monday</td>\n",
       "      <td>11</td>\n",
       "      <td>Haymarket Square</td>\n",
       "      <td>Theatre District</td>\n",
       "      <td>Uber</td>\n",
       "      <td>8cf7e821-f0d3-49c6-8eba-e679c0ebcf6a</td>\n",
       "      <td>Taxi</td>\n",
       "      <td>...</td>\n",
       "      <td>1.16</td>\n",
       "      <td>1.0</td>\n",
       "      <td>NaN</td>\n",
       "      <td>41.83</td>\n",
       "      <td>0.92</td>\n",
       "      <td>0.510</td>\n",
       "      <td>Foggy</td>\n",
       "      <td>Rain in the morning and afternoon.</td>\n",
       "      <td>fog</td>\n",
       "      <td>1014.10</td>\n",
       "    </tr>\n",
       "    <tr>\n",
       "      <th>1</th>\n",
       "      <td>2018-11-26 03:40:46</td>\n",
       "      <td>2018-11-26</td>\n",
       "      <td>3</td>\n",
       "      <td>Monday</td>\n",
       "      <td>11</td>\n",
       "      <td>Theatre District</td>\n",
       "      <td>North End</td>\n",
       "      <td>Uber</td>\n",
       "      <td>8cf7e821-f0d3-49c6-8eba-e679c0ebcf6a</td>\n",
       "      <td>Taxi</td>\n",
       "      <td>...</td>\n",
       "      <td>1.57</td>\n",
       "      <td>1.0</td>\n",
       "      <td>NaN</td>\n",
       "      <td>41.83</td>\n",
       "      <td>0.92</td>\n",
       "      <td>0.510</td>\n",
       "      <td>Foggy</td>\n",
       "      <td>Rain in the morning and afternoon.</td>\n",
       "      <td>fog</td>\n",
       "      <td>1014.10</td>\n",
       "    </tr>\n",
       "    <tr>\n",
       "      <th>5</th>\n",
       "      <td>2018-11-26 03:40:46</td>\n",
       "      <td>2018-11-26</td>\n",
       "      <td>3</td>\n",
       "      <td>Monday</td>\n",
       "      <td>11</td>\n",
       "      <td>Theatre District</td>\n",
       "      <td>Fenway</td>\n",
       "      <td>Uber</td>\n",
       "      <td>8cf7e821-f0d3-49c6-8eba-e679c0ebcf6a</td>\n",
       "      <td>Taxi</td>\n",
       "      <td>...</td>\n",
       "      <td>2.71</td>\n",
       "      <td>1.0</td>\n",
       "      <td>NaN</td>\n",
       "      <td>41.83</td>\n",
       "      <td>0.92</td>\n",
       "      <td>0.510</td>\n",
       "      <td>Foggy</td>\n",
       "      <td>Rain in the morning and afternoon.</td>\n",
       "      <td>fog</td>\n",
       "      <td>1014.10</td>\n",
       "    </tr>\n",
       "    <tr>\n",
       "      <th>14</th>\n",
       "      <td>2018-11-26 03:40:46</td>\n",
       "      <td>2018-11-26</td>\n",
       "      <td>3</td>\n",
       "      <td>Monday</td>\n",
       "      <td>11</td>\n",
       "      <td>South Station</td>\n",
       "      <td>Beacon Hill</td>\n",
       "      <td>Uber</td>\n",
       "      <td>8cf7e821-f0d3-49c6-8eba-e679c0ebcf6a</td>\n",
       "      <td>Taxi</td>\n",
       "      <td>...</td>\n",
       "      <td>2.50</td>\n",
       "      <td>1.0</td>\n",
       "      <td>NaN</td>\n",
       "      <td>41.83</td>\n",
       "      <td>0.92</td>\n",
       "      <td>0.510</td>\n",
       "      <td>Foggy</td>\n",
       "      <td>Rain in the morning and afternoon.</td>\n",
       "      <td>fog</td>\n",
       "      <td>1014.10</td>\n",
       "    </tr>\n",
       "    <tr>\n",
       "      <th>37</th>\n",
       "      <td>2018-11-26 03:40:47</td>\n",
       "      <td>2018-11-26</td>\n",
       "      <td>3</td>\n",
       "      <td>Monday</td>\n",
       "      <td>11</td>\n",
       "      <td>Theatre District</td>\n",
       "      <td>Fenway</td>\n",
       "      <td>Uber</td>\n",
       "      <td>8cf7e821-f0d3-49c6-8eba-e679c0ebcf6a</td>\n",
       "      <td>Taxi</td>\n",
       "      <td>...</td>\n",
       "      <td>2.66</td>\n",
       "      <td>1.0</td>\n",
       "      <td>NaN</td>\n",
       "      <td>41.83</td>\n",
       "      <td>0.92</td>\n",
       "      <td>1.275</td>\n",
       "      <td>Foggy</td>\n",
       "      <td>Rain in the morning and afternoon.</td>\n",
       "      <td>fog</td>\n",
       "      <td>1014.10</td>\n",
       "    </tr>\n",
       "    <tr>\n",
       "      <th>...</th>\n",
       "      <td>...</td>\n",
       "      <td>...</td>\n",
       "      <td>...</td>\n",
       "      <td>...</td>\n",
       "      <td>...</td>\n",
       "      <td>...</td>\n",
       "      <td>...</td>\n",
       "      <td>...</td>\n",
       "      <td>...</td>\n",
       "      <td>...</td>\n",
       "      <td>...</td>\n",
       "      <td>...</td>\n",
       "      <td>...</td>\n",
       "      <td>...</td>\n",
       "      <td>...</td>\n",
       "      <td>...</td>\n",
       "      <td>...</td>\n",
       "      <td>...</td>\n",
       "      <td>...</td>\n",
       "      <td>...</td>\n",
       "      <td>...</td>\n",
       "    </tr>\n",
       "    <tr>\n",
       "      <th>691737</th>\n",
       "      <td>2018-12-18 19:15:09</td>\n",
       "      <td>2018-12-18</td>\n",
       "      <td>19</td>\n",
       "      <td>Tuesday</td>\n",
       "      <td>12</td>\n",
       "      <td>Theatre District</td>\n",
       "      <td>North End</td>\n",
       "      <td>Uber</td>\n",
       "      <td>8cf7e821-f0d3-49c6-8eba-e679c0ebcf6a</td>\n",
       "      <td>Taxi</td>\n",
       "      <td>...</td>\n",
       "      <td>1.57</td>\n",
       "      <td>1.0</td>\n",
       "      <td>NaN</td>\n",
       "      <td>22.99</td>\n",
       "      <td>0.38</td>\n",
       "      <td>12.520</td>\n",
       "      <td>Clear</td>\n",
       "      <td>Mostly cloudy throughout the day.</td>\n",
       "      <td>clear-day</td>\n",
       "      <td>1011.55</td>\n",
       "    </tr>\n",
       "    <tr>\n",
       "      <th>691793</th>\n",
       "      <td>2018-12-18 19:15:11</td>\n",
       "      <td>2018-12-18</td>\n",
       "      <td>19</td>\n",
       "      <td>Tuesday</td>\n",
       "      <td>12</td>\n",
       "      <td>Theatre District</td>\n",
       "      <td>Fenway</td>\n",
       "      <td>Uber</td>\n",
       "      <td>8cf7e821-f0d3-49c6-8eba-e679c0ebcf6a</td>\n",
       "      <td>Taxi</td>\n",
       "      <td>...</td>\n",
       "      <td>2.66</td>\n",
       "      <td>1.0</td>\n",
       "      <td>NaN</td>\n",
       "      <td>22.99</td>\n",
       "      <td>0.38</td>\n",
       "      <td>12.520</td>\n",
       "      <td>Clear</td>\n",
       "      <td>Mostly cloudy throughout the day.</td>\n",
       "      <td>clear-day</td>\n",
       "      <td>1011.55</td>\n",
       "    </tr>\n",
       "    <tr>\n",
       "      <th>691800</th>\n",
       "      <td>2018-12-18 19:15:11</td>\n",
       "      <td>2018-12-18</td>\n",
       "      <td>19</td>\n",
       "      <td>Tuesday</td>\n",
       "      <td>12</td>\n",
       "      <td>Fenway</td>\n",
       "      <td>Back Bay</td>\n",
       "      <td>Uber</td>\n",
       "      <td>8cf7e821-f0d3-49c6-8eba-e679c0ebcf6a</td>\n",
       "      <td>Taxi</td>\n",
       "      <td>...</td>\n",
       "      <td>1.50</td>\n",
       "      <td>1.0</td>\n",
       "      <td>NaN</td>\n",
       "      <td>22.99</td>\n",
       "      <td>0.38</td>\n",
       "      <td>12.520</td>\n",
       "      <td>Clear</td>\n",
       "      <td>Mostly cloudy throughout the day.</td>\n",
       "      <td>clear-day</td>\n",
       "      <td>1011.55</td>\n",
       "    </tr>\n",
       "    <tr>\n",
       "      <th>691805</th>\n",
       "      <td>2018-12-18 19:15:11</td>\n",
       "      <td>2018-12-18</td>\n",
       "      <td>19</td>\n",
       "      <td>Tuesday</td>\n",
       "      <td>12</td>\n",
       "      <td>Fenway</td>\n",
       "      <td>Theatre District</td>\n",
       "      <td>Uber</td>\n",
       "      <td>8cf7e821-f0d3-49c6-8eba-e679c0ebcf6a</td>\n",
       "      <td>Taxi</td>\n",
       "      <td>...</td>\n",
       "      <td>2.66</td>\n",
       "      <td>1.0</td>\n",
       "      <td>NaN</td>\n",
       "      <td>22.99</td>\n",
       "      <td>0.38</td>\n",
       "      <td>12.520</td>\n",
       "      <td>Clear</td>\n",
       "      <td>Mostly cloudy throughout the day.</td>\n",
       "      <td>clear-day</td>\n",
       "      <td>1011.55</td>\n",
       "    </tr>\n",
       "    <tr>\n",
       "      <th>691806</th>\n",
       "      <td>2018-12-18 19:15:11</td>\n",
       "      <td>2018-12-18</td>\n",
       "      <td>19</td>\n",
       "      <td>Tuesday</td>\n",
       "      <td>12</td>\n",
       "      <td>North End</td>\n",
       "      <td>West End</td>\n",
       "      <td>Uber</td>\n",
       "      <td>8cf7e821-f0d3-49c6-8eba-e679c0ebcf6a</td>\n",
       "      <td>Taxi</td>\n",
       "      <td>...</td>\n",
       "      <td>1.16</td>\n",
       "      <td>1.0</td>\n",
       "      <td>NaN</td>\n",
       "      <td>22.99</td>\n",
       "      <td>0.38</td>\n",
       "      <td>12.520</td>\n",
       "      <td>Clear</td>\n",
       "      <td>Mostly cloudy throughout the day.</td>\n",
       "      <td>clear-day</td>\n",
       "      <td>1011.55</td>\n",
       "    </tr>\n",
       "  </tbody>\n",
       "</table>\n",
       "<p>54627 rows × 23 columns</p>\n",
       "</div>"
      ],
      "text/plain": [
       "                 timestamp        date  hour day_of_week  month  \\\n",
       "0      2018-11-26 03:40:46  2018-11-26     3      Monday     11   \n",
       "1      2018-11-26 03:40:46  2018-11-26     3      Monday     11   \n",
       "5      2018-11-26 03:40:46  2018-11-26     3      Monday     11   \n",
       "14     2018-11-26 03:40:46  2018-11-26     3      Monday     11   \n",
       "37     2018-11-26 03:40:47  2018-11-26     3      Monday     11   \n",
       "...                    ...         ...   ...         ...    ...   \n",
       "691737 2018-12-18 19:15:09  2018-12-18    19     Tuesday     12   \n",
       "691793 2018-12-18 19:15:11  2018-12-18    19     Tuesday     12   \n",
       "691800 2018-12-18 19:15:11  2018-12-18    19     Tuesday     12   \n",
       "691805 2018-12-18 19:15:11  2018-12-18    19     Tuesday     12   \n",
       "691806 2018-12-18 19:15:11  2018-12-18    19     Tuesday     12   \n",
       "\n",
       "                  source       destination ride_company  \\\n",
       "0       Haymarket Square  Theatre District         Uber   \n",
       "1       Theatre District         North End         Uber   \n",
       "5       Theatre District            Fenway         Uber   \n",
       "14         South Station       Beacon Hill         Uber   \n",
       "37      Theatre District            Fenway         Uber   \n",
       "...                  ...               ...          ...   \n",
       "691737  Theatre District         North End         Uber   \n",
       "691793  Theatre District            Fenway         Uber   \n",
       "691800            Fenway          Back Bay         Uber   \n",
       "691805            Fenway  Theatre District         Uber   \n",
       "691806         North End          West End         Uber   \n",
       "\n",
       "                                  vehicle_id vehicle  ...  distance  \\\n",
       "0       8cf7e821-f0d3-49c6-8eba-e679c0ebcf6a    Taxi  ...      1.16   \n",
       "1       8cf7e821-f0d3-49c6-8eba-e679c0ebcf6a    Taxi  ...      1.57   \n",
       "5       8cf7e821-f0d3-49c6-8eba-e679c0ebcf6a    Taxi  ...      2.71   \n",
       "14      8cf7e821-f0d3-49c6-8eba-e679c0ebcf6a    Taxi  ...      2.50   \n",
       "37      8cf7e821-f0d3-49c6-8eba-e679c0ebcf6a    Taxi  ...      2.66   \n",
       "...                                      ...     ...  ...       ...   \n",
       "691737  8cf7e821-f0d3-49c6-8eba-e679c0ebcf6a    Taxi  ...      1.57   \n",
       "691793  8cf7e821-f0d3-49c6-8eba-e679c0ebcf6a    Taxi  ...      2.66   \n",
       "691800  8cf7e821-f0d3-49c6-8eba-e679c0ebcf6a    Taxi  ...      1.50   \n",
       "691805  8cf7e821-f0d3-49c6-8eba-e679c0ebcf6a    Taxi  ...      2.66   \n",
       "691806  8cf7e821-f0d3-49c6-8eba-e679c0ebcf6a    Taxi  ...      1.16   \n",
       "\n",
       "        surge_multiplier  fare  temperature_F  humidity  wind_speed  \\\n",
       "0                    1.0   NaN          41.83      0.92       0.510   \n",
       "1                    1.0   NaN          41.83      0.92       0.510   \n",
       "5                    1.0   NaN          41.83      0.92       0.510   \n",
       "14                   1.0   NaN          41.83      0.92       0.510   \n",
       "37                   1.0   NaN          41.83      0.92       1.275   \n",
       "...                  ...   ...            ...       ...         ...   \n",
       "691737               1.0   NaN          22.99      0.38      12.520   \n",
       "691793               1.0   NaN          22.99      0.38      12.520   \n",
       "691800               1.0   NaN          22.99      0.38      12.520   \n",
       "691805               1.0   NaN          22.99      0.38      12.520   \n",
       "691806               1.0   NaN          22.99      0.38      12.520   \n",
       "\n",
       "        weather_desc_short                     weather_desc_long  \\\n",
       "0                   Foggy    Rain in the morning and afternoon.    \n",
       "1                   Foggy    Rain in the morning and afternoon.    \n",
       "5                   Foggy    Rain in the morning and afternoon.    \n",
       "14                  Foggy    Rain in the morning and afternoon.    \n",
       "37                  Foggy    Rain in the morning and afternoon.    \n",
       "...                    ...                                   ...   \n",
       "691737              Clear     Mostly cloudy throughout the day.    \n",
       "691793              Clear     Mostly cloudy throughout the day.    \n",
       "691800              Clear     Mostly cloudy throughout the day.    \n",
       "691805              Clear     Mostly cloudy throughout the day.    \n",
       "691806              Clear     Mostly cloudy throughout the day.    \n",
       "\n",
       "        weather_status pressure  \n",
       "0                 fog   1014.10  \n",
       "1                 fog   1014.10  \n",
       "5                 fog   1014.10  \n",
       "14                fog   1014.10  \n",
       "37                fog   1014.10  \n",
       "...                ...      ...  \n",
       "691737      clear-day   1011.55  \n",
       "691793      clear-day   1011.55  \n",
       "691800      clear-day   1011.55  \n",
       "691805      clear-day   1011.55  \n",
       "691806      clear-day   1011.55  \n",
       "\n",
       "[54627 rows x 23 columns]"
      ]
     },
     "execution_count": 15,
     "metadata": {},
     "output_type": "execute_result"
    }
   ],
   "source": [
    "df[df['fare'].isna()]"
   ]
  },
  {
   "cell_type": "code",
   "execution_count": 16,
   "id": "42d23600",
   "metadata": {
    "execution": {
     "iopub.execute_input": "2025-06-16T10:27:12.197803Z",
     "iopub.status.busy": "2025-06-16T10:27:12.197003Z",
     "iopub.status.idle": "2025-06-16T10:27:12.286195Z",
     "shell.execute_reply": "2025-06-16T10:27:12.285081Z"
    },
    "papermill": {
     "duration": 0.107968,
     "end_time": "2025-06-16T10:27:12.287733",
     "exception": false,
     "start_time": "2025-06-16T10:27:12.179765",
     "status": "completed"
    },
    "tags": []
   },
   "outputs": [
    {
     "name": "stderr",
     "output_type": "stream",
     "text": [
      "/usr/local/lib/python3.11/dist-packages/pandas/io/formats/format.py:1458: RuntimeWarning: invalid value encountered in greater\n",
      "  has_large_values = (abs_vals > 1e6).any()\n",
      "/usr/local/lib/python3.11/dist-packages/pandas/io/formats/format.py:1459: RuntimeWarning: invalid value encountered in less\n",
      "  has_small_values = ((abs_vals < 10 ** (-self.digits)) & (abs_vals > 0)).any()\n",
      "/usr/local/lib/python3.11/dist-packages/pandas/io/formats/format.py:1459: RuntimeWarning: invalid value encountered in greater\n",
      "  has_small_values = ((abs_vals < 10 ** (-self.digits)) & (abs_vals > 0)).any()\n"
     ]
    },
    {
     "data": {
      "text/html": [
       "<div>\n",
       "<style scoped>\n",
       "    .dataframe tbody tr th:only-of-type {\n",
       "        vertical-align: middle;\n",
       "    }\n",
       "\n",
       "    .dataframe tbody tr th {\n",
       "        vertical-align: top;\n",
       "    }\n",
       "\n",
       "    .dataframe thead th {\n",
       "        text-align: right;\n",
       "    }\n",
       "</style>\n",
       "<table border=\"1\" class=\"dataframe\">\n",
       "  <thead>\n",
       "    <tr style=\"text-align: right;\">\n",
       "      <th></th>\n",
       "      <th>timestamp</th>\n",
       "      <th>hour</th>\n",
       "      <th>month</th>\n",
       "      <th>visibility</th>\n",
       "      <th>cloud_cover</th>\n",
       "      <th>uv_index</th>\n",
       "      <th>distance</th>\n",
       "      <th>surge_multiplier</th>\n",
       "      <th>fare</th>\n",
       "      <th>temperature_F</th>\n",
       "      <th>humidity</th>\n",
       "      <th>wind_speed</th>\n",
       "      <th>pressure</th>\n",
       "    </tr>\n",
       "  </thead>\n",
       "  <tbody>\n",
       "    <tr>\n",
       "      <th>count</th>\n",
       "      <td>54627</td>\n",
       "      <td>54627.000000</td>\n",
       "      <td>54627.000000</td>\n",
       "      <td>54627.000000</td>\n",
       "      <td>54627.000000</td>\n",
       "      <td>54627.000000</td>\n",
       "      <td>54072.000000</td>\n",
       "      <td>54627.0</td>\n",
       "      <td>0.0</td>\n",
       "      <td>53994.000000</td>\n",
       "      <td>53921.000000</td>\n",
       "      <td>54627.000000</td>\n",
       "      <td>52634.000000</td>\n",
       "    </tr>\n",
       "    <tr>\n",
       "      <th>mean</th>\n",
       "      <td>2018-12-05 22:26:30.720138496</td>\n",
       "      <td>11.626741</td>\n",
       "      <td>11.590129</td>\n",
       "      <td>8.458097</td>\n",
       "      <td>0.688307</td>\n",
       "      <td>0.248009</td>\n",
       "      <td>2.385976</td>\n",
       "      <td>1.0</td>\n",
       "      <td>NaN</td>\n",
       "      <td>36.125145</td>\n",
       "      <td>0.741597</td>\n",
       "      <td>6.227607</td>\n",
       "      <td>1010.164338</td>\n",
       "    </tr>\n",
       "    <tr>\n",
       "      <th>min</th>\n",
       "      <td>2018-11-26 03:40:46</td>\n",
       "      <td>0.000000</td>\n",
       "      <td>11.000000</td>\n",
       "      <td>0.717000</td>\n",
       "      <td>0.000000</td>\n",
       "      <td>0.000000</td>\n",
       "      <td>0.020000</td>\n",
       "      <td>1.0</td>\n",
       "      <td>NaN</td>\n",
       "      <td>12.130000</td>\n",
       "      <td>0.380000</td>\n",
       "      <td>0.450000</td>\n",
       "      <td>988.090000</td>\n",
       "    </tr>\n",
       "    <tr>\n",
       "      <th>25%</th>\n",
       "      <td>2018-11-28 22:48:38.500000</td>\n",
       "      <td>6.000000</td>\n",
       "      <td>11.000000</td>\n",
       "      <td>8.432000</td>\n",
       "      <td>0.370000</td>\n",
       "      <td>0.000000</td>\n",
       "      <td>1.300000</td>\n",
       "      <td>1.0</td>\n",
       "      <td>NaN</td>\n",
       "      <td>31.920000</td>\n",
       "      <td>0.640000</td>\n",
       "      <td>3.410000</td>\n",
       "      <td>999.890000</td>\n",
       "    </tr>\n",
       "    <tr>\n",
       "      <th>50%</th>\n",
       "      <td>2018-12-02 09:07:56</td>\n",
       "      <td>12.000000</td>\n",
       "      <td>12.000000</td>\n",
       "      <td>9.876000</td>\n",
       "      <td>0.830000</td>\n",
       "      <td>0.000000</td>\n",
       "      <td>2.170000</td>\n",
       "      <td>1.0</td>\n",
       "      <td>NaN</td>\n",
       "      <td>35.980000</td>\n",
       "      <td>0.710000</td>\n",
       "      <td>5.920000</td>\n",
       "      <td>1009.430000</td>\n",
       "    </tr>\n",
       "    <tr>\n",
       "      <th>75%</th>\n",
       "      <td>2018-12-14 23:10:16</td>\n",
       "      <td>18.000000</td>\n",
       "      <td>12.000000</td>\n",
       "      <td>9.996000</td>\n",
       "      <td>1.000000</td>\n",
       "      <td>0.000000</td>\n",
       "      <td>2.860000</td>\n",
       "      <td>1.0</td>\n",
       "      <td>NaN</td>\n",
       "      <td>40.800000</td>\n",
       "      <td>0.880000</td>\n",
       "      <td>8.410000</td>\n",
       "      <td>1021.860000</td>\n",
       "    </tr>\n",
       "    <tr>\n",
       "      <th>max</th>\n",
       "      <td>2018-12-18 19:15:11</td>\n",
       "      <td>23.000000</td>\n",
       "      <td>12.000000</td>\n",
       "      <td>10.000000</td>\n",
       "      <td>1.000000</td>\n",
       "      <td>2.000000</td>\n",
       "      <td>139.400000</td>\n",
       "      <td>1.0</td>\n",
       "      <td>NaN</td>\n",
       "      <td>85.830000</td>\n",
       "      <td>0.960000</td>\n",
       "      <td>37.500000</td>\n",
       "      <td>1035.550000</td>\n",
       "    </tr>\n",
       "    <tr>\n",
       "      <th>std</th>\n",
       "      <td>NaN</td>\n",
       "      <td>6.936359</td>\n",
       "      <td>0.491814</td>\n",
       "      <td>2.612476</td>\n",
       "      <td>0.357983</td>\n",
       "      <td>0.472120</td>\n",
       "      <td>3.368683</td>\n",
       "      <td>0.0</td>\n",
       "      <td>NaN</td>\n",
       "      <td>8.225299</td>\n",
       "      <td>0.138821</td>\n",
       "      <td>3.272792</td>\n",
       "      <td>13.435681</td>\n",
       "    </tr>\n",
       "  </tbody>\n",
       "</table>\n",
       "</div>"
      ],
      "text/plain": [
       "                           timestamp          hour         month  \\\n",
       "count                          54627  54627.000000  54627.000000   \n",
       "mean   2018-12-05 22:26:30.720138496     11.626741     11.590129   \n",
       "min              2018-11-26 03:40:46      0.000000     11.000000   \n",
       "25%       2018-11-28 22:48:38.500000      6.000000     11.000000   \n",
       "50%              2018-12-02 09:07:56     12.000000     12.000000   \n",
       "75%              2018-12-14 23:10:16     18.000000     12.000000   \n",
       "max              2018-12-18 19:15:11     23.000000     12.000000   \n",
       "std                              NaN      6.936359      0.491814   \n",
       "\n",
       "         visibility   cloud_cover      uv_index      distance  \\\n",
       "count  54627.000000  54627.000000  54627.000000  54072.000000   \n",
       "mean       8.458097      0.688307      0.248009      2.385976   \n",
       "min        0.717000      0.000000      0.000000      0.020000   \n",
       "25%        8.432000      0.370000      0.000000      1.300000   \n",
       "50%        9.876000      0.830000      0.000000      2.170000   \n",
       "75%        9.996000      1.000000      0.000000      2.860000   \n",
       "max       10.000000      1.000000      2.000000    139.400000   \n",
       "std        2.612476      0.357983      0.472120      3.368683   \n",
       "\n",
       "       surge_multiplier  fare  temperature_F      humidity    wind_speed  \\\n",
       "count           54627.0   0.0   53994.000000  53921.000000  54627.000000   \n",
       "mean                1.0   NaN      36.125145      0.741597      6.227607   \n",
       "min                 1.0   NaN      12.130000      0.380000      0.450000   \n",
       "25%                 1.0   NaN      31.920000      0.640000      3.410000   \n",
       "50%                 1.0   NaN      35.980000      0.710000      5.920000   \n",
       "75%                 1.0   NaN      40.800000      0.880000      8.410000   \n",
       "max                 1.0   NaN      85.830000      0.960000     37.500000   \n",
       "std                 0.0   NaN       8.225299      0.138821      3.272792   \n",
       "\n",
       "           pressure  \n",
       "count  52634.000000  \n",
       "mean    1010.164338  \n",
       "min      988.090000  \n",
       "25%      999.890000  \n",
       "50%     1009.430000  \n",
       "75%     1021.860000  \n",
       "max     1035.550000  \n",
       "std       13.435681  "
      ]
     },
     "execution_count": 16,
     "metadata": {},
     "output_type": "execute_result"
    }
   ],
   "source": [
    "df[df['fare'].isna()].describe()"
   ]
  },
  {
   "cell_type": "markdown",
   "id": "b7723acd",
   "metadata": {
    "papermill": {
     "duration": 0.015987,
     "end_time": "2025-06-16T10:27:12.320264",
     "exception": false,
     "start_time": "2025-06-16T10:27:12.304277",
     "status": "completed"
    },
    "tags": []
   },
   "source": [
    "### Now, we look at the rows where the price is present to contrast them with the missing-price entries."
   ]
  },
  {
   "cell_type": "code",
   "execution_count": 17,
   "id": "f36745df",
   "metadata": {
    "execution": {
     "iopub.execute_input": "2025-06-16T10:27:12.354490Z",
     "iopub.status.busy": "2025-06-16T10:27:12.354167Z",
     "iopub.status.idle": "2025-06-16T10:27:12.496766Z",
     "shell.execute_reply": "2025-06-16T10:27:12.495778Z"
    },
    "papermill": {
     "duration": 0.161772,
     "end_time": "2025-06-16T10:27:12.498309",
     "exception": false,
     "start_time": "2025-06-16T10:27:12.336537",
     "status": "completed"
    },
    "tags": []
   },
   "outputs": [
    {
     "data": {
      "text/html": [
       "<div>\n",
       "<style scoped>\n",
       "    .dataframe tbody tr th:only-of-type {\n",
       "        vertical-align: middle;\n",
       "    }\n",
       "\n",
       "    .dataframe tbody tr th {\n",
       "        vertical-align: top;\n",
       "    }\n",
       "\n",
       "    .dataframe thead th {\n",
       "        text-align: right;\n",
       "    }\n",
       "</style>\n",
       "<table border=\"1\" class=\"dataframe\">\n",
       "  <thead>\n",
       "    <tr style=\"text-align: right;\">\n",
       "      <th></th>\n",
       "      <th>timestamp</th>\n",
       "      <th>date</th>\n",
       "      <th>hour</th>\n",
       "      <th>day_of_week</th>\n",
       "      <th>month</th>\n",
       "      <th>source</th>\n",
       "      <th>destination</th>\n",
       "      <th>ride_company</th>\n",
       "      <th>vehicle_id</th>\n",
       "      <th>vehicle</th>\n",
       "      <th>...</th>\n",
       "      <th>distance</th>\n",
       "      <th>surge_multiplier</th>\n",
       "      <th>fare</th>\n",
       "      <th>temperature_F</th>\n",
       "      <th>humidity</th>\n",
       "      <th>wind_speed</th>\n",
       "      <th>weather_desc_short</th>\n",
       "      <th>weather_desc_long</th>\n",
       "      <th>weather_status</th>\n",
       "      <th>pressure</th>\n",
       "    </tr>\n",
       "  </thead>\n",
       "  <tbody>\n",
       "    <tr>\n",
       "      <th>2</th>\n",
       "      <td>2018-11-26 03:40:46</td>\n",
       "      <td>2018-11-26</td>\n",
       "      <td>3</td>\n",
       "      <td>Monday</td>\n",
       "      <td>11</td>\n",
       "      <td>Boston University</td>\n",
       "      <td>Financial District</td>\n",
       "      <td>Lyft</td>\n",
       "      <td>lyft_lux</td>\n",
       "      <td>Lux Black</td>\n",
       "      <td>...</td>\n",
       "      <td>4.46</td>\n",
       "      <td>1.75</td>\n",
       "      <td>62.5</td>\n",
       "      <td>41.83</td>\n",
       "      <td>0.92</td>\n",
       "      <td>0.51</td>\n",
       "      <td>Foggy</td>\n",
       "      <td>Rain in the morning and afternoon.</td>\n",
       "      <td>fog</td>\n",
       "      <td>1014.1</td>\n",
       "    </tr>\n",
       "    <tr>\n",
       "      <th>3</th>\n",
       "      <td>2018-11-26 03:40:46</td>\n",
       "      <td>2018-11-26</td>\n",
       "      <td>3</td>\n",
       "      <td>Monday</td>\n",
       "      <td>11</td>\n",
       "      <td>Boston University</td>\n",
       "      <td>Financial District</td>\n",
       "      <td>Lyft</td>\n",
       "      <td>lyft_premier</td>\n",
       "      <td>Lux</td>\n",
       "      <td>...</td>\n",
       "      <td>4.46</td>\n",
       "      <td>1.75</td>\n",
       "      <td>47.5</td>\n",
       "      <td>41.83</td>\n",
       "      <td>0.92</td>\n",
       "      <td>0.51</td>\n",
       "      <td>Foggy</td>\n",
       "      <td>Rain in the morning and afternoon.</td>\n",
       "      <td>fog</td>\n",
       "      <td>1014.1</td>\n",
       "    </tr>\n",
       "    <tr>\n",
       "      <th>4</th>\n",
       "      <td>2018-11-26 03:40:46</td>\n",
       "      <td>2018-11-26</td>\n",
       "      <td>3</td>\n",
       "      <td>Monday</td>\n",
       "      <td>11</td>\n",
       "      <td>North Station</td>\n",
       "      <td>Fenway</td>\n",
       "      <td>Uber</td>\n",
       "      <td>9a0e7b09-b92b-4c41-9779-2ad22b4d779d</td>\n",
       "      <td>WAV</td>\n",
       "      <td>...</td>\n",
       "      <td>3.05</td>\n",
       "      <td>1.00</td>\n",
       "      <td>10.5</td>\n",
       "      <td>41.83</td>\n",
       "      <td>0.92</td>\n",
       "      <td>0.51</td>\n",
       "      <td>Foggy</td>\n",
       "      <td>Rain in the morning and afternoon.</td>\n",
       "      <td>fog</td>\n",
       "      <td>1014.1</td>\n",
       "    </tr>\n",
       "    <tr>\n",
       "      <th>6</th>\n",
       "      <td>2018-11-26 03:40:46</td>\n",
       "      <td>2018-11-26</td>\n",
       "      <td>3</td>\n",
       "      <td>Monday</td>\n",
       "      <td>11</td>\n",
       "      <td>Boston University</td>\n",
       "      <td>Theatre District</td>\n",
       "      <td>Lyft</td>\n",
       "      <td>lyft_luxsuv</td>\n",
       "      <td>Lux Black XL</td>\n",
       "      <td>...</td>\n",
       "      <td>3.03</td>\n",
       "      <td>1.00</td>\n",
       "      <td>34.0</td>\n",
       "      <td>41.83</td>\n",
       "      <td>0.92</td>\n",
       "      <td>0.51</td>\n",
       "      <td>Foggy</td>\n",
       "      <td>Rain in the morning and afternoon.</td>\n",
       "      <td>fog</td>\n",
       "      <td>1014.1</td>\n",
       "    </tr>\n",
       "    <tr>\n",
       "      <th>7</th>\n",
       "      <td>2018-11-26 03:40:46</td>\n",
       "      <td>2018-11-26</td>\n",
       "      <td>3</td>\n",
       "      <td>Monday</td>\n",
       "      <td>11</td>\n",
       "      <td>Northeastern University</td>\n",
       "      <td>Beacon Hill</td>\n",
       "      <td>Lyft</td>\n",
       "      <td>lyft</td>\n",
       "      <td>Lyft</td>\n",
       "      <td>...</td>\n",
       "      <td>2.43</td>\n",
       "      <td>1.00</td>\n",
       "      <td>10.5</td>\n",
       "      <td>41.83</td>\n",
       "      <td>0.92</td>\n",
       "      <td>0.51</td>\n",
       "      <td>Foggy</td>\n",
       "      <td>Rain in the morning and afternoon.</td>\n",
       "      <td>fog</td>\n",
       "      <td>1014.1</td>\n",
       "    </tr>\n",
       "  </tbody>\n",
       "</table>\n",
       "<p>5 rows × 23 columns</p>\n",
       "</div>"
      ],
      "text/plain": [
       "            timestamp        date  hour day_of_week  month  \\\n",
       "2 2018-11-26 03:40:46  2018-11-26     3      Monday     11   \n",
       "3 2018-11-26 03:40:46  2018-11-26     3      Monday     11   \n",
       "4 2018-11-26 03:40:46  2018-11-26     3      Monday     11   \n",
       "6 2018-11-26 03:40:46  2018-11-26     3      Monday     11   \n",
       "7 2018-11-26 03:40:46  2018-11-26     3      Monday     11   \n",
       "\n",
       "                    source         destination ride_company  \\\n",
       "2        Boston University  Financial District         Lyft   \n",
       "3        Boston University  Financial District         Lyft   \n",
       "4            North Station              Fenway         Uber   \n",
       "6        Boston University    Theatre District         Lyft   \n",
       "7  Northeastern University         Beacon Hill         Lyft   \n",
       "\n",
       "                             vehicle_id       vehicle  ...  distance  \\\n",
       "2                              lyft_lux     Lux Black  ...      4.46   \n",
       "3                          lyft_premier           Lux  ...      4.46   \n",
       "4  9a0e7b09-b92b-4c41-9779-2ad22b4d779d           WAV  ...      3.05   \n",
       "6                           lyft_luxsuv  Lux Black XL  ...      3.03   \n",
       "7                                  lyft          Lyft  ...      2.43   \n",
       "\n",
       "   surge_multiplier  fare  temperature_F  humidity  wind_speed  \\\n",
       "2              1.75  62.5          41.83      0.92        0.51   \n",
       "3              1.75  47.5          41.83      0.92        0.51   \n",
       "4              1.00  10.5          41.83      0.92        0.51   \n",
       "6              1.00  34.0          41.83      0.92        0.51   \n",
       "7              1.00  10.5          41.83      0.92        0.51   \n",
       "\n",
       "   weather_desc_short                     weather_desc_long  weather_status  \\\n",
       "2              Foggy    Rain in the morning and afternoon.             fog    \n",
       "3              Foggy    Rain in the morning and afternoon.             fog    \n",
       "4              Foggy    Rain in the morning and afternoon.             fog    \n",
       "6              Foggy    Rain in the morning and afternoon.             fog    \n",
       "7              Foggy    Rain in the morning and afternoon.             fog    \n",
       "\n",
       "  pressure  \n",
       "2   1014.1  \n",
       "3   1014.1  \n",
       "4   1014.1  \n",
       "6   1014.1  \n",
       "7   1014.1  \n",
       "\n",
       "[5 rows x 23 columns]"
      ]
     },
     "execution_count": 17,
     "metadata": {},
     "output_type": "execute_result"
    }
   ],
   "source": [
    "df[~df[\"fare\"].isna()].head()"
   ]
  },
  {
   "cell_type": "markdown",
   "id": "ce3dd2df",
   "metadata": {
    "papermill": {
     "duration": 0.016872,
     "end_time": "2025-06-16T10:27:12.531895",
     "exception": false,
     "start_time": "2025-06-16T10:27:12.515023",
     "status": "completed"
    },
    "tags": []
   },
   "source": [
    "### Upon inspection, we observe that for all rows where the price is missing, the corresponding name column is always \"Taxi\". In contrast, rows with a recorded price include a variety of ride types."
   ]
  },
  {
   "cell_type": "code",
   "execution_count": 18,
   "id": "9db5ea78",
   "metadata": {
    "execution": {
     "iopub.execute_input": "2025-06-16T10:27:12.567930Z",
     "iopub.status.busy": "2025-06-16T10:27:12.567648Z",
     "iopub.status.idle": "2025-06-16T10:27:12.606098Z",
     "shell.execute_reply": "2025-06-16T10:27:12.605298Z"
    },
    "papermill": {
     "duration": 0.057946,
     "end_time": "2025-06-16T10:27:12.607397",
     "exception": false,
     "start_time": "2025-06-16T10:27:12.549451",
     "status": "completed"
    },
    "tags": []
   },
   "outputs": [
    {
     "data": {
      "text/plain": [
       "array(['Taxi'], dtype=object)"
      ]
     },
     "execution_count": 18,
     "metadata": {},
     "output_type": "execute_result"
    }
   ],
   "source": [
    "df[df['fare'].isna()][\"vehicle\"].unique()"
   ]
  },
  {
   "cell_type": "markdown",
   "id": "701ad0e6",
   "metadata": {
    "papermill": {
     "duration": 0.016855,
     "end_time": "2025-06-16T10:27:12.641468",
     "exception": false,
     "start_time": "2025-06-16T10:27:12.624613",
     "status": "completed"
    },
    "tags": []
   },
   "source": [
    "### We confirm that only \"Taxi\" appears in the name column when price is missing."
   ]
  },
  {
   "cell_type": "code",
   "execution_count": 19,
   "id": "4b3d1b2e",
   "metadata": {
    "execution": {
     "iopub.execute_input": "2025-06-16T10:27:12.676917Z",
     "iopub.status.busy": "2025-06-16T10:27:12.676601Z",
     "iopub.status.idle": "2025-06-16T10:27:12.901787Z",
     "shell.execute_reply": "2025-06-16T10:27:12.900613Z"
    },
    "papermill": {
     "duration": 0.245165,
     "end_time": "2025-06-16T10:27:12.903594",
     "exception": false,
     "start_time": "2025-06-16T10:27:12.658429",
     "status": "completed"
    },
    "tags": []
   },
   "outputs": [
    {
     "data": {
      "text/plain": [
       "array(['Lux Black', 'Lux', 'WAV', 'Lux Black XL', 'Lyft', 'UberX',\n",
       "       'Shared', 'UberXL', 'Black SUV', 'Black', 'Lyft XL', 'UberPool'],\n",
       "      dtype=object)"
      ]
     },
     "execution_count": 19,
     "metadata": {},
     "output_type": "execute_result"
    }
   ],
   "source": [
    "df[~df['fare'].isna()][\"vehicle\"].unique()"
   ]
  },
  {
   "cell_type": "markdown",
   "id": "82310e1f",
   "metadata": {
    "papermill": {
     "duration": 0.017696,
     "end_time": "2025-06-16T10:27:12.940511",
     "exception": false,
     "start_time": "2025-06-16T10:27:12.922815",
     "status": "completed"
    },
    "tags": []
   },
   "source": [
    "### This shows the diversity of ride types when price is available — indicating that the missing data is specific to Taxi.\n",
    "### The missing price values are not due to random data loss but are structurally missing only for Taxi rides. Since no pricing data is available for these rides, we can safely remove them from our modeling dataset."
   ]
  },
  {
   "cell_type": "code",
   "execution_count": 20,
   "id": "ef0f83d6",
   "metadata": {
    "execution": {
     "iopub.execute_input": "2025-06-16T10:27:12.977438Z",
     "iopub.status.busy": "2025-06-16T10:27:12.977077Z",
     "iopub.status.idle": "2025-06-16T10:27:13.640816Z",
     "shell.execute_reply": "2025-06-16T10:27:13.639899Z"
    },
    "papermill": {
     "duration": 0.68422,
     "end_time": "2025-06-16T10:27:13.642559",
     "exception": false,
     "start_time": "2025-06-16T10:27:12.958339",
     "status": "completed"
    },
    "tags": []
   },
   "outputs": [],
   "source": [
    "df = df[~df[\"fare\"].isna()].reset_index(drop=True)"
   ]
  },
  {
   "cell_type": "markdown",
   "id": "90d660c7",
   "metadata": {
    "papermill": {
     "duration": 0.017007,
     "end_time": "2025-06-16T10:27:13.677076",
     "exception": false,
     "start_time": "2025-06-16T10:27:13.660069",
     "status": "completed"
    },
    "tags": []
   },
   "source": [
    "### **Handling outliers in price column**\n",
    "75th percentile value is 22.5 USD while max is 6500 USD. All the rides of these dataset were inside Boston city. So, such high price will deteriorate the model performance. \n",
    "Min price is 2.5. Which shows no outlier in the lower spectrum."
   ]
  },
  {
   "cell_type": "code",
   "execution_count": 21,
   "id": "99128631",
   "metadata": {
    "execution": {
     "iopub.execute_input": "2025-06-16T10:27:13.714058Z",
     "iopub.status.busy": "2025-06-16T10:27:13.713666Z",
     "iopub.status.idle": "2025-06-16T10:27:17.783379Z",
     "shell.execute_reply": "2025-06-16T10:27:17.782294Z"
    },
    "papermill": {
     "duration": 4.090496,
     "end_time": "2025-06-16T10:27:17.785158",
     "exception": false,
     "start_time": "2025-06-16T10:27:13.694662",
     "status": "completed"
    },
    "tags": []
   },
   "outputs": [
    {
     "name": "stderr",
     "output_type": "stream",
     "text": [
      "/usr/local/lib/python3.11/dist-packages/seaborn/_oldcore.py:1119: FutureWarning: use_inf_as_na option is deprecated and will be removed in a future version. Convert inf values to NaN before operating instead.\n",
      "  with pd.option_context('mode.use_inf_as_na', True):\n"
     ]
    },
    {
     "data": {
      "image/png": "[encoded data removed]",
      "text/plain": [
       "<Figure size 1300x1200 with 4 Axes>"
      ]
     },
     "metadata": {},
     "output_type": "display_data"
    }
   ],
   "source": [
    "plt.figure(figsize=(13,12))\n",
    "plt.subplot(2,2,1)\n",
    "plt.boxplot(df[\"fare\"])\n",
    "plt.title(\"Box Plot distribution for all price\")\n",
    "\n",
    "plt.subplot(2,2,2)\n",
    "plt.boxplot(df[df[\"fare\"]<500][\"fare\"])\n",
    "plt.title(\"Box Plot distribution for price<500\")\n",
    "\n",
    "plt.subplot(2,2,3)\n",
    "plt.boxplot(df[df[\"fare\"]<100][\"fare\"])\n",
    "plt.title(\"Box Plot distribution for price<100\")\n",
    "\n",
    "plt.subplot(2,2,4)\n",
    "sns.histplot(df[\"fare\"], bins=100, kde=True)\n",
    "plt.title(\"Price Distribution (Histogram)\")\n",
    "plt.show()"
   ]
  },
  {
   "cell_type": "code",
   "execution_count": 22,
   "id": "bcf9089d",
   "metadata": {
    "execution": {
     "iopub.execute_input": "2025-06-16T10:27:17.826850Z",
     "iopub.status.busy": "2025-06-16T10:27:17.826524Z",
     "iopub.status.idle": "2025-06-16T10:27:17.862610Z",
     "shell.execute_reply": "2025-06-16T10:27:17.861514Z"
    },
    "papermill": {
     "duration": 0.058707,
     "end_time": "2025-06-16T10:27:17.864248",
     "exception": false,
     "start_time": "2025-06-16T10:27:17.805541",
     "status": "completed"
    },
    "tags": []
   },
   "outputs": [
    {
     "name": "stdout",
     "output_type": "stream",
     "text": [
      "42.75\n"
     ]
    }
   ],
   "source": [
    "Q3 = df[\"fare\"].quantile(0.75)\n",
    "Q1 = df[\"fare\"].quantile(0.25)\n",
    "\n",
    "IQR = Q3-Q1\n",
    "fare_thres_iqr = Q3 + 1.5 * IQR\n",
    "fare_thres_vis = 80\n",
    "print(fare_thres_iqr)"
   ]
  },
  {
   "cell_type": "code",
   "execution_count": 23,
   "id": "a1c44238",
   "metadata": {
    "execution": {
     "iopub.execute_input": "2025-06-16T10:27:17.905182Z",
     "iopub.status.busy": "2025-06-16T10:27:17.904841Z",
     "iopub.status.idle": "2025-06-16T10:27:17.918817Z",
     "shell.execute_reply": "2025-06-16T10:27:17.917785Z"
    },
    "papermill": {
     "duration": 0.035952,
     "end_time": "2025-06-16T10:27:17.920398",
     "exception": false,
     "start_time": "2025-06-16T10:27:17.884446",
     "status": "completed"
    },
    "tags": []
   },
   "outputs": [
    {
     "data": {
      "text/plain": [
       "0.5059683550064815"
      ]
     },
     "execution_count": 23,
     "metadata": {},
     "output_type": "execute_result"
    }
   ],
   "source": [
    "len(df[df[\"fare\"]>80])/len(df[\"fare\"])*100"
   ]
  },
  {
   "cell_type": "markdown",
   "id": "12023540",
   "metadata": {
    "execution": {
     "iopub.execute_input": "2025-06-11T18:43:54.188487Z",
     "iopub.status.busy": "2025-06-11T18:43:54.188192Z",
     "iopub.status.idle": "2025-06-11T18:43:54.193804Z",
     "shell.execute_reply": "2025-06-11T18:43:54.193062Z",
     "shell.execute_reply.started": "2025-06-11T18:43:54.188471Z"
    },
    "papermill": {
     "duration": 0.019087,
     "end_time": "2025-06-16T10:27:17.959160",
     "exception": false,
     "start_time": "2025-06-16T10:27:17.940073",
     "status": "completed"
    },
    "tags": []
   },
   "source": [
    "### Fare Distribution Analysis and Outlier Treatment\n",
    "\n",
    "From the box plots and histogram of fare prices, we observe a right-skewed distribution, with the majority of fares concentrated below `$80`. The distribution becomes increasingly sparse above this range representing only 0.5% of the total data. Hence, we will treat them as outliers and impute them with better representatives.\n",
    "\n",
    "Using the IQR method, we calculated the outlier threshold as `$42.75`\n",
    "\n",
    "Although fares above `$42.75` are statistically considered outliers, those between `$42.75` and `$80` may be justified by high-end vehicle types. Therefore, we will further investigate this range to uncover underlying data patterns.\n"
   ]
  },
  {
   "cell_type": "code",
   "execution_count": 24,
   "id": "700e5740",
   "metadata": {
    "execution": {
     "iopub.execute_input": "2025-06-16T10:27:17.999316Z",
     "iopub.status.busy": "2025-06-16T10:27:17.998611Z",
     "iopub.status.idle": "2025-06-16T10:27:18.018122Z",
     "shell.execute_reply": "2025-06-16T10:27:18.017227Z"
    },
    "papermill": {
     "duration": 0.041369,
     "end_time": "2025-06-16T10:27:18.019724",
     "exception": false,
     "start_time": "2025-06-16T10:27:17.978355",
     "status": "completed"
    },
    "tags": []
   },
   "outputs": [
    {
     "data": {
      "text/plain": [
       "array(['Lux Black', 'Lux', 'Lux Black XL', 'Black SUV', 'Shared', 'Black',\n",
       "       'UberXL', 'Lyft XL', 'UberX', 'WAV'], dtype=object)"
      ]
     },
     "execution_count": 24,
     "metadata": {},
     "output_type": "execute_result"
    }
   ],
   "source": [
    "df[(df[\"fare\"]>fare_thres_iqr) & (df[\"fare\"]<fare_thres_vis)][\"vehicle\"].unique()"
   ]
  },
  {
   "cell_type": "code",
   "execution_count": 25,
   "id": "52655b2b",
   "metadata": {
    "execution": {
     "iopub.execute_input": "2025-06-16T10:27:18.060808Z",
     "iopub.status.busy": "2025-06-16T10:27:18.060496Z",
     "iopub.status.idle": "2025-06-16T10:27:18.093305Z",
     "shell.execute_reply": "2025-06-16T10:27:18.092297Z"
    },
    "papermill": {
     "duration": 0.0553,
     "end_time": "2025-06-16T10:27:18.094872",
     "exception": false,
     "start_time": "2025-06-16T10:27:18.039572",
     "status": "completed"
    },
    "tags": []
   },
   "outputs": [
    {
     "name": "stderr",
     "output_type": "stream",
     "text": [
      "/usr/local/lib/python3.11/dist-packages/pandas/io/formats/format.py:1458: RuntimeWarning: invalid value encountered in greater\n",
      "  has_large_values = (abs_vals > 1e6).any()\n",
      "/usr/local/lib/python3.11/dist-packages/pandas/io/formats/format.py:1459: RuntimeWarning: invalid value encountered in less\n",
      "  has_small_values = ((abs_vals < 10 ** (-self.digits)) & (abs_vals > 0)).any()\n",
      "/usr/local/lib/python3.11/dist-packages/pandas/io/formats/format.py:1459: RuntimeWarning: invalid value encountered in greater\n",
      "  has_small_values = ((abs_vals < 10 ** (-self.digits)) & (abs_vals > 0)).any()\n",
      "/usr/local/lib/python3.11/dist-packages/pandas/io/formats/format.py:1458: RuntimeWarning: invalid value encountered in greater\n",
      "  has_large_values = (abs_vals > 1e6).any()\n",
      "/usr/local/lib/python3.11/dist-packages/pandas/io/formats/format.py:1459: RuntimeWarning: invalid value encountered in less\n",
      "  has_small_values = ((abs_vals < 10 ** (-self.digits)) & (abs_vals > 0)).any()\n",
      "/usr/local/lib/python3.11/dist-packages/pandas/io/formats/format.py:1459: RuntimeWarning: invalid value encountered in greater\n",
      "  has_small_values = ((abs_vals < 10 ** (-self.digits)) & (abs_vals > 0)).any()\n"
     ]
    },
    {
     "data": {
      "text/html": [
       "<div>\n",
       "<style scoped>\n",
       "    .dataframe tbody tr th:only-of-type {\n",
       "        vertical-align: middle;\n",
       "    }\n",
       "\n",
       "    .dataframe tbody tr th {\n",
       "        vertical-align: top;\n",
       "    }\n",
       "\n",
       "    .dataframe thead th {\n",
       "        text-align: right;\n",
       "    }\n",
       "</style>\n",
       "<table border=\"1\" class=\"dataframe\">\n",
       "  <thead>\n",
       "    <tr style=\"text-align: right;\">\n",
       "      <th></th>\n",
       "      <th>timestamp</th>\n",
       "      <th>date</th>\n",
       "      <th>hour</th>\n",
       "      <th>day_of_week</th>\n",
       "      <th>month</th>\n",
       "      <th>source</th>\n",
       "      <th>destination</th>\n",
       "      <th>ride_company</th>\n",
       "      <th>vehicle_id</th>\n",
       "      <th>vehicle</th>\n",
       "      <th>...</th>\n",
       "      <th>distance</th>\n",
       "      <th>surge_multiplier</th>\n",
       "      <th>fare</th>\n",
       "      <th>temperature_F</th>\n",
       "      <th>humidity</th>\n",
       "      <th>wind_speed</th>\n",
       "      <th>weather_desc_short</th>\n",
       "      <th>weather_desc_long</th>\n",
       "      <th>weather_status</th>\n",
       "      <th>pressure</th>\n",
       "    </tr>\n",
       "  </thead>\n",
       "  <tbody>\n",
       "    <tr>\n",
       "      <th>0</th>\n",
       "      <td>2018-11-26 03:40:46</td>\n",
       "      <td>2018-11-26</td>\n",
       "      <td>3</td>\n",
       "      <td>Monday</td>\n",
       "      <td>11</td>\n",
       "      <td>Boston University</td>\n",
       "      <td>Financial District</td>\n",
       "      <td>Lyft</td>\n",
       "      <td>lyft_lux</td>\n",
       "      <td>Lux Black</td>\n",
       "      <td>...</td>\n",
       "      <td>4.46</td>\n",
       "      <td>1.75</td>\n",
       "      <td>62.5</td>\n",
       "      <td>41.83</td>\n",
       "      <td>0.92</td>\n",
       "      <td>0.51</td>\n",
       "      <td>Foggy</td>\n",
       "      <td>Rain in the morning and afternoon.</td>\n",
       "      <td>fog</td>\n",
       "      <td>1014.10</td>\n",
       "    </tr>\n",
       "    <tr>\n",
       "      <th>1</th>\n",
       "      <td>2018-11-26 03:40:46</td>\n",
       "      <td>2018-11-26</td>\n",
       "      <td>3</td>\n",
       "      <td>Monday</td>\n",
       "      <td>11</td>\n",
       "      <td>Boston University</td>\n",
       "      <td>Financial District</td>\n",
       "      <td>Lyft</td>\n",
       "      <td>lyft_premier</td>\n",
       "      <td>Lux</td>\n",
       "      <td>...</td>\n",
       "      <td>4.46</td>\n",
       "      <td>1.75</td>\n",
       "      <td>47.5</td>\n",
       "      <td>41.83</td>\n",
       "      <td>0.92</td>\n",
       "      <td>0.51</td>\n",
       "      <td>Foggy</td>\n",
       "      <td>Rain in the morning and afternoon.</td>\n",
       "      <td>fog</td>\n",
       "      <td>1014.10</td>\n",
       "    </tr>\n",
       "    <tr>\n",
       "      <th>247</th>\n",
       "      <td>2018-11-26 04:43:18</td>\n",
       "      <td>2018-11-26</td>\n",
       "      <td>4</td>\n",
       "      <td>Monday</td>\n",
       "      <td>11</td>\n",
       "      <td>Financial District</td>\n",
       "      <td>Fenway</td>\n",
       "      <td>Lyft</td>\n",
       "      <td>lyft_luxsuv</td>\n",
       "      <td>Lux Black XL</td>\n",
       "      <td>...</td>\n",
       "      <td>4.55</td>\n",
       "      <td>1.50</td>\n",
       "      <td>62.5</td>\n",
       "      <td>41.52</td>\n",
       "      <td>0.90</td>\n",
       "      <td>0.45</td>\n",
       "      <td>Overcast</td>\n",
       "      <td>Rain in the morning and afternoon.</td>\n",
       "      <td>cloudy</td>\n",
       "      <td>1014.06</td>\n",
       "    </tr>\n",
       "    <tr>\n",
       "      <th>288</th>\n",
       "      <td>2018-11-26 04:43:20</td>\n",
       "      <td>2018-11-26</td>\n",
       "      <td>4</td>\n",
       "      <td>Monday</td>\n",
       "      <td>11</td>\n",
       "      <td>Boston University</td>\n",
       "      <td>Financial District</td>\n",
       "      <td>Uber</td>\n",
       "      <td>6d318bcc-22a3-4af6-bddd-b409bfce1546</td>\n",
       "      <td>Black SUV</td>\n",
       "      <td>...</td>\n",
       "      <td>4.72</td>\n",
       "      <td>1.00</td>\n",
       "      <td>43.5</td>\n",
       "      <td>41.52</td>\n",
       "      <td>0.90</td>\n",
       "      <td>0.45</td>\n",
       "      <td>Overcast !!</td>\n",
       "      <td>Rain in the morning and afternoon.</td>\n",
       "      <td>cloudy</td>\n",
       "      <td>1014.06</td>\n",
       "    </tr>\n",
       "    <tr>\n",
       "      <th>484</th>\n",
       "      <td>2018-11-26 05:03:01</td>\n",
       "      <td>2018-11-26</td>\n",
       "      <td>5</td>\n",
       "      <td>Monday</td>\n",
       "      <td>11</td>\n",
       "      <td>Fenway</td>\n",
       "      <td>Financial District</td>\n",
       "      <td>Uber</td>\n",
       "      <td>6d318bcc-22a3-4af6-bddd-b409bfce1546</td>\n",
       "      <td>Black SUV</td>\n",
       "      <td>...</td>\n",
       "      <td>7.19</td>\n",
       "      <td>1.00</td>\n",
       "      <td>48.0</td>\n",
       "      <td>NaN</td>\n",
       "      <td>0.91</td>\n",
       "      <td>0.53</td>\n",
       "      <td>Overcast</td>\n",
       "      <td>Rain until morning, starting again in the eve...</td>\n",
       "      <td>cloudy</td>\n",
       "      <td>1014.11</td>\n",
       "    </tr>\n",
       "  </tbody>\n",
       "</table>\n",
       "<p>5 rows × 23 columns</p>\n",
       "</div>"
      ],
      "text/plain": [
       "              timestamp        date  hour day_of_week  month  \\\n",
       "0   2018-11-26 03:40:46  2018-11-26     3      Monday     11   \n",
       "1   2018-11-26 03:40:46  2018-11-26     3      Monday     11   \n",
       "247 2018-11-26 04:43:18  2018-11-26     4      Monday     11   \n",
       "288 2018-11-26 04:43:20  2018-11-26     4      Monday     11   \n",
       "484 2018-11-26 05:03:01  2018-11-26     5      Monday     11   \n",
       "\n",
       "                 source         destination ride_company  \\\n",
       "0     Boston University  Financial District         Lyft   \n",
       "1     Boston University  Financial District         Lyft   \n",
       "247  Financial District              Fenway         Lyft   \n",
       "288   Boston University  Financial District         Uber   \n",
       "484              Fenway  Financial District         Uber   \n",
       "\n",
       "                               vehicle_id       vehicle  ...  distance  \\\n",
       "0                                lyft_lux     Lux Black  ...      4.46   \n",
       "1                            lyft_premier           Lux  ...      4.46   \n",
       "247                           lyft_luxsuv  Lux Black XL  ...      4.55   \n",
       "288  6d318bcc-22a3-4af6-bddd-b409bfce1546     Black SUV  ...      4.72   \n",
       "484  6d318bcc-22a3-4af6-bddd-b409bfce1546     Black SUV  ...      7.19   \n",
       "\n",
       "     surge_multiplier  fare  temperature_F  humidity  wind_speed  \\\n",
       "0                1.75  62.5          41.83      0.92        0.51   \n",
       "1                1.75  47.5          41.83      0.92        0.51   \n",
       "247              1.50  62.5          41.52      0.90        0.45   \n",
       "288              1.00  43.5          41.52      0.90        0.45   \n",
       "484              1.00  48.0            NaN      0.91        0.53   \n",
       "\n",
       "     weather_desc_short                                  weather_desc_long  \\\n",
       "0                Foggy                 Rain in the morning and afternoon.    \n",
       "1                Foggy                 Rain in the morning and afternoon.    \n",
       "247           Overcast                 Rain in the morning and afternoon.    \n",
       "288         Overcast !!                Rain in the morning and afternoon.    \n",
       "484           Overcast    Rain until morning, starting again in the eve...   \n",
       "\n",
       "     weather_status pressure  \n",
       "0              fog   1014.10  \n",
       "1              fog   1014.10  \n",
       "247         cloudy   1014.06  \n",
       "288         cloudy   1014.06  \n",
       "484         cloudy   1014.11  \n",
       "\n",
       "[5 rows x 23 columns]"
      ]
     },
     "execution_count": 25,
     "metadata": {},
     "output_type": "execute_result"
    }
   ],
   "source": [
    "df[(df[\"fare\"]>fare_thres_iqr) & (df[\"fare\"]<fare_thres_vis)].head()"
   ]
  },
  {
   "cell_type": "code",
   "execution_count": 26,
   "id": "c4502dd7",
   "metadata": {
    "execution": {
     "iopub.execute_input": "2025-06-16T10:27:18.136797Z",
     "iopub.status.busy": "2025-06-16T10:27:18.136480Z",
     "iopub.status.idle": "2025-06-16T10:27:18.177481Z",
     "shell.execute_reply": "2025-06-16T10:27:18.176375Z"
    },
    "papermill": {
     "duration": 0.063643,
     "end_time": "2025-06-16T10:27:18.178967",
     "exception": false,
     "start_time": "2025-06-16T10:27:18.115324",
     "status": "completed"
    },
    "tags": []
   },
   "outputs": [
    {
     "name": "stdout",
     "output_type": "stream",
     "text": [
      "Lux Black: 562,    3.7037137681159424\n",
      "Lux: 115,    4.157767857142857\n",
      "Lux Black XL: 3263,    4.156019177234766\n",
      "Black SUV: 1346,    6.286624251497006\n",
      "Shared: 47,    1.9780851063829783\n",
      "Black: 77,    7.721447368421055\n",
      "UberXL: 60,    5.42135593220339\n",
      "Lyft XL: 42,    5.860238095238095\n",
      "UberX: 1,    4.41\n",
      "WAV: 1,    4.41\n"
     ]
    }
   ],
   "source": [
    "temp_df = df[((df[\"fare\"]>fare_thres_iqr) & (df[\"fare\"]<fare_thres_vis))]\n",
    "\n",
    "# Print total number of high-fare rides and their average distance for each vehicle category\n",
    "for vehicle in temp_df[\"vehicle\"].unique():\n",
    "    print(f\"{vehicle}: {len( temp_df[temp_df['vehicle']==vehicle] )},    {temp_df[temp_df['vehicle']==vehicle] ['distance'].mean()}\")"
   ]
  },
  {
   "cell_type": "markdown",
   "id": "69953f0c",
   "metadata": {
    "papermill": {
     "duration": 0.020829,
     "end_time": "2025-06-16T10:27:18.219660",
     "exception": false,
     "start_time": "2025-06-16T10:27:18.198831",
     "status": "completed"
    },
    "tags": []
   },
   "source": [
    "#### We examined the number of rides and the average distance traveled for each vehicle type within a high-fare range (identified using both IQR and visualization thresholds). As expected, luxury vehicles such as Lux Black, Lux Black XL, Black SUV, and Black show a significant number of rides and higher average distances (ranging from ~3.7 to ~7.7 miles), which reasonably explains their higher fare values.\n",
    "\n",
    "#### However, Shared rides deviate from this trend. Despite being designed as a low-cost, shared service, they appear in the high-fare range with an average distance of only ~2 miles. This contradicts the pricing model expected for shared rides and suggests that these are likely anomalies. Therefore, we will replace these entries with a better representative."
   ]
  },
  {
   "cell_type": "code",
   "execution_count": 27,
   "id": "785cba09",
   "metadata": {
    "execution": {
     "iopub.execute_input": "2025-06-16T10:27:18.274861Z",
     "iopub.status.busy": "2025-06-16T10:27:18.274174Z",
     "iopub.status.idle": "2025-06-16T10:27:18.322461Z",
     "shell.execute_reply": "2025-06-16T10:27:18.321194Z"
    },
    "papermill": {
     "duration": 0.080158,
     "end_time": "2025-06-16T10:27:18.324628",
     "exception": false,
     "start_time": "2025-06-16T10:27:18.244470",
     "status": "completed"
    },
    "tags": []
   },
   "outputs": [
    {
     "data": {
      "text/plain": [
       "array(['Boston University', 'North Station', 'Northeastern University',\n",
       "       'Theatre District', 'Beacon Hill', 'South Station', 'North End',\n",
       "       'Fenway', 'Back Bay', 'West End', 'Haymarket Square',\n",
       "       'Financial District'], dtype=object)"
      ]
     },
     "execution_count": 27,
     "metadata": {},
     "output_type": "execute_result"
    }
   ],
   "source": [
    "df[\"source\"].unique()"
   ]
  },
  {
   "cell_type": "code",
   "execution_count": 28,
   "id": "40360c34",
   "metadata": {
    "execution": {
     "iopub.execute_input": "2025-06-16T10:27:18.376038Z",
     "iopub.status.busy": "2025-06-16T10:27:18.375638Z",
     "iopub.status.idle": "2025-06-16T10:27:18.437611Z",
     "shell.execute_reply": "2025-06-16T10:27:18.436627Z"
    },
    "papermill": {
     "duration": 0.086376,
     "end_time": "2025-06-16T10:27:18.439506",
     "exception": false,
     "start_time": "2025-06-16T10:27:18.353130",
     "status": "completed"
    },
    "tags": []
   },
   "outputs": [
    {
     "data": {
      "text/plain": [
       "array(['Financial District', 'Fenway', 'Theatre District', 'Beacon Hill',\n",
       "       'Boston University', 'Northeastern University', 'North End',\n",
       "       'Haymarket Square', 'West End', 'Back Bay', 'North Station',\n",
       "       'South Station'], dtype=object)"
      ]
     },
     "execution_count": 28,
     "metadata": {},
     "output_type": "execute_result"
    }
   ],
   "source": [
    "df[\"destination\"].unique()"
   ]
  },
  {
   "cell_type": "code",
   "execution_count": 29,
   "id": "09ae1e6c",
   "metadata": {
    "execution": {
     "iopub.execute_input": "2025-06-16T10:27:18.487648Z",
     "iopub.status.busy": "2025-06-16T10:27:18.487190Z",
     "iopub.status.idle": "2025-06-16T10:27:18.666449Z",
     "shell.execute_reply": "2025-06-16T10:27:18.665493Z"
    },
    "papermill": {
     "duration": 0.202585,
     "end_time": "2025-06-16T10:27:18.668072",
     "exception": false,
     "start_time": "2025-06-16T10:27:18.465487",
     "status": "completed"
    },
    "tags": []
   },
   "outputs": [
    {
     "data": {
      "text/html": [
       "<div>\n",
       "<style scoped>\n",
       "    .dataframe tbody tr th:only-of-type {\n",
       "        vertical-align: middle;\n",
       "    }\n",
       "\n",
       "    .dataframe tbody tr th {\n",
       "        vertical-align: top;\n",
       "    }\n",
       "\n",
       "    .dataframe thead th {\n",
       "        text-align: right;\n",
       "    }\n",
       "</style>\n",
       "<table border=\"1\" class=\"dataframe\">\n",
       "  <thead>\n",
       "    <tr style=\"text-align: right;\">\n",
       "      <th></th>\n",
       "      <th>source</th>\n",
       "      <th>destination</th>\n",
       "      <th>vehicle</th>\n",
       "    </tr>\n",
       "  </thead>\n",
       "  <tbody>\n",
       "    <tr>\n",
       "      <th>0</th>\n",
       "      <td>Boston University</td>\n",
       "      <td>Financial District</td>\n",
       "      <td>Lux Black</td>\n",
       "    </tr>\n",
       "    <tr>\n",
       "      <th>1</th>\n",
       "      <td>Boston University</td>\n",
       "      <td>Financial District</td>\n",
       "      <td>Lux</td>\n",
       "    </tr>\n",
       "    <tr>\n",
       "      <th>2</th>\n",
       "      <td>North Station</td>\n",
       "      <td>Fenway</td>\n",
       "      <td>WAV</td>\n",
       "    </tr>\n",
       "    <tr>\n",
       "      <th>3</th>\n",
       "      <td>Boston University</td>\n",
       "      <td>Theatre District</td>\n",
       "      <td>Lux Black XL</td>\n",
       "    </tr>\n",
       "    <tr>\n",
       "      <th>4</th>\n",
       "      <td>Northeastern University</td>\n",
       "      <td>Beacon Hill</td>\n",
       "      <td>Lyft</td>\n",
       "    </tr>\n",
       "    <tr>\n",
       "      <th>...</th>\n",
       "      <td>...</td>\n",
       "      <td>...</td>\n",
       "      <td>...</td>\n",
       "    </tr>\n",
       "    <tr>\n",
       "      <th>4386</th>\n",
       "      <td>Fenway</td>\n",
       "      <td>Theatre District</td>\n",
       "      <td>Lux Black</td>\n",
       "    </tr>\n",
       "    <tr>\n",
       "      <th>5320</th>\n",
       "      <td>Boston University</td>\n",
       "      <td>Theatre District</td>\n",
       "      <td>UberXL</td>\n",
       "    </tr>\n",
       "    <tr>\n",
       "      <th>5525</th>\n",
       "      <td>Beacon Hill</td>\n",
       "      <td>Northeastern University</td>\n",
       "      <td>Lux Black XL</td>\n",
       "    </tr>\n",
       "    <tr>\n",
       "      <th>5676</th>\n",
       "      <td>Beacon Hill</td>\n",
       "      <td>Northeastern University</td>\n",
       "      <td>Shared</td>\n",
       "    </tr>\n",
       "    <tr>\n",
       "      <th>5712</th>\n",
       "      <td>Boston University</td>\n",
       "      <td>North Station</td>\n",
       "      <td>Lyft</td>\n",
       "    </tr>\n",
       "  </tbody>\n",
       "</table>\n",
       "<p>864 rows × 3 columns</p>\n",
       "</div>"
      ],
      "text/plain": [
       "                       source              destination       vehicle\n",
       "0           Boston University       Financial District     Lux Black\n",
       "1           Boston University       Financial District           Lux\n",
       "2               North Station                   Fenway           WAV\n",
       "3           Boston University         Theatre District  Lux Black XL\n",
       "4     Northeastern University              Beacon Hill          Lyft\n",
       "...                       ...                      ...           ...\n",
       "4386                   Fenway         Theatre District     Lux Black\n",
       "5320        Boston University         Theatre District        UberXL\n",
       "5525              Beacon Hill  Northeastern University  Lux Black XL\n",
       "5676              Beacon Hill  Northeastern University        Shared\n",
       "5712        Boston University            North Station          Lyft\n",
       "\n",
       "[864 rows x 3 columns]"
      ]
     },
     "execution_count": 29,
     "metadata": {},
     "output_type": "execute_result"
    }
   ],
   "source": [
    "df[[\"source\",\"destination\",\"vehicle\"]].drop_duplicates()"
   ]
  },
  {
   "cell_type": "markdown",
   "id": "26f591d6",
   "metadata": {
    "execution": {
     "iopub.execute_input": "2025-06-11T15:41:28.220109Z",
     "iopub.status.busy": "2025-06-11T15:41:28.219776Z",
     "iopub.status.idle": "2025-06-11T15:41:28.226530Z",
     "shell.execute_reply": "2025-06-11T15:41:28.225393Z",
     "shell.execute_reply.started": "2025-06-11T15:41:28.220087Z"
    },
    "papermill": {
     "duration": 0.020331,
     "end_time": "2025-06-16T10:27:18.709708",
     "exception": false,
     "start_time": "2025-06-16T10:27:18.689377",
     "status": "completed"
    },
    "tags": []
   },
   "source": [
    "#### Pickup and dropoff locations are all in Boston and they are just 12 unique location. And, ride type also influences the price. So, we took unique combinations of these 3 feature. We will calculate the avg fare of these unique combinations and impute that to the outliers. Also, the imputed fare will be rounded to multiple of 0.5 as the actual fare is multiple of 0.5."
   ]
  },
  {
   "cell_type": "code",
   "execution_count": 30,
   "id": "a525d22e",
   "metadata": {
    "execution": {
     "iopub.execute_input": "2025-06-16T10:27:18.762489Z",
     "iopub.status.busy": "2025-06-16T10:27:18.761368Z",
     "iopub.status.idle": "2025-06-16T10:27:29.597376Z",
     "shell.execute_reply": "2025-06-16T10:27:29.596247Z"
    },
    "papermill": {
     "duration": 10.868269,
     "end_time": "2025-06-16T10:27:29.599212",
     "exception": false,
     "start_time": "2025-06-16T10:27:18.730943",
     "status": "completed"
    },
    "tags": []
   },
   "outputs": [],
   "source": [
    "# Define a function to round any value to the nearest 0.5\n",
    "def round_to_nearest_half(x):\n",
    "    return round(x * 2) / 2\n",
    "\n",
    "# Calculate mean fare (<= threshold) for each (source, destination, vehicle) group\n",
    "group_means = df[df[\"fare\"] <= fare_thres_vis].groupby(\n",
    "    [\"source\", \"destination\", \"vehicle\"]\n",
    ")[\"fare\"].mean()\n",
    "\n",
    "# Replace outlier fares (> threshold) with the corresponding group mean (rounded to nearest 0.5)\n",
    "df.loc[df[\"fare\"] > fare_thres_vis, \"fare\"] = df[df[\"fare\"] > fare_thres_vis].apply(\n",
    "    lambda row: round_to_nearest_half(\n",
    "        group_means.get(\n",
    "            (row[\"source\"], row[\"destination\"], row[\"vehicle\"]),\n",
    "            df[\"fare\"].mean()\n",
    "        )\n",
    "    ),\n",
    "    axis=1\n",
    ")\n",
    "\n",
    "# Filter shared rides\n",
    "shared_ride_df = df[df[\"vehicle\"] == 'Shared']\n",
    "\n",
    "# Calculate group-wise mean fare (excluding outliers) for shared rides\n",
    "shared_ride_mean = shared_ride_df[shared_ride_df[\"fare\"] < fare_thres_iqr].groupby(\n",
    "    [\"source\", \"destination\"]\n",
    ")[\"fare\"].mean()\n",
    "\n",
    "# Replace shared ride outlier fares with corresponding group mean (rounded)\n",
    "shared_ride_df.loc[shared_ride_df[\"fare\"] > fare_thres_iqr, \"fare\"] = shared_ride_df[shared_ride_df[\"fare\"] > fare_thres_iqr].apply(\n",
    "    lambda row: round_to_nearest_half(\n",
    "        shared_ride_mean.get(\n",
    "            (row[\"source\"], row[\"destination\"]),\n",
    "            df[\"fare\"].mean()\n",
    "        )\n",
    "    ),\n",
    "    axis=1\n",
    ")\n",
    "\n",
    "# Update the original DataFrame with the cleaned shared ride fares\n",
    "df.loc[df[\"vehicle\"] == \"Shared\", \"fare\"] = shared_ride_df[\"fare\"]\n"
   ]
  },
  {
   "cell_type": "code",
   "execution_count": 31,
   "id": "ae495f83",
   "metadata": {
    "execution": {
     "iopub.execute_input": "2025-06-16T10:27:29.642497Z",
     "iopub.status.busy": "2025-06-16T10:27:29.642163Z",
     "iopub.status.idle": "2025-06-16T10:27:29.680826Z",
     "shell.execute_reply": "2025-06-16T10:27:29.679798Z"
    },
    "papermill": {
     "duration": 0.062001,
     "end_time": "2025-06-16T10:27:29.682295",
     "exception": false,
     "start_time": "2025-06-16T10:27:29.620294",
     "status": "completed"
    },
    "tags": []
   },
   "outputs": [
    {
     "name": "stdout",
     "output_type": "stream",
     "text": [
      "Null Values in fare column:  0\n"
     ]
    },
    {
     "data": {
      "text/plain": [
       "count    637194.000000\n",
       "mean         16.544011\n",
       "std           9.306944\n",
       "min           2.500000\n",
       "25%           9.000000\n",
       "50%          13.500000\n",
       "75%          22.500000\n",
       "max          80.000000\n",
       "Name: fare, dtype: float64"
      ]
     },
     "execution_count": 31,
     "metadata": {},
     "output_type": "execute_result"
    }
   ],
   "source": [
    "print(\"Null Values in fare column: \", df[\"fare\"].isnull().sum())\n",
    "df[\"fare\"].describe()"
   ]
  },
  {
   "cell_type": "markdown",
   "id": "6cece3ac",
   "metadata": {
    "papermill": {
     "duration": 0.020239,
     "end_time": "2025-06-16T10:27:29.723490",
     "exception": false,
     "start_time": "2025-06-16T10:27:29.703251",
     "status": "completed"
    },
    "tags": []
   },
   "source": [
    "Max is 97.5. So, outliers removed."
   ]
  },
  {
   "cell_type": "markdown",
   "id": "6098319e",
   "metadata": {
    "execution": {
     "iopub.execute_input": "2025-06-10T18:57:17.651767Z",
     "iopub.status.busy": "2025-06-10T18:57:17.651294Z",
     "iopub.status.idle": "2025-06-10T18:57:17.663015Z",
     "shell.execute_reply": "2025-06-10T18:57:17.660991Z",
     "shell.execute_reply.started": "2025-06-10T18:57:17.651735Z"
    },
    "papermill": {
     "duration": 0.020044,
     "end_time": "2025-06-16T10:27:29.763866",
     "exception": false,
     "start_time": "2025-06-16T10:27:29.743822",
     "status": "completed"
    },
    "tags": []
   },
   "source": [
    "### **Handling Outliers and Missing Values in Distance Column**\n",
    "\n",
    "#### The distance column contains approximately 1% missing values. We will impute the missing values using geographical distance between pickup and drop-off locations based on the Haversine formula.\n",
    "\n"
   ]
  },
  {
   "cell_type": "code",
   "execution_count": 32,
   "id": "11287549",
   "metadata": {
    "execution": {
     "iopub.execute_input": "2025-06-16T10:27:29.808029Z",
     "iopub.status.busy": "2025-06-16T10:27:29.807637Z",
     "iopub.status.idle": "2025-06-16T10:27:29.852519Z",
     "shell.execute_reply": "2025-06-16T10:27:29.851516Z"
    },
    "papermill": {
     "duration": 0.069605,
     "end_time": "2025-06-16T10:27:29.854136",
     "exception": false,
     "start_time": "2025-06-16T10:27:29.784531",
     "status": "completed"
    },
    "tags": []
   },
   "outputs": [
    {
     "name": "stdout",
     "output_type": "stream",
     "text": [
      "Null Values:  6376\n"
     ]
    },
    {
     "data": {
      "text/plain": [
       "count    630818.000000\n",
       "mean          2.400986\n",
       "std           3.589143\n",
       "min           0.020000\n",
       "25%           1.280000\n",
       "50%           2.170000\n",
       "75%           2.950000\n",
       "max         149.200000\n",
       "Name: distance, dtype: float64"
      ]
     },
     "execution_count": 32,
     "metadata": {},
     "output_type": "execute_result"
    }
   ],
   "source": [
    "print(\"Null Values: \",df[\"distance\"].isnull().sum())\n",
    "df[\"distance\"].describe()"
   ]
  },
  {
   "cell_type": "code",
   "execution_count": 33,
   "id": "1f494d78",
   "metadata": {
    "execution": {
     "iopub.execute_input": "2025-06-16T10:27:29.898877Z",
     "iopub.status.busy": "2025-06-16T10:27:29.898545Z",
     "iopub.status.idle": "2025-06-16T10:27:29.933939Z",
     "shell.execute_reply": "2025-06-16T10:27:29.932951Z"
    },
    "papermill": {
     "duration": 0.059623,
     "end_time": "2025-06-16T10:27:29.935502",
     "exception": false,
     "start_time": "2025-06-16T10:27:29.875879",
     "status": "completed"
    },
    "tags": []
   },
   "outputs": [
    {
     "name": "stdout",
     "output_type": "stream",
     "text": [
      "6.13\n"
     ]
    },
    {
     "name": "stderr",
     "output_type": "stream",
     "text": [
      "/usr/local/lib/python3.11/dist-packages/pandas/core/computation/expressions.py:73: RuntimeWarning: invalid value encountered in greater\n",
      "  return op(a, b)\n"
     ]
    },
    {
     "data": {
      "text/html": [
       "<div>\n",
       "<style scoped>\n",
       "    .dataframe tbody tr th:only-of-type {\n",
       "        vertical-align: middle;\n",
       "    }\n",
       "\n",
       "    .dataframe tbody tr th {\n",
       "        vertical-align: top;\n",
       "    }\n",
       "\n",
       "    .dataframe thead th {\n",
       "        text-align: right;\n",
       "    }\n",
       "</style>\n",
       "<table border=\"1\" class=\"dataframe\">\n",
       "  <thead>\n",
       "    <tr style=\"text-align: right;\">\n",
       "      <th></th>\n",
       "      <th>fare</th>\n",
       "      <th>distance</th>\n",
       "    </tr>\n",
       "  </thead>\n",
       "  <tbody>\n",
       "    <tr>\n",
       "      <th>25</th>\n",
       "      <td>18.0</td>\n",
       "      <td>67.80</td>\n",
       "    </tr>\n",
       "    <tr>\n",
       "      <th>40</th>\n",
       "      <td>34.0</td>\n",
       "      <td>6.26</td>\n",
       "    </tr>\n",
       "    <tr>\n",
       "      <th>153</th>\n",
       "      <td>36.0</td>\n",
       "      <td>6.91</td>\n",
       "    </tr>\n",
       "    <tr>\n",
       "      <th>319</th>\n",
       "      <td>8.0</td>\n",
       "      <td>32.20</td>\n",
       "    </tr>\n",
       "    <tr>\n",
       "      <th>418</th>\n",
       "      <td>22.5</td>\n",
       "      <td>53.60</td>\n",
       "    </tr>\n",
       "    <tr>\n",
       "      <th>428</th>\n",
       "      <td>22.0</td>\n",
       "      <td>60.80</td>\n",
       "    </tr>\n",
       "    <tr>\n",
       "      <th>484</th>\n",
       "      <td>48.0</td>\n",
       "      <td>7.19</td>\n",
       "    </tr>\n",
       "  </tbody>\n",
       "</table>\n",
       "</div>"
      ],
      "text/plain": [
       "     fare  distance\n",
       "25   18.0     67.80\n",
       "40   34.0      6.26\n",
       "153  36.0      6.91\n",
       "319   8.0     32.20\n",
       "418  22.5     53.60\n",
       "428  22.0     60.80\n",
       "484  48.0      7.19"
      ]
     },
     "execution_count": 33,
     "metadata": {},
     "output_type": "execute_result"
    }
   ],
   "source": [
    "dist_threshold = df[\"distance\"].quantile(0.99)\n",
    "print(dist_threshold)\n",
    "df[df[\"distance\"]>dist_threshold][[\"fare\",\"distance\"]].head(7)"
   ]
  },
  {
   "cell_type": "code",
   "execution_count": 34,
   "id": "7427aa34",
   "metadata": {
    "execution": {
     "iopub.execute_input": "2025-06-16T10:27:29.980695Z",
     "iopub.status.busy": "2025-06-16T10:27:29.980335Z",
     "iopub.status.idle": "2025-06-16T10:27:30.009677Z",
     "shell.execute_reply": "2025-06-16T10:27:30.008713Z"
    },
    "papermill": {
     "duration": 0.053413,
     "end_time": "2025-06-16T10:27:30.011210",
     "exception": false,
     "start_time": "2025-06-16T10:27:29.957797",
     "status": "completed"
    },
    "tags": []
   },
   "outputs": [
    {
     "name": "stderr",
     "output_type": "stream",
     "text": [
      "/usr/local/lib/python3.11/dist-packages/pandas/core/computation/expressions.py:73: RuntimeWarning: invalid value encountered in greater\n",
      "  return op(a, b)\n"
     ]
    },
    {
     "data": {
      "text/plain": [
       "0.8315844392421478"
      ]
     },
     "execution_count": 34,
     "metadata": {},
     "output_type": "execute_result"
    }
   ],
   "source": [
    "df[df[\"distance\"]>dist_threshold][\"fare\"].sum() / df[df[\"distance\"]>dist_threshold][\"distance\"].sum()"
   ]
  },
  {
   "cell_type": "code",
   "execution_count": 35,
   "id": "97701977",
   "metadata": {
    "execution": {
     "iopub.execute_input": "2025-06-16T10:27:30.055034Z",
     "iopub.status.busy": "2025-06-16T10:27:30.054677Z",
     "iopub.status.idle": "2025-06-16T10:27:30.363122Z",
     "shell.execute_reply": "2025-06-16T10:27:30.361897Z"
    },
    "papermill": {
     "duration": 0.332207,
     "end_time": "2025-06-16T10:27:30.364800",
     "exception": false,
     "start_time": "2025-06-16T10:27:30.032593",
     "status": "completed"
    },
    "tags": []
   },
   "outputs": [
    {
     "name": "stderr",
     "output_type": "stream",
     "text": [
      "/usr/local/lib/python3.11/dist-packages/pandas/core/computation/expressions.py:73: RuntimeWarning: invalid value encountered in less\n",
      "  return op(a, b)\n"
     ]
    },
    {
     "data": {
      "text/plain": [
       "7.6187959442892605"
      ]
     },
     "execution_count": 35,
     "metadata": {},
     "output_type": "execute_result"
    }
   ],
   "source": [
    "df[df[\"distance\"]<dist_threshold][\"fare\"].sum() / df[df[\"distance\"]<dist_threshold][\"distance\"].sum()"
   ]
  },
  {
   "cell_type": "markdown",
   "id": "7b72a5e7",
   "metadata": {
    "papermill": {
     "duration": 0.02151,
     "end_time": "2025-06-16T10:27:30.407864",
     "exception": false,
     "start_time": "2025-06-16T10:27:30.386354",
     "status": "completed"
    },
    "tags": []
   },
   "source": [
    "A temp_df is created to store non null value of distance and visualize the data distribution."
   ]
  },
  {
   "cell_type": "code",
   "execution_count": 36,
   "id": "f9021f67",
   "metadata": {
    "execution": {
     "iopub.execute_input": "2025-06-16T10:27:30.455122Z",
     "iopub.status.busy": "2025-06-16T10:27:30.454793Z",
     "iopub.status.idle": "2025-06-16T10:27:34.090257Z",
     "shell.execute_reply": "2025-06-16T10:27:34.089319Z"
    },
    "papermill": {
     "duration": 3.662829,
     "end_time": "2025-06-16T10:27:34.092100",
     "exception": false,
     "start_time": "2025-06-16T10:27:30.429271",
     "status": "completed"
    },
    "tags": []
   },
   "outputs": [
    {
     "name": "stderr",
     "output_type": "stream",
     "text": [
      "/usr/local/lib/python3.11/dist-packages/seaborn/_oldcore.py:1119: FutureWarning: use_inf_as_na option is deprecated and will be removed in a future version. Convert inf values to NaN before operating instead.\n",
      "  with pd.option_context('mode.use_inf_as_na', True):\n"
     ]
    },
    {
     "data": {
      "image/png": "[encoded data removed]",
      "text/plain": [
       "<Figure size 1800x1200 with 3 Axes>"
      ]
     },
     "metadata": {},
     "output_type": "display_data"
    }
   ],
   "source": [
    "temp_df = df[~df[\"distance\"].isna()][\"distance\"]\n",
    "\n",
    "plt.figure(figsize=(18,12))\n",
    "plt.subplot(2,2,1)\n",
    "plt.boxplot(temp_df)\n",
    "plt.title(\"Box Plot distribution of distance\")\n",
    "\n",
    "plt.subplot(2,2,2)\n",
    "plt.boxplot(temp_df[temp_df<10])\n",
    "plt.title(\"Box Plot distribution for distance<10\")\n",
    "\n",
    "plt.subplot(2,2,3)\n",
    "sns.histplot(temp_df, bins=100, kde=True)\n",
    "plt.title(\"Histogram distribution for distance\")\n",
    "plt.show()\n",
    "\n",
    "del temp_df"
   ]
  },
  {
   "cell_type": "markdown",
   "id": "22193321",
   "metadata": {
    "papermill": {
     "duration": 0.022655,
     "end_time": "2025-06-16T10:27:34.137741",
     "exception": false,
     "start_time": "2025-06-16T10:27:34.115086",
     "status": "completed"
    },
    "tags": []
   },
   "source": [
    "75th and 99th percentile data is 2.95 and 6.13 respectively. 149.2 being the max number clearly shows presence of outliers as all the rides was inside Boston city.\n",
    "when distance is > 6.13(99th percentile value), price to distance ratio is 0.72, while ratio of 7.58 is seen in the opposite case. As, price didn't increase proportionally with distance, it tells us that those distances are outliers. And, the box plots also say the same.\n",
    "We will replace both the outliers and missing value in same method. As, there are only 12 unique locations and 72 unique combinations of pickup location and dropoff location. We will calculate the avg distance of those unique combinations and impute the value to missing value and outliers."
   ]
  },
  {
   "cell_type": "code",
   "execution_count": 37,
   "id": "3f42b04e",
   "metadata": {
    "execution": {
     "iopub.execute_input": "2025-06-16T10:27:34.185566Z",
     "iopub.status.busy": "2025-06-16T10:27:34.185224Z",
     "iopub.status.idle": "2025-06-16T10:27:34.193409Z",
     "shell.execute_reply": "2025-06-16T10:27:34.192310Z"
    },
    "papermill": {
     "duration": 0.033748,
     "end_time": "2025-06-16T10:27:34.195044",
     "exception": false,
     "start_time": "2025-06-16T10:27:34.161296",
     "status": "completed"
    },
    "tags": []
   },
   "outputs": [
    {
     "name": "stderr",
     "output_type": "stream",
     "text": [
      "/usr/local/lib/python3.11/dist-packages/pandas/core/computation/expressions.py:73: RuntimeWarning: invalid value encountered in greater\n",
      "  return op(a, b)\n"
     ]
    }
   ],
   "source": [
    "df.loc[df[\"distance\"]>dist_threshold, \"distance\"] = np.nan"
   ]
  },
  {
   "cell_type": "markdown",
   "id": "c80199d8",
   "metadata": {
    "papermill": {
     "duration": 0.022635,
     "end_time": "2025-06-16T10:27:34.240876",
     "exception": false,
     "start_time": "2025-06-16T10:27:34.218241",
     "status": "completed"
    },
    "tags": []
   },
   "source": [
    "We replaced the outliers with NaN and now all the missing values will be replaced by avg distance of the pickup and dropoff location."
   ]
  },
  {
   "cell_type": "code",
   "execution_count": 38,
   "id": "337e3f4b",
   "metadata": {
    "execution": {
     "iopub.execute_input": "2025-06-16T10:27:34.289923Z",
     "iopub.status.busy": "2025-06-16T10:27:34.288995Z",
     "iopub.status.idle": "2025-06-16T10:28:44.583141Z",
     "shell.execute_reply": "2025-06-16T10:28:44.582194Z"
    },
    "papermill": {
     "duration": 70.343052,
     "end_time": "2025-06-16T10:28:44.607228",
     "exception": false,
     "start_time": "2025-06-16T10:27:34.264176",
     "status": "completed"
    },
    "tags": []
   },
   "outputs": [
    {
     "data": {
      "text/plain": [
       "0"
      ]
     },
     "execution_count": 38,
     "metadata": {},
     "output_type": "execute_result"
    }
   ],
   "source": [
    "# Group mean distances by source and destination\n",
    "group_means = df.groupby([\"source\", \"destination\"])[\"distance\"].mean()\n",
    "\n",
    "# Replace NaN distances with the group mean or overall mean if group not found\n",
    "df[\"distance\"] = df.apply( lambda row: group_means.get((row[\"source\"], row[\"distance\"]), df['distance'].mean()) if pd.isna(row[\"distance\"]) else row[\"distance\"], axis=1)\n",
    "\n",
    "df[\"distance\"].isnull().sum()"
   ]
  },
  {
   "cell_type": "code",
   "execution_count": 39,
   "id": "7181f48b",
   "metadata": {
    "execution": {
     "iopub.execute_input": "2025-06-16T10:28:44.654548Z",
     "iopub.status.busy": "2025-06-16T10:28:44.654026Z",
     "iopub.status.idle": "2025-06-16T10:28:44.740495Z",
     "shell.execute_reply": "2025-06-16T10:28:44.739480Z"
    },
    "papermill": {
     "duration": 0.111973,
     "end_time": "2025-06-16T10:28:44.741891",
     "exception": false,
     "start_time": "2025-06-16T10:28:44.629918",
     "status": "completed"
    },
    "tags": []
   },
   "outputs": [
    {
     "name": "stdout",
     "output_type": "stream",
     "text": [
      "                fare       distance\n",
      "count  637194.000000  637194.000000\n",
      "mean       16.544011       2.165190\n",
      "std         9.306944       1.074128\n",
      "min         2.500000       0.020000\n",
      "25%         9.000000       1.300000\n",
      "50%        13.500000       2.165190\n",
      "75%        22.500000       2.880000\n",
      "max        80.000000       6.130000\n"
     ]
    },
    {
     "data": {
      "text/plain": [
       "fare        0\n",
       "distance    0\n",
       "dtype: int64"
      ]
     },
     "execution_count": 39,
     "metadata": {},
     "output_type": "execute_result"
    }
   ],
   "source": [
    "print(df[[\"fare\",\"distance\"]].describe())\n",
    "df[[\"fare\",\"distance\"]].isnull().sum()"
   ]
  },
  {
   "cell_type": "code",
   "execution_count": 40,
   "id": "69f80342",
   "metadata": {
    "execution": {
     "iopub.execute_input": "2025-06-16T10:28:44.790290Z",
     "iopub.status.busy": "2025-06-16T10:28:44.789501Z",
     "iopub.status.idle": "2025-06-16T10:28:47.906263Z",
     "shell.execute_reply": "2025-06-16T10:28:47.905296Z"
    },
    "papermill": {
     "duration": 3.142561,
     "end_time": "2025-06-16T10:28:47.907935",
     "exception": false,
     "start_time": "2025-06-16T10:28:44.765374",
     "status": "completed"
    },
    "tags": []
   },
   "outputs": [
    {
     "name": "stderr",
     "output_type": "stream",
     "text": [
      "/usr/local/lib/python3.11/dist-packages/seaborn/_oldcore.py:1119: FutureWarning: use_inf_as_na option is deprecated and will be removed in a future version. Convert inf values to NaN before operating instead.\n",
      "  with pd.option_context('mode.use_inf_as_na', True):\n"
     ]
    },
    {
     "data": {
      "image/png": "[encoded data removed]",
      "text/plain": [
       "<Figure size 1200x500 with 1 Axes>"
      ]
     },
     "metadata": {},
     "output_type": "display_data"
    }
   ],
   "source": [
    "plt.figure(figsize=(12,5))\n",
    "sns.histplot(df[\"distance\"], bins=100, kde=True)\n",
    "plt.title(\"Distance distribution after removing outliers\")\n",
    "plt.show()"
   ]
  },
  {
   "cell_type": "markdown",
   "id": "9dba4e60",
   "metadata": {
    "papermill": {
     "duration": 0.02398,
     "end_time": "2025-06-16T10:28:47.957096",
     "exception": false,
     "start_time": "2025-06-16T10:28:47.933116",
     "status": "completed"
    },
    "tags": []
   },
   "source": [
    "Outliers and missing value for \"price\" and \"distance\" column has been handled."
   ]
  },
  {
   "cell_type": "markdown",
   "id": "c701eb74",
   "metadata": {
    "papermill": {
     "duration": 0.024518,
     "end_time": "2025-06-16T10:28:48.006588",
     "exception": false,
     "start_time": "2025-06-16T10:28:47.982070",
     "status": "completed"
    },
    "tags": []
   },
   "source": [
    "## **Cleaning cab related data.**"
   ]
  },
  {
   "cell_type": "code",
   "execution_count": 41,
   "id": "fced827b",
   "metadata": {
    "execution": {
     "iopub.execute_input": "2025-06-16T10:28:48.057250Z",
     "iopub.status.busy": "2025-06-16T10:28:48.056933Z",
     "iopub.status.idle": "2025-06-16T10:28:48.089984Z",
     "shell.execute_reply": "2025-06-16T10:28:48.089022Z"
    },
    "papermill": {
     "duration": 0.060388,
     "end_time": "2025-06-16T10:28:48.091617",
     "exception": false,
     "start_time": "2025-06-16T10:28:48.031229",
     "status": "completed"
    },
    "tags": []
   },
   "outputs": [
    {
     "name": "stdout",
     "output_type": "stream",
     "text": [
      "['Lyft' 'Uber' 'Ubr' 'Liyft' 'lyft' 'uber' 'Ubre' 'Lyf' 'Ubee' 'Lft']\n"
     ]
    }
   ],
   "source": [
    "print(df[\"ride_company\"].unique())"
   ]
  },
  {
   "cell_type": "code",
   "execution_count": 42,
   "id": "beba5456",
   "metadata": {
    "execution": {
     "iopub.execute_input": "2025-06-16T10:28:48.143498Z",
     "iopub.status.busy": "2025-06-16T10:28:48.143129Z",
     "iopub.status.idle": "2025-06-16T10:28:48.149088Z",
     "shell.execute_reply": "2025-06-16T10:28:48.148224Z"
    },
    "papermill": {
     "duration": 0.033339,
     "end_time": "2025-06-16T10:28:48.150555",
     "exception": false,
     "start_time": "2025-06-16T10:28:48.117216",
     "status": "completed"
    },
    "tags": []
   },
   "outputs": [
    {
     "data": {
      "text/plain": [
       "Index(['timestamp', 'date', 'hour', 'day_of_week', 'month', 'source',\n",
       "       'destination', 'ride_company', 'vehicle_id', 'vehicle', 'visibility',\n",
       "       'cloud_cover', 'uv_index', 'distance', 'surge_multiplier', 'fare',\n",
       "       'temperature_F', 'humidity', 'wind_speed', 'weather_desc_short',\n",
       "       'weather_desc_long', 'weather_status', 'pressure'],\n",
       "      dtype='object')"
      ]
     },
     "execution_count": 42,
     "metadata": {},
     "output_type": "execute_result"
    }
   ],
   "source": [
    "df.columns"
   ]
  },
  {
   "cell_type": "code",
   "execution_count": 43,
   "id": "eb19f33f",
   "metadata": {
    "execution": {
     "iopub.execute_input": "2025-06-16T10:28:48.201371Z",
     "iopub.status.busy": "2025-06-16T10:28:48.201090Z",
     "iopub.status.idle": "2025-06-16T10:28:48.253806Z",
     "shell.execute_reply": "2025-06-16T10:28:48.252728Z"
    },
    "papermill": {
     "duration": 0.079688,
     "end_time": "2025-06-16T10:28:48.255306",
     "exception": false,
     "start_time": "2025-06-16T10:28:48.175618",
     "status": "completed"
    },
    "tags": []
   },
   "outputs": [
    {
     "name": "stdout",
     "output_type": "stream",
     "text": [
      "['lyft_lux' 'lyft_premier' '9a0e7b09-b92b-4c41-9779-2ad22b4d779d'\n",
      " 'lyft_luxsuv' 'lyft' '55c66225-fbe7-4fd5-9072-eab1ece5e23e' 'lyft_line'\n",
      " '6f72dfc5-27f1-42e8-84db-ccc7a75f6969'\n",
      " '6d318bcc-22a3-4af6-bddd-b409bfce1546'\n",
      " '6c84fd89-3f11-4782-9b50-97c468b19529' 'lyft_plus'\n",
      " '997acbb5-e102-41e1-b155-9df7de0a73f2']\n"
     ]
    }
   ],
   "source": [
    "print(df[\"vehicle_id\"].unique())"
   ]
  },
  {
   "cell_type": "code",
   "execution_count": 44,
   "id": "8abd2f3b",
   "metadata": {
    "execution": {
     "iopub.execute_input": "2025-06-16T10:28:48.306384Z",
     "iopub.status.busy": "2025-06-16T10:28:48.306074Z",
     "iopub.status.idle": "2025-06-16T10:28:48.349393Z",
     "shell.execute_reply": "2025-06-16T10:28:48.348227Z"
    },
    "papermill": {
     "duration": 0.07107,
     "end_time": "2025-06-16T10:28:48.351054",
     "exception": false,
     "start_time": "2025-06-16T10:28:48.279984",
     "status": "completed"
    },
    "tags": []
   },
   "outputs": [
    {
     "name": "stdout",
     "output_type": "stream",
     "text": [
      "['Lux Black' 'Lux' 'WAV' 'Lux Black XL' 'Lyft' 'UberX' 'Shared' 'UberXL'\n",
      " 'Black SUV' 'Black' 'Lyft XL' 'UberPool']\n"
     ]
    }
   ],
   "source": [
    "print(df[\"vehicle\"].unique())"
   ]
  },
  {
   "cell_type": "markdown",
   "id": "c5ca2093",
   "metadata": {
    "papermill": {
     "duration": 0.024636,
     "end_time": "2025-06-16T10:28:48.400459",
     "exception": false,
     "start_time": "2025-06-16T10:28:48.375823",
     "status": "completed"
    },
    "tags": []
   },
   "source": [
    "No column has missing values. ride_company has spelling mistakes. We will replace the value with \"Lyft\" if it starts with l/L and with \"Uber\" if it starts with u/U."
   ]
  },
  {
   "cell_type": "code",
   "execution_count": 45,
   "id": "db660528",
   "metadata": {
    "execution": {
     "iopub.execute_input": "2025-06-16T10:28:48.450833Z",
     "iopub.status.busy": "2025-06-16T10:28:48.450533Z",
     "iopub.status.idle": "2025-06-16T10:28:48.646069Z",
     "shell.execute_reply": "2025-06-16T10:28:48.645252Z"
    },
    "papermill": {
     "duration": 0.222855,
     "end_time": "2025-06-16T10:28:48.647850",
     "exception": false,
     "start_time": "2025-06-16T10:28:48.424995",
     "status": "completed"
    },
    "tags": []
   },
   "outputs": [],
   "source": [
    "df[\"ride_company\"] = df[\"ride_company\"].apply(\n",
    "    lambda x: \"Lyft\" if str(x).lower().startswith(\"l\") else \"Uber\"\n",
    ")"
   ]
  },
  {
   "cell_type": "code",
   "execution_count": 46,
   "id": "0f196f2c",
   "metadata": {
    "execution": {
     "iopub.execute_input": "2025-06-16T10:28:48.700894Z",
     "iopub.status.busy": "2025-06-16T10:28:48.700575Z",
     "iopub.status.idle": "2025-06-16T10:28:48.732081Z",
     "shell.execute_reply": "2025-06-16T10:28:48.730979Z"
    },
    "papermill": {
     "duration": 0.05924,
     "end_time": "2025-06-16T10:28:48.733699",
     "exception": false,
     "start_time": "2025-06-16T10:28:48.674459",
     "status": "completed"
    },
    "tags": []
   },
   "outputs": [
    {
     "name": "stdout",
     "output_type": "stream",
     "text": [
      "['Lyft' 'Uber']\n"
     ]
    }
   ],
   "source": [
    "print(df[\"ride_company\"].unique())"
   ]
  },
  {
   "cell_type": "code",
   "execution_count": 47,
   "id": "aa99c9fc",
   "metadata": {
    "execution": {
     "iopub.execute_input": "2025-06-16T10:28:48.786683Z",
     "iopub.status.busy": "2025-06-16T10:28:48.786345Z",
     "iopub.status.idle": "2025-06-16T10:28:48.927174Z",
     "shell.execute_reply": "2025-06-16T10:28:48.926179Z"
    },
    "papermill": {
     "duration": 0.169072,
     "end_time": "2025-06-16T10:28:48.928733",
     "exception": false,
     "start_time": "2025-06-16T10:28:48.759661",
     "status": "completed"
    },
    "tags": []
   },
   "outputs": [
    {
     "data": {
      "text/plain": [
       "array(['WAV', 'UberX', 'UberXL', 'Black SUV', 'Black', 'UberPool'],\n",
       "      dtype=object)"
      ]
     },
     "execution_count": 47,
     "metadata": {},
     "output_type": "execute_result"
    }
   ],
   "source": [
    "df[df[\"ride_company\"]==\"Uber\"][\"vehicle\"].unique()"
   ]
  },
  {
   "cell_type": "code",
   "execution_count": 48,
   "id": "8843951e",
   "metadata": {
    "execution": {
     "iopub.execute_input": "2025-06-16T10:28:48.981828Z",
     "iopub.status.busy": "2025-06-16T10:28:48.980786Z",
     "iopub.status.idle": "2025-06-16T10:28:49.116066Z",
     "shell.execute_reply": "2025-06-16T10:28:49.115245Z"
    },
    "papermill": {
     "duration": 0.162662,
     "end_time": "2025-06-16T10:28:49.117526",
     "exception": false,
     "start_time": "2025-06-16T10:28:48.954864",
     "status": "completed"
    },
    "tags": []
   },
   "outputs": [
    {
     "data": {
      "text/plain": [
       "array(['Lux Black', 'Lux', 'Lux Black XL', 'Lyft', 'Shared', 'Lyft XL'],\n",
       "      dtype=object)"
      ]
     },
     "execution_count": 48,
     "metadata": {},
     "output_type": "execute_result"
    }
   ],
   "source": [
    "df[df[\"ride_company\"]==\"Lyft\"][\"vehicle\"].unique()"
   ]
  },
  {
   "cell_type": "code",
   "execution_count": 49,
   "id": "baaf8c8e",
   "metadata": {
    "execution": {
     "iopub.execute_input": "2025-06-16T10:28:49.169223Z",
     "iopub.status.busy": "2025-06-16T10:28:49.168912Z",
     "iopub.status.idle": "2025-06-16T10:28:49.317562Z",
     "shell.execute_reply": "2025-06-16T10:28:49.316680Z"
    },
    "papermill": {
     "duration": 0.176478,
     "end_time": "2025-06-16T10:28:49.319214",
     "exception": false,
     "start_time": "2025-06-16T10:28:49.142736",
     "status": "completed"
    },
    "tags": []
   },
   "outputs": [
    {
     "data": {
      "text/plain": [
       "array(['9a0e7b09-b92b-4c41-9779-2ad22b4d779d',\n",
       "       '55c66225-fbe7-4fd5-9072-eab1ece5e23e',\n",
       "       '6f72dfc5-27f1-42e8-84db-ccc7a75f6969',\n",
       "       '6d318bcc-22a3-4af6-bddd-b409bfce1546',\n",
       "       '6c84fd89-3f11-4782-9b50-97c468b19529',\n",
       "       '997acbb5-e102-41e1-b155-9df7de0a73f2'], dtype=object)"
      ]
     },
     "execution_count": 49,
     "metadata": {},
     "output_type": "execute_result"
    }
   ],
   "source": [
    "df[df[\"ride_company\"]==\"Uber\"][\"vehicle_id\"].unique()"
   ]
  },
  {
   "cell_type": "code",
   "execution_count": 50,
   "id": "db559b38",
   "metadata": {
    "execution": {
     "iopub.execute_input": "2025-06-16T10:28:49.371337Z",
     "iopub.status.busy": "2025-06-16T10:28:49.370327Z",
     "iopub.status.idle": "2025-06-16T10:28:49.505859Z",
     "shell.execute_reply": "2025-06-16T10:28:49.505067Z"
    },
    "papermill": {
     "duration": 0.163266,
     "end_time": "2025-06-16T10:28:49.507552",
     "exception": false,
     "start_time": "2025-06-16T10:28:49.344286",
     "status": "completed"
    },
    "tags": []
   },
   "outputs": [
    {
     "data": {
      "text/plain": [
       "array(['lyft_lux', 'lyft_premier', 'lyft_luxsuv', 'lyft', 'lyft_line',\n",
       "       'lyft_plus'], dtype=object)"
      ]
     },
     "execution_count": 50,
     "metadata": {},
     "output_type": "execute_result"
    }
   ],
   "source": [
    "df[df[\"ride_company\"]==\"Lyft\"][\"vehicle_id\"].unique()"
   ]
  },
  {
   "cell_type": "code",
   "execution_count": 51,
   "id": "3071089f",
   "metadata": {
    "execution": {
     "iopub.execute_input": "2025-06-16T10:28:49.561566Z",
     "iopub.status.busy": "2025-06-16T10:28:49.561211Z",
     "iopub.status.idle": "2025-06-16T10:28:49.745319Z",
     "shell.execute_reply": "2025-06-16T10:28:49.744461Z"
    },
    "papermill": {
     "duration": 0.213094,
     "end_time": "2025-06-16T10:28:49.746828",
     "exception": false,
     "start_time": "2025-06-16T10:28:49.533734",
     "status": "completed"
    },
    "tags": []
   },
   "outputs": [
    {
     "data": {
      "text/html": [
       "<div>\n",
       "<style scoped>\n",
       "    .dataframe tbody tr th:only-of-type {\n",
       "        vertical-align: middle;\n",
       "    }\n",
       "\n",
       "    .dataframe tbody tr th {\n",
       "        vertical-align: top;\n",
       "    }\n",
       "\n",
       "    .dataframe thead th {\n",
       "        text-align: right;\n",
       "    }\n",
       "</style>\n",
       "<table border=\"1\" class=\"dataframe\">\n",
       "  <thead>\n",
       "    <tr style=\"text-align: right;\">\n",
       "      <th></th>\n",
       "      <th>vehicle</th>\n",
       "      <th>vehicle_id</th>\n",
       "    </tr>\n",
       "  </thead>\n",
       "  <tbody>\n",
       "    <tr>\n",
       "      <th>2</th>\n",
       "      <td>WAV</td>\n",
       "      <td>9a0e7b09-b92b-4c41-9779-2ad22b4d779d</td>\n",
       "    </tr>\n",
       "    <tr>\n",
       "      <th>5</th>\n",
       "      <td>UberX</td>\n",
       "      <td>55c66225-fbe7-4fd5-9072-eab1ece5e23e</td>\n",
       "    </tr>\n",
       "    <tr>\n",
       "      <th>10</th>\n",
       "      <td>UberXL</td>\n",
       "      <td>6f72dfc5-27f1-42e8-84db-ccc7a75f6969</td>\n",
       "    </tr>\n",
       "    <tr>\n",
       "      <th>11</th>\n",
       "      <td>Black SUV</td>\n",
       "      <td>6d318bcc-22a3-4af6-bddd-b409bfce1546</td>\n",
       "    </tr>\n",
       "    <tr>\n",
       "      <th>13</th>\n",
       "      <td>Black</td>\n",
       "      <td>6c84fd89-3f11-4782-9b50-97c468b19529</td>\n",
       "    </tr>\n",
       "    <tr>\n",
       "      <th>26</th>\n",
       "      <td>UberPool</td>\n",
       "      <td>997acbb5-e102-41e1-b155-9df7de0a73f2</td>\n",
       "    </tr>\n",
       "  </tbody>\n",
       "</table>\n",
       "</div>"
      ],
      "text/plain": [
       "      vehicle                            vehicle_id\n",
       "2         WAV  9a0e7b09-b92b-4c41-9779-2ad22b4d779d\n",
       "5       UberX  55c66225-fbe7-4fd5-9072-eab1ece5e23e\n",
       "10     UberXL  6f72dfc5-27f1-42e8-84db-ccc7a75f6969\n",
       "11  Black SUV  6d318bcc-22a3-4af6-bddd-b409bfce1546\n",
       "13      Black  6c84fd89-3f11-4782-9b50-97c468b19529\n",
       "26   UberPool  997acbb5-e102-41e1-b155-9df7de0a73f2"
      ]
     },
     "execution_count": 51,
     "metadata": {},
     "output_type": "execute_result"
    }
   ],
   "source": [
    "df[df[\"ride_company\"]==\"Uber\"][[\"vehicle\",\"vehicle_id\"]].drop_duplicates()"
   ]
  },
  {
   "cell_type": "code",
   "execution_count": 52,
   "id": "102d4220",
   "metadata": {
    "execution": {
     "iopub.execute_input": "2025-06-16T10:28:49.800326Z",
     "iopub.status.busy": "2025-06-16T10:28:49.799943Z",
     "iopub.status.idle": "2025-06-16T10:28:49.969459Z",
     "shell.execute_reply": "2025-06-16T10:28:49.968659Z"
    },
    "papermill": {
     "duration": 0.198017,
     "end_time": "2025-06-16T10:28:49.970993",
     "exception": false,
     "start_time": "2025-06-16T10:28:49.772976",
     "status": "completed"
    },
    "tags": []
   },
   "outputs": [
    {
     "data": {
      "text/html": [
       "<div>\n",
       "<style scoped>\n",
       "    .dataframe tbody tr th:only-of-type {\n",
       "        vertical-align: middle;\n",
       "    }\n",
       "\n",
       "    .dataframe tbody tr th {\n",
       "        vertical-align: top;\n",
       "    }\n",
       "\n",
       "    .dataframe thead th {\n",
       "        text-align: right;\n",
       "    }\n",
       "</style>\n",
       "<table border=\"1\" class=\"dataframe\">\n",
       "  <thead>\n",
       "    <tr style=\"text-align: right;\">\n",
       "      <th></th>\n",
       "      <th>vehicle</th>\n",
       "      <th>vehicle_id</th>\n",
       "    </tr>\n",
       "  </thead>\n",
       "  <tbody>\n",
       "    <tr>\n",
       "      <th>0</th>\n",
       "      <td>Lux Black</td>\n",
       "      <td>lyft_lux</td>\n",
       "    </tr>\n",
       "    <tr>\n",
       "      <th>1</th>\n",
       "      <td>Lux</td>\n",
       "      <td>lyft_premier</td>\n",
       "    </tr>\n",
       "    <tr>\n",
       "      <th>3</th>\n",
       "      <td>Lux Black XL</td>\n",
       "      <td>lyft_luxsuv</td>\n",
       "    </tr>\n",
       "    <tr>\n",
       "      <th>4</th>\n",
       "      <td>Lyft</td>\n",
       "      <td>lyft</td>\n",
       "    </tr>\n",
       "    <tr>\n",
       "      <th>7</th>\n",
       "      <td>Shared</td>\n",
       "      <td>lyft_line</td>\n",
       "    </tr>\n",
       "    <tr>\n",
       "      <th>22</th>\n",
       "      <td>Lyft XL</td>\n",
       "      <td>lyft_plus</td>\n",
       "    </tr>\n",
       "  </tbody>\n",
       "</table>\n",
       "</div>"
      ],
      "text/plain": [
       "         vehicle    vehicle_id\n",
       "0      Lux Black      lyft_lux\n",
       "1            Lux  lyft_premier\n",
       "3   Lux Black XL   lyft_luxsuv\n",
       "4           Lyft          lyft\n",
       "7         Shared     lyft_line\n",
       "22       Lyft XL     lyft_plus"
      ]
     },
     "execution_count": 52,
     "metadata": {},
     "output_type": "execute_result"
    }
   ],
   "source": [
    "df[df[\"ride_company\"]==\"Lyft\"][[\"vehicle\",\"vehicle_id\"]].drop_duplicates()"
   ]
  },
  {
   "cell_type": "markdown",
   "id": "15ac5c0e",
   "metadata": {
    "papermill": {
     "duration": 0.025654,
     "end_time": "2025-06-16T10:28:50.022841",
     "exception": false,
     "start_time": "2025-06-16T10:28:49.997187",
     "status": "completed"
    },
    "tags": []
   },
   "source": [
    "#### After inspecting the unique combinations of ride_type and vehicle_id, we found that each ride_type is always associated with a unique vehicle_id. This means the vehicle_id column does not provide any additional or distinct information beyond what is already captured by ride_type. Therefore, we drop the vehicle_id column as this is redundant."
   ]
  },
  {
   "cell_type": "code",
   "execution_count": 53,
   "id": "f8ad914e",
   "metadata": {
    "execution": {
     "iopub.execute_input": "2025-06-16T10:28:50.075674Z",
     "iopub.status.busy": "2025-06-16T10:28:50.075331Z",
     "iopub.status.idle": "2025-06-16T10:28:50.184314Z",
     "shell.execute_reply": "2025-06-16T10:28:50.183217Z"
    },
    "papermill": {
     "duration": 0.137337,
     "end_time": "2025-06-16T10:28:50.186111",
     "exception": false,
     "start_time": "2025-06-16T10:28:50.048774",
     "status": "completed"
    },
    "tags": []
   },
   "outputs": [],
   "source": [
    "df = df.drop(\"vehicle_id\", axis=1)"
   ]
  },
  {
   "cell_type": "markdown",
   "id": "90b59493",
   "metadata": {
    "papermill": {
     "duration": 0.02693,
     "end_time": "2025-06-16T10:28:50.239117",
     "exception": false,
     "start_time": "2025-06-16T10:28:50.212187",
     "status": "completed"
    },
    "tags": []
   },
   "source": [
    "## **Handling Outliers and Missing Values in Weather-Related Columns**\n",
    "\n",
    "After cleaning and organizing the dataset, we now focus on key weather-related features: `temperature`, `humidity`, `wind_speed` and `pressure`. These features can contain outliers or missing values that may affect model performance. Besides, temperature is in fahrenheit. We need to convert that to degree celcius.\n",
    "\n",
    "### **Strategy:**\n",
    "1. **Detect and mark outliers** using the Interquartile Range (IQR) method.\n",
    "2. **Replace outliers with `np.nan`** to treat them as missing data.\n",
    "3. **Fill all missing values (including outliers) using forward and backward fill averaging**:\n",
    "   - For each missing cell, take the average of the previous and next available values in the same column.\n"
   ]
  },
  {
   "cell_type": "code",
   "execution_count": 54,
   "id": "9175176d",
   "metadata": {
    "execution": {
     "iopub.execute_input": "2025-06-16T10:28:50.292061Z",
     "iopub.status.busy": "2025-06-16T10:28:50.291695Z",
     "iopub.status.idle": "2025-06-16T10:28:50.423571Z",
     "shell.execute_reply": "2025-06-16T10:28:50.422621Z"
    },
    "papermill": {
     "duration": 0.160578,
     "end_time": "2025-06-16T10:28:50.425329",
     "exception": false,
     "start_time": "2025-06-16T10:28:50.264751",
     "status": "completed"
    },
    "tags": []
   },
   "outputs": [],
   "source": [
    "df[\"temperature_C\"] = 5*(df[\"temperature_F\"] - 32)/9 #Fahrenheit to Celcius\n",
    "df.drop(\"temperature_F\", axis=1, inplace=True)"
   ]
  },
  {
   "cell_type": "code",
   "execution_count": 55,
   "id": "5697645e",
   "metadata": {
    "execution": {
     "iopub.execute_input": "2025-06-16T10:28:50.477396Z",
     "iopub.status.busy": "2025-06-16T10:28:50.477074Z",
     "iopub.status.idle": "2025-06-16T10:28:50.598758Z",
     "shell.execute_reply": "2025-06-16T10:28:50.597874Z"
    },
    "papermill": {
     "duration": 0.149746,
     "end_time": "2025-06-16T10:28:50.600250",
     "exception": false,
     "start_time": "2025-06-16T10:28:50.450504",
     "status": "completed"
    },
    "tags": []
   },
   "outputs": [
    {
     "data": {
      "text/html": [
       "<div>\n",
       "<style scoped>\n",
       "    .dataframe tbody tr th:only-of-type {\n",
       "        vertical-align: middle;\n",
       "    }\n",
       "\n",
       "    .dataframe tbody tr th {\n",
       "        vertical-align: top;\n",
       "    }\n",
       "\n",
       "    .dataframe thead th {\n",
       "        text-align: right;\n",
       "    }\n",
       "</style>\n",
       "<table border=\"1\" class=\"dataframe\">\n",
       "  <thead>\n",
       "    <tr style=\"text-align: right;\">\n",
       "      <th></th>\n",
       "      <th>temperature_C</th>\n",
       "      <th>humidity</th>\n",
       "      <th>pressure</th>\n",
       "      <th>wind_speed</th>\n",
       "    </tr>\n",
       "  </thead>\n",
       "  <tbody>\n",
       "    <tr>\n",
       "      <th>count</th>\n",
       "      <td>629788.000000</td>\n",
       "      <td>628544.000000</td>\n",
       "      <td>614445.000000</td>\n",
       "      <td>637194.000000</td>\n",
       "    </tr>\n",
       "    <tr>\n",
       "      <th>mean</th>\n",
       "      <td>2.271533</td>\n",
       "      <td>0.741021</td>\n",
       "      <td>1010.102458</td>\n",
       "      <td>6.235751</td>\n",
       "    </tr>\n",
       "    <tr>\n",
       "      <th>std</th>\n",
       "      <td>4.560297</td>\n",
       "      <td>0.138582</td>\n",
       "      <td>13.474793</td>\n",
       "      <td>3.264668</td>\n",
       "    </tr>\n",
       "    <tr>\n",
       "      <th>min</th>\n",
       "      <td>-11.038889</td>\n",
       "      <td>0.380000</td>\n",
       "      <td>988.090000</td>\n",
       "      <td>0.450000</td>\n",
       "    </tr>\n",
       "    <tr>\n",
       "      <th>25%</th>\n",
       "      <td>-0.050000</td>\n",
       "      <td>0.640000</td>\n",
       "      <td>999.840000</td>\n",
       "      <td>3.410000</td>\n",
       "    </tr>\n",
       "    <tr>\n",
       "      <th>50%</th>\n",
       "      <td>2.205556</td>\n",
       "      <td>0.710000</td>\n",
       "      <td>1009.250000</td>\n",
       "      <td>5.920000</td>\n",
       "    </tr>\n",
       "    <tr>\n",
       "      <th>75%</th>\n",
       "      <td>4.844444</td>\n",
       "      <td>0.880000</td>\n",
       "      <td>1021.860000</td>\n",
       "      <td>8.410000</td>\n",
       "    </tr>\n",
       "    <tr>\n",
       "      <th>max</th>\n",
       "      <td>29.905556</td>\n",
       "      <td>0.960000</td>\n",
       "      <td>1035.550000</td>\n",
       "      <td>37.500000</td>\n",
       "    </tr>\n",
       "  </tbody>\n",
       "</table>\n",
       "</div>"
      ],
      "text/plain": [
       "       temperature_C       humidity       pressure     wind_speed\n",
       "count  629788.000000  628544.000000  614445.000000  637194.000000\n",
       "mean        2.271533       0.741021    1010.102458       6.235751\n",
       "std         4.560297       0.138582      13.474793       3.264668\n",
       "min       -11.038889       0.380000     988.090000       0.450000\n",
       "25%        -0.050000       0.640000     999.840000       3.410000\n",
       "50%         2.205556       0.710000    1009.250000       5.920000\n",
       "75%         4.844444       0.880000    1021.860000       8.410000\n",
       "max        29.905556       0.960000    1035.550000      37.500000"
      ]
     },
     "execution_count": 55,
     "metadata": {},
     "output_type": "execute_result"
    }
   ],
   "source": [
    "df[[\"temperature_C\",\"humidity\",\"pressure\",\"wind_speed\"]].describe()"
   ]
  },
  {
   "cell_type": "code",
   "execution_count": 56,
   "id": "89b7cf7a",
   "metadata": {
    "execution": {
     "iopub.execute_input": "2025-06-16T10:28:50.653232Z",
     "iopub.status.busy": "2025-06-16T10:28:50.652894Z",
     "iopub.status.idle": "2025-06-16T10:29:02.826865Z",
     "shell.execute_reply": "2025-06-16T10:29:02.826079Z"
    },
    "papermill": {
     "duration": 12.204824,
     "end_time": "2025-06-16T10:29:02.831112",
     "exception": false,
     "start_time": "2025-06-16T10:28:50.626288",
     "status": "completed"
    },
    "tags": []
   },
   "outputs": [
    {
     "name": "stderr",
     "output_type": "stream",
     "text": [
      "/usr/local/lib/python3.11/dist-packages/seaborn/_oldcore.py:1119: FutureWarning: use_inf_as_na option is deprecated and will be removed in a future version. Convert inf values to NaN before operating instead.\n",
      "  with pd.option_context('mode.use_inf_as_na', True):\n",
      "/usr/local/lib/python3.11/dist-packages/seaborn/_oldcore.py:1119: FutureWarning: use_inf_as_na option is deprecated and will be removed in a future version. Convert inf values to NaN before operating instead.\n",
      "  with pd.option_context('mode.use_inf_as_na', True):\n",
      "/usr/local/lib/python3.11/dist-packages/seaborn/_oldcore.py:1119: FutureWarning: use_inf_as_na option is deprecated and will be removed in a future version. Convert inf values to NaN before operating instead.\n",
      "  with pd.option_context('mode.use_inf_as_na', True):\n",
      "/usr/local/lib/python3.11/dist-packages/seaborn/_oldcore.py:1119: FutureWarning: use_inf_as_na option is deprecated and will be removed in a future version. Convert inf values to NaN before operating instead.\n",
      "  with pd.option_context('mode.use_inf_as_na', True):\n"
     ]
    },
    {
     "data": {
      "image/png": "[encoded data removed]",
      "text/plain": [
       "<Figure size 1800x1200 with 4 Axes>"
      ]
     },
     "metadata": {},
     "output_type": "display_data"
    }
   ],
   "source": [
    "plt.figure(figsize=(18,12))\n",
    "plt.subplot(2,2,1)\n",
    "sns.histplot(df[\"temperature_C\"], bins=100, kde=True)\n",
    "plt.title(\"Temperature Distribution\")\n",
    "\n",
    "plt.subplot(2,2,2)\n",
    "sns.histplot(df[\"humidity\"], bins=100, kde=True)\n",
    "plt.title(\"Humidity Distribution\")\n",
    "\n",
    "plt.subplot(2,2,3)\n",
    "sns.histplot(df[\"wind_speed\"], bins=100, kde=True)\n",
    "plt.title(\"Wind Speed Distribution\")\n",
    "\n",
    "plt.subplot(2,2,4)\n",
    "sns.histplot(df[\"pressure\"], bins=100, kde=True)\n",
    "plt.title(\"Pressure Distribution\")\n",
    "plt.show()"
   ]
  },
  {
   "cell_type": "markdown",
   "id": "25500d8b",
   "metadata": {
    "papermill": {
     "duration": 0.028681,
     "end_time": "2025-06-16T10:29:02.889713",
     "exception": false,
     "start_time": "2025-06-16T10:29:02.861032",
     "status": "completed"
    },
    "tags": []
   },
   "source": [
    "#### Temperature and Wind Speed column has unrealistic values. So, we replaced the outliers with NaN."
   ]
  },
  {
   "cell_type": "code",
   "execution_count": 57,
   "id": "87abef11",
   "metadata": {
    "execution": {
     "iopub.execute_input": "2025-06-16T10:29:02.950244Z",
     "iopub.status.busy": "2025-06-16T10:29:02.949134Z",
     "iopub.status.idle": "2025-06-16T10:29:02.978656Z",
     "shell.execute_reply": "2025-06-16T10:29:02.977519Z"
    },
    "papermill": {
     "duration": 0.061885,
     "end_time": "2025-06-16T10:29:02.980271",
     "exception": false,
     "start_time": "2025-06-16T10:29:02.918386",
     "status": "completed"
    },
    "tags": []
   },
   "outputs": [
    {
     "name": "stdout",
     "output_type": "stream",
     "text": [
      "Temperature Threshold:  14.633333333333333\n"
     ]
    },
    {
     "name": "stderr",
     "output_type": "stream",
     "text": [
      "/usr/local/lib/python3.11/dist-packages/pandas/core/computation/expressions.py:73: RuntimeWarning: invalid value encountered in greater\n",
      "  return op(a, b)\n"
     ]
    }
   ],
   "source": [
    "Q3 = df[\"temperature_C\"].quantile(0.75)\n",
    "Q1 = df[\"temperature_C\"].quantile(0.25)\n",
    "IQR = Q3 - Q1\n",
    "temp_threshold = Q3 + 2*IQR\n",
    "print(\"Temperature Threshold: \",temp_threshold)\n",
    "df.loc[df[\"temperature_C\"]>temp_threshold, \"temperature_C\"] = np.nan"
   ]
  },
  {
   "cell_type": "code",
   "execution_count": 58,
   "id": "82293e63",
   "metadata": {
    "execution": {
     "iopub.execute_input": "2025-06-16T10:29:03.042756Z",
     "iopub.status.busy": "2025-06-16T10:29:03.042458Z",
     "iopub.status.idle": "2025-06-16T10:29:03.068267Z",
     "shell.execute_reply": "2025-06-16T10:29:03.067270Z"
    },
    "papermill": {
     "duration": 0.058058,
     "end_time": "2025-06-16T10:29:03.069697",
     "exception": false,
     "start_time": "2025-06-16T10:29:03.011639",
     "status": "completed"
    },
    "tags": []
   },
   "outputs": [
    {
     "name": "stdout",
     "output_type": "stream",
     "text": [
      "Wind Speed Threshold:  15.91\n"
     ]
    }
   ],
   "source": [
    "Q3 = df[\"wind_speed\"].quantile(0.75)\n",
    "Q1 = df[\"wind_speed\"].quantile(0.25)\n",
    "IQR = Q3 - Q1\n",
    "wind_threshold = Q3 + 1.5*IQR\n",
    "print(\"Wind Speed Threshold: \",wind_threshold)\n",
    "df.loc[df[\"wind_speed\"]>wind_threshold, \"wind_speed\"] = np.nan"
   ]
  },
  {
   "cell_type": "code",
   "execution_count": 59,
   "id": "db84cd65",
   "metadata": {
    "execution": {
     "iopub.execute_input": "2025-06-16T10:29:03.130692Z",
     "iopub.status.busy": "2025-06-16T10:29:03.130317Z",
     "iopub.status.idle": "2025-06-16T10:29:03.139470Z",
     "shell.execute_reply": "2025-06-16T10:29:03.138500Z"
    },
    "papermill": {
     "duration": 0.041532,
     "end_time": "2025-06-16T10:29:03.141066",
     "exception": false,
     "start_time": "2025-06-16T10:29:03.099534",
     "status": "completed"
    },
    "tags": []
   },
   "outputs": [
    {
     "data": {
      "text/plain": [
       "9559"
      ]
     },
     "execution_count": 59,
     "metadata": {},
     "output_type": "execute_result"
    }
   ],
   "source": [
    "df[\"temperature_C\"].isnull().sum()"
   ]
  },
  {
   "cell_type": "code",
   "execution_count": 60,
   "id": "24cfd12d",
   "metadata": {
    "execution": {
     "iopub.execute_input": "2025-06-16T10:29:03.202014Z",
     "iopub.status.busy": "2025-06-16T10:29:03.201684Z",
     "iopub.status.idle": "2025-06-16T10:29:03.210512Z",
     "shell.execute_reply": "2025-06-16T10:29:03.209469Z"
    },
    "papermill": {
     "duration": 0.041373,
     "end_time": "2025-06-16T10:29:03.212008",
     "exception": false,
     "start_time": "2025-06-16T10:29:03.170635",
     "status": "completed"
    },
    "tags": []
   },
   "outputs": [
    {
     "data": {
      "text/plain": [
       "1639"
      ]
     },
     "execution_count": 60,
     "metadata": {},
     "output_type": "execute_result"
    }
   ],
   "source": [
    "df[\"wind_speed\"].isnull().sum()"
   ]
  },
  {
   "cell_type": "markdown",
   "id": "a1f68e1a",
   "metadata": {
    "papermill": {
     "duration": 0.028983,
     "end_time": "2025-06-16T10:29:03.270759",
     "exception": false,
     "start_time": "2025-06-16T10:29:03.241776",
     "status": "completed"
    },
    "tags": []
   },
   "source": [
    "#### The missing values in weather column is filled with forward and backward fill averaging."
   ]
  },
  {
   "cell_type": "code",
   "execution_count": 61,
   "id": "54243eec",
   "metadata": {
    "execution": {
     "iopub.execute_input": "2025-06-16T10:29:03.337129Z",
     "iopub.status.busy": "2025-06-16T10:29:03.336216Z",
     "iopub.status.idle": "2025-06-16T10:29:03.406201Z",
     "shell.execute_reply": "2025-06-16T10:29:03.405258Z"
    },
    "papermill": {
     "duration": 0.10226,
     "end_time": "2025-06-16T10:29:03.407924",
     "exception": false,
     "start_time": "2025-06-16T10:29:03.305664",
     "status": "completed"
    },
    "tags": []
   },
   "outputs": [],
   "source": [
    "weather_cols = [\"temperature_C\", \"humidity\", \"wind_speed\", \"pressure\"]\n",
    "\n",
    "for col in weather_cols:\n",
    "    df[col] = ((df[col].ffill() + df[col].bfill()) / 2).round(2)"
   ]
  },
  {
   "cell_type": "markdown",
   "id": "d33b147e",
   "metadata": {
    "papermill": {
     "duration": 0.038348,
     "end_time": "2025-06-16T10:29:03.475749",
     "exception": false,
     "start_time": "2025-06-16T10:29:03.437401",
     "status": "completed"
    },
    "tags": []
   },
   "source": [
    "#### Weather data distribution after removing outliers and missing values."
   ]
  },
  {
   "cell_type": "code",
   "execution_count": 62,
   "id": "20e7f180",
   "metadata": {
    "execution": {
     "iopub.execute_input": "2025-06-16T10:29:03.558240Z",
     "iopub.status.busy": "2025-06-16T10:29:03.557291Z",
     "iopub.status.idle": "2025-06-16T10:29:15.235186Z",
     "shell.execute_reply": "2025-06-16T10:29:15.234293Z"
    },
    "papermill": {
     "duration": 11.722272,
     "end_time": "2025-06-16T10:29:15.239121",
     "exception": false,
     "start_time": "2025-06-16T10:29:03.516849",
     "status": "completed"
    },
    "tags": []
   },
   "outputs": [
    {
     "name": "stderr",
     "output_type": "stream",
     "text": [
      "/usr/local/lib/python3.11/dist-packages/seaborn/_oldcore.py:1119: FutureWarning: use_inf_as_na option is deprecated and will be removed in a future version. Convert inf values to NaN before operating instead.\n",
      "  with pd.option_context('mode.use_inf_as_na', True):\n",
      "/usr/local/lib/python3.11/dist-packages/seaborn/_oldcore.py:1119: FutureWarning: use_inf_as_na option is deprecated and will be removed in a future version. Convert inf values to NaN before operating instead.\n",
      "  with pd.option_context('mode.use_inf_as_na', True):\n",
      "/usr/local/lib/python3.11/dist-packages/seaborn/_oldcore.py:1119: FutureWarning: use_inf_as_na option is deprecated and will be removed in a future version. Convert inf values to NaN before operating instead.\n",
      "  with pd.option_context('mode.use_inf_as_na', True):\n",
      "/usr/local/lib/python3.11/dist-packages/seaborn/_oldcore.py:1119: FutureWarning: use_inf_as_na option is deprecated and will be removed in a future version. Convert inf values to NaN before operating instead.\n",
      "  with pd.option_context('mode.use_inf_as_na', True):\n"
     ]
    },
    {
     "data": {
      "image/png": "[encoded data removed]",
      "text/plain": [
       "<Figure size 1800x1200 with 4 Axes>"
      ]
     },
     "metadata": {},
     "output_type": "display_data"
    }
   ],
   "source": [
    "plt.figure(figsize=(18,12))\n",
    "plt.subplot(2,2,1)\n",
    "sns.histplot(df[\"temperature_C\"], bins=100, kde=True)\n",
    "plt.title(\"Temperature Distribution\")\n",
    "\n",
    "plt.subplot(2,2,2)\n",
    "sns.histplot(df[\"humidity\"], bins=100, kde=True)\n",
    "plt.title(\"Humidity Distribution\")\n",
    "\n",
    "plt.subplot(2,2,3)\n",
    "sns.histplot(df[\"wind_speed\"], bins=100, kde=True)\n",
    "plt.title(\"Wind Speed Distribution\")\n",
    "\n",
    "plt.subplot(2,2,4)\n",
    "sns.histplot(df[\"pressure\"], bins=100, kde=True)\n",
    "plt.title(\"Pressure Distribution\")\n",
    "plt.show()"
   ]
  },
  {
   "cell_type": "code",
   "execution_count": 63,
   "id": "4ca3e11a",
   "metadata": {
    "execution": {
     "iopub.execute_input": "2025-06-16T10:29:15.307366Z",
     "iopub.status.busy": "2025-06-16T10:29:15.306999Z",
     "iopub.status.idle": "2025-06-16T10:29:15.689253Z",
     "shell.execute_reply": "2025-06-16T10:29:15.688306Z"
    },
    "papermill": {
     "duration": 0.418114,
     "end_time": "2025-06-16T10:29:15.690798",
     "exception": false,
     "start_time": "2025-06-16T10:29:15.272684",
     "status": "completed"
    },
    "tags": []
   },
   "outputs": [
    {
     "data": {
      "text/plain": [
       "timestamp             0\n",
       "date                  0\n",
       "hour                  0\n",
       "day_of_week           0\n",
       "month                 0\n",
       "source                0\n",
       "destination           0\n",
       "ride_company          0\n",
       "vehicle               0\n",
       "visibility            0\n",
       "cloud_cover           0\n",
       "uv_index              0\n",
       "distance              0\n",
       "surge_multiplier      0\n",
       "fare                  0\n",
       "humidity              0\n",
       "wind_speed            0\n",
       "weather_desc_short    0\n",
       "weather_desc_long     0\n",
       "weather_status        0\n",
       "pressure              0\n",
       "temperature_C         0\n",
       "dtype: int64"
      ]
     },
     "execution_count": 63,
     "metadata": {},
     "output_type": "execute_result"
    }
   ],
   "source": [
    "df.isnull().sum()"
   ]
  },
  {
   "cell_type": "code",
   "execution_count": 64,
   "id": "c97f0bb3",
   "metadata": {
    "execution": {
     "iopub.execute_input": "2025-06-16T10:29:15.761738Z",
     "iopub.status.busy": "2025-06-16T10:29:15.761387Z",
     "iopub.status.idle": "2025-06-16T10:29:15.836003Z",
     "shell.execute_reply": "2025-06-16T10:29:15.835102Z"
    },
    "papermill": {
     "duration": 0.11287,
     "end_time": "2025-06-16T10:29:15.837625",
     "exception": false,
     "start_time": "2025-06-16T10:29:15.724755",
     "status": "completed"
    },
    "tags": []
   },
   "outputs": [
    {
     "data": {
      "text/html": [
       "<div>\n",
       "<style scoped>\n",
       "    .dataframe tbody tr th:only-of-type {\n",
       "        vertical-align: middle;\n",
       "    }\n",
       "\n",
       "    .dataframe tbody tr th {\n",
       "        vertical-align: top;\n",
       "    }\n",
       "\n",
       "    .dataframe thead th {\n",
       "        text-align: right;\n",
       "    }\n",
       "</style>\n",
       "<table border=\"1\" class=\"dataframe\">\n",
       "  <thead>\n",
       "    <tr style=\"text-align: right;\">\n",
       "      <th></th>\n",
       "      <th>uv_index</th>\n",
       "      <th>cloud_cover</th>\n",
       "      <th>visibility</th>\n",
       "    </tr>\n",
       "  </thead>\n",
       "  <tbody>\n",
       "    <tr>\n",
       "      <th>count</th>\n",
       "      <td>637194.000000</td>\n",
       "      <td>637194.000000</td>\n",
       "      <td>637194.000000</td>\n",
       "    </tr>\n",
       "    <tr>\n",
       "      <th>mean</th>\n",
       "      <td>0.249075</td>\n",
       "      <td>0.686230</td>\n",
       "      <td>8.469312</td>\n",
       "    </tr>\n",
       "    <tr>\n",
       "      <th>std</th>\n",
       "      <td>0.474355</td>\n",
       "      <td>0.358629</td>\n",
       "      <td>2.601731</td>\n",
       "    </tr>\n",
       "    <tr>\n",
       "      <th>min</th>\n",
       "      <td>0.000000</td>\n",
       "      <td>0.000000</td>\n",
       "      <td>0.717000</td>\n",
       "    </tr>\n",
       "    <tr>\n",
       "      <th>25%</th>\n",
       "      <td>0.000000</td>\n",
       "      <td>0.370000</td>\n",
       "      <td>8.432000</td>\n",
       "    </tr>\n",
       "    <tr>\n",
       "      <th>50%</th>\n",
       "      <td>0.000000</td>\n",
       "      <td>0.820000</td>\n",
       "      <td>9.880000</td>\n",
       "    </tr>\n",
       "    <tr>\n",
       "      <th>75%</th>\n",
       "      <td>0.000000</td>\n",
       "      <td>1.000000</td>\n",
       "      <td>9.996000</td>\n",
       "    </tr>\n",
       "    <tr>\n",
       "      <th>max</th>\n",
       "      <td>2.000000</td>\n",
       "      <td>1.000000</td>\n",
       "      <td>10.000000</td>\n",
       "    </tr>\n",
       "  </tbody>\n",
       "</table>\n",
       "</div>"
      ],
      "text/plain": [
       "            uv_index    cloud_cover     visibility\n",
       "count  637194.000000  637194.000000  637194.000000\n",
       "mean        0.249075       0.686230       8.469312\n",
       "std         0.474355       0.358629       2.601731\n",
       "min         0.000000       0.000000       0.717000\n",
       "25%         0.000000       0.370000       8.432000\n",
       "50%         0.000000       0.820000       9.880000\n",
       "75%         0.000000       1.000000       9.996000\n",
       "max         2.000000       1.000000      10.000000"
      ]
     },
     "execution_count": 64,
     "metadata": {},
     "output_type": "execute_result"
    }
   ],
   "source": [
    "df[[\"uv_index\",\"cloud_cover\",\"visibility\"]].describe()"
   ]
  },
  {
   "cell_type": "markdown",
   "id": "ff5c0803",
   "metadata": {
    "papermill": {
     "duration": 0.033394,
     "end_time": "2025-06-16T10:29:15.905073",
     "exception": false,
     "start_time": "2025-06-16T10:29:15.871679",
     "status": "completed"
    },
    "tags": []
   },
   "source": [
    "uv_index, cloud_cover and visibility doesn't have outliers or missing value."
   ]
  },
  {
   "cell_type": "markdown",
   "id": "d092a474",
   "metadata": {
    "papermill": {
     "duration": 0.034657,
     "end_time": "2025-06-16T10:29:15.974158",
     "exception": false,
     "start_time": "2025-06-16T10:29:15.939501",
     "status": "completed"
    },
    "tags": []
   },
   "source": [
    "## **Handling weather description data**"
   ]
  },
  {
   "cell_type": "code",
   "execution_count": 65,
   "id": "ff45b323",
   "metadata": {
    "execution": {
     "iopub.execute_input": "2025-06-16T10:29:16.043728Z",
     "iopub.status.busy": "2025-06-16T10:29:16.043372Z",
     "iopub.status.idle": "2025-06-16T10:29:16.084271Z",
     "shell.execute_reply": "2025-06-16T10:29:16.083233Z"
    },
    "papermill": {
     "duration": 0.077236,
     "end_time": "2025-06-16T10:29:16.085890",
     "exception": false,
     "start_time": "2025-06-16T10:29:16.008654",
     "status": "completed"
    },
    "tags": []
   },
   "outputs": [
    {
     "data": {
      "text/plain": [
       "array([' Foggy ', ' Foggy !!', ' Overcast ', ' Overcast !!',\n",
       "       ' Possible Drizzle ', ' Possible Drizzle !!', ' Drizzle ',\n",
       "       ' Drizzle !!', ' Light Rain ', ' Light Rain !!', ' Rain ',\n",
       "       ' Rain !!', ' Mostly Cloudy ', ' Mostly Cloudy !!',\n",
       "       ' Partly Cloudy ', ' Partly Cloudy !!', ' Clear ', ' Clear !!'],\n",
       "      dtype=object)"
      ]
     },
     "execution_count": 65,
     "metadata": {},
     "output_type": "execute_result"
    }
   ],
   "source": [
    "df[\"weather_desc_short\"].unique()"
   ]
  },
  {
   "cell_type": "code",
   "execution_count": 66,
   "id": "1e35ee01",
   "metadata": {
    "execution": {
     "iopub.execute_input": "2025-06-16T10:29:16.155191Z",
     "iopub.status.busy": "2025-06-16T10:29:16.154800Z",
     "iopub.status.idle": "2025-06-16T10:29:16.212519Z",
     "shell.execute_reply": "2025-06-16T10:29:16.211466Z"
    },
    "papermill": {
     "duration": 0.094486,
     "end_time": "2025-06-16T10:29:16.214524",
     "exception": false,
     "start_time": "2025-06-16T10:29:16.120038",
     "status": "completed"
    },
    "tags": []
   },
   "outputs": [
    {
     "data": {
      "text/plain": [
       "array([' Rain in the morning and afternoon. ',\n",
       "       ' Rain until morning, starting again in the evening. ',\n",
       "       ' Light rain in the morning. ',\n",
       "       ' Mostly cloudy throughout the day. ',\n",
       "       ' Partly cloudy throughout the day. ',\n",
       "       ' Overcast throughout the day. ',\n",
       "       ' Light rain in the morning and overnight. ',\n",
       "       ' Light rain until evening. ', ' Rain throughout the day. ',\n",
       "       ' Foggy in the morning. ', ' Possible drizzle in the morning. '],\n",
       "      dtype=object)"
      ]
     },
     "execution_count": 66,
     "metadata": {},
     "output_type": "execute_result"
    }
   ],
   "source": [
    "df[\"weather_desc_long\"].unique()"
   ]
  },
  {
   "cell_type": "markdown",
   "id": "fb99165c",
   "metadata": {
    "papermill": {
     "duration": 0.033922,
     "end_time": "2025-06-16T10:29:16.282614",
     "exception": false,
     "start_time": "2025-06-16T10:29:16.248692",
     "status": "completed"
    },
    "tags": []
   },
   "source": [
    "The weather_desc_short column contains duplicate values with exclamation marks (e.g., 'Rain' and 'Rain !!'). These indicate the same weather condition and should be treated as a single category.\n",
    "To clean this, we'll remove the exclamation marks and any leading/trailing whitespace."
   ]
  },
  {
   "cell_type": "code",
   "execution_count": 67,
   "id": "04c56888",
   "metadata": {
    "execution": {
     "iopub.execute_input": "2025-06-16T10:29:16.352668Z",
     "iopub.status.busy": "2025-06-16T10:29:16.351861Z",
     "iopub.status.idle": "2025-06-16T10:29:16.619089Z",
     "shell.execute_reply": "2025-06-16T10:29:16.618196Z"
    },
    "papermill": {
     "duration": 0.304094,
     "end_time": "2025-06-16T10:29:16.620794",
     "exception": false,
     "start_time": "2025-06-16T10:29:16.316700",
     "status": "completed"
    },
    "tags": []
   },
   "outputs": [],
   "source": [
    "# Remove '!!' and any leading/trailing whitespace\n",
    "df[\"weather_desc_short\"] = df[\"weather_desc_short\"].str.replace(\"!!\", \"\", regex=False).str.strip()"
   ]
  },
  {
   "cell_type": "code",
   "execution_count": 68,
   "id": "db6813cf",
   "metadata": {
    "execution": {
     "iopub.execute_input": "2025-06-16T10:29:16.689697Z",
     "iopub.status.busy": "2025-06-16T10:29:16.689348Z",
     "iopub.status.idle": "2025-06-16T10:29:16.730297Z",
     "shell.execute_reply": "2025-06-16T10:29:16.729480Z"
    },
    "papermill": {
     "duration": 0.077512,
     "end_time": "2025-06-16T10:29:16.732060",
     "exception": false,
     "start_time": "2025-06-16T10:29:16.654548",
     "status": "completed"
    },
    "tags": []
   },
   "outputs": [
    {
     "data": {
      "text/plain": [
       "array([' fog ', '☁️rainn%%', ' cloudy ', ' rain ', ' partly-cloudy-day ',\n",
       "       ' partly-cloudy-night ', ' clear-night ', ' clear-day '],\n",
       "      dtype=object)"
      ]
     },
     "execution_count": 68,
     "metadata": {},
     "output_type": "execute_result"
    }
   ],
   "source": [
    "df[\"weather_status\"].unique()"
   ]
  },
  {
   "cell_type": "markdown",
   "id": "0532b013",
   "metadata": {
    "papermill": {
     "duration": 0.034502,
     "end_time": "2025-06-16T10:29:16.803796",
     "exception": false,
     "start_time": "2025-06-16T10:29:16.769294",
     "status": "completed"
    },
    "tags": []
   },
   "source": [
    "#### Our preprocessing ends here. Now, we will save the dataset. And, we will read this cleaned dataset from another notebook to do exploratory data analysis."
   ]
  },
  {
   "cell_type": "code",
   "execution_count": 69,
   "id": "1bc048a5",
   "metadata": {
    "execution": {
     "iopub.execute_input": "2025-06-16T10:29:16.874366Z",
     "iopub.status.busy": "2025-06-16T10:29:16.874063Z",
     "iopub.status.idle": "2025-06-16T10:29:16.878459Z",
     "shell.execute_reply": "2025-06-16T10:29:16.877406Z"
    },
    "papermill": {
     "duration": 0.041532,
     "end_time": "2025-06-16T10:29:16.879992",
     "exception": false,
     "start_time": "2025-06-16T10:29:16.838460",
     "status": "completed"
    },
    "tags": []
   },
   "outputs": [],
   "source": [
    "# df.to_csv(\"Uber Cleaned Dataset.csv\", index=False)"
   ]
  }
 ],
 "metadata": {
  "kaggle": {
   "accelerator": "none",
   "dataSources": [
    {
     "datasetId": 7628184,
     "sourceId": 12164897,
     "sourceType": "datasetVersion"
    }
   ],
   "dockerImageVersionId": 31040,
   "isGpuEnabled": false,
   "isInternetEnabled": false,
   "language": "python",
   "sourceType": "notebook"
  },
  "kernelspec": {
   "display_name": "Python 3",
   "language": "python",
   "name": "python3"
  },
  "language_info": {
   "codemirror_mode": {
    "name": "ipython",
    "version": 3
   },
   "file_extension": ".py",
   "mimetype": "text/x-python",
   "name": "python",
   "nbconvert_exporter": "python",
   "pygments_lexer": "ipython3",
   "version": "3.11.11"
  },
  "papermill": {
   "default_parameters": {},
   "duration": 152.245138,
   "end_time": "2025-06-16T10:29:17.937186",
   "environment_variables": {},
   "exception": null,
   "input_path": "__notebook__.ipynb",
   "output_path": "__notebook__.ipynb",
   "parameters": {},
   "start_time": "2025-06-16T10:26:45.692048",
   "version": "2.6.0"
  }
 },
 "nbformat": 4,
 "nbformat_minor": 5
}
