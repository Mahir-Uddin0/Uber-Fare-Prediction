{
 "cells": [
  {
   "cell_type": "code",
   "execution_count": 1,
   "id": "0913b37a",
   "metadata": {},
   "outputs": [],
   "source": [
    "import numpy as np\n",
    "import pandas as pd\n",
    "import seaborn as sns\n",
    "import matplotlib.pyplot as plt\n",
    "from scipy import stats"
   ]
  },
  {
   "cell_type": "code",
   "execution_count": 2,
   "id": "4c4f7f21",
   "metadata": {
    "scrolled": false
   },
   "outputs": [
    {
     "ename": "FileNotFoundError",
     "evalue": "[Errno 2] No such file or directory: 'Uber Cleaned Dataset.csv'",
     "output_type": "error",
     "traceback": [
      "\u001b[0;31m---------------------------------------------------------------------------\u001b[0m",
      "\u001b[0;31mFileNotFoundError\u001b[0m                         Traceback (most recent call last)",
      "Cell \u001b[0;32mIn[2], line 1\u001b[0m\n\u001b[0;32m----> 1\u001b[0m df \u001b[38;5;241m=\u001b[39m \u001b[43mpd\u001b[49m\u001b[38;5;241;43m.\u001b[39;49m\u001b[43mread_csv\u001b[49m\u001b[43m(\u001b[49m\u001b[38;5;124;43m\"\u001b[39;49m\u001b[38;5;124;43mUber Cleaned Dataset.csv\u001b[39;49m\u001b[38;5;124;43m\"\u001b[39;49m\u001b[43m)\u001b[49m\n\u001b[1;32m      2\u001b[0m df\u001b[38;5;241m.\u001b[39mhead()\n",
      "File \u001b[0;32m/usr/lib/python3/dist-packages/pandas/io/parsers/readers.py:948\u001b[0m, in \u001b[0;36mread_csv\u001b[0;34m(filepath_or_buffer, sep, delimiter, header, names, index_col, usecols, dtype, engine, converters, true_values, false_values, skipinitialspace, skiprows, skipfooter, nrows, na_values, keep_default_na, na_filter, verbose, skip_blank_lines, parse_dates, infer_datetime_format, keep_date_col, date_parser, date_format, dayfirst, cache_dates, iterator, chunksize, compression, thousands, decimal, lineterminator, quotechar, quoting, doublequote, escapechar, comment, encoding, encoding_errors, dialect, on_bad_lines, delim_whitespace, low_memory, memory_map, float_precision, storage_options, dtype_backend)\u001b[0m\n\u001b[1;32m    935\u001b[0m kwds_defaults \u001b[38;5;241m=\u001b[39m _refine_defaults_read(\n\u001b[1;32m    936\u001b[0m     dialect,\n\u001b[1;32m    937\u001b[0m     delimiter,\n\u001b[0;32m   (...)\u001b[0m\n\u001b[1;32m    944\u001b[0m     dtype_backend\u001b[38;5;241m=\u001b[39mdtype_backend,\n\u001b[1;32m    945\u001b[0m )\n\u001b[1;32m    946\u001b[0m kwds\u001b[38;5;241m.\u001b[39mupdate(kwds_defaults)\n\u001b[0;32m--> 948\u001b[0m \u001b[38;5;28;01mreturn\u001b[39;00m \u001b[43m_read\u001b[49m\u001b[43m(\u001b[49m\u001b[43mfilepath_or_buffer\u001b[49m\u001b[43m,\u001b[49m\u001b[43m \u001b[49m\u001b[43mkwds\u001b[49m\u001b[43m)\u001b[49m\n",
      "File \u001b[0;32m/usr/lib/python3/dist-packages/pandas/io/parsers/readers.py:611\u001b[0m, in \u001b[0;36m_read\u001b[0;34m(filepath_or_buffer, kwds)\u001b[0m\n\u001b[1;32m    608\u001b[0m _validate_names(kwds\u001b[38;5;241m.\u001b[39mget(\u001b[38;5;124m\"\u001b[39m\u001b[38;5;124mnames\u001b[39m\u001b[38;5;124m\"\u001b[39m, \u001b[38;5;28;01mNone\u001b[39;00m))\n\u001b[1;32m    610\u001b[0m \u001b[38;5;66;03m# Create the parser.\u001b[39;00m\n\u001b[0;32m--> 611\u001b[0m parser \u001b[38;5;241m=\u001b[39m \u001b[43mTextFileReader\u001b[49m\u001b[43m(\u001b[49m\u001b[43mfilepath_or_buffer\u001b[49m\u001b[43m,\u001b[49m\u001b[43m \u001b[49m\u001b[38;5;241;43m*\u001b[39;49m\u001b[38;5;241;43m*\u001b[39;49m\u001b[43mkwds\u001b[49m\u001b[43m)\u001b[49m\n\u001b[1;32m    613\u001b[0m \u001b[38;5;28;01mif\u001b[39;00m chunksize \u001b[38;5;129;01mor\u001b[39;00m iterator:\n\u001b[1;32m    614\u001b[0m     \u001b[38;5;28;01mreturn\u001b[39;00m parser\n",
      "File \u001b[0;32m/usr/lib/python3/dist-packages/pandas/io/parsers/readers.py:1448\u001b[0m, in \u001b[0;36mTextFileReader.__init__\u001b[0;34m(self, f, engine, **kwds)\u001b[0m\n\u001b[1;32m   1445\u001b[0m     \u001b[38;5;28mself\u001b[39m\u001b[38;5;241m.\u001b[39moptions[\u001b[38;5;124m\"\u001b[39m\u001b[38;5;124mhas_index_names\u001b[39m\u001b[38;5;124m\"\u001b[39m] \u001b[38;5;241m=\u001b[39m kwds[\u001b[38;5;124m\"\u001b[39m\u001b[38;5;124mhas_index_names\u001b[39m\u001b[38;5;124m\"\u001b[39m]\n\u001b[1;32m   1447\u001b[0m \u001b[38;5;28mself\u001b[39m\u001b[38;5;241m.\u001b[39mhandles: IOHandles \u001b[38;5;241m|\u001b[39m \u001b[38;5;28;01mNone\u001b[39;00m \u001b[38;5;241m=\u001b[39m \u001b[38;5;28;01mNone\u001b[39;00m\n\u001b[0;32m-> 1448\u001b[0m \u001b[38;5;28mself\u001b[39m\u001b[38;5;241m.\u001b[39m_engine \u001b[38;5;241m=\u001b[39m \u001b[38;5;28;43mself\u001b[39;49m\u001b[38;5;241;43m.\u001b[39;49m\u001b[43m_make_engine\u001b[49m\u001b[43m(\u001b[49m\u001b[43mf\u001b[49m\u001b[43m,\u001b[49m\u001b[43m \u001b[49m\u001b[38;5;28;43mself\u001b[39;49m\u001b[38;5;241;43m.\u001b[39;49m\u001b[43mengine\u001b[49m\u001b[43m)\u001b[49m\n",
      "File \u001b[0;32m/usr/lib/python3/dist-packages/pandas/io/parsers/readers.py:1705\u001b[0m, in \u001b[0;36mTextFileReader._make_engine\u001b[0;34m(self, f, engine)\u001b[0m\n\u001b[1;32m   1703\u001b[0m     \u001b[38;5;28;01mif\u001b[39;00m \u001b[38;5;124m\"\u001b[39m\u001b[38;5;124mb\u001b[39m\u001b[38;5;124m\"\u001b[39m \u001b[38;5;129;01mnot\u001b[39;00m \u001b[38;5;129;01min\u001b[39;00m mode:\n\u001b[1;32m   1704\u001b[0m         mode \u001b[38;5;241m+\u001b[39m\u001b[38;5;241m=\u001b[39m \u001b[38;5;124m\"\u001b[39m\u001b[38;5;124mb\u001b[39m\u001b[38;5;124m\"\u001b[39m\n\u001b[0;32m-> 1705\u001b[0m \u001b[38;5;28mself\u001b[39m\u001b[38;5;241m.\u001b[39mhandles \u001b[38;5;241m=\u001b[39m \u001b[43mget_handle\u001b[49m\u001b[43m(\u001b[49m\n\u001b[1;32m   1706\u001b[0m \u001b[43m    \u001b[49m\u001b[43mf\u001b[49m\u001b[43m,\u001b[49m\n\u001b[1;32m   1707\u001b[0m \u001b[43m    \u001b[49m\u001b[43mmode\u001b[49m\u001b[43m,\u001b[49m\n\u001b[1;32m   1708\u001b[0m \u001b[43m    \u001b[49m\u001b[43mencoding\u001b[49m\u001b[38;5;241;43m=\u001b[39;49m\u001b[38;5;28;43mself\u001b[39;49m\u001b[38;5;241;43m.\u001b[39;49m\u001b[43moptions\u001b[49m\u001b[38;5;241;43m.\u001b[39;49m\u001b[43mget\u001b[49m\u001b[43m(\u001b[49m\u001b[38;5;124;43m\"\u001b[39;49m\u001b[38;5;124;43mencoding\u001b[39;49m\u001b[38;5;124;43m\"\u001b[39;49m\u001b[43m,\u001b[49m\u001b[43m \u001b[49m\u001b[38;5;28;43;01mNone\u001b[39;49;00m\u001b[43m)\u001b[49m\u001b[43m,\u001b[49m\n\u001b[1;32m   1709\u001b[0m \u001b[43m    \u001b[49m\u001b[43mcompression\u001b[49m\u001b[38;5;241;43m=\u001b[39;49m\u001b[38;5;28;43mself\u001b[39;49m\u001b[38;5;241;43m.\u001b[39;49m\u001b[43moptions\u001b[49m\u001b[38;5;241;43m.\u001b[39;49m\u001b[43mget\u001b[49m\u001b[43m(\u001b[49m\u001b[38;5;124;43m\"\u001b[39;49m\u001b[38;5;124;43mcompression\u001b[39;49m\u001b[38;5;124;43m\"\u001b[39;49m\u001b[43m,\u001b[49m\u001b[43m \u001b[49m\u001b[38;5;28;43;01mNone\u001b[39;49;00m\u001b[43m)\u001b[49m\u001b[43m,\u001b[49m\n\u001b[1;32m   1710\u001b[0m \u001b[43m    \u001b[49m\u001b[43mmemory_map\u001b[49m\u001b[38;5;241;43m=\u001b[39;49m\u001b[38;5;28;43mself\u001b[39;49m\u001b[38;5;241;43m.\u001b[39;49m\u001b[43moptions\u001b[49m\u001b[38;5;241;43m.\u001b[39;49m\u001b[43mget\u001b[49m\u001b[43m(\u001b[49m\u001b[38;5;124;43m\"\u001b[39;49m\u001b[38;5;124;43mmemory_map\u001b[39;49m\u001b[38;5;124;43m\"\u001b[39;49m\u001b[43m,\u001b[49m\u001b[43m \u001b[49m\u001b[38;5;28;43;01mFalse\u001b[39;49;00m\u001b[43m)\u001b[49m\u001b[43m,\u001b[49m\n\u001b[1;32m   1711\u001b[0m \u001b[43m    \u001b[49m\u001b[43mis_text\u001b[49m\u001b[38;5;241;43m=\u001b[39;49m\u001b[43mis_text\u001b[49m\u001b[43m,\u001b[49m\n\u001b[1;32m   1712\u001b[0m \u001b[43m    \u001b[49m\u001b[43merrors\u001b[49m\u001b[38;5;241;43m=\u001b[39;49m\u001b[38;5;28;43mself\u001b[39;49m\u001b[38;5;241;43m.\u001b[39;49m\u001b[43moptions\u001b[49m\u001b[38;5;241;43m.\u001b[39;49m\u001b[43mget\u001b[49m\u001b[43m(\u001b[49m\u001b[38;5;124;43m\"\u001b[39;49m\u001b[38;5;124;43mencoding_errors\u001b[39;49m\u001b[38;5;124;43m\"\u001b[39;49m\u001b[43m,\u001b[49m\u001b[43m \u001b[49m\u001b[38;5;124;43m\"\u001b[39;49m\u001b[38;5;124;43mstrict\u001b[39;49m\u001b[38;5;124;43m\"\u001b[39;49m\u001b[43m)\u001b[49m\u001b[43m,\u001b[49m\n\u001b[1;32m   1713\u001b[0m \u001b[43m    \u001b[49m\u001b[43mstorage_options\u001b[49m\u001b[38;5;241;43m=\u001b[39;49m\u001b[38;5;28;43mself\u001b[39;49m\u001b[38;5;241;43m.\u001b[39;49m\u001b[43moptions\u001b[49m\u001b[38;5;241;43m.\u001b[39;49m\u001b[43mget\u001b[49m\u001b[43m(\u001b[49m\u001b[38;5;124;43m\"\u001b[39;49m\u001b[38;5;124;43mstorage_options\u001b[39;49m\u001b[38;5;124;43m\"\u001b[39;49m\u001b[43m,\u001b[49m\u001b[43m \u001b[49m\u001b[38;5;28;43;01mNone\u001b[39;49;00m\u001b[43m)\u001b[49m\u001b[43m,\u001b[49m\n\u001b[1;32m   1714\u001b[0m \u001b[43m\u001b[49m\u001b[43m)\u001b[49m\n\u001b[1;32m   1715\u001b[0m \u001b[38;5;28;01massert\u001b[39;00m \u001b[38;5;28mself\u001b[39m\u001b[38;5;241m.\u001b[39mhandles \u001b[38;5;129;01mis\u001b[39;00m \u001b[38;5;129;01mnot\u001b[39;00m \u001b[38;5;28;01mNone\u001b[39;00m\n\u001b[1;32m   1716\u001b[0m f \u001b[38;5;241m=\u001b[39m \u001b[38;5;28mself\u001b[39m\u001b[38;5;241m.\u001b[39mhandles\u001b[38;5;241m.\u001b[39mhandle\n",
      "File \u001b[0;32m/usr/lib/python3/dist-packages/pandas/io/common.py:863\u001b[0m, in \u001b[0;36mget_handle\u001b[0;34m(path_or_buf, mode, encoding, compression, memory_map, is_text, errors, storage_options)\u001b[0m\n\u001b[1;32m    858\u001b[0m \u001b[38;5;28;01melif\u001b[39;00m \u001b[38;5;28misinstance\u001b[39m(handle, \u001b[38;5;28mstr\u001b[39m):\n\u001b[1;32m    859\u001b[0m     \u001b[38;5;66;03m# Check whether the filename is to be opened in binary mode.\u001b[39;00m\n\u001b[1;32m    860\u001b[0m     \u001b[38;5;66;03m# Binary mode does not support 'encoding' and 'newline'.\u001b[39;00m\n\u001b[1;32m    861\u001b[0m     \u001b[38;5;28;01mif\u001b[39;00m ioargs\u001b[38;5;241m.\u001b[39mencoding \u001b[38;5;129;01mand\u001b[39;00m \u001b[38;5;124m\"\u001b[39m\u001b[38;5;124mb\u001b[39m\u001b[38;5;124m\"\u001b[39m \u001b[38;5;129;01mnot\u001b[39;00m \u001b[38;5;129;01min\u001b[39;00m ioargs\u001b[38;5;241m.\u001b[39mmode:\n\u001b[1;32m    862\u001b[0m         \u001b[38;5;66;03m# Encoding\u001b[39;00m\n\u001b[0;32m--> 863\u001b[0m         handle \u001b[38;5;241m=\u001b[39m \u001b[38;5;28;43mopen\u001b[39;49m\u001b[43m(\u001b[49m\n\u001b[1;32m    864\u001b[0m \u001b[43m            \u001b[49m\u001b[43mhandle\u001b[49m\u001b[43m,\u001b[49m\n\u001b[1;32m    865\u001b[0m \u001b[43m            \u001b[49m\u001b[43mioargs\u001b[49m\u001b[38;5;241;43m.\u001b[39;49m\u001b[43mmode\u001b[49m\u001b[43m,\u001b[49m\n\u001b[1;32m    866\u001b[0m \u001b[43m            \u001b[49m\u001b[43mencoding\u001b[49m\u001b[38;5;241;43m=\u001b[39;49m\u001b[43mioargs\u001b[49m\u001b[38;5;241;43m.\u001b[39;49m\u001b[43mencoding\u001b[49m\u001b[43m,\u001b[49m\n\u001b[1;32m    867\u001b[0m \u001b[43m            \u001b[49m\u001b[43merrors\u001b[49m\u001b[38;5;241;43m=\u001b[39;49m\u001b[43merrors\u001b[49m\u001b[43m,\u001b[49m\n\u001b[1;32m    868\u001b[0m \u001b[43m            \u001b[49m\u001b[43mnewline\u001b[49m\u001b[38;5;241;43m=\u001b[39;49m\u001b[38;5;124;43m\"\u001b[39;49m\u001b[38;5;124;43m\"\u001b[39;49m\u001b[43m,\u001b[49m\n\u001b[1;32m    869\u001b[0m \u001b[43m        \u001b[49m\u001b[43m)\u001b[49m\n\u001b[1;32m    870\u001b[0m     \u001b[38;5;28;01melse\u001b[39;00m:\n\u001b[1;32m    871\u001b[0m         \u001b[38;5;66;03m# Binary mode\u001b[39;00m\n\u001b[1;32m    872\u001b[0m         handle \u001b[38;5;241m=\u001b[39m \u001b[38;5;28mopen\u001b[39m(handle, ioargs\u001b[38;5;241m.\u001b[39mmode)\n",
      "\u001b[0;31mFileNotFoundError\u001b[0m: [Errno 2] No such file or directory: 'Uber Cleaned Dataset.csv'"
     ]
    }
   ],
   "source": [
    "df = pd.read_csv(\"Uber Cleaned Dataset.csv\")\n",
    "df.head()"
   ]
  },
  {
   "cell_type": "code",
   "execution_count": null,
   "id": "02b1ff6a",
   "metadata": {},
   "outputs": [],
   "source": [
    "df.info()"
   ]
  },
  {
   "cell_type": "code",
   "execution_count": null,
   "id": "a6aa1e3c",
   "metadata": {},
   "outputs": [],
   "source": [
    "df.describe()"
   ]
  },
  {
   "cell_type": "code",
   "execution_count": null,
   "id": "7fd76e99",
   "metadata": {},
   "outputs": [],
   "source": [
    "df.isnull().sum()"
   ]
  },
  {
   "cell_type": "markdown",
   "id": "ab4ef200",
   "metadata": {},
   "source": [
    "## Understanding the Target Variable — Fare\n",
    "\n",
    "In this step, we aim to understand the distribution and behavior of the target variable `fare`. This includes:\n",
    "\n",
    "- Plotting the histogram and boxplot to visually assess the distribution and detect potential outliers.\n",
    "- Calculating key summary statistics such as mean, median, mode, and Interquartile Range (IQR).\n",
    "- Checking skewness to understand the shape of the distribution (e.g., right-skewed or left-skewed)."
   ]
  },
  {
   "cell_type": "code",
   "execution_count": null,
   "id": "2e1af2cf",
   "metadata": {},
   "outputs": [],
   "source": [
    "# Plotting the histogram of fare\n",
    "plt.figure(figsize=(12, 5))\n",
    "sns.histplot(df[\"fare\"], bins=50, kde=True, color=\"skyblue\")\n",
    "plt.title(\"Histogram of Fare\")\n",
    "plt.xlabel(\"Fare\")\n",
    "plt.ylabel(\"Frequency\")\n",
    "plt.show()\n",
    "\n",
    "# Plotting the boxplot of fare\n",
    "plt.figure(figsize=(10, 2))\n",
    "sns.boxplot(data=df, x=\"fare\", color=\"salmon\")\n",
    "plt.title(\"Boxplot of Fare\")\n",
    "plt.xlabel(\"Fare\")\n",
    "plt.show()\n",
    "\n",
    "# Calculate summary statistics\n",
    "fare_mean = df[\"fare\"].mean()\n",
    "fare_median = df[\"fare\"].median()\n",
    "fare_mode = df[\"fare\"].mode()[0]\n",
    "fare_std = df[\"fare\"].std()\n",
    "\n",
    "# Interquartile Range (IQR)\n",
    "Q1 = df[\"fare\"].quantile(0.25)\n",
    "Q3 = df[\"fare\"].quantile(0.75)\n",
    "IQR = Q3 - Q1\n",
    "\n",
    "# Skewness\n",
    "fare_skewness = df[\"fare\"].skew()\n",
    "\n",
    "print(f\"Mean Fare: {fare_mean:.2f}\")\n",
    "print(f\"Median Fare: {fare_median:.2f}\")\n",
    "print(f\"Mode Fare: {fare_mode:.2f}\")\n",
    "print(f\"Standard Deviation: {fare_std:.2f}\")\n",
    "print(f\"Q1: {Q1:.2f}, Q3: {Q3:.2f}, IQR: {IQR:.2f}\")\n",
    "print(f\"Skewness: {fare_skewness:.2f}\")\n"
   ]
  },
  {
   "cell_type": "markdown",
   "id": "4acd83d3",
   "metadata": {},
   "source": [
    "## Step 3: Univariate Analysis of Features\n",
    "\n",
    "In this step, we explore the distribution and characteristics of each individual feature in the dataset. The goal is to understand the data types, identify potential anomalies, and gain insights into the behavior of each variable.\n",
    "\n",
    "We'll examine:\n",
    "- **Numerical features** such as distance, temperature, humidity, etc.\n",
    "- **Categorical features** such as vehicle type, source, destination, weather description, etc.\n",
    "\n",
    "\n",
    "\n",
    "\n"
   ]
  },
  {
   "cell_type": "code",
   "execution_count": null,
   "id": "83d1512d",
   "metadata": {},
   "outputs": [],
   "source": [
    "# List of numerical features (excluding target 'fare')\n",
    "num_cols = ['distance', 'temperature_C', 'humidity', 'pressure', 'wind_speed', 'visibility', 'cloud_cover', 'uv_index','surge_multiplier']\n",
    "\n",
    "# Plot histograms\n",
    "df[num_cols].hist(bins=30, figsize=(15, 10), color='skyblue', edgecolor='black')\n",
    "plt.suptitle(\"Distribution of Numerical Features\", fontsize=16)\n",
    "plt.tight_layout()\n",
    "plt.show()\n",
    "\n",
    "# Summary statistics\n",
    "df[num_cols].describe()\n"
   ]
  },
  {
   "cell_type": "code",
   "execution_count": null,
   "id": "846e5fab",
   "metadata": {
    "scrolled": false
   },
   "outputs": [],
   "source": [
    "# Categorical features\n",
    "cat_cols = ['vehicle', 'source', 'destination', 'weather_desc_short', 'weather_status']\n",
    "\n",
    "# Count plots for categorical variables\n",
    "for col in cat_cols:\n",
    "    plt.figure(figsize=(10, 4))\n",
    "    sns.countplot(data=df, x=col, order=df[col].value_counts().index, palette=\"viridis\")\n",
    "    plt.title(f\"Distribution of {col}\")\n",
    "    plt.xticks(rotation=45)\n",
    "    plt.tight_layout()\n",
    "    plt.show()\n"
   ]
  },
  {
   "cell_type": "markdown",
   "id": "6dee866c",
   "metadata": {},
   "source": [
    "## **Bivariate Analysis**"
   ]
  },
  {
   "cell_type": "markdown",
   "id": "081d792e",
   "metadata": {},
   "source": [
    "## **Fare vs Distance**\n",
    "\n",
    "In this step, we analyze the relationship between the target variable `fare` and other features to uncover potential patterns and associations.\n",
    "\n",
    "We'll explore:\n",
    "- Correlation between `fare` and numerical variables like `distance`, `temperature`, etc.\n",
    "- How `fare` varies across different categories such as `vehicle type`, `source`, and `weather`.\n"
   ]
  },
  {
   "cell_type": "code",
   "execution_count": null,
   "id": "73d42356",
   "metadata": {},
   "outputs": [],
   "source": [
    "# Correlation of fare with numerical features\n",
    "corr_with_fare = df.corr(numeric_only=True)[\"fare\"].sort_values(ascending=False)\n",
    "print(\"Correlation with Fare:\\n\", corr_with_fare)\n",
    "\n",
    "# Scatter plot: Distance vs Fare\n",
    "plt.figure(figsize=(10, 5))\n",
    "sns.scatterplot(data=df, x=\"distance\", y=\"fare\", alpha=0.5)\n",
    "plt.title(\"Distance vs Fare\")\n",
    "plt.show()"
   ]
  },
  {
   "cell_type": "markdown",
   "id": "bcb61a05",
   "metadata": {},
   "source": [
    "To understand the relationship between fare and distance, We plotted the distance vs fare and calculated correlation of fare with other numerical features. Features except distance doesn't show correalation. The overall fare vs distance correlation coefficient is 0.33, indicating a weak to moderate linear relationship. This suggests that distance alone does not fully explain fare variations.\n",
    "Several other factors influence the final fare, including the ride company and the type of vehicle used. For example, luxury vehicles typically charge higher rates for the same distance compared to standard vehicles. Therefore, it's important to consider these variables when analyzing fare patterns."
   ]
  },
  {
   "cell_type": "code",
   "execution_count": null,
   "id": "b6009384",
   "metadata": {},
   "outputs": [],
   "source": [
    "print(f\"Lyft:\\n {df[df[\"ride_company\"]=='Lyft'][[\"fare\",\"distance\"]].corr()}\" )\n",
    "print(f\"Uber:\\n {df[df[\"ride_company\"]=='Uber'][[\"fare\",\"distance\"]].corr()}\" )"
   ]
  },
  {
   "cell_type": "markdown",
   "id": "9b31fb78",
   "metadata": {},
   "source": [
    "Difference in Ride company don't change the correlation much."
   ]
  },
  {
   "cell_type": "code",
   "execution_count": null,
   "id": "c6c90199",
   "metadata": {},
   "outputs": [],
   "source": [
    "df[\"vehicle\"].unique()"
   ]
  },
  {
   "cell_type": "code",
   "execution_count": null,
   "id": "9df4cb2e",
   "metadata": {},
   "outputs": [],
   "source": [
    "for vehicle in df[\"vehicle\"].unique():\n",
    "    print(f\"{vehicle}: {df[df[\"vehicle\"]==vehicle][[\"fare\",\"distance\"]].corr()[\"fare\"][\"distance\"].round(2)}\")"
   ]
  },
  {
   "cell_type": "markdown",
   "id": "cc0f6400",
   "metadata": {},
   "source": [
    "All vehicle types show a strong positive correlation between fare and distance."
   ]
  },
  {
   "cell_type": "code",
   "execution_count": null,
   "id": "092411c8",
   "metadata": {},
   "outputs": [],
   "source": [
    "# Calculate median fare per vehicle\n",
    "median_fares = df.groupby(\"vehicle\")[\"fare\"].median().sort_values(ascending=False)\n",
    "\n",
    "# Plot sorted boxplot\n",
    "plt.figure(figsize=(10, 5))\n",
    "sns.boxplot(data=df, x=\"vehicle\", y=\"fare\", order=median_fares.index)\n",
    "plt.title(\"Fare Distribution by Vehicle Type (Sorted by Median Fare)\")\n",
    "plt.xticks(rotation=45)\n",
    "plt.tight_layout()\n",
    "plt.show()"
   ]
  },
  {
   "cell_type": "code",
   "execution_count": null,
   "id": "aa44a0fc",
   "metadata": {
    "scrolled": false
   },
   "outputs": [],
   "source": [
    "fare_stats = df.groupby(\"vehicle\")[\"fare\"].describe().T\n",
    "fare_stats = fare_stats.loc[:, df.groupby(\"vehicle\")[\"fare\"].mean().sort_values(ascending=False).index]\n",
    "\n",
    "fare_stats"
   ]
  },
  {
   "cell_type": "markdown",
   "id": "3434c34c",
   "metadata": {},
   "source": [
    "High end vehicles have higher min and mean fare."
   ]
  },
  {
   "cell_type": "markdown",
   "id": "944006d8",
   "metadata": {},
   "source": [
    "## **Fare vs Destination & Source**"
   ]
  },
  {
   "cell_type": "code",
   "execution_count": null,
   "id": "6b3bbbfa",
   "metadata": {},
   "outputs": [],
   "source": [
    "# Source\n",
    "plt.figure(figsize=(10, 4))\n",
    "order = df.groupby(\"source\")[\"fare\"].mean().sort_values(ascending=False).index\n",
    "sns.boxplot(data=df, x=\"source\", y=\"fare\", order=order)\n",
    "plt.title(\"Fare Distribution by Source\")\n",
    "plt.xticks(rotation=45)\n",
    "plt.tight_layout()\n",
    "plt.show()\n",
    "\n",
    "# Destination\n",
    "plt.figure(figsize=(10, 4))\n",
    "order = df.groupby(\"destination\")[\"fare\"].mean().sort_values(ascending=False).index\n",
    "sns.boxplot(data=df, x=\"destination\", y=\"fare\", order=order)\n",
    "plt.title(\"Fare Distribution by Destination\")\n",
    "plt.xticks(rotation=45)\n",
    "plt.tight_layout()\n",
    "plt.show()"
   ]
  },
  {
   "cell_type": "code",
   "execution_count": null,
   "id": "6a7c13ba",
   "metadata": {},
   "outputs": [],
   "source": [
    "# Filter out invalid distances\n",
    "df_valid = df.copy()\n",
    "\n",
    "# Compute fare per unit distance\n",
    "df_valid[\"fare_per_distance\"] = df_valid[\"fare\"] / df_valid[\"distance\"]\n",
    "\n",
    "# Create a pivot table: source vs vehicle with mean fare/distance\n",
    "fare_ratio_pivot = df_valid.pivot_table(index=\"source\", columns=\"vehicle\", values=\"fare_per_distance\", aggfunc=\"mean\")\n",
    "\n",
    "# Calculate row-wise sum to sort the table\n",
    "row_sum = fare_ratio_pivot.sum(axis=1)\n",
    "\n",
    "# Sort rows by total fare_per_distance\n",
    "fare_ratio_pivot = fare_ratio_pivot.loc[row_sum.sort_values(ascending=False).index]\n",
    "\n",
    "# Sort columns by total fare_per_distance\n",
    "col_sum = fare_ratio_pivot.sum(axis=0)\n",
    "fare_ratio_pivot = fare_ratio_pivot[col_sum.sort_values(ascending=False).index]\n",
    "\n",
    "# Display the table\n",
    "fare_ratio_pivot.style.background_gradient(cmap=\"YlOrRd\")\n"
   ]
  },
  {
   "cell_type": "markdown",
   "id": "f289f64b",
   "metadata": {},
   "source": [
    "We uncovered a consistent and meaningful pattern: the average price-to-distance ratio varies notably across different source locations. This disparity is not random—it holds true across all vehicle categories, indicating a systemic pricing behavior based on pickup location.\n",
    "\n",
    "Source locations with higher price/distance ratios—such as Haymarket Square, Financial District, and South Station—are predominantly commercial zones. These areas are characterized by high traffic, dense transit access, office clusters, shopping centers, and tourist activity. The elevated fare in these zones likely reflects greater ride demand, frequent congestion, and limited transportation alternatives.\n",
    "\n",
    "On the other hand, areas with lower price/distance ratios, including Fenway, Northeastern University, and Boston University, tend to be residential or academic neighborhoods. These locations typically have lower ride demand, less traffic, and a calmer urban environment, which keeps fare rates more stable and affordable.\n",
    "\n",
    "This analysis highlights that location, traffic intensity, and local demand significantly influence fare behavior, beyond just the vehicle type or distance traveled."
   ]
  },
  {
   "cell_type": "code",
   "execution_count": null,
   "id": "db8f1570",
   "metadata": {
    "scrolled": false
   },
   "outputs": [],
   "source": [
    "df_valid = df.copy()\n",
    "# Compute fare per unit distance\n",
    "df_valid[\"fare_per_distance\"] = df_valid[\"fare\"] / df_valid[\"distance\"]\n",
    "\n",
    "# Create a pivot table: source vs vehicle with mean fare/distance\n",
    "fare_ratio_pivot = df_valid.pivot_table(index=\"destination\", columns=\"vehicle\", values=\"fare_per_distance\", aggfunc=\"mean\")\n",
    "\n",
    "# Calculate row-wise sum to sort the table\n",
    "row_sum = fare_ratio_pivot.sum(axis=1)\n",
    "\n",
    "# Sort rows by total fare_per_distance\n",
    "fare_ratio_pivot = fare_ratio_pivot.loc[row_sum.sort_values(ascending=False).index]\n",
    "\n",
    "# Sort columns by total fare_per_distance\n",
    "col_sum = fare_ratio_pivot.sum(axis=0)\n",
    "fare_ratio_pivot = fare_ratio_pivot[col_sum.sort_values(ascending=False).index]\n",
    "\n",
    "# Display the taorder = df.groupby(\"destination\")[\"fare\"].mean().sort_values(ascending=False).indexble\n",
    "fare_ratio_pivot.style.background_gradient(cmap=\"YlOrRd\")"
   ]
  },
  {
   "cell_type": "markdown",
   "id": "78f027a3",
   "metadata": {},
   "source": [
    "We observed a similar fare pattern when grouped by destination: locations with the highest average price-per-distance ratio as destinations were also those that ranked highest as sources. This consistent structure suggests that both pickup and drop-off locations influence fare significantly.\n",
    "\n",
    "Busy commercial areas—such as business districts, transit hubs, and tourist spots—tend to have higher fares, regardless of whether they are the origin or destination of a ride. "
   ]
  },
  {
   "cell_type": "code",
   "execution_count": null,
   "id": "fdf88b9d",
   "metadata": {},
   "outputs": [],
   "source": [
    "ride_counts = pd.crosstab(df[\"source\"], df[\"destination\"])\n",
    "ride_counts.style.background_gradient(cmap=\"Blues\")\n"
   ]
  },
  {
   "cell_type": "markdown",
   "id": "a8a51d8f",
   "metadata": {},
   "source": [
    "Another interesting insight from the dataset is the ride distribution across location pairs. The total number of rides between various source and destination combinations is remarkably balanced—most pairs have very similar ride counts, often in the range of 8,000 to 9,500.\n",
    "\n",
    "However, rides are concentrated only among 72 specific source-destination pairs, while several combinations show zero rides, indicating that not all location pairs are equally connected in this dataset. This suggests a structured and limited travel pattern, possibly reflecting common commuting routes, urban layout, or user demand behavior."
   ]
  },
  {
   "cell_type": "markdown",
   "id": "7182dd63",
   "metadata": {},
   "source": [
    "## **Fare vs Time**"
   ]
  },
  {
   "cell_type": "code",
   "execution_count": null,
   "id": "7e37266c",
   "metadata": {},
   "outputs": [],
   "source": [
    "df[\"fare_per_km\"] = df[\"fare\"] / df[\"distance\"] \n",
    "\n",
    "plt.figure(figsize=(10, 5))\n",
    "sns.lineplot(data=df, x=\"hour\", y=\"fare_per_km\", estimator='mean', ci=None)\n",
    "plt.title(\"Average Fare per km by Hour of Day\")\n",
    "plt.xlabel(\"Hour of Day\")\n",
    "plt.ylabel(\"Avg Fare per km\")\n",
    "plt.grid(True)\n",
    "plt.tight_layout()\n",
    "plt.show()"
   ]
  },
  {
   "cell_type": "markdown",
   "id": "74358daf",
   "metadata": {},
   "source": [
    "The average fare per kilometer remains consistent throughout the day, ranging narrowly between `$9.55` and `$9.90`. There is no significant deviation or discernible pattern across different hours, indicating that time of day does not substantially impact the fare rate per kilometer in this dataset."
   ]
  },
  {
   "cell_type": "code",
   "execution_count": null,
   "id": "56bc094f",
   "metadata": {},
   "outputs": [],
   "source": [
    "df[\"fare_per_km\"] = df[\"fare\"] / df[\"distance\"] \n",
    "\n",
    "plt.figure(figsize=(10, 5))\n",
    "sns.lineplot(data=df, x=\"day_of_week\", y=\"fare_per_km\", estimator='mean', ci=None)\n",
    "plt.title(\"Average Fare per km by Hour of Day\")\n",
    "plt.xlabel(\"Hour of Day\")\n",
    "plt.ylabel(\"Avg Fare per km\")\n",
    "plt.grid(True)\n",
    "plt.tight_layout()\n",
    "plt.show()"
   ]
  },
  {
   "cell_type": "markdown",
   "id": "887c1a27",
   "metadata": {},
   "source": [
    "The variation in fare across different days of the week is minimal, with average fares per kilometer ranging only from 9.65 to 9.77. Combined with the earlier observation that fare remains consistent across different hours of the day, we can conclude that neither the time of day nor the day of the week has any significant impact on fare in this dataset."
   ]
  },
  {
   "cell_type": "markdown",
   "id": "57bc0ab7",
   "metadata": {},
   "source": [
    "## **Fare vs Weather Description**"
   ]
  },
  {
   "cell_type": "code",
   "execution_count": null,
   "id": "7d1d27ca",
   "metadata": {},
   "outputs": [],
   "source": [
    "plt.figure(figsize=(10, 5))\n",
    "sns.boxplot(data=df, x=\"weather_desc_short\", y=\"fare\")\n",
    "plt.title(\"Fare vs Weather Description Short\")\n",
    "plt.xticks(rotation=45)\n",
    "plt.tight_layout()\n",
    "plt.show()\n",
    "\n",
    "plt.figure(figsize=(10, 5))\n",
    "sns.boxplot(data=df, x=\"weather_desc_long\", y=\"fare\")\n",
    "plt.title(\"Fare vs Weather Description Long\")\n",
    "plt.xticks(rotation=45)\n",
    "plt.tight_layout()\n",
    "plt.show()\n",
    "\n",
    "plt.figure(figsize=(10, 5))\n",
    "sns.boxplot(data=df, x=\"weather_status\", y=\"fare\")\n",
    "plt.title(\"Fare vs Weather Status\")\n",
    "plt.xticks(rotation=45)\n",
    "plt.tight_layout()\n",
    "plt.show()"
   ]
  },
  {
   "cell_type": "code",
   "execution_count": null,
   "id": "67a6d5ca",
   "metadata": {},
   "outputs": [],
   "source": [
    "fare_stats = df.groupby(\"weather_desc_short\")[\"fare\"].describe().T\n",
    "fare_stats = fare_stats.loc[:, df.groupby(\"weather_desc_short\")[\"fare\"].mean().sort_values(ascending=False).index]\n",
    "\n",
    "fare_stats"
   ]
  },
  {
   "cell_type": "code",
   "execution_count": null,
   "id": "ced154ab",
   "metadata": {},
   "outputs": [],
   "source": [
    "plt.figure(figsize=(10, 5))\n",
    "sns.boxplot(data=df, x=\"weather_desc_short\", y=\"surge_multiplier\")\n",
    "plt.title(\"Fare vs Weather Description\")\n",
    "plt.xticks(rotation=45)\n",
    "plt.tight_layout()\n",
    "plt.show()"
   ]
  },
  {
   "cell_type": "code",
   "execution_count": null,
   "id": "1573c8b0",
   "metadata": {},
   "outputs": [],
   "source": [
    "temp_df = df[df[\"surge_multiplier\"]>1]\n",
    "temp_df.groupby(\"weather_desc_short\")[\"surge_multiplier\"].count() / df.groupby(\"weather_desc_short\")[\"surge_multiplier\"].count() * 100"
   ]
  },
  {
   "cell_type": "markdown",
   "id": "546a31ac",
   "metadata": {},
   "source": [
    "Our analysis indicates that weather conditions have no significant impact on either fare amounts or surge pricing. The proportion of surge rides remained fairly consistent—ranging from 2.9% to 3.8%—across all weather types. Additionally, summary statistics and boxplot distributions of fare grouped by weather_desc_short, weather_desc_long, and weather_status showed no meaningful variation.\n",
    "\n",
    "Although some influence from weather was expected, surprisingly, the data reveals no observable relationship between weather and fare behavior. Since weather_desc_short, weather_desc_long, and weather_status convey overlapping information, and none contribute to fare prediction, we can confidently drop the three columns."
   ]
  },
  {
   "cell_type": "code",
   "execution_count": null,
   "id": "9cab62e5",
   "metadata": {},
   "outputs": [],
   "source": [
    "df = df.drop(columns=[\"weather_desc_long\",\"weather_desc_short\",\"weather_status\"], axis=1, inplace=False)"
   ]
  },
  {
   "cell_type": "markdown",
   "id": "3bd88b5d",
   "metadata": {},
   "source": [
    "## **Fare vs Weather Features**"
   ]
  },
  {
   "cell_type": "code",
   "execution_count": null,
   "id": "b8f03427",
   "metadata": {
    "scrolled": false
   },
   "outputs": [],
   "source": [
    "features = [\"temperature_C\", \"wind_speed\", \"humidity\", \"visibility\", \"uv_index\", \"cloud_cover\"]\n",
    "\n",
    "for feature in features:\n",
    "    plt.figure(figsize=(6, 4))\n",
    "    sns.regplot(data=df, x=feature, y=\"fare_per_km\", scatter_kws={\"alpha\": 0.3}, line_kws={\"color\": \"red\"})\n",
    "    plt.title(f\"Fare vs {feature.capitalize()}\")\n",
    "    plt.xlabel(feature.capitalize())\n",
    "    plt.ylabel(\"Fare\")\n",
    "    plt.grid(True)\n",
    "    plt.tight_layout()\n",
    "    plt.show()"
   ]
  },
  {
   "cell_type": "markdown",
   "id": "65e7d074",
   "metadata": {},
   "source": [
    "We analyzed the relationship between fare and several continuous weather-related features: temperature, wind speed, humidity, visibility, UV index, and cloud cover. Scatter plots with regression lines were generated for each feature.\n",
    "\n",
    "Across all weather variables, the regression lines were nearly flat and parallel to the x-axis, indicating no linear relationship between fare and these weather conditions. The fare distribution remained constant regardless of changes in weather parameters. This reinforces earlier findings that weather does not influence fare pricing in this dataset."
   ]
  },
  {
   "cell_type": "code",
   "execution_count": null,
   "id": "e1e49a94",
   "metadata": {},
   "outputs": [],
   "source": [
    "df.columns"
   ]
  },
  {
   "cell_type": "markdown",
   "id": "d4955e0c",
   "metadata": {},
   "source": [
    "## **Explore Surge Multiplier**"
   ]
  },
  {
   "cell_type": "code",
   "execution_count": null,
   "id": "84414ba4",
   "metadata": {},
   "outputs": [],
   "source": [
    "df[\"surge_multiplier\"].describe()"
   ]
  },
  {
   "cell_type": "code",
   "execution_count": null,
   "id": "96297a80",
   "metadata": {},
   "outputs": [],
   "source": [
    "df[\"surge_multiplier\"].unique()"
   ]
  },
  {
   "cell_type": "code",
   "execution_count": null,
   "id": "e96cbe4a",
   "metadata": {},
   "outputs": [],
   "source": [
    "x = df[\"surge_multiplier\"].value_counts()\n",
    "x.plot(kind='bar', color='skyblue', edgecolor='black')\n",
    "plt.title('Surge Multiplier Distribution')\n",
    "plt.xlabel('Surge Multiplier')\n",
    "plt.ylabel('Count')\n",
    "x"
   ]
  },
  {
   "cell_type": "markdown",
   "id": "c8e5a4de",
   "metadata": {},
   "source": [
    "The suge_multipliers are multiple of 0.25."
   ]
  },
  {
   "cell_type": "code",
   "execution_count": null,
   "id": "0bc790d2",
   "metadata": {},
   "outputs": [],
   "source": [
    "surge_rides = df[df[\"surge_multiplier\"]>1]\n",
    "surge_vehicles = surge_rides[\"vehicle\"].unique()\n",
    "\n",
    "print(\"Ride Comapny: \",surge_rides[\"ride_company\"].unique())\n",
    "print(\"Ride Vehicles: \",surge_vehicles)\n",
    "\n",
    "surge_rides.head()"
   ]
  },
  {
   "cell_type": "markdown",
   "id": "29f6a54a",
   "metadata": {},
   "source": [
    "So, Uber doesn't have surge_multiplier. It is only for lyft. And, the surge is applied to only high end vehicles of Lyft."
   ]
  },
  {
   "cell_type": "code",
   "execution_count": null,
   "id": "1212ef65",
   "metadata": {},
   "outputs": [],
   "source": [
    "print(f\"{len(surge_rides)/len(df)*100}%\")"
   ]
  },
  {
   "cell_type": "markdown",
   "id": "7c47cbc8",
   "metadata": {},
   "source": [
    "Majority value is 1. Only 3.29% of the total data have surge_multiplier>1. And surge_multiplier is multiple of 0.25. "
   ]
  },
  {
   "cell_type": "code",
   "execution_count": null,
   "id": "171ffa3b",
   "metadata": {},
   "outputs": [],
   "source": [
    "print(f\"{len(surge_rides)/ len(df[df[\"vehicle\"].isin(surge_vehicles)])*100}%\")"
   ]
  },
  {
   "cell_type": "markdown",
   "id": "790a619e",
   "metadata": {},
   "source": [
    "Of the rides from vehicles eligible for surge pricing, 8.19% of the rides experienced surge in fares."
   ]
  },
  {
   "cell_type": "code",
   "execution_count": null,
   "id": "1db03282",
   "metadata": {},
   "outputs": [],
   "source": [
    "surge_rides[\"vehicle\"].value_counts()"
   ]
  },
  {
   "cell_type": "markdown",
   "id": "5e03448a",
   "metadata": {},
   "source": [
    "The surge mutiplication is eveny distributed among the particular vehicles."
   ]
  },
  {
   "cell_type": "code",
   "execution_count": null,
   "id": "7377df4b",
   "metadata": {},
   "outputs": [],
   "source": [
    "df[df[\"vehicle\"].isin(surge_vehicles)][\"vehicle\"].value_counts()"
   ]
  },
  {
   "cell_type": "code",
   "execution_count": null,
   "id": "5fd72346",
   "metadata": {},
   "outputs": [],
   "source": [
    "surge_rides[\"vehicle\"].value_counts()/df[df[\"vehicle\"].isin(surge_vehicles)][\"vehicle\"].value_counts()*100"
   ]
  },
  {
   "cell_type": "markdown",
   "id": "ddc64c2c",
   "metadata": {},
   "source": [
    "Surge fares are evenly distributed across the selected vehicle types, with approximately 8.19% of rides in each experiencing surge pricing."
   ]
  },
  {
   "cell_type": "code",
   "execution_count": null,
   "id": "f481e05c",
   "metadata": {},
   "outputs": [],
   "source": [
    "# sns.heatmap(surge_rides.corr(numeric_only=True))\n",
    "surge_rides.corr(numeric_only=True)[\"surge_multiplier\"]"
   ]
  },
  {
   "cell_type": "markdown",
   "id": "f1aace66",
   "metadata": {},
   "source": [
    "Surge_multiplier has 0 correalation with weather data. It is not applied depending on the weather condition."
   ]
  },
  {
   "cell_type": "code",
   "execution_count": null,
   "id": "e131bd52",
   "metadata": {},
   "outputs": [],
   "source": [
    "# Grouped and sorted values for source location\n",
    "grouped = df.groupby(\"source\")[\"surge_multiplier\"].apply(lambda x: (x > 1).mean()).sort_values(ascending=False) * 100\n",
    "print(grouped)\n",
    "\n",
    "plt.figure(figsize=(8, 4))\n",
    "grouped.plot(kind='bar', color='orange', edgecolor='black')\n",
    "\n",
    "plt.title('Average Surge Rate by Source')\n",
    "plt.xlabel('Source')\n",
    "plt.ylabel('Average Surge in %')\n",
    "plt.xticks(rotation=45)\n",
    "plt.grid(axis='y')\n",
    "plt.tight_layout()\n",
    "plt.show()"
   ]
  },
  {
   "cell_type": "markdown",
   "id": "9e5278d2",
   "metadata": {},
   "source": [
    "While busy commercial areas like Back Bay and Theatre District do show higher surge percentages, others like Financial District and South Station have relatively low surge frequencies. Conversely, academic and residential zones like Northeastern University and Boston University exhibit higher surge rates. This suggests that surge pricing may be more influenced by vehicle availability than just demand—locations with fewer available drivers, despite being less busy overall, may trigger surge more frequently. In contrast, commercial zones have higher regular fare but less frequently have surge in fare."
   ]
  },
  {
   "cell_type": "code",
   "execution_count": null,
   "id": "efadb876",
   "metadata": {},
   "outputs": [],
   "source": [
    "# Grouped and sorted values for source location\n",
    "grouped = df.groupby(\"destination\")[\"surge_multiplier\"].apply(lambda x: (x > 1).mean()).sort_values(ascending=False) * 100\n",
    "print(grouped)\n",
    "plt.figure(figsize=(8, 4))\n",
    "grouped.plot(kind='bar', color='orange', edgecolor='black')\n",
    "\n",
    "plt.title('Average Surge Rate by Destination')\n",
    "plt.xlabel('Destination')\n",
    "plt.ylabel('Average Surge in %')\n",
    "plt.xticks(rotation=45)\n",
    "plt.grid(axis='y')\n",
    "plt.tight_layout()\n",
    "plt.show()"
   ]
  },
  {
   "cell_type": "markdown",
   "id": "8d37ab9f",
   "metadata": {},
   "source": [
    "Surge rates by destination vary only slightly, ranging from 3.08% to 3.55%, showing no strong link to the type of area—whether commercial or residential. In contrast, source locations show more variation, suggesting that surge pricing is primarily driven by supply-demand imbalances at the pickup point rather than traffic or business activity at the destination. This may indicate limited vehicle availability in residential or university areas, leading to more frequent surge pricing there."
   ]
  },
  {
   "cell_type": "markdown",
   "id": "a5882c1e",
   "metadata": {},
   "source": [
    "### **Surge vs Time**"
   ]
  },
  {
   "cell_type": "code",
   "execution_count": null,
   "id": "6277fada",
   "metadata": {},
   "outputs": [],
   "source": [
    "plt.figure(figsize=(12,6))\n",
    "sns.boxplot(data=surge_rides, x=\"hour\", y=\"surge_multiplier\")\n",
    "plt.title(\"Distribution of Fares with Surge Pricing across Hours of the Day\")\n",
    "plt.show()"
   ]
  },
  {
   "cell_type": "code",
   "execution_count": null,
   "id": "d273c362",
   "metadata": {},
   "outputs": [],
   "source": [
    "# Grouped and sorted values for day of week\n",
    "grouped = df.groupby(\"destination\")[\"surge_multiplier\"].apply(lambda x: (x > 1).mean()).sort_values(ascending=False) * 100\n",
    "\n",
    "plt.figure(figsize=(8, 4))\n",
    "grouped.plot(kind='bar', color='orange', edgecolor='black')\n",
    "\n",
    "plt.title('Average Surge Rate by Day of Week')\n",
    "plt.xlabel('Day of Week')\n",
    "plt.ylabel('Average Surge in %')\n",
    "plt.xticks(rotation=45)\n",
    "plt.grid(axis='y')\n",
    "plt.tight_layout()\n",
    "plt.show()"
   ]
  },
  {
   "cell_type": "markdown",
   "id": "3eaf88be",
   "metadata": {},
   "source": [
    "From the above charts, It's seen that surge doesn't depend on hour or day of the week. "
   ]
  },
  {
   "cell_type": "markdown",
   "id": "7e6e2796",
   "metadata": {},
   "source": [
    "### **Surge vs Fare & Distance**"
   ]
  },
  {
   "cell_type": "code",
   "execution_count": null,
   "id": "38f57ff4",
   "metadata": {},
   "outputs": [],
   "source": [
    "sns.boxplot(x=df[\"surge_multiplier\"]>1, y=\"fare\", data=df)\n",
    "plt.title(\"Fare comparison: With Surge vs Without Surge\")"
   ]
  },
  {
   "cell_type": "markdown",
   "id": "cc3cae4b",
   "metadata": {},
   "source": [
    "For, surged rides, regular fare is multiplied with surge multiplier. So, it was expected to see overall higher fare in surged rides."
   ]
  },
  {
   "cell_type": "code",
   "execution_count": null,
   "id": "ff38464a",
   "metadata": {},
   "outputs": [],
   "source": [
    "sns.boxplot(x=df[\"surge_multiplier\"]>1, y=\"distance\", data=df)\n",
    "plt.title(\"Distance comparison: With Surge vs Without Surge\")"
   ]
  },
  {
   "cell_type": "markdown",
   "id": "5f8e41b5",
   "metadata": {},
   "source": [
    "Surge is slightly more seen in higher distances. But, No useful information could be derived from this stat."
   ]
  },
  {
   "cell_type": "markdown",
   "id": "11f0256d",
   "metadata": {},
   "source": [
    "## **Multivariate Analysis**"
   ]
  },
  {
   "cell_type": "code",
   "execution_count": null,
   "id": "cbf5bd75",
   "metadata": {},
   "outputs": [],
   "source": [
    "print(df.corr(numeric_only=True)[\"fare\"])\n",
    "sns.heatmap(df.corr(numeric_only=True))"
   ]
  },
  {
   "cell_type": "markdown",
   "id": "358addc5",
   "metadata": {},
   "source": [
    "Our target variable fare has no correalation with any numerical feature except distance."
   ]
  },
  {
   "cell_type": "markdown",
   "id": "a862116d",
   "metadata": {},
   "source": [
    "# 📊 Exploratory Data Analysis Summary\n",
    "\n",
    "## 🚖 1. Fare Patterns by Location\n",
    "- **Source Matters:** Fare per kilometer is not constant across pickup locations. High-traffic commercial areas like Haymarket Square, Financial District, South Station, and Theatre District consistently show higher fare per distance.\n",
    "- **Residential & Academic Areas:** Locations such as Fenway, Northeastern University, and Boston University have lower fare per km, possibly due to lower demand or reduced traffic.\n",
    "- **Destination Impact:** Similar trends are observed in destination fares. Both pickup and drop-off locations influence overall fare, though source has a stronger effect.\n",
    "\n",
    "## 📌 2. Route-Level Ride Patterns\n",
    "- Only 72 unique source-destination pairs exist, meaning rides are limited to specific combinations.\n",
    "- Ride counts between these combinations are very balanced, suggesting a controlled or engineered distribution\n",
    "## ⏰ 3. Time of Day and Day of Week\n",
    "- **Hourly Analysis:** Average fare per km remains consistent throughout the day, ranging from **9.55 to 9.9 USD/km**.\n",
    "- **Weekly Trend:** Fare per km is also stable across days, ranging from **9.65 to 9.77 USD/km**.\n",
    "- ➤ **Conclusion:** Neither time of day nor day of week significantly affects fare.\n",
    "\n",
    "## 🌦️ 4. Weather Variables\n",
    "- Features like **temperature, humidity, wind speed, visibility, UV index, and cloud cover** show **no linear correlation** with fare.\n",
    "- Regression lines are nearly flat across all plots.\n",
    "- ➤ Suggests weather conditions do not influence fare in this dataset.\n",
    "\n",
    "## 💸 5. Surge Pricing Analysis\n",
    "- Only **3.29%** of all rides had a surge multiplier > 1.\n",
    "- Among surge-eligible vehicles (e.g., Lux, Lux Black, Lyft XL), about **8.19%** of rides experienced surge pricing.\n",
    "- Surge application is evenly distributed across all high-end vehicle types.\n",
    "\n",
    "## 🧭 6. Surge by Source & Destination\n",
    "- **Surge by Source:** Pickup location strongly affects surge. For example:\n",
    "  - **Back Bay:** 5.4%\n",
    "  - **Northeastern University:** 5.0%\n",
    "  - **North End:** 0.7%\n",
    "- High-traffic commercial areas tend to have lower surge rates, likely due to better vehicle supply.\n",
    "- Residential or university areas see more frequent surge, suggesting vehicle shortages in those zones.\n",
    "- **Surge by Destination:** Rates are uniform (3.08%–3.55%) across drop-off locations with no clear pattern.\n",
    "- ➤ Indicates surge pricing is influenced more by pickup location (supply-demand dynamics) than destination.\n",
    "\n",
    "## 🗺️ 7. Geographic Patterns\n",
    "- Ride locations are concentrated within a specific urban zone, with well-defined clusters.\n",
    "- Indicates a compact city region with clear mobility hotspots and corridors.\n",
    "\n",
    "---\n",
    "\n",
    "## ✅ Key Takeaways\n",
    "- Fare and surge pricing are location-dependent, especially influenced by the pickup point.\n",
    "- Surge pricing is supply-driven, more common in areas with potentially fewer available vehicles.\n",
    "- Time and weather do not play significant roles in determining fare or surge in this dataset.\n",
    "- The ride network is well-defined and clustered, reflecting structured movement patterns within the city"
   ]
  },
  {
   "cell_type": "markdown",
   "id": "c4d8fb5d",
   "metadata": {},
   "source": [
    "<!-- 📊 Exploratory Data Analysis (EDA) Steps\n",
    "Initial Data Inspection\n",
    "Load the cleaned dataset.\n",
    "\n",
    "df.head(), df.tail(), df.sample() – View samples of the data.\n",
    "\n",
    "df.info() – Check column data types and non-null values.\n",
    "\n",
    "df.describe() – Get numerical summary statistics.\n",
    "\n",
    "df.isnull().sum() – Identify missing values.\n",
    "\n",
    "**Understand the Target Variable (fare)**\n",
    "Plot distribution: histogram, boxplot.\n",
    "\n",
    "Check skewness & outliers.\n",
    "\n",
    "Calculate summary stats: mean, median, IQR, mode. -->\n",
    "\n",
    "<!-- **Univariate Analysis** -->\n",
    "<!-- Analyze distribution of key variables: distance, hour, vehicle, surge_multiplier, weather, source, destination.\n",
    "\n",
    "Use bar plots, histograms, or pie charts depending on the variable type (categorical vs numerical). -->\n",
    "\n",
    "<!-- **Bivariate Analysis** -->\n",
    "<!-- Fare vs Distance: -->\n",
    "\n",
    "<!-- Scatter plot, correlation coefficient. -->\n",
    "\n",
    "<!-- Group by vehicle type and re-check correlation. -->\n",
    "\n",
    "<!-- Fare vs Time (hour, day, etc.): -->\n",
    "\n",
    "<!-- Boxplots or line plots to observe fare changes throughout the day/week. -->\n",
    "\n",
    "<!-- Fare vs Weather: -->\n",
    "\n",
    "<!-- Boxplots or violin plots for weather categories. -->\n",
    "\n",
    "<!-- Fare vs Vehicle Type: -->\n",
    "\n",
    "<!-- Boxplots by vehicle type. -->\n",
    "\n",
    "<!-- Surge Multiplier vs Time/Weather: -->\n",
    "\n",
    "<!-- Check if surge pricing correlates with time/weather patterns. -->\n",
    "\n",
    "**Multivariate Analysis**\n",
    "<!-- Use sns.pairplot() or sns.heatmap() to explore relationships among multiple numeric features. -->\n",
    "\n",
    "<!-- Group by combinations of features (e.g., source, destination, vehicle) to check fare patterns. -->\n",
    "\n",
    "<!-- **Outlier Analysis**\n",
    "Use boxplots and thresholds (e.g., IQR, domain knowledge) to detect outliers.\n",
    "\n",
    "Investigate and handle fare outliers (already partially done).\n",
    "\n",
    "Identify anomalies for distance, duration, or unexpected combinations (e.g., low distance but very high fare). -->\n",
    "\n",
    "<!-- **Time-Based Patterns**\n",
    "Plot fare patterns over hour, day_of_week, or month.\n",
    "\n",
    "Examine how demand and pricing vary with time. -->\n",
    "\n",
    "<!-- **Geospatial Trends (if location coordinates available)**\n",
    "Plot source and destination densities on maps.\n",
    "\n",
    "Cluster common routes. -->\n",
    "<!-- \n",
    "**Missing/Invalid Data Handling**\n",
    "Review how you handled missing or noisy entries.\n",
    "\n",
    "Check if any columns still need imputation or transformation.\n",
    " -->\n",
    "**Feature Engineering Ideas**\n",
    "Create new variables (e.g., fare_per_mile, is_weekend, ride_duration_category, etc.)\n",
    "\n",
    "Bin continuous variables (distance, hour) to analyze fare buckets.\n",
    "\n",
    "**Summary & Insights**\n",
    "Document key insights:\n",
    "\n",
    "Which variables influence fare the most?\n",
    "\n",
    "When do fares spike?\n",
    "\n",
    "Which vehicle types are most expensive?\n",
    "\n",
    "Are shared rides cheaper and shorter?"
   ]
  }
 ],
 "metadata": {
  "kernelspec": {
   "display_name": "Python 3 (ipykernel)",
   "language": "python",
   "name": "python3"
  },
  "language_info": {
   "codemirror_mode": {
    "name": "ipython",
    "version": 3
   },
   "file_extension": ".py",
   "mimetype": "text/x-python",
   "name": "python",
   "nbconvert_exporter": "python",
   "pygments_lexer": "ipython3",
   "version": "3.12.3"
  }
 },
 "nbformat": 4,
 "nbformat_minor": 5
}
