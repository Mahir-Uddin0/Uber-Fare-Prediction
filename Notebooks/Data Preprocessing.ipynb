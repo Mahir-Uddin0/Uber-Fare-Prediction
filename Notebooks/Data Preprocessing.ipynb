{
 "cells": [
  {
   "cell_type": "code",
   "execution_count": 1,
   "id": "65d2f6ab",
   "metadata": {
    "execution": {
     "iopub.execute_input": "2025-06-14T15:47:17.601700Z",
     "iopub.status.busy": "2025-06-14T15:47:17.601139Z",
     "iopub.status.idle": "2025-06-14T15:47:22.223897Z",
     "shell.execute_reply": "2025-06-14T15:47:22.222984Z"
    },
    "papermill": {
     "duration": 4.644628,
     "end_time": "2025-06-14T15:47:22.226003",
     "exception": false,
     "start_time": "2025-06-14T15:47:17.581375",
     "status": "completed"
    },
    "tags": []
   },
   "outputs": [],
   "source": [
    "import numpy as np\n",
    "import pandas as pd\n",
    "import matplotlib.pyplot as plt\n",
    "import seaborn as sns\n",
    "import datetime"
   ]
  },
  {
   "cell_type": "markdown",
   "id": "a6a534a9",
   "metadata": {
    "papermill": {
     "duration": 0.014424,
     "end_time": "2025-06-14T15:47:22.254843",
     "exception": false,
     "start_time": "2025-06-14T15:47:22.240419",
     "status": "completed"
    },
    "tags": []
   },
   "source": [
    "### **Read the raw data**"
   ]
  },
  {
   "cell_type": "code",
   "execution_count": 2,
   "id": "f8543945",
   "metadata": {
    "execution": {
     "iopub.execute_input": "2025-06-14T15:47:22.288319Z",
     "iopub.status.busy": "2025-06-14T15:47:22.287892Z",
     "iopub.status.idle": "2025-06-14T15:47:35.146380Z",
     "shell.execute_reply": "2025-06-14T15:47:35.145445Z"
    },
    "papermill": {
     "duration": 12.876066,
     "end_time": "2025-06-14T15:47:35.148046",
     "exception": false,
     "start_time": "2025-06-14T15:47:22.271980",
     "status": "completed"
    },
    "tags": []
   },
   "outputs": [
    {
     "data": {
      "text/html": [
       "<div>\n",
       "<style scoped>\n",
       "    .dataframe tbody tr th:only-of-type {\n",
       "        vertical-align: middle;\n",
       "    }\n",
       "\n",
       "    .dataframe tbody tr th {\n",
       "        vertical-align: top;\n",
       "    }\n",
       "\n",
       "    .dataframe thead th {\n",
       "        text-align: right;\n",
       "    }\n",
       "</style>\n",
       "<table border=\"1\" class=\"dataframe\">\n",
       "  <thead>\n",
       "    <tr style=\"text-align: right;\">\n",
       "      <th></th>\n",
       "      <th>id</th>\n",
       "      <th>timestamp</th>\n",
       "      <th>timezone</th>\n",
       "      <th>source</th>\n",
       "      <th>destination</th>\n",
       "      <th>cab_type</th>\n",
       "      <th>product_id</th>\n",
       "      <th>name</th>\n",
       "      <th>price</th>\n",
       "      <th>distance</th>\n",
       "      <th>...</th>\n",
       "      <th>precipIntensityMax</th>\n",
       "      <th>uvIndexTime</th>\n",
       "      <th>temperatureMin</th>\n",
       "      <th>temperatureMinTime</th>\n",
       "      <th>temperatureMax</th>\n",
       "      <th>temperatureMaxTime</th>\n",
       "      <th>apparentTemperatureMin</th>\n",
       "      <th>apparentTemperatureMinTime</th>\n",
       "      <th>apparentTemperatureMax</th>\n",
       "      <th>apparentTemperatureMaxTime</th>\n",
       "    </tr>\n",
       "  </thead>\n",
       "  <tbody>\n",
       "    <tr>\n",
       "      <th>0</th>\n",
       "      <td>424553bb-7174-41ea-aeb4-fe06d4f4b9d7</td>\n",
       "      <td>1.544953e+09</td>\n",
       "      <td>America/New_York</td>\n",
       "      <td>Haymarket Square</td>\n",
       "      <td>North Station</td>\n",
       "      <td>Lyft</td>\n",
       "      <td>lyft_line</td>\n",
       "      <td>Shared</td>\n",
       "      <td>5.0</td>\n",
       "      <td>0.44</td>\n",
       "      <td>...</td>\n",
       "      <td>0.1276</td>\n",
       "      <td>1544979600</td>\n",
       "      <td>39.89</td>\n",
       "      <td>1545012000</td>\n",
       "      <td>43.68</td>\n",
       "      <td>1544968800</td>\n",
       "      <td>33.73</td>\n",
       "      <td>1545012000</td>\n",
       "      <td>38.07</td>\n",
       "      <td>1544958000</td>\n",
       "    </tr>\n",
       "    <tr>\n",
       "      <th>1</th>\n",
       "      <td>4bd23055-6827-41c6-b23b-3c491f24e74d</td>\n",
       "      <td>1.543284e+09</td>\n",
       "      <td>America/New_York</td>\n",
       "      <td>Haymarket Square</td>\n",
       "      <td>North Station</td>\n",
       "      <td>Lyft</td>\n",
       "      <td>lyft_premier</td>\n",
       "      <td>Lux</td>\n",
       "      <td>11.0</td>\n",
       "      <td>0.44</td>\n",
       "      <td>...</td>\n",
       "      <td>0.1300</td>\n",
       "      <td>1543251600</td>\n",
       "      <td>40.49</td>\n",
       "      <td>1543233600</td>\n",
       "      <td>47.30</td>\n",
       "      <td>1543251600</td>\n",
       "      <td>36.20</td>\n",
       "      <td>1543291200</td>\n",
       "      <td>43.92</td>\n",
       "      <td>1543251600</td>\n",
       "    </tr>\n",
       "    <tr>\n",
       "      <th>2</th>\n",
       "      <td>981a3613-77af-4620-a42a-0c0866077d1e</td>\n",
       "      <td>1.543367e+09</td>\n",
       "      <td>America/New_York</td>\n",
       "      <td>Haymarket Square</td>\n",
       "      <td>North Station</td>\n",
       "      <td>Lyft</td>\n",
       "      <td>lyft</td>\n",
       "      <td>Lyft</td>\n",
       "      <td>7.0</td>\n",
       "      <td>0.44</td>\n",
       "      <td>...</td>\n",
       "      <td>0.1064</td>\n",
       "      <td>1543338000</td>\n",
       "      <td>35.36</td>\n",
       "      <td>1543377600</td>\n",
       "      <td>47.55</td>\n",
       "      <td>1543320000</td>\n",
       "      <td>31.04</td>\n",
       "      <td>1543377600</td>\n",
       "      <td>44.12</td>\n",
       "      <td>1543320000</td>\n",
       "    </tr>\n",
       "    <tr>\n",
       "      <th>3</th>\n",
       "      <td>c2d88af2-d278-4bfd-a8d0-29ca77cc5512</td>\n",
       "      <td>1.543554e+09</td>\n",
       "      <td>America/New_York</td>\n",
       "      <td>Haymarket Square</td>\n",
       "      <td>North Station</td>\n",
       "      <td>Lyft</td>\n",
       "      <td>lyft_luxsuv</td>\n",
       "      <td>Lux Black XL</td>\n",
       "      <td>26.0</td>\n",
       "      <td>0.44</td>\n",
       "      <td>...</td>\n",
       "      <td>0.0000</td>\n",
       "      <td>1543507200</td>\n",
       "      <td>34.67</td>\n",
       "      <td>1543550400</td>\n",
       "      <td>45.03</td>\n",
       "      <td>1543510800</td>\n",
       "      <td>30.30</td>\n",
       "      <td>1543550400</td>\n",
       "      <td>38.53</td>\n",
       "      <td>1543510800</td>\n",
       "    </tr>\n",
       "    <tr>\n",
       "      <th>4</th>\n",
       "      <td>e0126e1f-8ca9-4f2e-82b3-50505a09db9a</td>\n",
       "      <td>1.543463e+09</td>\n",
       "      <td>America/New_York</td>\n",
       "      <td>Haymarket Square</td>\n",
       "      <td>North Station</td>\n",
       "      <td>Lyft</td>\n",
       "      <td>lyft_plus</td>\n",
       "      <td>Lyft XL</td>\n",
       "      <td>9.0</td>\n",
       "      <td>0.44</td>\n",
       "      <td>...</td>\n",
       "      <td>0.0001</td>\n",
       "      <td>1543420800</td>\n",
       "      <td>33.10</td>\n",
       "      <td>1543402800</td>\n",
       "      <td>42.18</td>\n",
       "      <td>1543420800</td>\n",
       "      <td>29.11</td>\n",
       "      <td>1543392000</td>\n",
       "      <td>35.75</td>\n",
       "      <td>1543420800</td>\n",
       "    </tr>\n",
       "    <tr>\n",
       "      <th>5</th>\n",
       "      <td>f6f6d7e4-3e18-4922-a5f5-181cdd3fa6f2</td>\n",
       "      <td>1.545071e+09</td>\n",
       "      <td>America/New_York</td>\n",
       "      <td>Haymarket Square</td>\n",
       "      <td>North Station</td>\n",
       "      <td>Lyft</td>\n",
       "      <td>lyft_lux</td>\n",
       "      <td>Lux Black</td>\n",
       "      <td>16.5</td>\n",
       "      <td>0.44</td>\n",
       "      <td>...</td>\n",
       "      <td>0.0221</td>\n",
       "      <td>1545066000</td>\n",
       "      <td>34.19</td>\n",
       "      <td>1545048000</td>\n",
       "      <td>40.66</td>\n",
       "      <td>1545022800</td>\n",
       "      <td>27.39</td>\n",
       "      <td>1545044400</td>\n",
       "      <td>34.97</td>\n",
       "      <td>1545080400</td>\n",
       "    </tr>\n",
       "    <tr>\n",
       "      <th>6</th>\n",
       "      <td>462816a3-820d-408b-8549-0b39e82f65ac</td>\n",
       "      <td>1.543209e+09</td>\n",
       "      <td>America/New_York</td>\n",
       "      <td>Back Bay</td>\n",
       "      <td>Northeastern University</td>\n",
       "      <td>Lyft</td>\n",
       "      <td>lyft_plus</td>\n",
       "      <td>Lyft XL</td>\n",
       "      <td>10.5</td>\n",
       "      <td>1.08</td>\n",
       "      <td>...</td>\n",
       "      <td>0.1245</td>\n",
       "      <td>1543251600</td>\n",
       "      <td>40.67</td>\n",
       "      <td>1543233600</td>\n",
       "      <td>46.46</td>\n",
       "      <td>1543255200</td>\n",
       "      <td>37.45</td>\n",
       "      <td>1543291200</td>\n",
       "      <td>43.81</td>\n",
       "      <td>1543251600</td>\n",
       "    </tr>\n",
       "  </tbody>\n",
       "</table>\n",
       "<p>7 rows × 53 columns</p>\n",
       "</div>"
      ],
      "text/plain": [
       "                                     id     timestamp          timezone  \\\n",
       "0  424553bb-7174-41ea-aeb4-fe06d4f4b9d7  1.544953e+09  America/New_York   \n",
       "1  4bd23055-6827-41c6-b23b-3c491f24e74d  1.543284e+09  America/New_York   \n",
       "2  981a3613-77af-4620-a42a-0c0866077d1e  1.543367e+09  America/New_York   \n",
       "3  c2d88af2-d278-4bfd-a8d0-29ca77cc5512  1.543554e+09  America/New_York   \n",
       "4  e0126e1f-8ca9-4f2e-82b3-50505a09db9a  1.543463e+09  America/New_York   \n",
       "5  f6f6d7e4-3e18-4922-a5f5-181cdd3fa6f2  1.545071e+09  America/New_York   \n",
       "6  462816a3-820d-408b-8549-0b39e82f65ac  1.543209e+09  America/New_York   \n",
       "\n",
       "             source              destination cab_type    product_id  \\\n",
       "0  Haymarket Square            North Station     Lyft     lyft_line   \n",
       "1  Haymarket Square            North Station     Lyft  lyft_premier   \n",
       "2  Haymarket Square            North Station     Lyft          lyft   \n",
       "3  Haymarket Square            North Station     Lyft   lyft_luxsuv   \n",
       "4  Haymarket Square            North Station     Lyft     lyft_plus   \n",
       "5  Haymarket Square            North Station     Lyft      lyft_lux   \n",
       "6          Back Bay  Northeastern University     Lyft     lyft_plus   \n",
       "\n",
       "           name  price  distance  ...  precipIntensityMax  uvIndexTime  \\\n",
       "0        Shared    5.0      0.44  ...              0.1276   1544979600   \n",
       "1           Lux   11.0      0.44  ...              0.1300   1543251600   \n",
       "2          Lyft    7.0      0.44  ...              0.1064   1543338000   \n",
       "3  Lux Black XL   26.0      0.44  ...              0.0000   1543507200   \n",
       "4       Lyft XL    9.0      0.44  ...              0.0001   1543420800   \n",
       "5     Lux Black   16.5      0.44  ...              0.0221   1545066000   \n",
       "6       Lyft XL   10.5      1.08  ...              0.1245   1543251600   \n",
       "\n",
       "   temperatureMin  temperatureMinTime  temperatureMax temperatureMaxTime  \\\n",
       "0           39.89          1545012000           43.68         1544968800   \n",
       "1           40.49          1543233600           47.30         1543251600   \n",
       "2           35.36          1543377600           47.55         1543320000   \n",
       "3           34.67          1543550400           45.03         1543510800   \n",
       "4           33.10          1543402800           42.18         1543420800   \n",
       "5           34.19          1545048000           40.66         1545022800   \n",
       "6           40.67          1543233600           46.46         1543255200   \n",
       "\n",
       "  apparentTemperatureMin  apparentTemperatureMinTime  apparentTemperatureMax  \\\n",
       "0                  33.73                  1545012000                   38.07   \n",
       "1                  36.20                  1543291200                   43.92   \n",
       "2                  31.04                  1543377600                   44.12   \n",
       "3                  30.30                  1543550400                   38.53   \n",
       "4                  29.11                  1543392000                   35.75   \n",
       "5                  27.39                  1545044400                   34.97   \n",
       "6                  37.45                  1543291200                   43.81   \n",
       "\n",
       "  apparentTemperatureMaxTime  \n",
       "0                 1544958000  \n",
       "1                 1543251600  \n",
       "2                 1543320000  \n",
       "3                 1543510800  \n",
       "4                 1543420800  \n",
       "5                 1545080400  \n",
       "6                 1543251600  \n",
       "\n",
       "[7 rows x 53 columns]"
      ]
     },
     "execution_count": 2,
     "metadata": {},
     "output_type": "execute_result"
    }
   ],
   "source": [
    "df = pd.read_csv(\"/kaggle/input/uber-uncleaned-dataset/Uber and Lyft Dataset Boston.csv\")\n",
    "df.head(7)"
   ]
  },
  {
   "cell_type": "code",
   "execution_count": 3,
   "id": "b2c50137",
   "metadata": {
    "execution": {
     "iopub.execute_input": "2025-06-14T15:47:35.177792Z",
     "iopub.status.busy": "2025-06-14T15:47:35.177477Z",
     "iopub.status.idle": "2025-06-14T15:47:35.225732Z",
     "shell.execute_reply": "2025-06-14T15:47:35.224994Z"
    },
    "papermill": {
     "duration": 0.064835,
     "end_time": "2025-06-14T15:47:35.227255",
     "exception": false,
     "start_time": "2025-06-14T15:47:35.162420",
     "status": "completed"
    },
    "tags": []
   },
   "outputs": [
    {
     "data": {
      "text/plain": [
       "array(['America/New_York'], dtype=object)"
      ]
     },
     "execution_count": 3,
     "metadata": {},
     "output_type": "execute_result"
    }
   ],
   "source": [
    "df[\"timezone\"].unique()"
   ]
  },
  {
   "cell_type": "code",
   "execution_count": 4,
   "id": "55bb63d0",
   "metadata": {
    "execution": {
     "iopub.execute_input": "2025-06-14T15:47:35.256948Z",
     "iopub.status.busy": "2025-06-14T15:47:35.256603Z",
     "iopub.status.idle": "2025-06-14T15:47:35.264535Z",
     "shell.execute_reply": "2025-06-14T15:47:35.263598Z"
    },
    "papermill": {
     "duration": 0.024416,
     "end_time": "2025-06-14T15:47:35.265915",
     "exception": false,
     "start_time": "2025-06-14T15:47:35.241499",
     "status": "completed"
    },
    "tags": []
   },
   "outputs": [
    {
     "data": {
      "text/plain": [
       "Index(['id', 'timestamp', 'timezone', 'source', 'destination', 'cab_type',\n",
       "       'product_id', 'name', 'price', 'distance', 'surge_multiplier',\n",
       "       'latitude', 'longitude', 'temperature', 'apparentTemperature',\n",
       "       'short_summary', 'long_summary', 'precipIntensity', 'precipProbability',\n",
       "       'humidity', 'windSpeed', 'windGust', 'windGustTime', 'visibility',\n",
       "       'temperatureHigh', 'temperatureHighTime', 'temperatureLow',\n",
       "       'temperatureLowTime', 'apparentTemperatureHigh',\n",
       "       'apparentTemperatureHighTime', 'apparentTemperatureLow',\n",
       "       'apparentTemperatureLowTime', 'icon', 'dewPoint', 'pressure',\n",
       "       'windBearing', 'cloudCover', 'uvIndex', 'visibility.1', 'ozone',\n",
       "       'sunriseTime', 'sunsetTime', 'moonPhase', 'precipIntensityMax',\n",
       "       'uvIndexTime', 'temperatureMin', 'temperatureMinTime', 'temperatureMax',\n",
       "       'temperatureMaxTime', 'apparentTemperatureMin',\n",
       "       'apparentTemperatureMinTime', 'apparentTemperatureMax',\n",
       "       'apparentTemperatureMaxTime'],\n",
       "      dtype='object')"
      ]
     },
     "execution_count": 4,
     "metadata": {},
     "output_type": "execute_result"
    }
   ],
   "source": [
    "df.columns"
   ]
  },
  {
   "cell_type": "markdown",
   "id": "265db431",
   "metadata": {
    "papermill": {
     "duration": 0.013744,
     "end_time": "2025-06-14T15:47:35.293900",
     "exception": false,
     "start_time": "2025-06-14T15:47:35.280156",
     "status": "completed"
    },
    "tags": []
   },
   "source": [
    "## 🎯 Feature Selection for Ride Fare Prediction\n",
    "\n",
    "After exploring the dataset in above cells, we proceed to select relevant features for **predicting ride fare**.\n",
    "\n",
    "Our feature selection strategy is based on:\n",
    "- 🚖 Factors directly influencing price (e.g., distance, surge multiplier)\n",
    "- 🧭 Categorical identifiers (e.g., cab type, ride type, source/destination)\n",
    "- 🌦️ Environmental conditions (e.g., temperature, weather summaries)\n",
    "\n",
    "---\n",
    "\n",
    "### ✅ Selected Features\n",
    "\n",
    "| Feature | Reason for Inclusion |\n",
    "|--------|-----------------------|\n",
    "| `source`, `destination` | Pickup and drop-off locations affect pricing zones and distance. |\n",
    "| `cab_type`, `product_id`, `name` | Identify ride service and vehicle class (Uber, Lyft, Shared, etc.). |\n",
    "| `distance`, `surge_multiplier` | Core pricing factors. |\n",
    "| `price` | 🎯 Target variable to predict. |\n",
    "| `apparentTemperature` | More realistic representation of how weather feels than raw temperature. |\n",
    "| `humidity`, `windSpeed`, `visibility` | May affect ride demand, delays, or availability. |\n",
    "| `short_summary`, `long_summary`, `icon` | Weather context, useful for exploratory data analysis. Text data. |\n",
    "| `pressure`, `cloudCover`, `uvIndex` | Additional weather attributes that may impact rider behavior. |\n",
    "\n",
    "We retain these weather columns for initial analysis and will evaluate their statistical impact during **EDA** and **feature correlation** analysis. We might drop more features during EDA.\n",
    "\n",
    "---\n",
    "\n",
    "### ❌ Dropped Features\n",
    "\n",
    "| Feature | Reason for Removal |\n",
    "|--------|--------------------|\n",
    "| `dewPoint` | Overlaps with `humidity`; redundant. |\n",
    "| `temperature`, `temperatureHigh`, `temperatureLow`, etc. | Covered better by `apparentTemperature`. |\n",
    "| Time-related fields | Too granular or not directly useful for fare prediction. |\n",
    "\n",
    "---\n",
    "\n",
    "### 📌 Next Step\n",
    "\n",
    "We now create a filtered dataset with only the selected features.\n"
   ]
  },
  {
   "cell_type": "code",
   "execution_count": 5,
   "id": "22a5bf00",
   "metadata": {
    "execution": {
     "iopub.execute_input": "2025-06-14T15:47:35.325316Z",
     "iopub.status.busy": "2025-06-14T15:47:35.324761Z",
     "iopub.status.idle": "2025-06-14T15:47:35.422879Z",
     "shell.execute_reply": "2025-06-14T15:47:35.421733Z"
    },
    "papermill": {
     "duration": 0.115157,
     "end_time": "2025-06-14T15:47:35.424756",
     "exception": false,
     "start_time": "2025-06-14T15:47:35.309599",
     "status": "completed"
    },
    "tags": []
   },
   "outputs": [
    {
     "data": {
      "text/html": [
       "<div>\n",
       "<style scoped>\n",
       "    .dataframe tbody tr th:only-of-type {\n",
       "        vertical-align: middle;\n",
       "    }\n",
       "\n",
       "    .dataframe tbody tr th {\n",
       "        vertical-align: top;\n",
       "    }\n",
       "\n",
       "    .dataframe thead th {\n",
       "        text-align: right;\n",
       "    }\n",
       "</style>\n",
       "<table border=\"1\" class=\"dataframe\">\n",
       "  <thead>\n",
       "    <tr style=\"text-align: right;\">\n",
       "      <th></th>\n",
       "      <th>timestamp</th>\n",
       "      <th>source</th>\n",
       "      <th>destination</th>\n",
       "      <th>cab_type</th>\n",
       "      <th>product_id</th>\n",
       "      <th>name</th>\n",
       "      <th>distance</th>\n",
       "      <th>surge_multiplier</th>\n",
       "      <th>apparentTemperature</th>\n",
       "      <th>price</th>\n",
       "      <th>humidity</th>\n",
       "      <th>windSpeed</th>\n",
       "      <th>visibility</th>\n",
       "      <th>short_summary</th>\n",
       "      <th>long_summary</th>\n",
       "      <th>icon</th>\n",
       "      <th>pressure</th>\n",
       "      <th>cloudCover</th>\n",
       "      <th>uvIndex</th>\n",
       "    </tr>\n",
       "  </thead>\n",
       "  <tbody>\n",
       "    <tr>\n",
       "      <th>0</th>\n",
       "      <td>1.544953e+09</td>\n",
       "      <td>Haymarket Square</td>\n",
       "      <td>North Station</td>\n",
       "      <td>Lyft</td>\n",
       "      <td>lyft_line</td>\n",
       "      <td>Shared</td>\n",
       "      <td>0.44</td>\n",
       "      <td>1.0</td>\n",
       "      <td>37.12</td>\n",
       "      <td>5.0</td>\n",
       "      <td>0.68</td>\n",
       "      <td>8.66</td>\n",
       "      <td>10.000</td>\n",
       "      <td>Mostly Cloudy</td>\n",
       "      <td>Rain throughout the day.</td>\n",
       "      <td>partly-cloudy-night</td>\n",
       "      <td>NaN</td>\n",
       "      <td>0.72</td>\n",
       "      <td>0</td>\n",
       "    </tr>\n",
       "    <tr>\n",
       "      <th>1</th>\n",
       "      <td>1.543284e+09</td>\n",
       "      <td>Haymarket Square</td>\n",
       "      <td>North Station</td>\n",
       "      <td>Lyft</td>\n",
       "      <td>lyft_premier</td>\n",
       "      <td>Lux</td>\n",
       "      <td>0.44</td>\n",
       "      <td>1.0</td>\n",
       "      <td>37.35</td>\n",
       "      <td>11.0</td>\n",
       "      <td>0.94</td>\n",
       "      <td>11.98</td>\n",
       "      <td>4.786</td>\n",
       "      <td>Rain</td>\n",
       "      <td>Rain until morning, starting again in the eve...</td>\n",
       "      <td>rain</td>\n",
       "      <td>1003.97</td>\n",
       "      <td>1.00</td>\n",
       "      <td>0</td>\n",
       "    </tr>\n",
       "    <tr>\n",
       "      <th>2</th>\n",
       "      <td>1.543367e+09</td>\n",
       "      <td>Haymarket Square</td>\n",
       "      <td>North Station</td>\n",
       "      <td>Lyft</td>\n",
       "      <td>lyft</td>\n",
       "      <td>Lyft</td>\n",
       "      <td>0.44</td>\n",
       "      <td>1.0</td>\n",
       "      <td>32.93</td>\n",
       "      <td>7.0</td>\n",
       "      <td>0.75</td>\n",
       "      <td>7.33</td>\n",
       "      <td>10.000</td>\n",
       "      <td>Clear</td>\n",
       "      <td>Light rain in the morning.</td>\n",
       "      <td>clear-night</td>\n",
       "      <td>992.28</td>\n",
       "      <td>0.03</td>\n",
       "      <td>0</td>\n",
       "    </tr>\n",
       "    <tr>\n",
       "      <th>3</th>\n",
       "      <td>1.543554e+09</td>\n",
       "      <td>Haymarket Square</td>\n",
       "      <td>North Station</td>\n",
       "      <td>Lyft</td>\n",
       "      <td>lyft_luxsuv</td>\n",
       "      <td>Lux Black XL</td>\n",
       "      <td>0.44</td>\n",
       "      <td>1.0</td>\n",
       "      <td>29.63</td>\n",
       "      <td>26.0</td>\n",
       "      <td>0.73</td>\n",
       "      <td>5.28</td>\n",
       "      <td>10.000</td>\n",
       "      <td>Clear</td>\n",
       "      <td>Partly cloudy throughout the day.</td>\n",
       "      <td>clear-night</td>\n",
       "      <td>1013.73</td>\n",
       "      <td>0.00</td>\n",
       "      <td>0</td>\n",
       "    </tr>\n",
       "    <tr>\n",
       "      <th>4</th>\n",
       "      <td>1.543463e+09</td>\n",
       "      <td>Haymarket Square</td>\n",
       "      <td>North Station</td>\n",
       "      <td>Lyft</td>\n",
       "      <td>lyft_plus</td>\n",
       "      <td>Lyft XL</td>\n",
       "      <td>0.44</td>\n",
       "      <td>1.0</td>\n",
       "      <td>30.88</td>\n",
       "      <td>9.0</td>\n",
       "      <td>0.7</td>\n",
       "      <td>9.14</td>\n",
       "      <td>10.000</td>\n",
       "      <td>Partly Cloudy</td>\n",
       "      <td>Mostly cloudy throughout the day.</td>\n",
       "      <td>☁️rainn%%</td>\n",
       "      <td>998.36</td>\n",
       "      <td>0.44</td>\n",
       "      <td>0</td>\n",
       "    </tr>\n",
       "  </tbody>\n",
       "</table>\n",
       "</div>"
      ],
      "text/plain": [
       "      timestamp            source    destination cab_type    product_id  \\\n",
       "0  1.544953e+09  Haymarket Square  North Station     Lyft     lyft_line   \n",
       "1  1.543284e+09  Haymarket Square  North Station     Lyft  lyft_premier   \n",
       "2  1.543367e+09  Haymarket Square  North Station     Lyft          lyft   \n",
       "3  1.543554e+09  Haymarket Square  North Station     Lyft   lyft_luxsuv   \n",
       "4  1.543463e+09  Haymarket Square  North Station     Lyft     lyft_plus   \n",
       "\n",
       "           name  distance  surge_multiplier  apparentTemperature  price  \\\n",
       "0        Shared      0.44               1.0                37.12    5.0   \n",
       "1           Lux      0.44               1.0                37.35   11.0   \n",
       "2          Lyft      0.44               1.0                32.93    7.0   \n",
       "3  Lux Black XL      0.44               1.0                29.63   26.0   \n",
       "4       Lyft XL      0.44               1.0                30.88    9.0   \n",
       "\n",
       "  humidity  windSpeed  visibility    short_summary  \\\n",
       "0     0.68       8.66      10.000   Mostly Cloudy    \n",
       "1     0.94      11.98       4.786            Rain    \n",
       "2     0.75       7.33      10.000           Clear    \n",
       "3     0.73       5.28      10.000           Clear    \n",
       "4      0.7       9.14      10.000   Partly Cloudy    \n",
       "\n",
       "                                        long_summary                   icon  \\\n",
       "0                          Rain throughout the day.    partly-cloudy-night    \n",
       "1   Rain until morning, starting again in the eve...                  rain    \n",
       "2                        Light rain in the morning.            clear-night    \n",
       "3                 Partly cloudy throughout the day.            clear-night    \n",
       "4                 Mostly cloudy throughout the day.               ☁️rainn%%   \n",
       "\n",
       "  pressure  cloudCover  uvIndex  \n",
       "0      NaN        0.72        0  \n",
       "1  1003.97        1.00        0  \n",
       "2   992.28        0.03        0  \n",
       "3  1013.73        0.00        0  \n",
       "4   998.36        0.44        0  "
      ]
     },
     "execution_count": 5,
     "metadata": {},
     "output_type": "execute_result"
    }
   ],
   "source": [
    "selected_columns = [\n",
    "    \"timestamp\",\"source\", \"destination\", \"cab_type\", \"product_id\", \"name\",\n",
    "    \"distance\", \"surge_multiplier\", \"apparentTemperature\", \"price\",\n",
    "    \"humidity\", \"windSpeed\", \"visibility\",\n",
    "    \"short_summary\", \"long_summary\", \"icon\",\n",
    "    \"pressure\", \"cloudCover\", \"uvIndex\"\n",
    "]\n",
    "\n",
    "df = df[selected_columns]\n",
    "df.head()"
   ]
  },
  {
   "cell_type": "markdown",
   "id": "9e41a6de",
   "metadata": {
    "papermill": {
     "duration": 0.014493,
     "end_time": "2025-06-14T15:47:35.453832",
     "exception": false,
     "start_time": "2025-06-14T15:47:35.439339",
     "status": "completed"
    },
    "tags": []
   },
   "source": [
    "### **Dropping Duplicates**"
   ]
  },
  {
   "cell_type": "code",
   "execution_count": 6,
   "id": "38670db0",
   "metadata": {
    "execution": {
     "iopub.execute_input": "2025-06-14T15:47:35.553705Z",
     "iopub.status.busy": "2025-06-14T15:47:35.553350Z",
     "iopub.status.idle": "2025-06-14T15:47:36.381811Z",
     "shell.execute_reply": "2025-06-14T15:47:36.380785Z"
    },
    "papermill": {
     "duration": 0.84614,
     "end_time": "2025-06-14T15:47:36.383476",
     "exception": false,
     "start_time": "2025-06-14T15:47:35.537336",
     "status": "completed"
    },
    "tags": []
   },
   "outputs": [
    {
     "data": {
      "text/plain": [
       "1250"
      ]
     },
     "execution_count": 6,
     "metadata": {},
     "output_type": "execute_result"
    }
   ],
   "source": [
    "df.duplicated().sum()"
   ]
  },
  {
   "cell_type": "code",
   "execution_count": 7,
   "id": "c0fa94c8",
   "metadata": {
    "execution": {
     "iopub.execute_input": "2025-06-14T15:47:36.415491Z",
     "iopub.status.busy": "2025-06-14T15:47:36.415193Z",
     "iopub.status.idle": "2025-06-14T15:47:37.329942Z",
     "shell.execute_reply": "2025-06-14T15:47:37.329141Z"
    },
    "papermill": {
     "duration": 0.932045,
     "end_time": "2025-06-14T15:47:37.331648",
     "exception": false,
     "start_time": "2025-06-14T15:47:36.399603",
     "status": "completed"
    },
    "tags": []
   },
   "outputs": [],
   "source": [
    "df = df[~df.duplicated()]"
   ]
  },
  {
   "cell_type": "markdown",
   "id": "88e914a7",
   "metadata": {
    "papermill": {
     "duration": 0.014203,
     "end_time": "2025-06-14T15:47:37.360604",
     "exception": false,
     "start_time": "2025-06-14T15:47:37.346401",
     "status": "completed"
    },
    "tags": []
   },
   "source": [
    "### **Renaming Columns**"
   ]
  },
  {
   "cell_type": "code",
   "execution_count": 8,
   "id": "202e3b51",
   "metadata": {
    "execution": {
     "iopub.execute_input": "2025-06-14T15:47:37.391800Z",
     "iopub.status.busy": "2025-06-14T15:47:37.391455Z",
     "iopub.status.idle": "2025-06-14T15:47:37.397356Z",
     "shell.execute_reply": "2025-06-14T15:47:37.396494Z"
    },
    "papermill": {
     "duration": 0.023122,
     "end_time": "2025-06-14T15:47:37.398905",
     "exception": false,
     "start_time": "2025-06-14T15:47:37.375783",
     "status": "completed"
    },
    "tags": []
   },
   "outputs": [],
   "source": [
    "# Renaming multiple columns for better clarity and consistency\n",
    "df.rename(columns={\n",
    "    \"price\": \"fare\",\n",
    "    \"cab_type\": \"ride_company\",\n",
    "    \"product_id\": \"vehicle_id\",\n",
    "    \"name\": \"vehicle\",\n",
    "    \"apparentTemperature\": \"temperature_F\",\n",
    "    \"short_summary\": \"weather_desc_short\",\n",
    "    \"long_summary\": \"weather_desc_long\",\n",
    "    \"windSpeed\": \"wind_speed\",\n",
    "    \"windGust\": \"wind_gust\",\n",
    "    \"icon\": \"weather_status\",\n",
    "    \"cloudCover\": \"cloud_cover\",\n",
    "    \"uvIndex\": \"uv_index\"\n",
    "}, inplace=True)\n"
   ]
  },
  {
   "cell_type": "markdown",
   "id": "24c84069",
   "metadata": {
    "papermill": {
     "duration": 0.014773,
     "end_time": "2025-06-14T15:47:37.428444",
     "exception": false,
     "start_time": "2025-06-14T15:47:37.413671",
     "status": "completed"
    },
    "tags": []
   },
   "source": [
    "### **Extract date, hour, day of the week, and month from the timestamp column.**"
   ]
  },
  {
   "cell_type": "code",
   "execution_count": 9,
   "id": "2dde3d95",
   "metadata": {
    "execution": {
     "iopub.execute_input": "2025-06-14T15:47:37.458975Z",
     "iopub.status.busy": "2025-06-14T15:47:37.458693Z",
     "iopub.status.idle": "2025-06-14T15:47:38.242565Z",
     "shell.execute_reply": "2025-06-14T15:47:38.241496Z"
    },
    "papermill": {
     "duration": 0.801394,
     "end_time": "2025-06-14T15:47:38.244477",
     "exception": false,
     "start_time": "2025-06-14T15:47:37.443083",
     "status": "completed"
    },
    "tags": []
   },
   "outputs": [
    {
     "name": "stderr",
     "output_type": "stream",
     "text": [
      "/tmp/ipykernel_13/150795981.py:2: FutureWarning: 'S' is deprecated and will be removed in a future version, please use 's' instead.\n",
      "  df[\"timestamp\"] = pd.to_datetime(df[\"timestamp\"], unit='s').dt.floor(\"S\")\n"
     ]
    }
   ],
   "source": [
    "# Convert UNIX timestamp to datetime\n",
    "df[\"timestamp\"] = pd.to_datetime(df[\"timestamp\"], unit='s').dt.floor(\"S\")\n",
    "\n",
    "# Extract datetime features\n",
    "df[\"date\"] = df[\"timestamp\"].dt.date\n",
    "df[\"hour\"] = df[\"timestamp\"].dt.hour\n",
    "df[\"day_of_week\"] = df[\"timestamp\"].dt.day_name()\n",
    "df[\"month\"] = df[\"timestamp\"].dt.month"
   ]
  },
  {
   "cell_type": "markdown",
   "id": "3cec5855",
   "metadata": {
    "papermill": {
     "duration": 0.015782,
     "end_time": "2025-06-14T15:47:38.274955",
     "exception": false,
     "start_time": "2025-06-14T15:47:38.259173",
     "status": "completed"
    },
    "tags": []
   },
   "source": [
    "### **Column reordering and Row Sorting**"
   ]
  },
  {
   "cell_type": "code",
   "execution_count": 10,
   "id": "8ff7be85",
   "metadata": {
    "execution": {
     "iopub.execute_input": "2025-06-14T15:47:38.309465Z",
     "iopub.status.busy": "2025-06-14T15:47:38.309157Z",
     "iopub.status.idle": "2025-06-14T15:47:39.478898Z",
     "shell.execute_reply": "2025-06-14T15:47:39.477877Z"
    },
    "papermill": {
     "duration": 1.189794,
     "end_time": "2025-06-14T15:47:39.480409",
     "exception": false,
     "start_time": "2025-06-14T15:47:38.290615",
     "status": "completed"
    },
    "tags": []
   },
   "outputs": [
    {
     "name": "stderr",
     "output_type": "stream",
     "text": [
      "/usr/local/lib/python3.11/dist-packages/pandas/io/formats/format.py:1458: RuntimeWarning: invalid value encountered in greater\n",
      "  has_large_values = (abs_vals > 1e6).any()\n",
      "/usr/local/lib/python3.11/dist-packages/pandas/io/formats/format.py:1459: RuntimeWarning: invalid value encountered in less\n",
      "  has_small_values = ((abs_vals < 10 ** (-self.digits)) & (abs_vals > 0)).any()\n",
      "/usr/local/lib/python3.11/dist-packages/pandas/io/formats/format.py:1459: RuntimeWarning: invalid value encountered in greater\n",
      "  has_small_values = ((abs_vals < 10 ** (-self.digits)) & (abs_vals > 0)).any()\n",
      "/usr/local/lib/python3.11/dist-packages/pandas/io/formats/format.py:1458: RuntimeWarning: invalid value encountered in greater\n",
      "  has_large_values = (abs_vals > 1e6).any()\n",
      "/usr/local/lib/python3.11/dist-packages/pandas/io/formats/format.py:1459: RuntimeWarning: invalid value encountered in less\n",
      "  has_small_values = ((abs_vals < 10 ** (-self.digits)) & (abs_vals > 0)).any()\n",
      "/usr/local/lib/python3.11/dist-packages/pandas/io/formats/format.py:1459: RuntimeWarning: invalid value encountered in greater\n",
      "  has_small_values = ((abs_vals < 10 ** (-self.digits)) & (abs_vals > 0)).any()\n"
     ]
    },
    {
     "data": {
      "text/html": [
       "<div>\n",
       "<style scoped>\n",
       "    .dataframe tbody tr th:only-of-type {\n",
       "        vertical-align: middle;\n",
       "    }\n",
       "\n",
       "    .dataframe tbody tr th {\n",
       "        vertical-align: top;\n",
       "    }\n",
       "\n",
       "    .dataframe thead th {\n",
       "        text-align: right;\n",
       "    }\n",
       "</style>\n",
       "<table border=\"1\" class=\"dataframe\">\n",
       "  <thead>\n",
       "    <tr style=\"text-align: right;\">\n",
       "      <th></th>\n",
       "      <th>timestamp</th>\n",
       "      <th>date</th>\n",
       "      <th>hour</th>\n",
       "      <th>day_of_week</th>\n",
       "      <th>month</th>\n",
       "      <th>source</th>\n",
       "      <th>destination</th>\n",
       "      <th>ride_company</th>\n",
       "      <th>vehicle_id</th>\n",
       "      <th>vehicle</th>\n",
       "      <th>...</th>\n",
       "      <th>distance</th>\n",
       "      <th>surge_multiplier</th>\n",
       "      <th>fare</th>\n",
       "      <th>temperature_F</th>\n",
       "      <th>humidity</th>\n",
       "      <th>wind_speed</th>\n",
       "      <th>weather_desc_short</th>\n",
       "      <th>weather_desc_long</th>\n",
       "      <th>weather_status</th>\n",
       "      <th>pressure</th>\n",
       "    </tr>\n",
       "  </thead>\n",
       "  <tbody>\n",
       "    <tr>\n",
       "      <th>0</th>\n",
       "      <td>2018-11-26 03:40:46</td>\n",
       "      <td>2018-11-26</td>\n",
       "      <td>3</td>\n",
       "      <td>Monday</td>\n",
       "      <td>11</td>\n",
       "      <td>Haymarket Square</td>\n",
       "      <td>Theatre District</td>\n",
       "      <td>Uber</td>\n",
       "      <td>8cf7e821-f0d3-49c6-8eba-e679c0ebcf6a</td>\n",
       "      <td>Taxi</td>\n",
       "      <td>...</td>\n",
       "      <td>1.16</td>\n",
       "      <td>1.00</td>\n",
       "      <td>NaN</td>\n",
       "      <td>41.83</td>\n",
       "      <td>0.92</td>\n",
       "      <td>0.51</td>\n",
       "      <td>Foggy</td>\n",
       "      <td>Rain in the morning and afternoon.</td>\n",
       "      <td>fog</td>\n",
       "      <td>1014.1</td>\n",
       "    </tr>\n",
       "    <tr>\n",
       "      <th>1</th>\n",
       "      <td>2018-11-26 03:40:46</td>\n",
       "      <td>2018-11-26</td>\n",
       "      <td>3</td>\n",
       "      <td>Monday</td>\n",
       "      <td>11</td>\n",
       "      <td>Theatre District</td>\n",
       "      <td>North End</td>\n",
       "      <td>Uber</td>\n",
       "      <td>8cf7e821-f0d3-49c6-8eba-e679c0ebcf6a</td>\n",
       "      <td>Taxi</td>\n",
       "      <td>...</td>\n",
       "      <td>1.57</td>\n",
       "      <td>1.00</td>\n",
       "      <td>NaN</td>\n",
       "      <td>41.83</td>\n",
       "      <td>0.92</td>\n",
       "      <td>0.51</td>\n",
       "      <td>Foggy</td>\n",
       "      <td>Rain in the morning and afternoon.</td>\n",
       "      <td>fog</td>\n",
       "      <td>1014.1</td>\n",
       "    </tr>\n",
       "    <tr>\n",
       "      <th>2</th>\n",
       "      <td>2018-11-26 03:40:46</td>\n",
       "      <td>2018-11-26</td>\n",
       "      <td>3</td>\n",
       "      <td>Monday</td>\n",
       "      <td>11</td>\n",
       "      <td>Boston University</td>\n",
       "      <td>Financial District</td>\n",
       "      <td>Lyft</td>\n",
       "      <td>lyft_lux</td>\n",
       "      <td>Lux Black</td>\n",
       "      <td>...</td>\n",
       "      <td>4.46</td>\n",
       "      <td>1.75</td>\n",
       "      <td>62.5</td>\n",
       "      <td>41.83</td>\n",
       "      <td>0.92</td>\n",
       "      <td>0.51</td>\n",
       "      <td>Foggy</td>\n",
       "      <td>Rain in the morning and afternoon.</td>\n",
       "      <td>fog</td>\n",
       "      <td>1014.1</td>\n",
       "    </tr>\n",
       "    <tr>\n",
       "      <th>3</th>\n",
       "      <td>2018-11-26 03:40:46</td>\n",
       "      <td>2018-11-26</td>\n",
       "      <td>3</td>\n",
       "      <td>Monday</td>\n",
       "      <td>11</td>\n",
       "      <td>Boston University</td>\n",
       "      <td>Financial District</td>\n",
       "      <td>Lyft</td>\n",
       "      <td>lyft_premier</td>\n",
       "      <td>Lux</td>\n",
       "      <td>...</td>\n",
       "      <td>4.46</td>\n",
       "      <td>1.75</td>\n",
       "      <td>47.5</td>\n",
       "      <td>41.83</td>\n",
       "      <td>0.92</td>\n",
       "      <td>0.51</td>\n",
       "      <td>Foggy</td>\n",
       "      <td>Rain in the morning and afternoon.</td>\n",
       "      <td>fog</td>\n",
       "      <td>1014.1</td>\n",
       "    </tr>\n",
       "    <tr>\n",
       "      <th>4</th>\n",
       "      <td>2018-11-26 03:40:46</td>\n",
       "      <td>2018-11-26</td>\n",
       "      <td>3</td>\n",
       "      <td>Monday</td>\n",
       "      <td>11</td>\n",
       "      <td>North Station</td>\n",
       "      <td>Fenway</td>\n",
       "      <td>Uber</td>\n",
       "      <td>9a0e7b09-b92b-4c41-9779-2ad22b4d779d</td>\n",
       "      <td>WAV</td>\n",
       "      <td>...</td>\n",
       "      <td>3.05</td>\n",
       "      <td>1.00</td>\n",
       "      <td>10.5</td>\n",
       "      <td>41.83</td>\n",
       "      <td>0.92</td>\n",
       "      <td>0.51</td>\n",
       "      <td>Foggy</td>\n",
       "      <td>Rain in the morning and afternoon.</td>\n",
       "      <td>fog</td>\n",
       "      <td>1014.1</td>\n",
       "    </tr>\n",
       "  </tbody>\n",
       "</table>\n",
       "<p>5 rows × 23 columns</p>\n",
       "</div>"
      ],
      "text/plain": [
       "            timestamp        date  hour day_of_week  month             source  \\\n",
       "0 2018-11-26 03:40:46  2018-11-26     3      Monday     11   Haymarket Square   \n",
       "1 2018-11-26 03:40:46  2018-11-26     3      Monday     11   Theatre District   \n",
       "2 2018-11-26 03:40:46  2018-11-26     3      Monday     11  Boston University   \n",
       "3 2018-11-26 03:40:46  2018-11-26     3      Monday     11  Boston University   \n",
       "4 2018-11-26 03:40:46  2018-11-26     3      Monday     11      North Station   \n",
       "\n",
       "          destination ride_company                            vehicle_id  \\\n",
       "0    Theatre District         Uber  8cf7e821-f0d3-49c6-8eba-e679c0ebcf6a   \n",
       "1           North End         Uber  8cf7e821-f0d3-49c6-8eba-e679c0ebcf6a   \n",
       "2  Financial District         Lyft                              lyft_lux   \n",
       "3  Financial District         Lyft                          lyft_premier   \n",
       "4              Fenway         Uber  9a0e7b09-b92b-4c41-9779-2ad22b4d779d   \n",
       "\n",
       "     vehicle  ...  distance  surge_multiplier  fare  temperature_F  humidity  \\\n",
       "0       Taxi  ...      1.16              1.00   NaN          41.83      0.92   \n",
       "1       Taxi  ...      1.57              1.00   NaN          41.83      0.92   \n",
       "2  Lux Black  ...      4.46              1.75  62.5          41.83      0.92   \n",
       "3        Lux  ...      4.46              1.75  47.5          41.83      0.92   \n",
       "4        WAV  ...      3.05              1.00  10.5          41.83      0.92   \n",
       "\n",
       "   wind_speed  weather_desc_short                     weather_desc_long  \\\n",
       "0        0.51              Foggy    Rain in the morning and afternoon.    \n",
       "1        0.51              Foggy    Rain in the morning and afternoon.    \n",
       "2        0.51              Foggy    Rain in the morning and afternoon.    \n",
       "3        0.51              Foggy    Rain in the morning and afternoon.    \n",
       "4        0.51              Foggy    Rain in the morning and afternoon.    \n",
       "\n",
       "   weather_status pressure  \n",
       "0            fog    1014.1  \n",
       "1            fog    1014.1  \n",
       "2            fog    1014.1  \n",
       "3            fog    1014.1  \n",
       "4            fog    1014.1  \n",
       "\n",
       "[5 rows x 23 columns]"
      ]
     },
     "execution_count": 10,
     "metadata": {},
     "output_type": "execute_result"
    }
   ],
   "source": [
    "cols = ['timestamp', 'date', 'hour', 'day_of_week', 'month', 'source', 'destination', 'ride_company', 'vehicle_id', 'vehicle', 'visibility', 'cloud_cover', \n",
    "        'uv_index', 'distance', 'surge_multiplier', 'fare', 'temperature_F', 'humidity', 'wind_speed', 'weather_desc_short', 'weather_desc_long', 'weather_status', 'pressure']\n",
    "df = df[cols]\n",
    "# Sort the DataFrame by timestamp in ascending order\n",
    "df = df.sort_values(by=\"timestamp\").reset_index(drop=True)\n",
    "df.head()"
   ]
  },
  {
   "cell_type": "code",
   "execution_count": 11,
   "id": "754ec3f3",
   "metadata": {
    "execution": {
     "iopub.execute_input": "2025-06-14T15:47:39.522399Z",
     "iopub.status.busy": "2025-06-14T15:47:39.522084Z",
     "iopub.status.idle": "2025-06-14T15:47:40.053002Z",
     "shell.execute_reply": "2025-06-14T15:47:40.051849Z"
    },
    "papermill": {
     "duration": 0.550696,
     "end_time": "2025-06-14T15:47:40.055095",
     "exception": false,
     "start_time": "2025-06-14T15:47:39.504399",
     "status": "completed"
    },
    "tags": []
   },
   "outputs": [
    {
     "name": "stdout",
     "output_type": "stream",
     "text": [
      "<class 'pandas.core.frame.DataFrame'>\n",
      "RangeIndex: 691821 entries, 0 to 691820\n",
      "Data columns (total 23 columns):\n",
      " #   Column              Non-Null Count   Dtype         \n",
      "---  ------              --------------   -----         \n",
      " 0   timestamp           691821 non-null  datetime64[ns]\n",
      " 1   date                691821 non-null  object        \n",
      " 2   hour                691821 non-null  int32         \n",
      " 3   day_of_week         691821 non-null  object        \n",
      " 4   month               691821 non-null  int32         \n",
      " 5   source              691821 non-null  object        \n",
      " 6   destination         691821 non-null  object        \n",
      " 7   ride_company        691821 non-null  object        \n",
      " 8   vehicle_id          691821 non-null  object        \n",
      " 9   vehicle             691821 non-null  object        \n",
      " 10  visibility          691821 non-null  float64       \n",
      " 11  cloud_cover         691821 non-null  float64       \n",
      " 12  uv_index            691821 non-null  int64         \n",
      " 13  distance            684890 non-null  float64       \n",
      " 14  surge_multiplier    691821 non-null  float64       \n",
      " 15  fare                637194 non-null  float64       \n",
      " 16  temperature_F       683782 non-null  float64       \n",
      " 17  humidity            687143 non-null  object        \n",
      " 18  wind_speed          691821 non-null  float64       \n",
      " 19  weather_desc_short  691821 non-null  object        \n",
      " 20  weather_desc_long   691821 non-null  object        \n",
      " 21  weather_status      691821 non-null  object        \n",
      " 22  pressure            679450 non-null  object        \n",
      "dtypes: datetime64[ns](1), float64(7), int32(2), int64(1), object(12)\n",
      "memory usage: 116.1+ MB\n"
     ]
    }
   ],
   "source": [
    "df.info()"
   ]
  },
  {
   "cell_type": "markdown",
   "id": "20946a8d",
   "metadata": {
    "papermill": {
     "duration": 0.015349,
     "end_time": "2025-06-14T15:47:40.086682",
     "exception": false,
     "start_time": "2025-06-14T15:47:40.071333",
     "status": "completed"
    },
    "tags": []
   },
   "source": [
    "### **Change Data type**\n",
    "humidity, pressure, surge_multiplier are numerical columns but has object data type. pd.to_numeric will convert Non-numeric strings to NaN. "
   ]
  },
  {
   "cell_type": "code",
   "execution_count": 12,
   "id": "5571f28f",
   "metadata": {
    "execution": {
     "iopub.execute_input": "2025-06-14T15:47:40.119079Z",
     "iopub.status.busy": "2025-06-14T15:47:40.118770Z",
     "iopub.status.idle": "2025-06-14T15:47:40.561454Z",
     "shell.execute_reply": "2025-06-14T15:47:40.560295Z"
    },
    "papermill": {
     "duration": 0.461845,
     "end_time": "2025-06-14T15:47:40.563783",
     "exception": false,
     "start_time": "2025-06-14T15:47:40.101938",
     "status": "completed"
    },
    "tags": []
   },
   "outputs": [],
   "source": [
    "df[\"humidity\"] = pd.to_numeric(df[\"humidity\"], errors=\"coerce\")\n",
    "df[\"pressure\"] = pd.to_numeric(df[\"pressure\"], errors=\"coerce\")\n",
    "df[\"surge_multiplier\"] = pd.to_numeric(df[\"surge_multiplier\"], errors=\"coerce\")"
   ]
  },
  {
   "cell_type": "code",
   "execution_count": 13,
   "id": "bb1832e3",
   "metadata": {
    "execution": {
     "iopub.execute_input": "2025-06-14T15:47:40.608934Z",
     "iopub.status.busy": "2025-06-14T15:47:40.608164Z",
     "iopub.status.idle": "2025-06-14T15:47:40.998085Z",
     "shell.execute_reply": "2025-06-14T15:47:40.997035Z"
    },
    "papermill": {
     "duration": 0.409661,
     "end_time": "2025-06-14T15:47:40.999876",
     "exception": false,
     "start_time": "2025-06-14T15:47:40.590215",
     "status": "completed"
    },
    "tags": []
   },
   "outputs": [
    {
     "data": {
      "text/html": [
       "<div>\n",
       "<style scoped>\n",
       "    .dataframe tbody tr th:only-of-type {\n",
       "        vertical-align: middle;\n",
       "    }\n",
       "\n",
       "    .dataframe tbody tr th {\n",
       "        vertical-align: top;\n",
       "    }\n",
       "\n",
       "    .dataframe thead th {\n",
       "        text-align: right;\n",
       "    }\n",
       "</style>\n",
       "<table border=\"1\" class=\"dataframe\">\n",
       "  <thead>\n",
       "    <tr style=\"text-align: right;\">\n",
       "      <th></th>\n",
       "      <th>timestamp</th>\n",
       "      <th>hour</th>\n",
       "      <th>month</th>\n",
       "      <th>visibility</th>\n",
       "      <th>cloud_cover</th>\n",
       "      <th>uv_index</th>\n",
       "      <th>distance</th>\n",
       "      <th>surge_multiplier</th>\n",
       "      <th>fare</th>\n",
       "      <th>temperature_F</th>\n",
       "      <th>humidity</th>\n",
       "      <th>wind_speed</th>\n",
       "      <th>pressure</th>\n",
       "    </tr>\n",
       "  </thead>\n",
       "  <tbody>\n",
       "    <tr>\n",
       "      <th>count</th>\n",
       "      <td>691821</td>\n",
       "      <td>691821.000000</td>\n",
       "      <td>691821.000000</td>\n",
       "      <td>691821.000000</td>\n",
       "      <td>691821.000000</td>\n",
       "      <td>691821.000000</td>\n",
       "      <td>684890.000000</td>\n",
       "      <td>691821.000000</td>\n",
       "      <td>637194.000000</td>\n",
       "      <td>683782.000000</td>\n",
       "      <td>682465.000000</td>\n",
       "      <td>691821.000000</td>\n",
       "      <td>667079.000000</td>\n",
       "    </tr>\n",
       "    <tr>\n",
       "      <th>mean</th>\n",
       "      <td>2018-12-05 21:42:19.921011456</td>\n",
       "      <td>11.618518</td>\n",
       "      <td>11.587052</td>\n",
       "      <td>8.468426</td>\n",
       "      <td>0.686394</td>\n",
       "      <td>0.248991</td>\n",
       "      <td>2.399801</td>\n",
       "      <td>1.013895</td>\n",
       "      <td>18.136820</td>\n",
       "      <td>36.091633</td>\n",
       "      <td>0.741067</td>\n",
       "      <td>6.235108</td>\n",
       "      <td>1010.107340</td>\n",
       "    </tr>\n",
       "    <tr>\n",
       "      <th>min</th>\n",
       "      <td>2018-11-26 03:40:46</td>\n",
       "      <td>0.000000</td>\n",
       "      <td>11.000000</td>\n",
       "      <td>0.717000</td>\n",
       "      <td>0.000000</td>\n",
       "      <td>0.000000</td>\n",
       "      <td>0.020000</td>\n",
       "      <td>1.000000</td>\n",
       "      <td>2.500000</td>\n",
       "      <td>12.130000</td>\n",
       "      <td>0.380000</td>\n",
       "      <td>0.450000</td>\n",
       "      <td>988.090000</td>\n",
       "    </tr>\n",
       "    <tr>\n",
       "      <th>25%</th>\n",
       "      <td>2018-11-28 22:29:09</td>\n",
       "      <td>6.000000</td>\n",
       "      <td>11.000000</td>\n",
       "      <td>8.432000</td>\n",
       "      <td>0.370000</td>\n",
       "      <td>0.000000</td>\n",
       "      <td>1.280000</td>\n",
       "      <td>1.000000</td>\n",
       "      <td>9.000000</td>\n",
       "      <td>31.910000</td>\n",
       "      <td>0.640000</td>\n",
       "      <td>3.410000</td>\n",
       "      <td>999.840000</td>\n",
       "    </tr>\n",
       "    <tr>\n",
       "      <th>50%</th>\n",
       "      <td>2018-12-02 08:03:00</td>\n",
       "      <td>12.000000</td>\n",
       "      <td>12.000000</td>\n",
       "      <td>9.880000</td>\n",
       "      <td>0.820000</td>\n",
       "      <td>0.000000</td>\n",
       "      <td>2.170000</td>\n",
       "      <td>1.000000</td>\n",
       "      <td>13.500000</td>\n",
       "      <td>35.970000</td>\n",
       "      <td>0.710000</td>\n",
       "      <td>5.920000</td>\n",
       "      <td>1009.250000</td>\n",
       "    </tr>\n",
       "    <tr>\n",
       "      <th>75%</th>\n",
       "      <td>2018-12-14 22:45:13</td>\n",
       "      <td>18.000000</td>\n",
       "      <td>12.000000</td>\n",
       "      <td>9.996000</td>\n",
       "      <td>1.000000</td>\n",
       "      <td>0.000000</td>\n",
       "      <td>2.940000</td>\n",
       "      <td>1.000000</td>\n",
       "      <td>22.500000</td>\n",
       "      <td>40.720000</td>\n",
       "      <td>0.880000</td>\n",
       "      <td>8.410000</td>\n",
       "      <td>1021.860000</td>\n",
       "    </tr>\n",
       "    <tr>\n",
       "      <th>max</th>\n",
       "      <td>2018-12-18 19:15:11</td>\n",
       "      <td>23.000000</td>\n",
       "      <td>12.000000</td>\n",
       "      <td>10.000000</td>\n",
       "      <td>1.000000</td>\n",
       "      <td>2.000000</td>\n",
       "      <td>149.200000</td>\n",
       "      <td>3.000000</td>\n",
       "      <td>1300.000000</td>\n",
       "      <td>85.830000</td>\n",
       "      <td>0.960000</td>\n",
       "      <td>37.500000</td>\n",
       "      <td>1035.550000</td>\n",
       "    </tr>\n",
       "    <tr>\n",
       "      <th>std</th>\n",
       "      <td>NaN</td>\n",
       "      <td>6.947689</td>\n",
       "      <td>0.492364</td>\n",
       "      <td>2.602581</td>\n",
       "      <td>0.358578</td>\n",
       "      <td>0.474179</td>\n",
       "      <td>3.572232</td>\n",
       "      <td>0.091722</td>\n",
       "      <td>27.480774</td>\n",
       "      <td>8.209859</td>\n",
       "      <td>0.138601</td>\n",
       "      <td>3.265309</td>\n",
       "      <td>13.471712</td>\n",
       "    </tr>\n",
       "  </tbody>\n",
       "</table>\n",
       "</div>"
      ],
      "text/plain": [
       "                           timestamp           hour          month  \\\n",
       "count                         691821  691821.000000  691821.000000   \n",
       "mean   2018-12-05 21:42:19.921011456      11.618518      11.587052   \n",
       "min              2018-11-26 03:40:46       0.000000      11.000000   \n",
       "25%              2018-11-28 22:29:09       6.000000      11.000000   \n",
       "50%              2018-12-02 08:03:00      12.000000      12.000000   \n",
       "75%              2018-12-14 22:45:13      18.000000      12.000000   \n",
       "max              2018-12-18 19:15:11      23.000000      12.000000   \n",
       "std                              NaN       6.947689       0.492364   \n",
       "\n",
       "          visibility    cloud_cover       uv_index       distance  \\\n",
       "count  691821.000000  691821.000000  691821.000000  684890.000000   \n",
       "mean        8.468426       0.686394       0.248991       2.399801   \n",
       "min         0.717000       0.000000       0.000000       0.020000   \n",
       "25%         8.432000       0.370000       0.000000       1.280000   \n",
       "50%         9.880000       0.820000       0.000000       2.170000   \n",
       "75%         9.996000       1.000000       0.000000       2.940000   \n",
       "max        10.000000       1.000000       2.000000     149.200000   \n",
       "std         2.602581       0.358578       0.474179       3.572232   \n",
       "\n",
       "       surge_multiplier           fare  temperature_F       humidity  \\\n",
       "count     691821.000000  637194.000000  683782.000000  682465.000000   \n",
       "mean           1.013895      18.136820      36.091633       0.741067   \n",
       "min            1.000000       2.500000      12.130000       0.380000   \n",
       "25%            1.000000       9.000000      31.910000       0.640000   \n",
       "50%            1.000000      13.500000      35.970000       0.710000   \n",
       "75%            1.000000      22.500000      40.720000       0.880000   \n",
       "max            3.000000    1300.000000      85.830000       0.960000   \n",
       "std            0.091722      27.480774       8.209859       0.138601   \n",
       "\n",
       "          wind_speed       pressure  \n",
       "count  691821.000000  667079.000000  \n",
       "mean        6.235108    1010.107340  \n",
       "min         0.450000     988.090000  \n",
       "25%         3.410000     999.840000  \n",
       "50%         5.920000    1009.250000  \n",
       "75%         8.410000    1021.860000  \n",
       "max        37.500000    1035.550000  \n",
       "std         3.265309      13.471712  "
      ]
     },
     "execution_count": 13,
     "metadata": {},
     "output_type": "execute_result"
    }
   ],
   "source": [
    "df.describe()"
   ]
  },
  {
   "cell_type": "markdown",
   "id": "7cd9826f",
   "metadata": {
    "papermill": {
     "duration": 0.017428,
     "end_time": "2025-06-14T15:47:41.035334",
     "exception": false,
     "start_time": "2025-06-14T15:47:41.017906",
     "status": "completed"
    },
    "tags": []
   },
   "source": [
    "#### price, distance, temperature, windSpeed has some outliers as their max is significantly larger than 75th percentile value. These needs to be removed or replaced with some realistic values. Let's take each feature and work on its outlier and missing values."
   ]
  },
  {
   "cell_type": "code",
   "execution_count": 14,
   "id": "d850329b",
   "metadata": {
    "execution": {
     "iopub.execute_input": "2025-06-14T15:47:41.071293Z",
     "iopub.status.busy": "2025-06-14T15:47:41.070984Z",
     "iopub.status.idle": "2025-06-14T15:47:41.523344Z",
     "shell.execute_reply": "2025-06-14T15:47:41.522449Z"
    },
    "papermill": {
     "duration": 0.471629,
     "end_time": "2025-06-14T15:47:41.524957",
     "exception": false,
     "start_time": "2025-06-14T15:47:41.053328",
     "status": "completed"
    },
    "tags": []
   },
   "outputs": [
    {
     "data": {
      "text/plain": [
       "timestamp                 0\n",
       "date                      0\n",
       "hour                      0\n",
       "day_of_week               0\n",
       "month                     0\n",
       "source                    0\n",
       "destination               0\n",
       "ride_company              0\n",
       "vehicle_id                0\n",
       "vehicle                   0\n",
       "visibility                0\n",
       "cloud_cover               0\n",
       "uv_index                  0\n",
       "distance               6931\n",
       "surge_multiplier          0\n",
       "fare                  54627\n",
       "temperature_F          8039\n",
       "humidity               9356\n",
       "wind_speed                0\n",
       "weather_desc_short        0\n",
       "weather_desc_long         0\n",
       "weather_status            0\n",
       "pressure              24742\n",
       "dtype: int64"
      ]
     },
     "execution_count": 14,
     "metadata": {},
     "output_type": "execute_result"
    }
   ],
   "source": [
    "df.isnull().sum()"
   ]
  },
  {
   "cell_type": "markdown",
   "id": "d84962be",
   "metadata": {
    "papermill": {
     "duration": 0.016534,
     "end_time": "2025-06-14T15:47:41.557469",
     "exception": false,
     "start_time": "2025-06-14T15:47:41.540935",
     "status": "completed"
    },
    "tags": []
   },
   "source": [
    "### **Handling missing fare values.**\n",
    "#### The price column has the highest number of missing values, approximately 8% of the dataset. Since this is our target variable, it's crucial to investigate the nature of these missing entries before deciding how to handle them.\n",
    "#### Let’s display only the rows where the price is missing to better understand any patterns or correlations in the missing data."
   ]
  },
  {
   "cell_type": "code",
   "execution_count": 15,
   "id": "768917df",
   "metadata": {
    "execution": {
     "iopub.execute_input": "2025-06-14T15:47:41.592419Z",
     "iopub.status.busy": "2025-06-14T15:47:41.591481Z",
     "iopub.status.idle": "2025-06-14T15:47:41.688155Z",
     "shell.execute_reply": "2025-06-14T15:47:41.686892Z"
    },
    "papermill": {
     "duration": 0.116541,
     "end_time": "2025-06-14T15:47:41.690406",
     "exception": false,
     "start_time": "2025-06-14T15:47:41.573865",
     "status": "completed"
    },
    "tags": []
   },
   "outputs": [
    {
     "name": "stderr",
     "output_type": "stream",
     "text": [
      "/usr/local/lib/python3.11/dist-packages/pandas/io/formats/format.py:1458: RuntimeWarning: invalid value encountered in greater\n",
      "  has_large_values = (abs_vals > 1e6).any()\n",
      "/usr/local/lib/python3.11/dist-packages/pandas/io/formats/format.py:1459: RuntimeWarning: invalid value encountered in less\n",
      "  has_small_values = ((abs_vals < 10 ** (-self.digits)) & (abs_vals > 0)).any()\n",
      "/usr/local/lib/python3.11/dist-packages/pandas/io/formats/format.py:1459: RuntimeWarning: invalid value encountered in greater\n",
      "  has_small_values = ((abs_vals < 10 ** (-self.digits)) & (abs_vals > 0)).any()\n",
      "/usr/local/lib/python3.11/dist-packages/pandas/io/formats/format.py:1458: RuntimeWarning: invalid value encountered in greater\n",
      "  has_large_values = (abs_vals > 1e6).any()\n",
      "/usr/local/lib/python3.11/dist-packages/pandas/io/formats/format.py:1459: RuntimeWarning: invalid value encountered in less\n",
      "  has_small_values = ((abs_vals < 10 ** (-self.digits)) & (abs_vals > 0)).any()\n",
      "/usr/local/lib/python3.11/dist-packages/pandas/io/formats/format.py:1459: RuntimeWarning: invalid value encountered in greater\n",
      "  has_small_values = ((abs_vals < 10 ** (-self.digits)) & (abs_vals > 0)).any()\n"
     ]
    },
    {
     "data": {
      "text/html": [
       "<div>\n",
       "<style scoped>\n",
       "    .dataframe tbody tr th:only-of-type {\n",
       "        vertical-align: middle;\n",
       "    }\n",
       "\n",
       "    .dataframe tbody tr th {\n",
       "        vertical-align: top;\n",
       "    }\n",
       "\n",
       "    .dataframe thead th {\n",
       "        text-align: right;\n",
       "    }\n",
       "</style>\n",
       "<table border=\"1\" class=\"dataframe\">\n",
       "  <thead>\n",
       "    <tr style=\"text-align: right;\">\n",
       "      <th></th>\n",
       "      <th>timestamp</th>\n",
       "      <th>date</th>\n",
       "      <th>hour</th>\n",
       "      <th>day_of_week</th>\n",
       "      <th>month</th>\n",
       "      <th>source</th>\n",
       "      <th>destination</th>\n",
       "      <th>ride_company</th>\n",
       "      <th>vehicle_id</th>\n",
       "      <th>vehicle</th>\n",
       "      <th>...</th>\n",
       "      <th>distance</th>\n",
       "      <th>surge_multiplier</th>\n",
       "      <th>fare</th>\n",
       "      <th>temperature_F</th>\n",
       "      <th>humidity</th>\n",
       "      <th>wind_speed</th>\n",
       "      <th>weather_desc_short</th>\n",
       "      <th>weather_desc_long</th>\n",
       "      <th>weather_status</th>\n",
       "      <th>pressure</th>\n",
       "    </tr>\n",
       "  </thead>\n",
       "  <tbody>\n",
       "    <tr>\n",
       "      <th>0</th>\n",
       "      <td>2018-11-26 03:40:46</td>\n",
       "      <td>2018-11-26</td>\n",
       "      <td>3</td>\n",
       "      <td>Monday</td>\n",
       "      <td>11</td>\n",
       "      <td>Haymarket Square</td>\n",
       "      <td>Theatre District</td>\n",
       "      <td>Uber</td>\n",
       "      <td>8cf7e821-f0d3-49c6-8eba-e679c0ebcf6a</td>\n",
       "      <td>Taxi</td>\n",
       "      <td>...</td>\n",
       "      <td>1.16</td>\n",
       "      <td>1.0</td>\n",
       "      <td>NaN</td>\n",
       "      <td>41.83</td>\n",
       "      <td>0.92</td>\n",
       "      <td>0.510</td>\n",
       "      <td>Foggy</td>\n",
       "      <td>Rain in the morning and afternoon.</td>\n",
       "      <td>fog</td>\n",
       "      <td>1014.10</td>\n",
       "    </tr>\n",
       "    <tr>\n",
       "      <th>1</th>\n",
       "      <td>2018-11-26 03:40:46</td>\n",
       "      <td>2018-11-26</td>\n",
       "      <td>3</td>\n",
       "      <td>Monday</td>\n",
       "      <td>11</td>\n",
       "      <td>Theatre District</td>\n",
       "      <td>North End</td>\n",
       "      <td>Uber</td>\n",
       "      <td>8cf7e821-f0d3-49c6-8eba-e679c0ebcf6a</td>\n",
       "      <td>Taxi</td>\n",
       "      <td>...</td>\n",
       "      <td>1.57</td>\n",
       "      <td>1.0</td>\n",
       "      <td>NaN</td>\n",
       "      <td>41.83</td>\n",
       "      <td>0.92</td>\n",
       "      <td>0.510</td>\n",
       "      <td>Foggy</td>\n",
       "      <td>Rain in the morning and afternoon.</td>\n",
       "      <td>fog</td>\n",
       "      <td>1014.10</td>\n",
       "    </tr>\n",
       "    <tr>\n",
       "      <th>5</th>\n",
       "      <td>2018-11-26 03:40:46</td>\n",
       "      <td>2018-11-26</td>\n",
       "      <td>3</td>\n",
       "      <td>Monday</td>\n",
       "      <td>11</td>\n",
       "      <td>Theatre District</td>\n",
       "      <td>Fenway</td>\n",
       "      <td>Uber</td>\n",
       "      <td>8cf7e821-f0d3-49c6-8eba-e679c0ebcf6a</td>\n",
       "      <td>Taxi</td>\n",
       "      <td>...</td>\n",
       "      <td>2.71</td>\n",
       "      <td>1.0</td>\n",
       "      <td>NaN</td>\n",
       "      <td>41.83</td>\n",
       "      <td>0.92</td>\n",
       "      <td>0.510</td>\n",
       "      <td>Foggy</td>\n",
       "      <td>Rain in the morning and afternoon.</td>\n",
       "      <td>fog</td>\n",
       "      <td>1014.10</td>\n",
       "    </tr>\n",
       "    <tr>\n",
       "      <th>14</th>\n",
       "      <td>2018-11-26 03:40:46</td>\n",
       "      <td>2018-11-26</td>\n",
       "      <td>3</td>\n",
       "      <td>Monday</td>\n",
       "      <td>11</td>\n",
       "      <td>South Station</td>\n",
       "      <td>Beacon Hill</td>\n",
       "      <td>Uber</td>\n",
       "      <td>8cf7e821-f0d3-49c6-8eba-e679c0ebcf6a</td>\n",
       "      <td>Taxi</td>\n",
       "      <td>...</td>\n",
       "      <td>2.50</td>\n",
       "      <td>1.0</td>\n",
       "      <td>NaN</td>\n",
       "      <td>41.83</td>\n",
       "      <td>0.92</td>\n",
       "      <td>0.510</td>\n",
       "      <td>Foggy</td>\n",
       "      <td>Rain in the morning and afternoon.</td>\n",
       "      <td>fog</td>\n",
       "      <td>1014.10</td>\n",
       "    </tr>\n",
       "    <tr>\n",
       "      <th>37</th>\n",
       "      <td>2018-11-26 03:40:47</td>\n",
       "      <td>2018-11-26</td>\n",
       "      <td>3</td>\n",
       "      <td>Monday</td>\n",
       "      <td>11</td>\n",
       "      <td>Theatre District</td>\n",
       "      <td>Fenway</td>\n",
       "      <td>Uber</td>\n",
       "      <td>8cf7e821-f0d3-49c6-8eba-e679c0ebcf6a</td>\n",
       "      <td>Taxi</td>\n",
       "      <td>...</td>\n",
       "      <td>2.66</td>\n",
       "      <td>1.0</td>\n",
       "      <td>NaN</td>\n",
       "      <td>41.83</td>\n",
       "      <td>0.92</td>\n",
       "      <td>1.275</td>\n",
       "      <td>Foggy</td>\n",
       "      <td>Rain in the morning and afternoon.</td>\n",
       "      <td>fog</td>\n",
       "      <td>1014.10</td>\n",
       "    </tr>\n",
       "    <tr>\n",
       "      <th>...</th>\n",
       "      <td>...</td>\n",
       "      <td>...</td>\n",
       "      <td>...</td>\n",
       "      <td>...</td>\n",
       "      <td>...</td>\n",
       "      <td>...</td>\n",
       "      <td>...</td>\n",
       "      <td>...</td>\n",
       "      <td>...</td>\n",
       "      <td>...</td>\n",
       "      <td>...</td>\n",
       "      <td>...</td>\n",
       "      <td>...</td>\n",
       "      <td>...</td>\n",
       "      <td>...</td>\n",
       "      <td>...</td>\n",
       "      <td>...</td>\n",
       "      <td>...</td>\n",
       "      <td>...</td>\n",
       "      <td>...</td>\n",
       "      <td>...</td>\n",
       "    </tr>\n",
       "    <tr>\n",
       "      <th>691737</th>\n",
       "      <td>2018-12-18 19:15:09</td>\n",
       "      <td>2018-12-18</td>\n",
       "      <td>19</td>\n",
       "      <td>Tuesday</td>\n",
       "      <td>12</td>\n",
       "      <td>Theatre District</td>\n",
       "      <td>North End</td>\n",
       "      <td>Uber</td>\n",
       "      <td>8cf7e821-f0d3-49c6-8eba-e679c0ebcf6a</td>\n",
       "      <td>Taxi</td>\n",
       "      <td>...</td>\n",
       "      <td>1.57</td>\n",
       "      <td>1.0</td>\n",
       "      <td>NaN</td>\n",
       "      <td>22.99</td>\n",
       "      <td>0.38</td>\n",
       "      <td>12.520</td>\n",
       "      <td>Clear</td>\n",
       "      <td>Mostly cloudy throughout the day.</td>\n",
       "      <td>clear-day</td>\n",
       "      <td>1011.55</td>\n",
       "    </tr>\n",
       "    <tr>\n",
       "      <th>691793</th>\n",
       "      <td>2018-12-18 19:15:11</td>\n",
       "      <td>2018-12-18</td>\n",
       "      <td>19</td>\n",
       "      <td>Tuesday</td>\n",
       "      <td>12</td>\n",
       "      <td>Theatre District</td>\n",
       "      <td>Fenway</td>\n",
       "      <td>Uber</td>\n",
       "      <td>8cf7e821-f0d3-49c6-8eba-e679c0ebcf6a</td>\n",
       "      <td>Taxi</td>\n",
       "      <td>...</td>\n",
       "      <td>2.66</td>\n",
       "      <td>1.0</td>\n",
       "      <td>NaN</td>\n",
       "      <td>22.99</td>\n",
       "      <td>0.38</td>\n",
       "      <td>12.520</td>\n",
       "      <td>Clear</td>\n",
       "      <td>Mostly cloudy throughout the day.</td>\n",
       "      <td>clear-day</td>\n",
       "      <td>1011.55</td>\n",
       "    </tr>\n",
       "    <tr>\n",
       "      <th>691800</th>\n",
       "      <td>2018-12-18 19:15:11</td>\n",
       "      <td>2018-12-18</td>\n",
       "      <td>19</td>\n",
       "      <td>Tuesday</td>\n",
       "      <td>12</td>\n",
       "      <td>Fenway</td>\n",
       "      <td>Back Bay</td>\n",
       "      <td>Uber</td>\n",
       "      <td>8cf7e821-f0d3-49c6-8eba-e679c0ebcf6a</td>\n",
       "      <td>Taxi</td>\n",
       "      <td>...</td>\n",
       "      <td>1.50</td>\n",
       "      <td>1.0</td>\n",
       "      <td>NaN</td>\n",
       "      <td>22.99</td>\n",
       "      <td>0.38</td>\n",
       "      <td>12.520</td>\n",
       "      <td>Clear</td>\n",
       "      <td>Mostly cloudy throughout the day.</td>\n",
       "      <td>clear-day</td>\n",
       "      <td>1011.55</td>\n",
       "    </tr>\n",
       "    <tr>\n",
       "      <th>691805</th>\n",
       "      <td>2018-12-18 19:15:11</td>\n",
       "      <td>2018-12-18</td>\n",
       "      <td>19</td>\n",
       "      <td>Tuesday</td>\n",
       "      <td>12</td>\n",
       "      <td>Fenway</td>\n",
       "      <td>Theatre District</td>\n",
       "      <td>Uber</td>\n",
       "      <td>8cf7e821-f0d3-49c6-8eba-e679c0ebcf6a</td>\n",
       "      <td>Taxi</td>\n",
       "      <td>...</td>\n",
       "      <td>2.66</td>\n",
       "      <td>1.0</td>\n",
       "      <td>NaN</td>\n",
       "      <td>22.99</td>\n",
       "      <td>0.38</td>\n",
       "      <td>12.520</td>\n",
       "      <td>Clear</td>\n",
       "      <td>Mostly cloudy throughout the day.</td>\n",
       "      <td>clear-day</td>\n",
       "      <td>1011.55</td>\n",
       "    </tr>\n",
       "    <tr>\n",
       "      <th>691806</th>\n",
       "      <td>2018-12-18 19:15:11</td>\n",
       "      <td>2018-12-18</td>\n",
       "      <td>19</td>\n",
       "      <td>Tuesday</td>\n",
       "      <td>12</td>\n",
       "      <td>North End</td>\n",
       "      <td>West End</td>\n",
       "      <td>Uber</td>\n",
       "      <td>8cf7e821-f0d3-49c6-8eba-e679c0ebcf6a</td>\n",
       "      <td>Taxi</td>\n",
       "      <td>...</td>\n",
       "      <td>1.16</td>\n",
       "      <td>1.0</td>\n",
       "      <td>NaN</td>\n",
       "      <td>22.99</td>\n",
       "      <td>0.38</td>\n",
       "      <td>12.520</td>\n",
       "      <td>Clear</td>\n",
       "      <td>Mostly cloudy throughout the day.</td>\n",
       "      <td>clear-day</td>\n",
       "      <td>1011.55</td>\n",
       "    </tr>\n",
       "  </tbody>\n",
       "</table>\n",
       "<p>54627 rows × 23 columns</p>\n",
       "</div>"
      ],
      "text/plain": [
       "                 timestamp        date  hour day_of_week  month  \\\n",
       "0      2018-11-26 03:40:46  2018-11-26     3      Monday     11   \n",
       "1      2018-11-26 03:40:46  2018-11-26     3      Monday     11   \n",
       "5      2018-11-26 03:40:46  2018-11-26     3      Monday     11   \n",
       "14     2018-11-26 03:40:46  2018-11-26     3      Monday     11   \n",
       "37     2018-11-26 03:40:47  2018-11-26     3      Monday     11   \n",
       "...                    ...         ...   ...         ...    ...   \n",
       "691737 2018-12-18 19:15:09  2018-12-18    19     Tuesday     12   \n",
       "691793 2018-12-18 19:15:11  2018-12-18    19     Tuesday     12   \n",
       "691800 2018-12-18 19:15:11  2018-12-18    19     Tuesday     12   \n",
       "691805 2018-12-18 19:15:11  2018-12-18    19     Tuesday     12   \n",
       "691806 2018-12-18 19:15:11  2018-12-18    19     Tuesday     12   \n",
       "\n",
       "                  source       destination ride_company  \\\n",
       "0       Haymarket Square  Theatre District         Uber   \n",
       "1       Theatre District         North End         Uber   \n",
       "5       Theatre District            Fenway         Uber   \n",
       "14         South Station       Beacon Hill         Uber   \n",
       "37      Theatre District            Fenway         Uber   \n",
       "...                  ...               ...          ...   \n",
       "691737  Theatre District         North End         Uber   \n",
       "691793  Theatre District            Fenway         Uber   \n",
       "691800            Fenway          Back Bay         Uber   \n",
       "691805            Fenway  Theatre District         Uber   \n",
       "691806         North End          West End         Uber   \n",
       "\n",
       "                                  vehicle_id vehicle  ...  distance  \\\n",
       "0       8cf7e821-f0d3-49c6-8eba-e679c0ebcf6a    Taxi  ...      1.16   \n",
       "1       8cf7e821-f0d3-49c6-8eba-e679c0ebcf6a    Taxi  ...      1.57   \n",
       "5       8cf7e821-f0d3-49c6-8eba-e679c0ebcf6a    Taxi  ...      2.71   \n",
       "14      8cf7e821-f0d3-49c6-8eba-e679c0ebcf6a    Taxi  ...      2.50   \n",
       "37      8cf7e821-f0d3-49c6-8eba-e679c0ebcf6a    Taxi  ...      2.66   \n",
       "...                                      ...     ...  ...       ...   \n",
       "691737  8cf7e821-f0d3-49c6-8eba-e679c0ebcf6a    Taxi  ...      1.57   \n",
       "691793  8cf7e821-f0d3-49c6-8eba-e679c0ebcf6a    Taxi  ...      2.66   \n",
       "691800  8cf7e821-f0d3-49c6-8eba-e679c0ebcf6a    Taxi  ...      1.50   \n",
       "691805  8cf7e821-f0d3-49c6-8eba-e679c0ebcf6a    Taxi  ...      2.66   \n",
       "691806  8cf7e821-f0d3-49c6-8eba-e679c0ebcf6a    Taxi  ...      1.16   \n",
       "\n",
       "        surge_multiplier  fare  temperature_F  humidity  wind_speed  \\\n",
       "0                    1.0   NaN          41.83      0.92       0.510   \n",
       "1                    1.0   NaN          41.83      0.92       0.510   \n",
       "5                    1.0   NaN          41.83      0.92       0.510   \n",
       "14                   1.0   NaN          41.83      0.92       0.510   \n",
       "37                   1.0   NaN          41.83      0.92       1.275   \n",
       "...                  ...   ...            ...       ...         ...   \n",
       "691737               1.0   NaN          22.99      0.38      12.520   \n",
       "691793               1.0   NaN          22.99      0.38      12.520   \n",
       "691800               1.0   NaN          22.99      0.38      12.520   \n",
       "691805               1.0   NaN          22.99      0.38      12.520   \n",
       "691806               1.0   NaN          22.99      0.38      12.520   \n",
       "\n",
       "        weather_desc_short                     weather_desc_long  \\\n",
       "0                   Foggy    Rain in the morning and afternoon.    \n",
       "1                   Foggy    Rain in the morning and afternoon.    \n",
       "5                   Foggy    Rain in the morning and afternoon.    \n",
       "14                  Foggy    Rain in the morning and afternoon.    \n",
       "37                  Foggy    Rain in the morning and afternoon.    \n",
       "...                    ...                                   ...   \n",
       "691737              Clear     Mostly cloudy throughout the day.    \n",
       "691793              Clear     Mostly cloudy throughout the day.    \n",
       "691800              Clear     Mostly cloudy throughout the day.    \n",
       "691805              Clear     Mostly cloudy throughout the day.    \n",
       "691806              Clear     Mostly cloudy throughout the day.    \n",
       "\n",
       "        weather_status pressure  \n",
       "0                 fog   1014.10  \n",
       "1                 fog   1014.10  \n",
       "5                 fog   1014.10  \n",
       "14                fog   1014.10  \n",
       "37                fog   1014.10  \n",
       "...                ...      ...  \n",
       "691737      clear-day   1011.55  \n",
       "691793      clear-day   1011.55  \n",
       "691800      clear-day   1011.55  \n",
       "691805      clear-day   1011.55  \n",
       "691806      clear-day   1011.55  \n",
       "\n",
       "[54627 rows x 23 columns]"
      ]
     },
     "execution_count": 15,
     "metadata": {},
     "output_type": "execute_result"
    }
   ],
   "source": [
    "df[df['fare'].isna()]"
   ]
  },
  {
   "cell_type": "code",
   "execution_count": 16,
   "id": "3ba56352",
   "metadata": {
    "execution": {
     "iopub.execute_input": "2025-06-14T15:47:41.728454Z",
     "iopub.status.busy": "2025-06-14T15:47:41.728151Z",
     "iopub.status.idle": "2025-06-14T15:47:41.817973Z",
     "shell.execute_reply": "2025-06-14T15:47:41.817050Z"
    },
    "papermill": {
     "duration": 0.109187,
     "end_time": "2025-06-14T15:47:41.819349",
     "exception": false,
     "start_time": "2025-06-14T15:47:41.710162",
     "status": "completed"
    },
    "tags": []
   },
   "outputs": [
    {
     "name": "stderr",
     "output_type": "stream",
     "text": [
      "/usr/local/lib/python3.11/dist-packages/pandas/io/formats/format.py:1458: RuntimeWarning: invalid value encountered in greater\n",
      "  has_large_values = (abs_vals > 1e6).any()\n",
      "/usr/local/lib/python3.11/dist-packages/pandas/io/formats/format.py:1459: RuntimeWarning: invalid value encountered in less\n",
      "  has_small_values = ((abs_vals < 10 ** (-self.digits)) & (abs_vals > 0)).any()\n",
      "/usr/local/lib/python3.11/dist-packages/pandas/io/formats/format.py:1459: RuntimeWarning: invalid value encountered in greater\n",
      "  has_small_values = ((abs_vals < 10 ** (-self.digits)) & (abs_vals > 0)).any()\n"
     ]
    },
    {
     "data": {
      "text/html": [
       "<div>\n",
       "<style scoped>\n",
       "    .dataframe tbody tr th:only-of-type {\n",
       "        vertical-align: middle;\n",
       "    }\n",
       "\n",
       "    .dataframe tbody tr th {\n",
       "        vertical-align: top;\n",
       "    }\n",
       "\n",
       "    .dataframe thead th {\n",
       "        text-align: right;\n",
       "    }\n",
       "</style>\n",
       "<table border=\"1\" class=\"dataframe\">\n",
       "  <thead>\n",
       "    <tr style=\"text-align: right;\">\n",
       "      <th></th>\n",
       "      <th>timestamp</th>\n",
       "      <th>hour</th>\n",
       "      <th>month</th>\n",
       "      <th>visibility</th>\n",
       "      <th>cloud_cover</th>\n",
       "      <th>uv_index</th>\n",
       "      <th>distance</th>\n",
       "      <th>surge_multiplier</th>\n",
       "      <th>fare</th>\n",
       "      <th>temperature_F</th>\n",
       "      <th>humidity</th>\n",
       "      <th>wind_speed</th>\n",
       "      <th>pressure</th>\n",
       "    </tr>\n",
       "  </thead>\n",
       "  <tbody>\n",
       "    <tr>\n",
       "      <th>count</th>\n",
       "      <td>54627</td>\n",
       "      <td>54627.000000</td>\n",
       "      <td>54627.000000</td>\n",
       "      <td>54627.000000</td>\n",
       "      <td>54627.000000</td>\n",
       "      <td>54627.000000</td>\n",
       "      <td>54072.000000</td>\n",
       "      <td>54627.0</td>\n",
       "      <td>0.0</td>\n",
       "      <td>53994.000000</td>\n",
       "      <td>53921.000000</td>\n",
       "      <td>54627.000000</td>\n",
       "      <td>52634.000000</td>\n",
       "    </tr>\n",
       "    <tr>\n",
       "      <th>mean</th>\n",
       "      <td>2018-12-05 22:26:30.720138496</td>\n",
       "      <td>11.626741</td>\n",
       "      <td>11.590129</td>\n",
       "      <td>8.458097</td>\n",
       "      <td>0.688307</td>\n",
       "      <td>0.248009</td>\n",
       "      <td>2.385976</td>\n",
       "      <td>1.0</td>\n",
       "      <td>NaN</td>\n",
       "      <td>36.125145</td>\n",
       "      <td>0.741597</td>\n",
       "      <td>6.227607</td>\n",
       "      <td>1010.164338</td>\n",
       "    </tr>\n",
       "    <tr>\n",
       "      <th>min</th>\n",
       "      <td>2018-11-26 03:40:46</td>\n",
       "      <td>0.000000</td>\n",
       "      <td>11.000000</td>\n",
       "      <td>0.717000</td>\n",
       "      <td>0.000000</td>\n",
       "      <td>0.000000</td>\n",
       "      <td>0.020000</td>\n",
       "      <td>1.0</td>\n",
       "      <td>NaN</td>\n",
       "      <td>12.130000</td>\n",
       "      <td>0.380000</td>\n",
       "      <td>0.450000</td>\n",
       "      <td>988.090000</td>\n",
       "    </tr>\n",
       "    <tr>\n",
       "      <th>25%</th>\n",
       "      <td>2018-11-28 22:48:38.500000</td>\n",
       "      <td>6.000000</td>\n",
       "      <td>11.000000</td>\n",
       "      <td>8.432000</td>\n",
       "      <td>0.370000</td>\n",
       "      <td>0.000000</td>\n",
       "      <td>1.300000</td>\n",
       "      <td>1.0</td>\n",
       "      <td>NaN</td>\n",
       "      <td>31.920000</td>\n",
       "      <td>0.640000</td>\n",
       "      <td>3.410000</td>\n",
       "      <td>999.890000</td>\n",
       "    </tr>\n",
       "    <tr>\n",
       "      <th>50%</th>\n",
       "      <td>2018-12-02 09:07:56</td>\n",
       "      <td>12.000000</td>\n",
       "      <td>12.000000</td>\n",
       "      <td>9.876000</td>\n",
       "      <td>0.830000</td>\n",
       "      <td>0.000000</td>\n",
       "      <td>2.170000</td>\n",
       "      <td>1.0</td>\n",
       "      <td>NaN</td>\n",
       "      <td>35.980000</td>\n",
       "      <td>0.710000</td>\n",
       "      <td>5.920000</td>\n",
       "      <td>1009.430000</td>\n",
       "    </tr>\n",
       "    <tr>\n",
       "      <th>75%</th>\n",
       "      <td>2018-12-14 23:10:16</td>\n",
       "      <td>18.000000</td>\n",
       "      <td>12.000000</td>\n",
       "      <td>9.996000</td>\n",
       "      <td>1.000000</td>\n",
       "      <td>0.000000</td>\n",
       "      <td>2.860000</td>\n",
       "      <td>1.0</td>\n",
       "      <td>NaN</td>\n",
       "      <td>40.800000</td>\n",
       "      <td>0.880000</td>\n",
       "      <td>8.410000</td>\n",
       "      <td>1021.860000</td>\n",
       "    </tr>\n",
       "    <tr>\n",
       "      <th>max</th>\n",
       "      <td>2018-12-18 19:15:11</td>\n",
       "      <td>23.000000</td>\n",
       "      <td>12.000000</td>\n",
       "      <td>10.000000</td>\n",
       "      <td>1.000000</td>\n",
       "      <td>2.000000</td>\n",
       "      <td>139.400000</td>\n",
       "      <td>1.0</td>\n",
       "      <td>NaN</td>\n",
       "      <td>85.830000</td>\n",
       "      <td>0.960000</td>\n",
       "      <td>37.500000</td>\n",
       "      <td>1035.550000</td>\n",
       "    </tr>\n",
       "    <tr>\n",
       "      <th>std</th>\n",
       "      <td>NaN</td>\n",
       "      <td>6.936359</td>\n",
       "      <td>0.491814</td>\n",
       "      <td>2.612476</td>\n",
       "      <td>0.357983</td>\n",
       "      <td>0.472120</td>\n",
       "      <td>3.368683</td>\n",
       "      <td>0.0</td>\n",
       "      <td>NaN</td>\n",
       "      <td>8.225299</td>\n",
       "      <td>0.138821</td>\n",
       "      <td>3.272792</td>\n",
       "      <td>13.435681</td>\n",
       "    </tr>\n",
       "  </tbody>\n",
       "</table>\n",
       "</div>"
      ],
      "text/plain": [
       "                           timestamp          hour         month  \\\n",
       "count                          54627  54627.000000  54627.000000   \n",
       "mean   2018-12-05 22:26:30.720138496     11.626741     11.590129   \n",
       "min              2018-11-26 03:40:46      0.000000     11.000000   \n",
       "25%       2018-11-28 22:48:38.500000      6.000000     11.000000   \n",
       "50%              2018-12-02 09:07:56     12.000000     12.000000   \n",
       "75%              2018-12-14 23:10:16     18.000000     12.000000   \n",
       "max              2018-12-18 19:15:11     23.000000     12.000000   \n",
       "std                              NaN      6.936359      0.491814   \n",
       "\n",
       "         visibility   cloud_cover      uv_index      distance  \\\n",
       "count  54627.000000  54627.000000  54627.000000  54072.000000   \n",
       "mean       8.458097      0.688307      0.248009      2.385976   \n",
       "min        0.717000      0.000000      0.000000      0.020000   \n",
       "25%        8.432000      0.370000      0.000000      1.300000   \n",
       "50%        9.876000      0.830000      0.000000      2.170000   \n",
       "75%        9.996000      1.000000      0.000000      2.860000   \n",
       "max       10.000000      1.000000      2.000000    139.400000   \n",
       "std        2.612476      0.357983      0.472120      3.368683   \n",
       "\n",
       "       surge_multiplier  fare  temperature_F      humidity    wind_speed  \\\n",
       "count           54627.0   0.0   53994.000000  53921.000000  54627.000000   \n",
       "mean                1.0   NaN      36.125145      0.741597      6.227607   \n",
       "min                 1.0   NaN      12.130000      0.380000      0.450000   \n",
       "25%                 1.0   NaN      31.920000      0.640000      3.410000   \n",
       "50%                 1.0   NaN      35.980000      0.710000      5.920000   \n",
       "75%                 1.0   NaN      40.800000      0.880000      8.410000   \n",
       "max                 1.0   NaN      85.830000      0.960000     37.500000   \n",
       "std                 0.0   NaN       8.225299      0.138821      3.272792   \n",
       "\n",
       "           pressure  \n",
       "count  52634.000000  \n",
       "mean    1010.164338  \n",
       "min      988.090000  \n",
       "25%      999.890000  \n",
       "50%     1009.430000  \n",
       "75%     1021.860000  \n",
       "max     1035.550000  \n",
       "std       13.435681  "
      ]
     },
     "execution_count": 16,
     "metadata": {},
     "output_type": "execute_result"
    }
   ],
   "source": [
    "df[df['fare'].isna()].describe()"
   ]
  },
  {
   "cell_type": "markdown",
   "id": "0f4f327b",
   "metadata": {
    "papermill": {
     "duration": 0.015821,
     "end_time": "2025-06-14T15:47:41.852093",
     "exception": false,
     "start_time": "2025-06-14T15:47:41.836272",
     "status": "completed"
    },
    "tags": []
   },
   "source": [
    "### Now, we look at the rows where the price is present to contrast them with the missing-price entries."
   ]
  },
  {
   "cell_type": "code",
   "execution_count": 17,
   "id": "ab9ee733",
   "metadata": {
    "execution": {
     "iopub.execute_input": "2025-06-14T15:47:41.887764Z",
     "iopub.status.busy": "2025-06-14T15:47:41.887396Z",
     "iopub.status.idle": "2025-06-14T15:47:42.035830Z",
     "shell.execute_reply": "2025-06-14T15:47:42.034884Z"
    },
    "papermill": {
     "duration": 0.169107,
     "end_time": "2025-06-14T15:47:42.037528",
     "exception": false,
     "start_time": "2025-06-14T15:47:41.868421",
     "status": "completed"
    },
    "tags": []
   },
   "outputs": [
    {
     "data": {
      "text/html": [
       "<div>\n",
       "<style scoped>\n",
       "    .dataframe tbody tr th:only-of-type {\n",
       "        vertical-align: middle;\n",
       "    }\n",
       "\n",
       "    .dataframe tbody tr th {\n",
       "        vertical-align: top;\n",
       "    }\n",
       "\n",
       "    .dataframe thead th {\n",
       "        text-align: right;\n",
       "    }\n",
       "</style>\n",
       "<table border=\"1\" class=\"dataframe\">\n",
       "  <thead>\n",
       "    <tr style=\"text-align: right;\">\n",
       "      <th></th>\n",
       "      <th>timestamp</th>\n",
       "      <th>date</th>\n",
       "      <th>hour</th>\n",
       "      <th>day_of_week</th>\n",
       "      <th>month</th>\n",
       "      <th>source</th>\n",
       "      <th>destination</th>\n",
       "      <th>ride_company</th>\n",
       "      <th>vehicle_id</th>\n",
       "      <th>vehicle</th>\n",
       "      <th>...</th>\n",
       "      <th>distance</th>\n",
       "      <th>surge_multiplier</th>\n",
       "      <th>fare</th>\n",
       "      <th>temperature_F</th>\n",
       "      <th>humidity</th>\n",
       "      <th>wind_speed</th>\n",
       "      <th>weather_desc_short</th>\n",
       "      <th>weather_desc_long</th>\n",
       "      <th>weather_status</th>\n",
       "      <th>pressure</th>\n",
       "    </tr>\n",
       "  </thead>\n",
       "  <tbody>\n",
       "    <tr>\n",
       "      <th>2</th>\n",
       "      <td>2018-11-26 03:40:46</td>\n",
       "      <td>2018-11-26</td>\n",
       "      <td>3</td>\n",
       "      <td>Monday</td>\n",
       "      <td>11</td>\n",
       "      <td>Boston University</td>\n",
       "      <td>Financial District</td>\n",
       "      <td>Lyft</td>\n",
       "      <td>lyft_lux</td>\n",
       "      <td>Lux Black</td>\n",
       "      <td>...</td>\n",
       "      <td>4.46</td>\n",
       "      <td>1.75</td>\n",
       "      <td>62.5</td>\n",
       "      <td>41.83</td>\n",
       "      <td>0.92</td>\n",
       "      <td>0.51</td>\n",
       "      <td>Foggy</td>\n",
       "      <td>Rain in the morning and afternoon.</td>\n",
       "      <td>fog</td>\n",
       "      <td>1014.1</td>\n",
       "    </tr>\n",
       "    <tr>\n",
       "      <th>3</th>\n",
       "      <td>2018-11-26 03:40:46</td>\n",
       "      <td>2018-11-26</td>\n",
       "      <td>3</td>\n",
       "      <td>Monday</td>\n",
       "      <td>11</td>\n",
       "      <td>Boston University</td>\n",
       "      <td>Financial District</td>\n",
       "      <td>Lyft</td>\n",
       "      <td>lyft_premier</td>\n",
       "      <td>Lux</td>\n",
       "      <td>...</td>\n",
       "      <td>4.46</td>\n",
       "      <td>1.75</td>\n",
       "      <td>47.5</td>\n",
       "      <td>41.83</td>\n",
       "      <td>0.92</td>\n",
       "      <td>0.51</td>\n",
       "      <td>Foggy</td>\n",
       "      <td>Rain in the morning and afternoon.</td>\n",
       "      <td>fog</td>\n",
       "      <td>1014.1</td>\n",
       "    </tr>\n",
       "    <tr>\n",
       "      <th>4</th>\n",
       "      <td>2018-11-26 03:40:46</td>\n",
       "      <td>2018-11-26</td>\n",
       "      <td>3</td>\n",
       "      <td>Monday</td>\n",
       "      <td>11</td>\n",
       "      <td>North Station</td>\n",
       "      <td>Fenway</td>\n",
       "      <td>Uber</td>\n",
       "      <td>9a0e7b09-b92b-4c41-9779-2ad22b4d779d</td>\n",
       "      <td>WAV</td>\n",
       "      <td>...</td>\n",
       "      <td>3.05</td>\n",
       "      <td>1.00</td>\n",
       "      <td>10.5</td>\n",
       "      <td>41.83</td>\n",
       "      <td>0.92</td>\n",
       "      <td>0.51</td>\n",
       "      <td>Foggy</td>\n",
       "      <td>Rain in the morning and afternoon.</td>\n",
       "      <td>fog</td>\n",
       "      <td>1014.1</td>\n",
       "    </tr>\n",
       "    <tr>\n",
       "      <th>6</th>\n",
       "      <td>2018-11-26 03:40:46</td>\n",
       "      <td>2018-11-26</td>\n",
       "      <td>3</td>\n",
       "      <td>Monday</td>\n",
       "      <td>11</td>\n",
       "      <td>Boston University</td>\n",
       "      <td>Theatre District</td>\n",
       "      <td>Lyft</td>\n",
       "      <td>lyft_luxsuv</td>\n",
       "      <td>Lux Black XL</td>\n",
       "      <td>...</td>\n",
       "      <td>3.03</td>\n",
       "      <td>1.00</td>\n",
       "      <td>34.0</td>\n",
       "      <td>41.83</td>\n",
       "      <td>0.92</td>\n",
       "      <td>0.51</td>\n",
       "      <td>Foggy</td>\n",
       "      <td>Rain in the morning and afternoon.</td>\n",
       "      <td>fog</td>\n",
       "      <td>1014.1</td>\n",
       "    </tr>\n",
       "    <tr>\n",
       "      <th>7</th>\n",
       "      <td>2018-11-26 03:40:46</td>\n",
       "      <td>2018-11-26</td>\n",
       "      <td>3</td>\n",
       "      <td>Monday</td>\n",
       "      <td>11</td>\n",
       "      <td>Northeastern University</td>\n",
       "      <td>Beacon Hill</td>\n",
       "      <td>Lyft</td>\n",
       "      <td>lyft</td>\n",
       "      <td>Lyft</td>\n",
       "      <td>...</td>\n",
       "      <td>2.43</td>\n",
       "      <td>1.00</td>\n",
       "      <td>10.5</td>\n",
       "      <td>41.83</td>\n",
       "      <td>0.92</td>\n",
       "      <td>0.51</td>\n",
       "      <td>Foggy</td>\n",
       "      <td>Rain in the morning and afternoon.</td>\n",
       "      <td>fog</td>\n",
       "      <td>1014.1</td>\n",
       "    </tr>\n",
       "  </tbody>\n",
       "</table>\n",
       "<p>5 rows × 23 columns</p>\n",
       "</div>"
      ],
      "text/plain": [
       "            timestamp        date  hour day_of_week  month  \\\n",
       "2 2018-11-26 03:40:46  2018-11-26     3      Monday     11   \n",
       "3 2018-11-26 03:40:46  2018-11-26     3      Monday     11   \n",
       "4 2018-11-26 03:40:46  2018-11-26     3      Monday     11   \n",
       "6 2018-11-26 03:40:46  2018-11-26     3      Monday     11   \n",
       "7 2018-11-26 03:40:46  2018-11-26     3      Monday     11   \n",
       "\n",
       "                    source         destination ride_company  \\\n",
       "2        Boston University  Financial District         Lyft   \n",
       "3        Boston University  Financial District         Lyft   \n",
       "4            North Station              Fenway         Uber   \n",
       "6        Boston University    Theatre District         Lyft   \n",
       "7  Northeastern University         Beacon Hill         Lyft   \n",
       "\n",
       "                             vehicle_id       vehicle  ...  distance  \\\n",
       "2                              lyft_lux     Lux Black  ...      4.46   \n",
       "3                          lyft_premier           Lux  ...      4.46   \n",
       "4  9a0e7b09-b92b-4c41-9779-2ad22b4d779d           WAV  ...      3.05   \n",
       "6                           lyft_luxsuv  Lux Black XL  ...      3.03   \n",
       "7                                  lyft          Lyft  ...      2.43   \n",
       "\n",
       "   surge_multiplier  fare  temperature_F  humidity  wind_speed  \\\n",
       "2              1.75  62.5          41.83      0.92        0.51   \n",
       "3              1.75  47.5          41.83      0.92        0.51   \n",
       "4              1.00  10.5          41.83      0.92        0.51   \n",
       "6              1.00  34.0          41.83      0.92        0.51   \n",
       "7              1.00  10.5          41.83      0.92        0.51   \n",
       "\n",
       "   weather_desc_short                     weather_desc_long  weather_status  \\\n",
       "2              Foggy    Rain in the morning and afternoon.             fog    \n",
       "3              Foggy    Rain in the morning and afternoon.             fog    \n",
       "4              Foggy    Rain in the morning and afternoon.             fog    \n",
       "6              Foggy    Rain in the morning and afternoon.             fog    \n",
       "7              Foggy    Rain in the morning and afternoon.             fog    \n",
       "\n",
       "  pressure  \n",
       "2   1014.1  \n",
       "3   1014.1  \n",
       "4   1014.1  \n",
       "6   1014.1  \n",
       "7   1014.1  \n",
       "\n",
       "[5 rows x 23 columns]"
      ]
     },
     "execution_count": 17,
     "metadata": {},
     "output_type": "execute_result"
    }
   ],
   "source": [
    "df[~df[\"fare\"].isna()].head()"
   ]
  },
  {
   "cell_type": "markdown",
   "id": "23cc2163",
   "metadata": {
    "papermill": {
     "duration": 0.019041,
     "end_time": "2025-06-14T15:47:42.076180",
     "exception": false,
     "start_time": "2025-06-14T15:47:42.057139",
     "status": "completed"
    },
    "tags": []
   },
   "source": [
    "### Upon inspection, we observe that for all rows where the price is missing, the corresponding name column is always \"Taxi\". In contrast, rows with a recorded price include a variety of ride types."
   ]
  },
  {
   "cell_type": "code",
   "execution_count": 18,
   "id": "00550dd3",
   "metadata": {
    "execution": {
     "iopub.execute_input": "2025-06-14T15:47:42.115960Z",
     "iopub.status.busy": "2025-06-14T15:47:42.115608Z",
     "iopub.status.idle": "2025-06-14T15:47:42.153118Z",
     "shell.execute_reply": "2025-06-14T15:47:42.152178Z"
    },
    "papermill": {
     "duration": 0.059185,
     "end_time": "2025-06-14T15:47:42.154666",
     "exception": false,
     "start_time": "2025-06-14T15:47:42.095481",
     "status": "completed"
    },
    "tags": []
   },
   "outputs": [
    {
     "data": {
      "text/plain": [
       "array(['Taxi'], dtype=object)"
      ]
     },
     "execution_count": 18,
     "metadata": {},
     "output_type": "execute_result"
    }
   ],
   "source": [
    "df[df['fare'].isna()][\"vehicle\"].unique()"
   ]
  },
  {
   "cell_type": "markdown",
   "id": "c8fb8320",
   "metadata": {
    "papermill": {
     "duration": 0.017317,
     "end_time": "2025-06-14T15:47:42.189638",
     "exception": false,
     "start_time": "2025-06-14T15:47:42.172321",
     "status": "completed"
    },
    "tags": []
   },
   "source": [
    "### We confirm that only \"Taxi\" appears in the name column when price is missing."
   ]
  },
  {
   "cell_type": "code",
   "execution_count": 19,
   "id": "8603391f",
   "metadata": {
    "execution": {
     "iopub.execute_input": "2025-06-14T15:47:42.226545Z",
     "iopub.status.busy": "2025-06-14T15:47:42.226214Z",
     "iopub.status.idle": "2025-06-14T15:47:42.454942Z",
     "shell.execute_reply": "2025-06-14T15:47:42.454133Z"
    },
    "papermill": {
     "duration": 0.248757,
     "end_time": "2025-06-14T15:47:42.456404",
     "exception": false,
     "start_time": "2025-06-14T15:47:42.207647",
     "status": "completed"
    },
    "tags": []
   },
   "outputs": [
    {
     "data": {
      "text/plain": [
       "array(['Lux Black', 'Lux', 'WAV', 'Lux Black XL', 'Lyft', 'UberX',\n",
       "       'Shared', 'UberXL', 'Black SUV', 'Black', 'Lyft XL', 'UberPool'],\n",
       "      dtype=object)"
      ]
     },
     "execution_count": 19,
     "metadata": {},
     "output_type": "execute_result"
    }
   ],
   "source": [
    "df[~df['fare'].isna()][\"vehicle\"].unique()"
   ]
  },
  {
   "cell_type": "markdown",
   "id": "9a80dc5c",
   "metadata": {
    "papermill": {
     "duration": 0.017553,
     "end_time": "2025-06-14T15:47:42.491787",
     "exception": false,
     "start_time": "2025-06-14T15:47:42.474234",
     "status": "completed"
    },
    "tags": []
   },
   "source": [
    "### This shows the diversity of ride types when price is available — indicating that the missing data is specific to Taxi.\n",
    "### The missing price values are not due to random data loss but are structurally missing only for Taxi rides. Since no pricing data is available for these rides, we can safely remove them from our modeling dataset."
   ]
  },
  {
   "cell_type": "code",
   "execution_count": 20,
   "id": "3d59c8b0",
   "metadata": {
    "execution": {
     "iopub.execute_input": "2025-06-14T15:47:42.530443Z",
     "iopub.status.busy": "2025-06-14T15:47:42.530122Z",
     "iopub.status.idle": "2025-06-14T15:47:43.181025Z",
     "shell.execute_reply": "2025-06-14T15:47:43.180136Z"
    },
    "papermill": {
     "duration": 0.671383,
     "end_time": "2025-06-14T15:47:43.182856",
     "exception": false,
     "start_time": "2025-06-14T15:47:42.511473",
     "status": "completed"
    },
    "tags": []
   },
   "outputs": [],
   "source": [
    "df = df[~df[\"fare\"].isna()].reset_index(drop=True)"
   ]
  },
  {
   "cell_type": "markdown",
   "id": "2d11cf9f",
   "metadata": {
    "papermill": {
     "duration": 0.018552,
     "end_time": "2025-06-14T15:47:43.219393",
     "exception": false,
     "start_time": "2025-06-14T15:47:43.200841",
     "status": "completed"
    },
    "tags": []
   },
   "source": [
    "### **Handling outliers in price column**\n",
    "75th percentile value is 22.5 USD while max is 6500 USD. All the rides of these dataset were inside Boston city. So, such high price will deteriorate the model performance. \n",
    "Min price is 2.5. Which shows no outlier in the lower spectrum."
   ]
  },
  {
   "cell_type": "code",
   "execution_count": 21,
   "id": "611d5bf6",
   "metadata": {
    "execution": {
     "iopub.execute_input": "2025-06-14T15:47:43.256184Z",
     "iopub.status.busy": "2025-06-14T15:47:43.255872Z",
     "iopub.status.idle": "2025-06-14T15:47:47.209069Z",
     "shell.execute_reply": "2025-06-14T15:47:47.208032Z"
    },
    "papermill": {
     "duration": 3.974411,
     "end_time": "2025-06-14T15:47:47.211421",
     "exception": false,
     "start_time": "2025-06-14T15:47:43.237010",
     "status": "completed"
    },
    "tags": []
   },
   "outputs": [
    {
     "name": "stderr",
     "output_type": "stream",
     "text": [
      "/usr/local/lib/python3.11/dist-packages/seaborn/_oldcore.py:1119: FutureWarning: use_inf_as_na option is deprecated and will be removed in a future version. Convert inf values to NaN before operating instead.\n",
      "  with pd.option_context('mode.use_inf_as_na', True):\n"
     ]
    },
    {
     "data": {
      "image/png": "[encoded data removed]",
      "text/plain": [
       "<Figure size 1300x1200 with 4 Axes>"
      ]
     },
     "metadata": {},
     "output_type": "display_data"
    }
   ],
   "source": [
    "plt.figure(figsize=(13,12))\n",
    "plt.subplot(2,2,1)\n",
    "plt.boxplot(df[\"fare\"])\n",
    "plt.title(\"Box Plot distribution for all price\")\n",
    "\n",
    "plt.subplot(2,2,2)\n",
    "plt.boxplot(df[df[\"fare\"]<1000][\"fare\"])\n",
    "plt.title(\"Box Plot distribution for price<1000\")\n",
    "\n",
    "plt.subplot(2,2,3)\n",
    "plt.boxplot(df[df[\"fare\"]<100][\"fare\"])\n",
    "plt.title(\"Box Plot distribution for price<100\")\n",
    "\n",
    "plt.subplot(2,2,4)\n",
    "sns.histplot(df[\"fare\"], bins=100, kde=True)\n",
    "plt.title(\"Price Distribution (Histogram)\")\n",
    "plt.show()"
   ]
  },
  {
   "cell_type": "code",
   "execution_count": 22,
   "id": "9a377b0e",
   "metadata": {
    "execution": {
     "iopub.execute_input": "2025-06-14T15:47:47.251485Z",
     "iopub.status.busy": "2025-06-14T15:47:47.251200Z",
     "iopub.status.idle": "2025-06-14T15:47:47.286581Z",
     "shell.execute_reply": "2025-06-14T15:47:47.285352Z"
    },
    "papermill": {
     "duration": 0.057507,
     "end_time": "2025-06-14T15:47:47.288336",
     "exception": false,
     "start_time": "2025-06-14T15:47:47.230829",
     "status": "completed"
    },
    "tags": []
   },
   "outputs": [
    {
     "name": "stdout",
     "output_type": "stream",
     "text": [
      "49.5\n"
     ]
    }
   ],
   "source": [
    "Q3 = df[\"fare\"].quantile(0.75)\n",
    "Q1 = df[\"fare\"].quantile(0.25)\n",
    "\n",
    "IQR = Q3-Q1\n",
    "print(Q3 + 2 * IQR)"
   ]
  },
  {
   "cell_type": "markdown",
   "id": "9234d533",
   "metadata": {
    "execution": {
     "iopub.execute_input": "2025-06-11T18:43:54.188487Z",
     "iopub.status.busy": "2025-06-11T18:43:54.188192Z",
     "iopub.status.idle": "2025-06-11T18:43:54.193804Z",
     "shell.execute_reply": "2025-06-11T18:43:54.193062Z",
     "shell.execute_reply.started": "2025-06-11T18:43:54.188471Z"
    },
    "papermill": {
     "duration": 0.021667,
     "end_time": "2025-06-14T15:47:47.329707",
     "exception": false,
     "start_time": "2025-06-14T15:47:47.308040",
     "status": "completed"
    },
    "tags": []
   },
   "source": [
    "#### From above box plots and histogram distributions of price, we see that, the distribution is right skewed and price is highly concentrated below 100 and very less densely distributed above 100. \n",
    "#### And, Q3+2*IQR gives us 49.5 as outlier threshold."
   ]
  },
  {
   "cell_type": "code",
   "execution_count": 23,
   "id": "20467182",
   "metadata": {
    "execution": {
     "iopub.execute_input": "2025-06-14T15:47:47.372111Z",
     "iopub.status.busy": "2025-06-14T15:47:47.371813Z",
     "iopub.status.idle": "2025-06-14T15:47:47.404522Z",
     "shell.execute_reply": "2025-06-14T15:47:47.403492Z"
    },
    "papermill": {
     "duration": 0.054946,
     "end_time": "2025-06-14T15:47:47.406226",
     "exception": false,
     "start_time": "2025-06-14T15:47:47.351280",
     "status": "completed"
    },
    "tags": []
   },
   "outputs": [
    {
     "data": {
      "text/html": [
       "<div>\n",
       "<style scoped>\n",
       "    .dataframe tbody tr th:only-of-type {\n",
       "        vertical-align: middle;\n",
       "    }\n",
       "\n",
       "    .dataframe tbody tr th {\n",
       "        vertical-align: top;\n",
       "    }\n",
       "\n",
       "    .dataframe thead th {\n",
       "        text-align: right;\n",
       "    }\n",
       "</style>\n",
       "<table border=\"1\" class=\"dataframe\">\n",
       "  <thead>\n",
       "    <tr style=\"text-align: right;\">\n",
       "      <th></th>\n",
       "      <th>timestamp</th>\n",
       "      <th>date</th>\n",
       "      <th>hour</th>\n",
       "      <th>day_of_week</th>\n",
       "      <th>month</th>\n",
       "      <th>source</th>\n",
       "      <th>destination</th>\n",
       "      <th>ride_company</th>\n",
       "      <th>vehicle_id</th>\n",
       "      <th>vehicle</th>\n",
       "      <th>...</th>\n",
       "      <th>distance</th>\n",
       "      <th>surge_multiplier</th>\n",
       "      <th>fare</th>\n",
       "      <th>temperature_F</th>\n",
       "      <th>humidity</th>\n",
       "      <th>wind_speed</th>\n",
       "      <th>weather_desc_short</th>\n",
       "      <th>weather_desc_long</th>\n",
       "      <th>weather_status</th>\n",
       "      <th>pressure</th>\n",
       "    </tr>\n",
       "  </thead>\n",
       "  <tbody>\n",
       "    <tr>\n",
       "      <th>0</th>\n",
       "      <td>2018-11-26 03:40:46</td>\n",
       "      <td>2018-11-26</td>\n",
       "      <td>3</td>\n",
       "      <td>Monday</td>\n",
       "      <td>11</td>\n",
       "      <td>Boston University</td>\n",
       "      <td>Financial District</td>\n",
       "      <td>Lyft</td>\n",
       "      <td>lyft_lux</td>\n",
       "      <td>Lux Black</td>\n",
       "      <td>...</td>\n",
       "      <td>4.46</td>\n",
       "      <td>1.75</td>\n",
       "      <td>62.5</td>\n",
       "      <td>41.83</td>\n",
       "      <td>0.92</td>\n",
       "      <td>0.51</td>\n",
       "      <td>Foggy</td>\n",
       "      <td>Rain in the morning and afternoon.</td>\n",
       "      <td>fog</td>\n",
       "      <td>1014.10</td>\n",
       "    </tr>\n",
       "    <tr>\n",
       "      <th>247</th>\n",
       "      <td>2018-11-26 04:43:18</td>\n",
       "      <td>2018-11-26</td>\n",
       "      <td>4</td>\n",
       "      <td>Monday</td>\n",
       "      <td>11</td>\n",
       "      <td>Financial District</td>\n",
       "      <td>Fenway</td>\n",
       "      <td>Lyft</td>\n",
       "      <td>lyft_luxsuv</td>\n",
       "      <td>Lux Black XL</td>\n",
       "      <td>...</td>\n",
       "      <td>4.55</td>\n",
       "      <td>1.50</td>\n",
       "      <td>62.5</td>\n",
       "      <td>41.52</td>\n",
       "      <td>0.90</td>\n",
       "      <td>0.45</td>\n",
       "      <td>Overcast</td>\n",
       "      <td>Rain in the morning and afternoon.</td>\n",
       "      <td>cloudy</td>\n",
       "      <td>1014.06</td>\n",
       "    </tr>\n",
       "    <tr>\n",
       "      <th>662</th>\n",
       "      <td>2018-11-26 05:14:02</td>\n",
       "      <td>2018-11-26</td>\n",
       "      <td>5</td>\n",
       "      <td>Monday</td>\n",
       "      <td>11</td>\n",
       "      <td>Financial District</td>\n",
       "      <td>Northeastern University</td>\n",
       "      <td>Lyft</td>\n",
       "      <td>lyft_luxsuv</td>\n",
       "      <td>Lux Black XL</td>\n",
       "      <td>...</td>\n",
       "      <td>3.42</td>\n",
       "      <td>1.50</td>\n",
       "      <td>52.5</td>\n",
       "      <td>41.99</td>\n",
       "      <td>0.91</td>\n",
       "      <td>0.53</td>\n",
       "      <td>Overcast</td>\n",
       "      <td>Rain until morning, starting again in the eve...</td>\n",
       "      <td>cloudy</td>\n",
       "      <td>1014.11</td>\n",
       "    </tr>\n",
       "    <tr>\n",
       "      <th>1031</th>\n",
       "      <td>2018-11-26 05:50:01</td>\n",
       "      <td>2018-11-26</td>\n",
       "      <td>5</td>\n",
       "      <td>Monday</td>\n",
       "      <td>11</td>\n",
       "      <td>Northeastern University</td>\n",
       "      <td>Financial District</td>\n",
       "      <td>Lyft</td>\n",
       "      <td>lyft_luxsuv</td>\n",
       "      <td>Lux Black XL</td>\n",
       "      <td>...</td>\n",
       "      <td>3.17</td>\n",
       "      <td>1.75</td>\n",
       "      <td>73.5</td>\n",
       "      <td>41.99</td>\n",
       "      <td>0.91</td>\n",
       "      <td>0.53</td>\n",
       "      <td>Overcast</td>\n",
       "      <td>Rain until morning, starting again in the eve...</td>\n",
       "      <td>cloudy</td>\n",
       "      <td>1014.11</td>\n",
       "    </tr>\n",
       "    <tr>\n",
       "      <th>1042</th>\n",
       "      <td>2018-11-26 05:50:01</td>\n",
       "      <td>2018-11-26</td>\n",
       "      <td>5</td>\n",
       "      <td>Monday</td>\n",
       "      <td>11</td>\n",
       "      <td>Northeastern University</td>\n",
       "      <td>Financial District</td>\n",
       "      <td>Lyft</td>\n",
       "      <td>lyft_lux</td>\n",
       "      <td>Lux Black</td>\n",
       "      <td>...</td>\n",
       "      <td>3.17</td>\n",
       "      <td>1.75</td>\n",
       "      <td>52.5</td>\n",
       "      <td>41.99</td>\n",
       "      <td>0.91</td>\n",
       "      <td>0.53</td>\n",
       "      <td>Overcast</td>\n",
       "      <td>Rain until morning, starting again in the eve...</td>\n",
       "      <td>cloudy</td>\n",
       "      <td>1014.11</td>\n",
       "    </tr>\n",
       "    <tr>\n",
       "      <th>...</th>\n",
       "      <td>...</td>\n",
       "      <td>...</td>\n",
       "      <td>...</td>\n",
       "      <td>...</td>\n",
       "      <td>...</td>\n",
       "      <td>...</td>\n",
       "      <td>...</td>\n",
       "      <td>...</td>\n",
       "      <td>...</td>\n",
       "      <td>...</td>\n",
       "      <td>...</td>\n",
       "      <td>...</td>\n",
       "      <td>...</td>\n",
       "      <td>...</td>\n",
       "      <td>...</td>\n",
       "      <td>...</td>\n",
       "      <td>...</td>\n",
       "      <td>...</td>\n",
       "      <td>...</td>\n",
       "      <td>...</td>\n",
       "      <td>...</td>\n",
       "    </tr>\n",
       "    <tr>\n",
       "      <th>635381</th>\n",
       "      <td>2018-12-18 18:15:10</td>\n",
       "      <td>2018-12-18</td>\n",
       "      <td>18</td>\n",
       "      <td>Tuesday</td>\n",
       "      <td>12</td>\n",
       "      <td>South Station</td>\n",
       "      <td>Back Bay</td>\n",
       "      <td>Lyft</td>\n",
       "      <td>lyft_lux</td>\n",
       "      <td>Lux Black</td>\n",
       "      <td>...</td>\n",
       "      <td>3.23</td>\n",
       "      <td>2.00</td>\n",
       "      <td>55.0</td>\n",
       "      <td>20.78</td>\n",
       "      <td>0.41</td>\n",
       "      <td>13.14</td>\n",
       "      <td>Clear</td>\n",
       "      <td>Mostly cloudy throughout the day.</td>\n",
       "      <td>clear-day</td>\n",
       "      <td>1010.58</td>\n",
       "    </tr>\n",
       "    <tr>\n",
       "      <th>636041</th>\n",
       "      <td>2018-12-18 18:40:04</td>\n",
       "      <td>2018-12-18</td>\n",
       "      <td>18</td>\n",
       "      <td>Tuesday</td>\n",
       "      <td>12</td>\n",
       "      <td>Boston University</td>\n",
       "      <td>North Station</td>\n",
       "      <td>Lyft</td>\n",
       "      <td>lyft_luxsuv</td>\n",
       "      <td>Lux Black XL</td>\n",
       "      <td>...</td>\n",
       "      <td>3.44</td>\n",
       "      <td>1.50</td>\n",
       "      <td>55.0</td>\n",
       "      <td>20.78</td>\n",
       "      <td>0.41</td>\n",
       "      <td>13.14</td>\n",
       "      <td>Clear</td>\n",
       "      <td>Mostly cloudy throughout the day.</td>\n",
       "      <td>clear-day</td>\n",
       "      <td>1010.58</td>\n",
       "    </tr>\n",
       "    <tr>\n",
       "      <th>636236</th>\n",
       "      <td>2018-12-18 18:45:10</td>\n",
       "      <td>2018-12-18</td>\n",
       "      <td>18</td>\n",
       "      <td>Tuesday</td>\n",
       "      <td>12</td>\n",
       "      <td>North Station</td>\n",
       "      <td>Northeastern University</td>\n",
       "      <td>Lyft</td>\n",
       "      <td>lyft_luxsuv</td>\n",
       "      <td>Lux Black XL</td>\n",
       "      <td>...</td>\n",
       "      <td>3.25</td>\n",
       "      <td>1.25</td>\n",
       "      <td>52.5</td>\n",
       "      <td>20.78</td>\n",
       "      <td>0.41</td>\n",
       "      <td>13.14</td>\n",
       "      <td>Clear</td>\n",
       "      <td>Mostly cloudy throughout the day.</td>\n",
       "      <td>clear-day</td>\n",
       "      <td>1010.58</td>\n",
       "    </tr>\n",
       "    <tr>\n",
       "      <th>636315</th>\n",
       "      <td>2018-12-18 18:45:14</td>\n",
       "      <td>2018-12-18</td>\n",
       "      <td>18</td>\n",
       "      <td>Tuesday</td>\n",
       "      <td>12</td>\n",
       "      <td>Back Bay</td>\n",
       "      <td>North End</td>\n",
       "      <td>Lyft</td>\n",
       "      <td>lyft_luxsuv</td>\n",
       "      <td>Lux Black XL</td>\n",
       "      <td>...</td>\n",
       "      <td>2.59</td>\n",
       "      <td>2.00</td>\n",
       "      <td>73.5</td>\n",
       "      <td>20.78</td>\n",
       "      <td>0.41</td>\n",
       "      <td>13.14</td>\n",
       "      <td>Clear</td>\n",
       "      <td>Mostly cloudy throughout the day.</td>\n",
       "      <td>clear-day</td>\n",
       "      <td>1010.58</td>\n",
       "    </tr>\n",
       "    <tr>\n",
       "      <th>636316</th>\n",
       "      <td>2018-12-18 18:45:14</td>\n",
       "      <td>2018-12-18</td>\n",
       "      <td>18</td>\n",
       "      <td>Tuesday</td>\n",
       "      <td>12</td>\n",
       "      <td>Back Bay</td>\n",
       "      <td>North End</td>\n",
       "      <td>Lyft</td>\n",
       "      <td>lyft_lux</td>\n",
       "      <td>Lux Black</td>\n",
       "      <td>...</td>\n",
       "      <td>2.59</td>\n",
       "      <td>2.00</td>\n",
       "      <td>52.5</td>\n",
       "      <td>20.78</td>\n",
       "      <td>0.41</td>\n",
       "      <td>13.14</td>\n",
       "      <td>Clear</td>\n",
       "      <td>Mostly cloudy throughout the day.</td>\n",
       "      <td>clear-day</td>\n",
       "      <td>1010.58</td>\n",
       "    </tr>\n",
       "  </tbody>\n",
       "</table>\n",
       "<p>2075 rows × 23 columns</p>\n",
       "</div>"
      ],
      "text/plain": [
       "                 timestamp        date  hour day_of_week  month  \\\n",
       "0      2018-11-26 03:40:46  2018-11-26     3      Monday     11   \n",
       "247    2018-11-26 04:43:18  2018-11-26     4      Monday     11   \n",
       "662    2018-11-26 05:14:02  2018-11-26     5      Monday     11   \n",
       "1031   2018-11-26 05:50:01  2018-11-26     5      Monday     11   \n",
       "1042   2018-11-26 05:50:01  2018-11-26     5      Monday     11   \n",
       "...                    ...         ...   ...         ...    ...   \n",
       "635381 2018-12-18 18:15:10  2018-12-18    18     Tuesday     12   \n",
       "636041 2018-12-18 18:40:04  2018-12-18    18     Tuesday     12   \n",
       "636236 2018-12-18 18:45:10  2018-12-18    18     Tuesday     12   \n",
       "636315 2018-12-18 18:45:14  2018-12-18    18     Tuesday     12   \n",
       "636316 2018-12-18 18:45:14  2018-12-18    18     Tuesday     12   \n",
       "\n",
       "                         source              destination ride_company  \\\n",
       "0             Boston University       Financial District         Lyft   \n",
       "247          Financial District                   Fenway         Lyft   \n",
       "662          Financial District  Northeastern University         Lyft   \n",
       "1031    Northeastern University       Financial District         Lyft   \n",
       "1042    Northeastern University       Financial District         Lyft   \n",
       "...                         ...                      ...          ...   \n",
       "635381            South Station                 Back Bay         Lyft   \n",
       "636041        Boston University            North Station         Lyft   \n",
       "636236            North Station  Northeastern University         Lyft   \n",
       "636315                 Back Bay                North End         Lyft   \n",
       "636316                 Back Bay                North End         Lyft   \n",
       "\n",
       "         vehicle_id       vehicle  ...  distance  surge_multiplier  fare  \\\n",
       "0          lyft_lux     Lux Black  ...      4.46              1.75  62.5   \n",
       "247     lyft_luxsuv  Lux Black XL  ...      4.55              1.50  62.5   \n",
       "662     lyft_luxsuv  Lux Black XL  ...      3.42              1.50  52.5   \n",
       "1031    lyft_luxsuv  Lux Black XL  ...      3.17              1.75  73.5   \n",
       "1042       lyft_lux     Lux Black  ...      3.17              1.75  52.5   \n",
       "...             ...           ...  ...       ...               ...   ...   \n",
       "635381     lyft_lux     Lux Black  ...      3.23              2.00  55.0   \n",
       "636041  lyft_luxsuv  Lux Black XL  ...      3.44              1.50  55.0   \n",
       "636236  lyft_luxsuv  Lux Black XL  ...      3.25              1.25  52.5   \n",
       "636315  lyft_luxsuv  Lux Black XL  ...      2.59              2.00  73.5   \n",
       "636316     lyft_lux     Lux Black  ...      2.59              2.00  52.5   \n",
       "\n",
       "        temperature_F  humidity  wind_speed  weather_desc_short  \\\n",
       "0               41.83      0.92        0.51              Foggy    \n",
       "247             41.52      0.90        0.45           Overcast    \n",
       "662             41.99      0.91        0.53           Overcast    \n",
       "1031            41.99      0.91        0.53           Overcast    \n",
       "1042            41.99      0.91        0.53           Overcast    \n",
       "...               ...       ...         ...                 ...   \n",
       "635381          20.78      0.41       13.14              Clear    \n",
       "636041          20.78      0.41       13.14              Clear    \n",
       "636236          20.78      0.41       13.14              Clear    \n",
       "636315          20.78      0.41       13.14              Clear    \n",
       "636316          20.78      0.41       13.14              Clear    \n",
       "\n",
       "                                        weather_desc_long  weather_status  \\\n",
       "0                     Rain in the morning and afternoon.             fog    \n",
       "247                   Rain in the morning and afternoon.          cloudy    \n",
       "662      Rain until morning, starting again in the eve...         cloudy    \n",
       "1031     Rain until morning, starting again in the eve...         cloudy    \n",
       "1042     Rain until morning, starting again in the eve...         cloudy    \n",
       "...                                                   ...             ...   \n",
       "635381                 Mostly cloudy throughout the day.       clear-day    \n",
       "636041                 Mostly cloudy throughout the day.       clear-day    \n",
       "636236                 Mostly cloudy throughout the day.       clear-day    \n",
       "636315                 Mostly cloudy throughout the day.       clear-day    \n",
       "636316                 Mostly cloudy throughout the day.       clear-day    \n",
       "\n",
       "       pressure  \n",
       "0       1014.10  \n",
       "247     1014.06  \n",
       "662     1014.11  \n",
       "1031    1014.11  \n",
       "1042    1014.11  \n",
       "...         ...  \n",
       "635381  1010.58  \n",
       "636041  1010.58  \n",
       "636236  1010.58  \n",
       "636315  1010.58  \n",
       "636316  1010.58  \n",
       "\n",
       "[2075 rows x 23 columns]"
      ]
     },
     "execution_count": 23,
     "metadata": {},
     "output_type": "execute_result"
    }
   ],
   "source": [
    "df[(df[\"fare\"]>50) & (df[\"fare\"]<100)]"
   ]
  },
  {
   "cell_type": "code",
   "execution_count": 24,
   "id": "9635d3de",
   "metadata": {
    "execution": {
     "iopub.execute_input": "2025-06-14T15:47:47.447958Z",
     "iopub.status.busy": "2025-06-14T15:47:47.447235Z",
     "iopub.status.idle": "2025-06-14T15:47:47.461286Z",
     "shell.execute_reply": "2025-06-14T15:47:47.460422Z"
    },
    "papermill": {
     "duration": 0.036712,
     "end_time": "2025-06-14T15:47:47.463055",
     "exception": false,
     "start_time": "2025-06-14T15:47:47.426343",
     "status": "completed"
    },
    "tags": []
   },
   "outputs": [
    {
     "data": {
      "text/plain": [
       "array(['Lux Black', 'Lux Black XL', 'Lux', 'UberPool', 'Shared', 'UberXL',\n",
       "       'Black SUV', 'Black', 'Lyft XL'], dtype=object)"
      ]
     },
     "execution_count": 24,
     "metadata": {},
     "output_type": "execute_result"
    }
   ],
   "source": [
    "df[(df[\"fare\"]>50) & (df[\"fare\"]<100)][\"vehicle\"].unique()"
   ]
  },
  {
   "cell_type": "code",
   "execution_count": 25,
   "id": "789cdea1",
   "metadata": {
    "execution": {
     "iopub.execute_input": "2025-06-14T15:47:47.505437Z",
     "iopub.status.busy": "2025-06-14T15:47:47.505133Z",
     "iopub.status.idle": "2025-06-14T15:47:47.701682Z",
     "shell.execute_reply": "2025-06-14T15:47:47.700727Z"
    },
    "papermill": {
     "duration": 0.219281,
     "end_time": "2025-06-14T15:47:47.703292",
     "exception": false,
     "start_time": "2025-06-14T15:47:47.484011",
     "status": "completed"
    },
    "tags": []
   },
   "outputs": [
    {
     "data": {
      "text/plain": [
       "array(['Lux', 'WAV', 'Lux Black XL', 'Lyft', 'UberX', 'Shared', 'UberXL',\n",
       "       'Black SUV', 'Black', 'Lyft XL', 'UberPool', 'Lux Black'],\n",
       "      dtype=object)"
      ]
     },
     "execution_count": 25,
     "metadata": {},
     "output_type": "execute_result"
    }
   ],
   "source": [
    "df[df[\"fare\"]<50][\"vehicle\"].unique()"
   ]
  },
  {
   "cell_type": "markdown",
   "id": "3e21dc85",
   "metadata": {
    "papermill": {
     "duration": 0.020094,
     "end_time": "2025-06-14T15:47:47.745429",
     "exception": false,
     "start_time": "2025-06-14T15:47:47.725335",
     "status": "completed"
    },
    "tags": []
   },
   "source": [
    "#### Here, we see that, price from 50 to 100 is only for rides in big and luxurious car. So, these are not outliers. They have higher price for better services."
   ]
  },
  {
   "cell_type": "code",
   "execution_count": 26,
   "id": "d5e16435",
   "metadata": {
    "execution": {
     "iopub.execute_input": "2025-06-14T15:47:47.787350Z",
     "iopub.status.busy": "2025-06-14T15:47:47.786962Z",
     "iopub.status.idle": "2025-06-14T15:47:47.800174Z",
     "shell.execute_reply": "2025-06-14T15:47:47.799490Z"
    },
    "papermill": {
     "duration": 0.036078,
     "end_time": "2025-06-14T15:47:47.801812",
     "exception": false,
     "start_time": "2025-06-14T15:47:47.765734",
     "status": "completed"
    },
    "tags": []
   },
   "outputs": [
    {
     "data": {
      "text/plain": [
       "0.48525252905708466"
      ]
     },
     "execution_count": 26,
     "metadata": {},
     "output_type": "execute_result"
    }
   ],
   "source": [
    "len(df[df[\"fare\"]>100])/len(df[\"fare\"])*100"
   ]
  },
  {
   "cell_type": "code",
   "execution_count": 27,
   "id": "277d4e8e",
   "metadata": {
    "execution": {
     "iopub.execute_input": "2025-06-14T15:47:47.844894Z",
     "iopub.status.busy": "2025-06-14T15:47:47.844053Z",
     "iopub.status.idle": "2025-06-14T15:47:47.872641Z",
     "shell.execute_reply": "2025-06-14T15:47:47.871419Z"
    },
    "papermill": {
     "duration": 0.051608,
     "end_time": "2025-06-14T15:47:47.874201",
     "exception": false,
     "start_time": "2025-06-14T15:47:47.822593",
     "status": "completed"
    },
    "tags": []
   },
   "outputs": [
    {
     "name": "stderr",
     "output_type": "stream",
     "text": [
      "/usr/local/lib/python3.11/dist-packages/pandas/io/formats/format.py:1458: RuntimeWarning: invalid value encountered in greater\n",
      "  has_large_values = (abs_vals > 1e6).any()\n",
      "/usr/local/lib/python3.11/dist-packages/pandas/io/formats/format.py:1459: RuntimeWarning: invalid value encountered in less\n",
      "  has_small_values = ((abs_vals < 10 ** (-self.digits)) & (abs_vals > 0)).any()\n",
      "/usr/local/lib/python3.11/dist-packages/pandas/io/formats/format.py:1459: RuntimeWarning: invalid value encountered in greater\n",
      "  has_small_values = ((abs_vals < 10 ** (-self.digits)) & (abs_vals > 0)).any()\n",
      "/usr/local/lib/python3.11/dist-packages/pandas/io/formats/format.py:1458: RuntimeWarning: invalid value encountered in greater\n",
      "  has_large_values = (abs_vals > 1e6).any()\n",
      "/usr/local/lib/python3.11/dist-packages/pandas/io/formats/format.py:1459: RuntimeWarning: invalid value encountered in less\n",
      "  has_small_values = ((abs_vals < 10 ** (-self.digits)) & (abs_vals > 0)).any()\n",
      "/usr/local/lib/python3.11/dist-packages/pandas/io/formats/format.py:1459: RuntimeWarning: invalid value encountered in greater\n",
      "  has_small_values = ((abs_vals < 10 ** (-self.digits)) & (abs_vals > 0)).any()\n"
     ]
    },
    {
     "data": {
      "text/html": [
       "<div>\n",
       "<style scoped>\n",
       "    .dataframe tbody tr th:only-of-type {\n",
       "        vertical-align: middle;\n",
       "    }\n",
       "\n",
       "    .dataframe tbody tr th {\n",
       "        vertical-align: top;\n",
       "    }\n",
       "\n",
       "    .dataframe thead th {\n",
       "        text-align: right;\n",
       "    }\n",
       "</style>\n",
       "<table border=\"1\" class=\"dataframe\">\n",
       "  <thead>\n",
       "    <tr style=\"text-align: right;\">\n",
       "      <th></th>\n",
       "      <th>timestamp</th>\n",
       "      <th>date</th>\n",
       "      <th>hour</th>\n",
       "      <th>day_of_week</th>\n",
       "      <th>month</th>\n",
       "      <th>source</th>\n",
       "      <th>destination</th>\n",
       "      <th>ride_company</th>\n",
       "      <th>vehicle_id</th>\n",
       "      <th>vehicle</th>\n",
       "      <th>...</th>\n",
       "      <th>distance</th>\n",
       "      <th>surge_multiplier</th>\n",
       "      <th>fare</th>\n",
       "      <th>temperature_F</th>\n",
       "      <th>humidity</th>\n",
       "      <th>wind_speed</th>\n",
       "      <th>weather_desc_short</th>\n",
       "      <th>weather_desc_long</th>\n",
       "      <th>weather_status</th>\n",
       "      <th>pressure</th>\n",
       "    </tr>\n",
       "  </thead>\n",
       "  <tbody>\n",
       "    <tr>\n",
       "      <th>253</th>\n",
       "      <td>2018-11-26 04:43:18</td>\n",
       "      <td>2018-11-26</td>\n",
       "      <td>4</td>\n",
       "      <td>Monday</td>\n",
       "      <td>11</td>\n",
       "      <td>Financial District</td>\n",
       "      <td>Fenway</td>\n",
       "      <td>Lyft</td>\n",
       "      <td>lyft_lux</td>\n",
       "      <td>Lux Black</td>\n",
       "      <td>...</td>\n",
       "      <td>4.55</td>\n",
       "      <td>1.50</td>\n",
       "      <td>950.0</td>\n",
       "      <td>41.52</td>\n",
       "      <td>NaN</td>\n",
       "      <td>0.45</td>\n",
       "      <td>Overcast</td>\n",
       "      <td>Rain in the morning and afternoon.</td>\n",
       "      <td>cloudy</td>\n",
       "      <td>1014.06</td>\n",
       "    </tr>\n",
       "    <tr>\n",
       "      <th>346</th>\n",
       "      <td>2018-11-26 04:49:39</td>\n",
       "      <td>2018-11-26</td>\n",
       "      <td>4</td>\n",
       "      <td>Monday</td>\n",
       "      <td>11</td>\n",
       "      <td>Northeastern University</td>\n",
       "      <td>West End</td>\n",
       "      <td>Lyft</td>\n",
       "      <td>lyft_lux</td>\n",
       "      <td>Lux Black</td>\n",
       "      <td>...</td>\n",
       "      <td>2.83</td>\n",
       "      <td>1.75</td>\n",
       "      <td>910.0</td>\n",
       "      <td>41.52</td>\n",
       "      <td>0.90</td>\n",
       "      <td>0.45</td>\n",
       "      <td>Overcast</td>\n",
       "      <td>Rain in the morning and afternoon.</td>\n",
       "      <td>cloudy</td>\n",
       "      <td>1014.06</td>\n",
       "    </tr>\n",
       "    <tr>\n",
       "      <th>416</th>\n",
       "      <td>2018-11-26 04:55:44</td>\n",
       "      <td>2018-11-26</td>\n",
       "      <td>4</td>\n",
       "      <td>Monday</td>\n",
       "      <td>11</td>\n",
       "      <td>Boston University</td>\n",
       "      <td>Beacon Hill</td>\n",
       "      <td>Uber</td>\n",
       "      <td>6c84fd89-3f11-4782-9b50-97c468b19529</td>\n",
       "      <td>Black</td>\n",
       "      <td>...</td>\n",
       "      <td>2.79</td>\n",
       "      <td>1.00</td>\n",
       "      <td>420.0</td>\n",
       "      <td>41.52</td>\n",
       "      <td>0.90</td>\n",
       "      <td>0.45</td>\n",
       "      <td>Overcast</td>\n",
       "      <td>Rain in the morning and afternoon.</td>\n",
       "      <td>cloudy</td>\n",
       "      <td>1014.06</td>\n",
       "    </tr>\n",
       "    <tr>\n",
       "      <th>596</th>\n",
       "      <td>2018-11-26 05:13:06</td>\n",
       "      <td>2018-11-26</td>\n",
       "      <td>5</td>\n",
       "      <td>Monday</td>\n",
       "      <td>11</td>\n",
       "      <td>Boston University</td>\n",
       "      <td>Financial District</td>\n",
       "      <td>Uber</td>\n",
       "      <td>6f72dfc5-27f1-42e8-84db-ccc7a75f6969</td>\n",
       "      <td>UberXL</td>\n",
       "      <td>...</td>\n",
       "      <td>4.72</td>\n",
       "      <td>1.00</td>\n",
       "      <td>430.0</td>\n",
       "      <td>41.99</td>\n",
       "      <td>0.91</td>\n",
       "      <td>0.53</td>\n",
       "      <td>Overcast</td>\n",
       "      <td>Rain until morning, starting again in the eve...</td>\n",
       "      <td>cloudy</td>\n",
       "      <td>1014.11</td>\n",
       "    </tr>\n",
       "    <tr>\n",
       "      <th>612</th>\n",
       "      <td>2018-11-26 05:13:07</td>\n",
       "      <td>2018-11-26</td>\n",
       "      <td>5</td>\n",
       "      <td>Monday</td>\n",
       "      <td>11</td>\n",
       "      <td>Theatre District</td>\n",
       "      <td>Northeastern University</td>\n",
       "      <td>Uber</td>\n",
       "      <td>9a0e7b09-b92b-4c41-9779-2ad22b4d779d</td>\n",
       "      <td>WAV</td>\n",
       "      <td>...</td>\n",
       "      <td>1.80</td>\n",
       "      <td>1.00</td>\n",
       "      <td>190.0</td>\n",
       "      <td>41.99</td>\n",
       "      <td>0.91</td>\n",
       "      <td>0.53</td>\n",
       "      <td>Overcast</td>\n",
       "      <td>Rain until morning, starting again in the eve...</td>\n",
       "      <td>cloudy</td>\n",
       "      <td>1014.11</td>\n",
       "    </tr>\n",
       "  </tbody>\n",
       "</table>\n",
       "<p>5 rows × 23 columns</p>\n",
       "</div>"
      ],
      "text/plain": [
       "              timestamp        date  hour day_of_week  month  \\\n",
       "253 2018-11-26 04:43:18  2018-11-26     4      Monday     11   \n",
       "346 2018-11-26 04:49:39  2018-11-26     4      Monday     11   \n",
       "416 2018-11-26 04:55:44  2018-11-26     4      Monday     11   \n",
       "596 2018-11-26 05:13:06  2018-11-26     5      Monday     11   \n",
       "612 2018-11-26 05:13:07  2018-11-26     5      Monday     11   \n",
       "\n",
       "                      source              destination ride_company  \\\n",
       "253       Financial District                   Fenway         Lyft   \n",
       "346  Northeastern University                 West End         Lyft   \n",
       "416        Boston University              Beacon Hill         Uber   \n",
       "596        Boston University       Financial District         Uber   \n",
       "612         Theatre District  Northeastern University         Uber   \n",
       "\n",
       "                               vehicle_id    vehicle  ...  distance  \\\n",
       "253                              lyft_lux  Lux Black  ...      4.55   \n",
       "346                              lyft_lux  Lux Black  ...      2.83   \n",
       "416  6c84fd89-3f11-4782-9b50-97c468b19529      Black  ...      2.79   \n",
       "596  6f72dfc5-27f1-42e8-84db-ccc7a75f6969     UberXL  ...      4.72   \n",
       "612  9a0e7b09-b92b-4c41-9779-2ad22b4d779d        WAV  ...      1.80   \n",
       "\n",
       "     surge_multiplier   fare  temperature_F  humidity  wind_speed  \\\n",
       "253              1.50  950.0          41.52       NaN        0.45   \n",
       "346              1.75  910.0          41.52      0.90        0.45   \n",
       "416              1.00  420.0          41.52      0.90        0.45   \n",
       "596              1.00  430.0          41.99      0.91        0.53   \n",
       "612              1.00  190.0          41.99      0.91        0.53   \n",
       "\n",
       "     weather_desc_short                                  weather_desc_long  \\\n",
       "253           Overcast                 Rain in the morning and afternoon.    \n",
       "346           Overcast                 Rain in the morning and afternoon.    \n",
       "416           Overcast                 Rain in the morning and afternoon.    \n",
       "596           Overcast    Rain until morning, starting again in the eve...   \n",
       "612           Overcast    Rain until morning, starting again in the eve...   \n",
       "\n",
       "     weather_status pressure  \n",
       "253         cloudy   1014.06  \n",
       "346         cloudy   1014.06  \n",
       "416         cloudy   1014.06  \n",
       "596         cloudy   1014.11  \n",
       "612         cloudy   1014.11  \n",
       "\n",
       "[5 rows x 23 columns]"
      ]
     },
     "execution_count": 27,
     "metadata": {},
     "output_type": "execute_result"
    }
   ],
   "source": [
    "df[df[\"fare\"]>100].head()"
   ]
  },
  {
   "cell_type": "code",
   "execution_count": 28,
   "id": "ca7c5d45",
   "metadata": {
    "execution": {
     "iopub.execute_input": "2025-06-14T15:47:47.917494Z",
     "iopub.status.busy": "2025-06-14T15:47:47.917168Z",
     "iopub.status.idle": "2025-06-14T15:47:47.931432Z",
     "shell.execute_reply": "2025-06-14T15:47:47.930504Z"
    },
    "papermill": {
     "duration": 0.037634,
     "end_time": "2025-06-14T15:47:47.933144",
     "exception": false,
     "start_time": "2025-06-14T15:47:47.895510",
     "status": "completed"
    },
    "tags": []
   },
   "outputs": [
    {
     "data": {
      "text/plain": [
       "array(['Lux Black', 'Black', 'UberXL', 'WAV', 'Lyft XL', 'Lux',\n",
       "       'Black SUV', 'UberPool', 'Lyft', 'Lux Black XL', 'UberX', 'Shared'],\n",
       "      dtype=object)"
      ]
     },
     "execution_count": 28,
     "metadata": {},
     "output_type": "execute_result"
    }
   ],
   "source": [
    "df[df[\"fare\"]>100][\"vehicle\"].unique()"
   ]
  },
  {
   "cell_type": "markdown",
   "id": "58f17e8c",
   "metadata": {
    "papermill": {
     "duration": 0.020723,
     "end_time": "2025-06-14T15:47:47.975012",
     "exception": false,
     "start_time": "2025-06-14T15:47:47.954289",
     "status": "completed"
    },
    "tags": []
   },
   "source": [
    "#### Price above 100 represents only 0.5% of the data. These are not big luxurious cars only. Also, their distance is not high either. All the rides of this dataset is inside Boston city. So, such high prices is not justified and it needs to be replaced with better representatives."
   ]
  },
  {
   "cell_type": "code",
   "execution_count": 29,
   "id": "da7768fd",
   "metadata": {
    "execution": {
     "iopub.execute_input": "2025-06-14T15:47:48.019337Z",
     "iopub.status.busy": "2025-06-14T15:47:48.018982Z",
     "iopub.status.idle": "2025-06-14T15:47:48.065206Z",
     "shell.execute_reply": "2025-06-14T15:47:48.064131Z"
    },
    "papermill": {
     "duration": 0.071282,
     "end_time": "2025-06-14T15:47:48.067229",
     "exception": false,
     "start_time": "2025-06-14T15:47:47.995947",
     "status": "completed"
    },
    "tags": []
   },
   "outputs": [
    {
     "data": {
      "text/plain": [
       "array(['Boston University', 'North Station', 'Northeastern University',\n",
       "       'Theatre District', 'Beacon Hill', 'South Station', 'North End',\n",
       "       'Fenway', 'Back Bay', 'West End', 'Haymarket Square',\n",
       "       'Financial District'], dtype=object)"
      ]
     },
     "execution_count": 29,
     "metadata": {},
     "output_type": "execute_result"
    }
   ],
   "source": [
    "df[\"source\"].unique()"
   ]
  },
  {
   "cell_type": "code",
   "execution_count": 30,
   "id": "f943345f",
   "metadata": {
    "execution": {
     "iopub.execute_input": "2025-06-14T15:47:48.113433Z",
     "iopub.status.busy": "2025-06-14T15:47:48.112464Z",
     "iopub.status.idle": "2025-06-14T15:47:48.160678Z",
     "shell.execute_reply": "2025-06-14T15:47:48.159557Z"
    },
    "papermill": {
     "duration": 0.072555,
     "end_time": "2025-06-14T15:47:48.162472",
     "exception": false,
     "start_time": "2025-06-14T15:47:48.089917",
     "status": "completed"
    },
    "tags": []
   },
   "outputs": [
    {
     "data": {
      "text/plain": [
       "array(['Financial District', 'Fenway', 'Theatre District', 'Beacon Hill',\n",
       "       'Boston University', 'Northeastern University', 'North End',\n",
       "       'Haymarket Square', 'West End', 'Back Bay', 'North Station',\n",
       "       'South Station'], dtype=object)"
      ]
     },
     "execution_count": 30,
     "metadata": {},
     "output_type": "execute_result"
    }
   ],
   "source": [
    "df[\"destination\"].unique()"
   ]
  },
  {
   "cell_type": "code",
   "execution_count": 31,
   "id": "8353e45a",
   "metadata": {
    "execution": {
     "iopub.execute_input": "2025-06-14T15:47:48.207435Z",
     "iopub.status.busy": "2025-06-14T15:47:48.206561Z",
     "iopub.status.idle": "2025-06-14T15:47:48.366016Z",
     "shell.execute_reply": "2025-06-14T15:47:48.364881Z"
    },
    "papermill": {
     "duration": 0.184316,
     "end_time": "2025-06-14T15:47:48.368226",
     "exception": false,
     "start_time": "2025-06-14T15:47:48.183910",
     "status": "completed"
    },
    "tags": []
   },
   "outputs": [
    {
     "data": {
      "text/html": [
       "<div>\n",
       "<style scoped>\n",
       "    .dataframe tbody tr th:only-of-type {\n",
       "        vertical-align: middle;\n",
       "    }\n",
       "\n",
       "    .dataframe tbody tr th {\n",
       "        vertical-align: top;\n",
       "    }\n",
       "\n",
       "    .dataframe thead th {\n",
       "        text-align: right;\n",
       "    }\n",
       "</style>\n",
       "<table border=\"1\" class=\"dataframe\">\n",
       "  <thead>\n",
       "    <tr style=\"text-align: right;\">\n",
       "      <th></th>\n",
       "      <th>source</th>\n",
       "      <th>destination</th>\n",
       "      <th>vehicle</th>\n",
       "    </tr>\n",
       "  </thead>\n",
       "  <tbody>\n",
       "    <tr>\n",
       "      <th>0</th>\n",
       "      <td>Boston University</td>\n",
       "      <td>Financial District</td>\n",
       "      <td>Lux Black</td>\n",
       "    </tr>\n",
       "    <tr>\n",
       "      <th>1</th>\n",
       "      <td>Boston University</td>\n",
       "      <td>Financial District</td>\n",
       "      <td>Lux</td>\n",
       "    </tr>\n",
       "    <tr>\n",
       "      <th>2</th>\n",
       "      <td>North Station</td>\n",
       "      <td>Fenway</td>\n",
       "      <td>WAV</td>\n",
       "    </tr>\n",
       "    <tr>\n",
       "      <th>3</th>\n",
       "      <td>Boston University</td>\n",
       "      <td>Theatre District</td>\n",
       "      <td>Lux Black XL</td>\n",
       "    </tr>\n",
       "    <tr>\n",
       "      <th>4</th>\n",
       "      <td>Northeastern University</td>\n",
       "      <td>Beacon Hill</td>\n",
       "      <td>Lyft</td>\n",
       "    </tr>\n",
       "    <tr>\n",
       "      <th>...</th>\n",
       "      <td>...</td>\n",
       "      <td>...</td>\n",
       "      <td>...</td>\n",
       "    </tr>\n",
       "    <tr>\n",
       "      <th>4386</th>\n",
       "      <td>Fenway</td>\n",
       "      <td>Theatre District</td>\n",
       "      <td>Lux Black</td>\n",
       "    </tr>\n",
       "    <tr>\n",
       "      <th>5320</th>\n",
       "      <td>Boston University</td>\n",
       "      <td>Theatre District</td>\n",
       "      <td>UberXL</td>\n",
       "    </tr>\n",
       "    <tr>\n",
       "      <th>5525</th>\n",
       "      <td>Beacon Hill</td>\n",
       "      <td>Northeastern University</td>\n",
       "      <td>Lux Black XL</td>\n",
       "    </tr>\n",
       "    <tr>\n",
       "      <th>5676</th>\n",
       "      <td>Beacon Hill</td>\n",
       "      <td>Northeastern University</td>\n",
       "      <td>Shared</td>\n",
       "    </tr>\n",
       "    <tr>\n",
       "      <th>5712</th>\n",
       "      <td>Boston University</td>\n",
       "      <td>North Station</td>\n",
       "      <td>Lyft</td>\n",
       "    </tr>\n",
       "  </tbody>\n",
       "</table>\n",
       "<p>864 rows × 3 columns</p>\n",
       "</div>"
      ],
      "text/plain": [
       "                       source              destination       vehicle\n",
       "0           Boston University       Financial District     Lux Black\n",
       "1           Boston University       Financial District           Lux\n",
       "2               North Station                   Fenway           WAV\n",
       "3           Boston University         Theatre District  Lux Black XL\n",
       "4     Northeastern University              Beacon Hill          Lyft\n",
       "...                       ...                      ...           ...\n",
       "4386                   Fenway         Theatre District     Lux Black\n",
       "5320        Boston University         Theatre District        UberXL\n",
       "5525              Beacon Hill  Northeastern University  Lux Black XL\n",
       "5676              Beacon Hill  Northeastern University        Shared\n",
       "5712        Boston University            North Station          Lyft\n",
       "\n",
       "[864 rows x 3 columns]"
      ]
     },
     "execution_count": 31,
     "metadata": {},
     "output_type": "execute_result"
    }
   ],
   "source": [
    "df[[\"source\",\"destination\",\"vehicle\"]].drop_duplicates()"
   ]
  },
  {
   "cell_type": "markdown",
   "id": "98e879c1",
   "metadata": {
    "execution": {
     "iopub.execute_input": "2025-06-11T15:41:28.220109Z",
     "iopub.status.busy": "2025-06-11T15:41:28.219776Z",
     "iopub.status.idle": "2025-06-11T15:41:28.226530Z",
     "shell.execute_reply": "2025-06-11T15:41:28.225393Z",
     "shell.execute_reply.started": "2025-06-11T15:41:28.220087Z"
    },
    "papermill": {
     "duration": 0.021394,
     "end_time": "2025-06-14T15:47:48.412568",
     "exception": false,
     "start_time": "2025-06-14T15:47:48.391174",
     "status": "completed"
    },
    "tags": []
   },
   "source": [
    "#### Pickup and dropoff locations are all in Boston and they are just 12 unique location. And, ride type also influences the price. So, we took unique combinations of these 3 feature. We will calculate the avg price of these unique combinations and impute that to the outliers."
   ]
  },
  {
   "cell_type": "code",
   "execution_count": 32,
   "id": "1c42c27d",
   "metadata": {
    "execution": {
     "iopub.execute_input": "2025-06-14T15:47:48.457759Z",
     "iopub.status.busy": "2025-06-14T15:47:48.457338Z",
     "iopub.status.idle": "2025-06-14T15:47:48.875576Z",
     "shell.execute_reply": "2025-06-14T15:47:48.874637Z"
    },
    "papermill": {
     "duration": 0.442571,
     "end_time": "2025-06-14T15:47:48.877298",
     "exception": false,
     "start_time": "2025-06-14T15:47:48.434727",
     "status": "completed"
    },
    "tags": []
   },
   "outputs": [],
   "source": [
    "price_threshold = 100\n",
    "\n",
    "group_means = df[df[\"fare\"] <= price_threshold].groupby(\n",
    "    [\"source\", \"destination\", \"vehicle\"]\n",
    ")[\"fare\"].mean()\n",
    "\n",
    "df.loc[df[\"fare\"]>price_threshold, \"fare\"] = df[df[\"fare\"]>price_threshold].apply(\n",
    "    lambda row: group_means.get((row[\"source\"], row[\"destination\"], row[\"vehicle\"]), np.nan),\n",
    "    axis=1\n",
    ")"
   ]
  },
  {
   "cell_type": "code",
   "execution_count": 33,
   "id": "18782c4c",
   "metadata": {
    "execution": {
     "iopub.execute_input": "2025-06-14T15:47:48.921138Z",
     "iopub.status.busy": "2025-06-14T15:47:48.920836Z",
     "iopub.status.idle": "2025-06-14T15:47:48.958804Z",
     "shell.execute_reply": "2025-06-14T15:47:48.957942Z"
    },
    "papermill": {
     "duration": 0.061976,
     "end_time": "2025-06-14T15:47:48.960468",
     "exception": false,
     "start_time": "2025-06-14T15:47:48.898492",
     "status": "completed"
    },
    "tags": []
   },
   "outputs": [
    {
     "name": "stdout",
     "output_type": "stream",
     "text": [
      "Null Values in price column:  0\n"
     ]
    },
    {
     "data": {
      "text/plain": [
       "count    637194.000000\n",
       "mean         16.563923\n",
       "std           9.379179\n",
       "min           2.500000\n",
       "25%           9.000000\n",
       "50%          13.500000\n",
       "75%          22.500000\n",
       "max         100.000000\n",
       "Name: fare, dtype: float64"
      ]
     },
     "execution_count": 33,
     "metadata": {},
     "output_type": "execute_result"
    }
   ],
   "source": [
    "print(\"Null Values in price column: \", df[\"fare\"].isnull().sum())\n",
    "df[\"fare\"].describe()"
   ]
  },
  {
   "cell_type": "markdown",
   "id": "e090afad",
   "metadata": {
    "papermill": {
     "duration": 0.021742,
     "end_time": "2025-06-14T15:47:49.003808",
     "exception": false,
     "start_time": "2025-06-14T15:47:48.982066",
     "status": "completed"
    },
    "tags": []
   },
   "source": [
    "Max is 97.5. So, outliers removed."
   ]
  },
  {
   "cell_type": "markdown",
   "id": "bbb2af18",
   "metadata": {
    "execution": {
     "iopub.execute_input": "2025-06-10T18:57:17.651767Z",
     "iopub.status.busy": "2025-06-10T18:57:17.651294Z",
     "iopub.status.idle": "2025-06-10T18:57:17.663015Z",
     "shell.execute_reply": "2025-06-10T18:57:17.660991Z",
     "shell.execute_reply.started": "2025-06-10T18:57:17.651735Z"
    },
    "papermill": {
     "duration": 0.022015,
     "end_time": "2025-06-14T15:47:49.047900",
     "exception": false,
     "start_time": "2025-06-14T15:47:49.025885",
     "status": "completed"
    },
    "tags": []
   },
   "source": [
    "### **Handling Outliers and Missing Values in Distance Column**\n",
    "\n",
    "#### The `distance` column contains approximately 1% missing values. We will impute the missing values using geographical distance between pickup and drop-off locations based on the Haversine formula.\n",
    "\n"
   ]
  },
  {
   "cell_type": "code",
   "execution_count": 34,
   "id": "999d7f67",
   "metadata": {
    "execution": {
     "iopub.execute_input": "2025-06-14T15:47:49.091933Z",
     "iopub.status.busy": "2025-06-14T15:47:49.091584Z",
     "iopub.status.idle": "2025-06-14T15:47:49.137050Z",
     "shell.execute_reply": "2025-06-14T15:47:49.135983Z"
    },
    "papermill": {
     "duration": 0.069266,
     "end_time": "2025-06-14T15:47:49.138570",
     "exception": false,
     "start_time": "2025-06-14T15:47:49.069304",
     "status": "completed"
    },
    "tags": []
   },
   "outputs": [
    {
     "name": "stdout",
     "output_type": "stream",
     "text": [
      "Null Values:  6376\n"
     ]
    },
    {
     "data": {
      "text/plain": [
       "count    630818.000000\n",
       "mean          2.400986\n",
       "std           3.589143\n",
       "min           0.020000\n",
       "25%           1.280000\n",
       "50%           2.170000\n",
       "75%           2.950000\n",
       "max         149.200000\n",
       "Name: distance, dtype: float64"
      ]
     },
     "execution_count": 34,
     "metadata": {},
     "output_type": "execute_result"
    }
   ],
   "source": [
    "print(\"Null Values: \",df[\"distance\"].isnull().sum())\n",
    "df[\"distance\"].describe()"
   ]
  },
  {
   "cell_type": "code",
   "execution_count": 35,
   "id": "5f61d0ae",
   "metadata": {
    "execution": {
     "iopub.execute_input": "2025-06-14T15:47:49.184221Z",
     "iopub.status.busy": "2025-06-14T15:47:49.183890Z",
     "iopub.status.idle": "2025-06-14T15:47:49.221087Z",
     "shell.execute_reply": "2025-06-14T15:47:49.219921Z"
    },
    "papermill": {
     "duration": 0.061614,
     "end_time": "2025-06-14T15:47:49.222511",
     "exception": false,
     "start_time": "2025-06-14T15:47:49.160897",
     "status": "completed"
    },
    "tags": []
   },
   "outputs": [
    {
     "name": "stdout",
     "output_type": "stream",
     "text": [
      "6.13\n"
     ]
    },
    {
     "name": "stderr",
     "output_type": "stream",
     "text": [
      "/usr/local/lib/python3.11/dist-packages/pandas/core/computation/expressions.py:73: RuntimeWarning: invalid value encountered in greater\n",
      "  return op(a, b)\n"
     ]
    },
    {
     "data": {
      "text/html": [
       "<div>\n",
       "<style scoped>\n",
       "    .dataframe tbody tr th:only-of-type {\n",
       "        vertical-align: middle;\n",
       "    }\n",
       "\n",
       "    .dataframe tbody tr th {\n",
       "        vertical-align: top;\n",
       "    }\n",
       "\n",
       "    .dataframe thead th {\n",
       "        text-align: right;\n",
       "    }\n",
       "</style>\n",
       "<table border=\"1\" class=\"dataframe\">\n",
       "  <thead>\n",
       "    <tr style=\"text-align: right;\">\n",
       "      <th></th>\n",
       "      <th>fare</th>\n",
       "      <th>distance</th>\n",
       "    </tr>\n",
       "  </thead>\n",
       "  <tbody>\n",
       "    <tr>\n",
       "      <th>25</th>\n",
       "      <td>18.0</td>\n",
       "      <td>67.80</td>\n",
       "    </tr>\n",
       "    <tr>\n",
       "      <th>40</th>\n",
       "      <td>34.0</td>\n",
       "      <td>6.26</td>\n",
       "    </tr>\n",
       "    <tr>\n",
       "      <th>153</th>\n",
       "      <td>36.0</td>\n",
       "      <td>6.91</td>\n",
       "    </tr>\n",
       "    <tr>\n",
       "      <th>319</th>\n",
       "      <td>8.0</td>\n",
       "      <td>32.20</td>\n",
       "    </tr>\n",
       "    <tr>\n",
       "      <th>418</th>\n",
       "      <td>22.5</td>\n",
       "      <td>53.60</td>\n",
       "    </tr>\n",
       "    <tr>\n",
       "      <th>428</th>\n",
       "      <td>22.0</td>\n",
       "      <td>60.80</td>\n",
       "    </tr>\n",
       "    <tr>\n",
       "      <th>484</th>\n",
       "      <td>48.0</td>\n",
       "      <td>7.19</td>\n",
       "    </tr>\n",
       "  </tbody>\n",
       "</table>\n",
       "</div>"
      ],
      "text/plain": [
       "     fare  distance\n",
       "25   18.0     67.80\n",
       "40   34.0      6.26\n",
       "153  36.0      6.91\n",
       "319   8.0     32.20\n",
       "418  22.5     53.60\n",
       "428  22.0     60.80\n",
       "484  48.0      7.19"
      ]
     },
     "execution_count": 35,
     "metadata": {},
     "output_type": "execute_result"
    }
   ],
   "source": [
    "dist_threshold = df[\"distance\"].quantile(0.99)\n",
    "print(dist_threshold)\n",
    "df[df[\"distance\"]>dist_threshold][[\"fare\",\"distance\"]].head(7)"
   ]
  },
  {
   "cell_type": "code",
   "execution_count": 36,
   "id": "5166088e",
   "metadata": {
    "execution": {
     "iopub.execute_input": "2025-06-14T15:47:49.268554Z",
     "iopub.status.busy": "2025-06-14T15:47:49.268225Z",
     "iopub.status.idle": "2025-06-14T15:47:49.294609Z",
     "shell.execute_reply": "2025-06-14T15:47:49.293710Z"
    },
    "papermill": {
     "duration": 0.050622,
     "end_time": "2025-06-14T15:47:49.296139",
     "exception": false,
     "start_time": "2025-06-14T15:47:49.245517",
     "status": "completed"
    },
    "tags": []
   },
   "outputs": [
    {
     "name": "stderr",
     "output_type": "stream",
     "text": [
      "/usr/local/lib/python3.11/dist-packages/pandas/core/computation/expressions.py:73: RuntimeWarning: invalid value encountered in greater\n",
      "  return op(a, b)\n"
     ]
    },
    {
     "data": {
      "text/plain": [
       "0.7198656624404336"
      ]
     },
     "execution_count": 36,
     "metadata": {},
     "output_type": "execute_result"
    }
   ],
   "source": [
    "df[df[\"distance\"]>6.26][\"fare\"].sum() / df[df[\"distance\"]>6.26][\"distance\"].sum()"
   ]
  },
  {
   "cell_type": "code",
   "execution_count": 37,
   "id": "55ed0cce",
   "metadata": {
    "execution": {
     "iopub.execute_input": "2025-06-14T15:47:49.344067Z",
     "iopub.status.busy": "2025-06-14T15:47:49.343749Z",
     "iopub.status.idle": "2025-06-14T15:47:49.676732Z",
     "shell.execute_reply": "2025-06-14T15:47:49.675772Z"
    },
    "papermill": {
     "duration": 0.359422,
     "end_time": "2025-06-14T15:47:49.678184",
     "exception": false,
     "start_time": "2025-06-14T15:47:49.318762",
     "status": "completed"
    },
    "tags": []
   },
   "outputs": [
    {
     "name": "stderr",
     "output_type": "stream",
     "text": [
      "/usr/local/lib/python3.11/dist-packages/pandas/core/computation/expressions.py:73: RuntimeWarning: invalid value encountered in less\n",
      "  return op(a, b)\n"
     ]
    },
    {
     "data": {
      "text/plain": [
       "7.627839127947131"
      ]
     },
     "execution_count": 37,
     "metadata": {},
     "output_type": "execute_result"
    }
   ],
   "source": [
    "df[df[\"distance\"]<6.26][\"fare\"].sum() / df[df[\"distance\"]<6.26][\"distance\"].sum()"
   ]
  },
  {
   "cell_type": "markdown",
   "id": "b533ee37",
   "metadata": {
    "papermill": {
     "duration": 0.022679,
     "end_time": "2025-06-14T15:47:49.722907",
     "exception": false,
     "start_time": "2025-06-14T15:47:49.700228",
     "status": "completed"
    },
    "tags": []
   },
   "source": [
    "A temp_df is created to store non null value of distance and visualize the data distribution."
   ]
  },
  {
   "cell_type": "code",
   "execution_count": 38,
   "id": "e396b20b",
   "metadata": {
    "execution": {
     "iopub.execute_input": "2025-06-14T15:47:49.774653Z",
     "iopub.status.busy": "2025-06-14T15:47:49.774012Z",
     "iopub.status.idle": "2025-06-14T15:47:53.382805Z",
     "shell.execute_reply": "2025-06-14T15:47:53.381699Z"
    },
    "papermill": {
     "duration": 3.63633,
     "end_time": "2025-06-14T15:47:53.384888",
     "exception": false,
     "start_time": "2025-06-14T15:47:49.748558",
     "status": "completed"
    },
    "tags": []
   },
   "outputs": [
    {
     "name": "stderr",
     "output_type": "stream",
     "text": [
      "/usr/local/lib/python3.11/dist-packages/seaborn/_oldcore.py:1119: FutureWarning: use_inf_as_na option is deprecated and will be removed in a future version. Convert inf values to NaN before operating instead.\n",
      "  with pd.option_context('mode.use_inf_as_na', True):\n"
     ]
    },
    {
     "data": {
      "image/png": "[encoded data removed]",
      "text/plain": [
       "<Figure size 1800x1200 with 3 Axes>"
      ]
     },
     "metadata": {},
     "output_type": "display_data"
    }
   ],
   "source": [
    "temp_df = df[~df[\"distance\"].isna()][\"distance\"]\n",
    "\n",
    "plt.figure(figsize=(18,12))\n",
    "plt.subplot(2,2,1)\n",
    "plt.boxplot(temp_df)\n",
    "plt.title(\"Box Plot distribution of distance\")\n",
    "\n",
    "plt.subplot(2,2,2)\n",
    "plt.boxplot(temp_df[temp_df<10])\n",
    "plt.title(\"Box Plot distribution for distance<10\")\n",
    "\n",
    "plt.subplot(2,2,3)\n",
    "sns.histplot(temp_df, bins=100, kde=True)\n",
    "plt.title(\"Histogram distribution for distance\")\n",
    "plt.show()\n",
    "\n",
    "del temp_df"
   ]
  },
  {
   "cell_type": "markdown",
   "id": "54f42b1c",
   "metadata": {
    "papermill": {
     "duration": 0.023589,
     "end_time": "2025-06-14T15:47:53.432945",
     "exception": false,
     "start_time": "2025-06-14T15:47:53.409356",
     "status": "completed"
    },
    "tags": []
   },
   "source": [
    "75th and 99th percentile data is 2.94 and 6.26 respectively. 746 being the max number clearly shows presence of outliers as all the rides was inside Boston city.\n",
    "when distance is > 6.26(99th percentile value), price to distance ratio is 0.16, while ratio of 7.62 is seen in the opposite case. As, price didn't increase proportionally with distance, it tells us that those distances are outliers. And, the box plots also say the same.\n",
    "We will replace both the outliers and missing value in same method. As, there are only 12 unique locations and 72 unique combinations of pickup location and dropoff location. We will calculate the avg distance of those unique combinations and impute the value to missing value and outliers."
   ]
  },
  {
   "cell_type": "code",
   "execution_count": 39,
   "id": "7220b5e7",
   "metadata": {
    "execution": {
     "iopub.execute_input": "2025-06-14T15:47:53.483348Z",
     "iopub.status.busy": "2025-06-14T15:47:53.483073Z",
     "iopub.status.idle": "2025-06-14T15:47:53.490585Z",
     "shell.execute_reply": "2025-06-14T15:47:53.489711Z"
    },
    "papermill": {
     "duration": 0.034813,
     "end_time": "2025-06-14T15:47:53.492269",
     "exception": false,
     "start_time": "2025-06-14T15:47:53.457456",
     "status": "completed"
    },
    "tags": []
   },
   "outputs": [
    {
     "name": "stderr",
     "output_type": "stream",
     "text": [
      "/usr/local/lib/python3.11/dist-packages/pandas/core/computation/expressions.py:73: RuntimeWarning: invalid value encountered in greater\n",
      "  return op(a, b)\n"
     ]
    }
   ],
   "source": [
    "df.loc[df[\"distance\"]>6.82, \"distance\"] = np.nan"
   ]
  },
  {
   "cell_type": "markdown",
   "id": "51f9dd07",
   "metadata": {
    "papermill": {
     "duration": 0.024245,
     "end_time": "2025-06-14T15:47:53.540935",
     "exception": false,
     "start_time": "2025-06-14T15:47:53.516690",
     "status": "completed"
    },
    "tags": []
   },
   "source": [
    "We replaced the outliers with NaN and now all the missing values will be replaced by avg distance of the pickup and dropoff location."
   ]
  },
  {
   "cell_type": "code",
   "execution_count": 40,
   "id": "569a1015",
   "metadata": {
    "execution": {
     "iopub.execute_input": "2025-06-14T15:47:53.589858Z",
     "iopub.status.busy": "2025-06-14T15:47:53.589546Z",
     "iopub.status.idle": "2025-06-14T15:49:00.373534Z",
     "shell.execute_reply": "2025-06-14T15:49:00.372371Z"
    },
    "papermill": {
     "duration": 66.834472,
     "end_time": "2025-06-14T15:49:00.399184",
     "exception": false,
     "start_time": "2025-06-14T15:47:53.564712",
     "status": "completed"
    },
    "tags": []
   },
   "outputs": [
    {
     "data": {
      "text/plain": [
       "0"
      ]
     },
     "execution_count": 40,
     "metadata": {},
     "output_type": "execute_result"
    }
   ],
   "source": [
    "# Group mean distances by source and destination\n",
    "group_means = df.groupby([\"source\", \"destination\"])[\"distance\"].mean()\n",
    "\n",
    "# Replace NaN distances with the group mean or overall mean if group not found\n",
    "df[\"distance\"] = df.apply( lambda row: group_means.get((row[\"source\"], row[\"distance\"]), df['distance'].mean()) if pd.isna(row[\"distance\"]) else row[\"distance\"], axis=1)\n",
    "\n",
    "df[\"distance\"].isnull().sum()"
   ]
  },
  {
   "cell_type": "code",
   "execution_count": 41,
   "id": "b1053d55",
   "metadata": {
    "execution": {
     "iopub.execute_input": "2025-06-14T15:49:00.448324Z",
     "iopub.status.busy": "2025-06-14T15:49:00.448032Z",
     "iopub.status.idle": "2025-06-14T15:49:00.535697Z",
     "shell.execute_reply": "2025-06-14T15:49:00.534747Z"
    },
    "papermill": {
     "duration": 0.114062,
     "end_time": "2025-06-14T15:49:00.537061",
     "exception": false,
     "start_time": "2025-06-14T15:49:00.422999",
     "status": "completed"
    },
    "tags": []
   },
   "outputs": [
    {
     "name": "stdout",
     "output_type": "stream",
     "text": [
      "                fare       distance\n",
      "count  637194.000000  637194.000000\n",
      "mean       16.563923       2.171991\n",
      "std         9.379179       1.086761\n",
      "min         2.500000       0.020000\n",
      "25%         9.000000       1.300000\n",
      "50%        13.500000       2.171991\n",
      "75%        22.500000       2.880000\n",
      "max       100.000000       6.330000\n"
     ]
    },
    {
     "data": {
      "text/plain": [
       "fare        0\n",
       "distance    0\n",
       "dtype: int64"
      ]
     },
     "execution_count": 41,
     "metadata": {},
     "output_type": "execute_result"
    }
   ],
   "source": [
    "print(df[[\"fare\",\"distance\"]].describe())\n",
    "df[[\"fare\",\"distance\"]].isnull().sum()"
   ]
  },
  {
   "cell_type": "code",
   "execution_count": 42,
   "id": "e1f844ab",
   "metadata": {
    "execution": {
     "iopub.execute_input": "2025-06-14T15:49:00.588781Z",
     "iopub.status.busy": "2025-06-14T15:49:00.588405Z",
     "iopub.status.idle": "2025-06-14T15:49:03.807863Z",
     "shell.execute_reply": "2025-06-14T15:49:03.806968Z"
    },
    "papermill": {
     "duration": 3.245866,
     "end_time": "2025-06-14T15:49:03.809383",
     "exception": false,
     "start_time": "2025-06-14T15:49:00.563517",
     "status": "completed"
    },
    "tags": []
   },
   "outputs": [
    {
     "name": "stderr",
     "output_type": "stream",
     "text": [
      "/usr/local/lib/python3.11/dist-packages/seaborn/_oldcore.py:1119: FutureWarning: use_inf_as_na option is deprecated and will be removed in a future version. Convert inf values to NaN before operating instead.\n",
      "  with pd.option_context('mode.use_inf_as_na', True):\n"
     ]
    },
    {
     "data": {
      "image/png": "[encoded data removed]",
      "text/plain": [
       "<Figure size 1200x500 with 1 Axes>"
      ]
     },
     "metadata": {},
     "output_type": "display_data"
    }
   ],
   "source": [
    "plt.figure(figsize=(12,5))\n",
    "sns.histplot(df[\"distance\"], bins=100, kde=True)\n",
    "plt.title(\"Distance distribution after removing outliers\")\n",
    "plt.show()"
   ]
  },
  {
   "cell_type": "markdown",
   "id": "7bdb325f",
   "metadata": {
    "papermill": {
     "duration": 0.026102,
     "end_time": "2025-06-14T15:49:03.861247",
     "exception": false,
     "start_time": "2025-06-14T15:49:03.835145",
     "status": "completed"
    },
    "tags": []
   },
   "source": [
    "Outliers and missing value for \"price\" and \"distance\" column has been handled."
   ]
  },
  {
   "cell_type": "markdown",
   "id": "850f7198",
   "metadata": {
    "papermill": {
     "duration": 0.025534,
     "end_time": "2025-06-14T15:49:03.913643",
     "exception": false,
     "start_time": "2025-06-14T15:49:03.888109",
     "status": "completed"
    },
    "tags": []
   },
   "source": [
    "## **Cleaning cab related data.**"
   ]
  },
  {
   "cell_type": "code",
   "execution_count": 43,
   "id": "52b7f441",
   "metadata": {
    "execution": {
     "iopub.execute_input": "2025-06-14T15:49:03.966683Z",
     "iopub.status.busy": "2025-06-14T15:49:03.965991Z",
     "iopub.status.idle": "2025-06-14T15:49:04.000265Z",
     "shell.execute_reply": "2025-06-14T15:49:03.999061Z"
    },
    "papermill": {
     "duration": 0.062524,
     "end_time": "2025-06-14T15:49:04.001919",
     "exception": false,
     "start_time": "2025-06-14T15:49:03.939395",
     "status": "completed"
    },
    "tags": []
   },
   "outputs": [
    {
     "name": "stdout",
     "output_type": "stream",
     "text": [
      "['Lyft' 'Uber' 'Ubr' 'Liyft' 'lyft' 'uber' 'Ubre' 'Lyf' 'Ubee' 'Lft']\n"
     ]
    }
   ],
   "source": [
    "print(df[\"ride_company\"].unique())"
   ]
  },
  {
   "cell_type": "code",
   "execution_count": 44,
   "id": "8c9ac414",
   "metadata": {
    "execution": {
     "iopub.execute_input": "2025-06-14T15:49:04.057757Z",
     "iopub.status.busy": "2025-06-14T15:49:04.057398Z",
     "iopub.status.idle": "2025-06-14T15:49:04.063542Z",
     "shell.execute_reply": "2025-06-14T15:49:04.062715Z"
    },
    "papermill": {
     "duration": 0.037338,
     "end_time": "2025-06-14T15:49:04.065016",
     "exception": false,
     "start_time": "2025-06-14T15:49:04.027678",
     "status": "completed"
    },
    "tags": []
   },
   "outputs": [
    {
     "data": {
      "text/plain": [
       "Index(['timestamp', 'date', 'hour', 'day_of_week', 'month', 'source',\n",
       "       'destination', 'ride_company', 'vehicle_id', 'vehicle', 'visibility',\n",
       "       'cloud_cover', 'uv_index', 'distance', 'surge_multiplier', 'fare',\n",
       "       'temperature_F', 'humidity', 'wind_speed', 'weather_desc_short',\n",
       "       'weather_desc_long', 'weather_status', 'pressure'],\n",
       "      dtype='object')"
      ]
     },
     "execution_count": 44,
     "metadata": {},
     "output_type": "execute_result"
    }
   ],
   "source": [
    "df.columns"
   ]
  },
  {
   "cell_type": "code",
   "execution_count": 45,
   "id": "926ce734",
   "metadata": {
    "execution": {
     "iopub.execute_input": "2025-06-14T15:49:04.118182Z",
     "iopub.status.busy": "2025-06-14T15:49:04.117860Z",
     "iopub.status.idle": "2025-06-14T15:49:04.174781Z",
     "shell.execute_reply": "2025-06-14T15:49:04.173152Z"
    },
    "papermill": {
     "duration": 0.086208,
     "end_time": "2025-06-14T15:49:04.176822",
     "exception": false,
     "start_time": "2025-06-14T15:49:04.090614",
     "status": "completed"
    },
    "tags": []
   },
   "outputs": [
    {
     "name": "stdout",
     "output_type": "stream",
     "text": [
      "['lyft_lux' 'lyft_premier' '9a0e7b09-b92b-4c41-9779-2ad22b4d779d'\n",
      " 'lyft_luxsuv' 'lyft' '55c66225-fbe7-4fd5-9072-eab1ece5e23e' 'lyft_line'\n",
      " '6f72dfc5-27f1-42e8-84db-ccc7a75f6969'\n",
      " '6d318bcc-22a3-4af6-bddd-b409bfce1546'\n",
      " '6c84fd89-3f11-4782-9b50-97c468b19529' 'lyft_plus'\n",
      " '997acbb5-e102-41e1-b155-9df7de0a73f2']\n"
     ]
    }
   ],
   "source": [
    "print(df[\"vehicle_id\"].unique())"
   ]
  },
  {
   "cell_type": "code",
   "execution_count": 46,
   "id": "5f533ba5",
   "metadata": {
    "execution": {
     "iopub.execute_input": "2025-06-14T15:49:04.233758Z",
     "iopub.status.busy": "2025-06-14T15:49:04.233367Z",
     "iopub.status.idle": "2025-06-14T15:49:04.277170Z",
     "shell.execute_reply": "2025-06-14T15:49:04.276015Z"
    },
    "papermill": {
     "duration": 0.076001,
     "end_time": "2025-06-14T15:49:04.278917",
     "exception": false,
     "start_time": "2025-06-14T15:49:04.202916",
     "status": "completed"
    },
    "tags": []
   },
   "outputs": [
    {
     "name": "stdout",
     "output_type": "stream",
     "text": [
      "['Lux Black' 'Lux' 'WAV' 'Lux Black XL' 'Lyft' 'UberX' 'Shared' 'UberXL'\n",
      " 'Black SUV' 'Black' 'Lyft XL' 'UberPool']\n"
     ]
    }
   ],
   "source": [
    "print(df[\"vehicle\"].unique())"
   ]
  },
  {
   "cell_type": "markdown",
   "id": "6ea06dc6",
   "metadata": {
    "papermill": {
     "duration": 0.027262,
     "end_time": "2025-06-14T15:49:04.332055",
     "exception": false,
     "start_time": "2025-06-14T15:49:04.304793",
     "status": "completed"
    },
    "tags": []
   },
   "source": [
    "No column has missing values. ride_company has spelling mistakes. We will replace the value with \"Lyft\" if it starts with l/L and with \"Uber\" if it starts with u/U."
   ]
  },
  {
   "cell_type": "code",
   "execution_count": 47,
   "id": "ce835898",
   "metadata": {
    "execution": {
     "iopub.execute_input": "2025-06-14T15:49:04.385744Z",
     "iopub.status.busy": "2025-06-14T15:49:04.385397Z",
     "iopub.status.idle": "2025-06-14T15:49:04.588684Z",
     "shell.execute_reply": "2025-06-14T15:49:04.587338Z"
    },
    "papermill": {
     "duration": 0.23258,
     "end_time": "2025-06-14T15:49:04.590481",
     "exception": false,
     "start_time": "2025-06-14T15:49:04.357901",
     "status": "completed"
    },
    "tags": []
   },
   "outputs": [],
   "source": [
    "df[\"ride_company\"] = df[\"ride_company\"].apply(\n",
    "    lambda x: \"Lyft\" if str(x).lower().startswith(\"l\") else \"Uber\"\n",
    ")"
   ]
  },
  {
   "cell_type": "code",
   "execution_count": 48,
   "id": "eb6364d2",
   "metadata": {
    "execution": {
     "iopub.execute_input": "2025-06-14T15:49:04.647816Z",
     "iopub.status.busy": "2025-06-14T15:49:04.647472Z",
     "iopub.status.idle": "2025-06-14T15:49:04.679746Z",
     "shell.execute_reply": "2025-06-14T15:49:04.678585Z"
    },
    "papermill": {
     "duration": 0.062324,
     "end_time": "2025-06-14T15:49:04.681430",
     "exception": false,
     "start_time": "2025-06-14T15:49:04.619106",
     "status": "completed"
    },
    "tags": []
   },
   "outputs": [
    {
     "name": "stdout",
     "output_type": "stream",
     "text": [
      "['Lyft' 'Uber']\n"
     ]
    }
   ],
   "source": [
    "print(df[\"ride_company\"].unique())"
   ]
  },
  {
   "cell_type": "code",
   "execution_count": 49,
   "id": "d0248ac3",
   "metadata": {
    "execution": {
     "iopub.execute_input": "2025-06-14T15:49:04.735681Z",
     "iopub.status.busy": "2025-06-14T15:49:04.735297Z",
     "iopub.status.idle": "2025-06-14T15:49:04.880781Z",
     "shell.execute_reply": "2025-06-14T15:49:04.879472Z"
    },
    "papermill": {
     "duration": 0.174643,
     "end_time": "2025-06-14T15:49:04.882565",
     "exception": false,
     "start_time": "2025-06-14T15:49:04.707922",
     "status": "completed"
    },
    "tags": []
   },
   "outputs": [
    {
     "data": {
      "text/plain": [
       "array(['WAV', 'UberX', 'UberXL', 'Black SUV', 'Black', 'UberPool'],\n",
       "      dtype=object)"
      ]
     },
     "execution_count": 49,
     "metadata": {},
     "output_type": "execute_result"
    }
   ],
   "source": [
    "df[df[\"ride_company\"]==\"Uber\"][\"vehicle\"].unique()"
   ]
  },
  {
   "cell_type": "code",
   "execution_count": 50,
   "id": "5d1e7e83",
   "metadata": {
    "execution": {
     "iopub.execute_input": "2025-06-14T15:49:04.939966Z",
     "iopub.status.busy": "2025-06-14T15:49:04.939597Z",
     "iopub.status.idle": "2025-06-14T15:49:05.075345Z",
     "shell.execute_reply": "2025-06-14T15:49:05.074372Z"
    },
    "papermill": {
     "duration": 0.167741,
     "end_time": "2025-06-14T15:49:05.076891",
     "exception": false,
     "start_time": "2025-06-14T15:49:04.909150",
     "status": "completed"
    },
    "tags": []
   },
   "outputs": [
    {
     "data": {
      "text/plain": [
       "array(['Lux Black', 'Lux', 'Lux Black XL', 'Lyft', 'Shared', 'Lyft XL'],\n",
       "      dtype=object)"
      ]
     },
     "execution_count": 50,
     "metadata": {},
     "output_type": "execute_result"
    }
   ],
   "source": [
    "df[df[\"ride_company\"]==\"Lyft\"][\"vehicle\"].unique()"
   ]
  },
  {
   "cell_type": "code",
   "execution_count": 51,
   "id": "01a84f9b",
   "metadata": {
    "execution": {
     "iopub.execute_input": "2025-06-14T15:49:05.130501Z",
     "iopub.status.busy": "2025-06-14T15:49:05.130140Z",
     "iopub.status.idle": "2025-06-14T15:49:05.279748Z",
     "shell.execute_reply": "2025-06-14T15:49:05.278815Z"
    },
    "papermill": {
     "duration": 0.178465,
     "end_time": "2025-06-14T15:49:05.281353",
     "exception": false,
     "start_time": "2025-06-14T15:49:05.102888",
     "status": "completed"
    },
    "tags": []
   },
   "outputs": [
    {
     "data": {
      "text/plain": [
       "array(['9a0e7b09-b92b-4c41-9779-2ad22b4d779d',\n",
       "       '55c66225-fbe7-4fd5-9072-eab1ece5e23e',\n",
       "       '6f72dfc5-27f1-42e8-84db-ccc7a75f6969',\n",
       "       '6d318bcc-22a3-4af6-bddd-b409bfce1546',\n",
       "       '6c84fd89-3f11-4782-9b50-97c468b19529',\n",
       "       '997acbb5-e102-41e1-b155-9df7de0a73f2'], dtype=object)"
      ]
     },
     "execution_count": 51,
     "metadata": {},
     "output_type": "execute_result"
    }
   ],
   "source": [
    "df[df[\"ride_company\"]==\"Uber\"][\"vehicle_id\"].unique()"
   ]
  },
  {
   "cell_type": "code",
   "execution_count": 52,
   "id": "431c27aa",
   "metadata": {
    "execution": {
     "iopub.execute_input": "2025-06-14T15:49:05.336787Z",
     "iopub.status.busy": "2025-06-14T15:49:05.336397Z",
     "iopub.status.idle": "2025-06-14T15:49:05.474084Z",
     "shell.execute_reply": "2025-06-14T15:49:05.472988Z"
    },
    "papermill": {
     "duration": 0.167181,
     "end_time": "2025-06-14T15:49:05.475527",
     "exception": false,
     "start_time": "2025-06-14T15:49:05.308346",
     "status": "completed"
    },
    "tags": []
   },
   "outputs": [
    {
     "data": {
      "text/plain": [
       "array(['lyft_lux', 'lyft_premier', 'lyft_luxsuv', 'lyft', 'lyft_line',\n",
       "       'lyft_plus'], dtype=object)"
      ]
     },
     "execution_count": 52,
     "metadata": {},
     "output_type": "execute_result"
    }
   ],
   "source": [
    "df[df[\"ride_company\"]==\"Lyft\"][\"vehicle_id\"].unique()"
   ]
  },
  {
   "cell_type": "code",
   "execution_count": 53,
   "id": "d8ab01d7",
   "metadata": {
    "execution": {
     "iopub.execute_input": "2025-06-14T15:49:05.536827Z",
     "iopub.status.busy": "2025-06-14T15:49:05.536515Z",
     "iopub.status.idle": "2025-06-14T15:49:05.721506Z",
     "shell.execute_reply": "2025-06-14T15:49:05.720699Z"
    },
    "papermill": {
     "duration": 0.217488,
     "end_time": "2025-06-14T15:49:05.723154",
     "exception": false,
     "start_time": "2025-06-14T15:49:05.505666",
     "status": "completed"
    },
    "tags": []
   },
   "outputs": [
    {
     "data": {
      "text/html": [
       "<div>\n",
       "<style scoped>\n",
       "    .dataframe tbody tr th:only-of-type {\n",
       "        vertical-align: middle;\n",
       "    }\n",
       "\n",
       "    .dataframe tbody tr th {\n",
       "        vertical-align: top;\n",
       "    }\n",
       "\n",
       "    .dataframe thead th {\n",
       "        text-align: right;\n",
       "    }\n",
       "</style>\n",
       "<table border=\"1\" class=\"dataframe\">\n",
       "  <thead>\n",
       "    <tr style=\"text-align: right;\">\n",
       "      <th></th>\n",
       "      <th>vehicle</th>\n",
       "      <th>vehicle_id</th>\n",
       "    </tr>\n",
       "  </thead>\n",
       "  <tbody>\n",
       "    <tr>\n",
       "      <th>2</th>\n",
       "      <td>WAV</td>\n",
       "      <td>9a0e7b09-b92b-4c41-9779-2ad22b4d779d</td>\n",
       "    </tr>\n",
       "    <tr>\n",
       "      <th>5</th>\n",
       "      <td>UberX</td>\n",
       "      <td>55c66225-fbe7-4fd5-9072-eab1ece5e23e</td>\n",
       "    </tr>\n",
       "    <tr>\n",
       "      <th>10</th>\n",
       "      <td>UberXL</td>\n",
       "      <td>6f72dfc5-27f1-42e8-84db-ccc7a75f6969</td>\n",
       "    </tr>\n",
       "    <tr>\n",
       "      <th>11</th>\n",
       "      <td>Black SUV</td>\n",
       "      <td>6d318bcc-22a3-4af6-bddd-b409bfce1546</td>\n",
       "    </tr>\n",
       "    <tr>\n",
       "      <th>13</th>\n",
       "      <td>Black</td>\n",
       "      <td>6c84fd89-3f11-4782-9b50-97c468b19529</td>\n",
       "    </tr>\n",
       "    <tr>\n",
       "      <th>26</th>\n",
       "      <td>UberPool</td>\n",
       "      <td>997acbb5-e102-41e1-b155-9df7de0a73f2</td>\n",
       "    </tr>\n",
       "  </tbody>\n",
       "</table>\n",
       "</div>"
      ],
      "text/plain": [
       "      vehicle                            vehicle_id\n",
       "2         WAV  9a0e7b09-b92b-4c41-9779-2ad22b4d779d\n",
       "5       UberX  55c66225-fbe7-4fd5-9072-eab1ece5e23e\n",
       "10     UberXL  6f72dfc5-27f1-42e8-84db-ccc7a75f6969\n",
       "11  Black SUV  6d318bcc-22a3-4af6-bddd-b409bfce1546\n",
       "13      Black  6c84fd89-3f11-4782-9b50-97c468b19529\n",
       "26   UberPool  997acbb5-e102-41e1-b155-9df7de0a73f2"
      ]
     },
     "execution_count": 53,
     "metadata": {},
     "output_type": "execute_result"
    }
   ],
   "source": [
    "df[df[\"ride_company\"]==\"Uber\"][[\"vehicle\",\"vehicle_id\"]].drop_duplicates()"
   ]
  },
  {
   "cell_type": "code",
   "execution_count": 54,
   "id": "d6ed9eb6",
   "metadata": {
    "execution": {
     "iopub.execute_input": "2025-06-14T15:49:05.779374Z",
     "iopub.status.busy": "2025-06-14T15:49:05.779041Z",
     "iopub.status.idle": "2025-06-14T15:49:05.948009Z",
     "shell.execute_reply": "2025-06-14T15:49:05.946997Z"
    },
    "papermill": {
     "duration": 0.198222,
     "end_time": "2025-06-14T15:49:05.949463",
     "exception": false,
     "start_time": "2025-06-14T15:49:05.751241",
     "status": "completed"
    },
    "tags": []
   },
   "outputs": [
    {
     "data": {
      "text/html": [
       "<div>\n",
       "<style scoped>\n",
       "    .dataframe tbody tr th:only-of-type {\n",
       "        vertical-align: middle;\n",
       "    }\n",
       "\n",
       "    .dataframe tbody tr th {\n",
       "        vertical-align: top;\n",
       "    }\n",
       "\n",
       "    .dataframe thead th {\n",
       "        text-align: right;\n",
       "    }\n",
       "</style>\n",
       "<table border=\"1\" class=\"dataframe\">\n",
       "  <thead>\n",
       "    <tr style=\"text-align: right;\">\n",
       "      <th></th>\n",
       "      <th>vehicle</th>\n",
       "      <th>vehicle_id</th>\n",
       "    </tr>\n",
       "  </thead>\n",
       "  <tbody>\n",
       "    <tr>\n",
       "      <th>0</th>\n",
       "      <td>Lux Black</td>\n",
       "      <td>lyft_lux</td>\n",
       "    </tr>\n",
       "    <tr>\n",
       "      <th>1</th>\n",
       "      <td>Lux</td>\n",
       "      <td>lyft_premier</td>\n",
       "    </tr>\n",
       "    <tr>\n",
       "      <th>3</th>\n",
       "      <td>Lux Black XL</td>\n",
       "      <td>lyft_luxsuv</td>\n",
       "    </tr>\n",
       "    <tr>\n",
       "      <th>4</th>\n",
       "      <td>Lyft</td>\n",
       "      <td>lyft</td>\n",
       "    </tr>\n",
       "    <tr>\n",
       "      <th>7</th>\n",
       "      <td>Shared</td>\n",
       "      <td>lyft_line</td>\n",
       "    </tr>\n",
       "    <tr>\n",
       "      <th>22</th>\n",
       "      <td>Lyft XL</td>\n",
       "      <td>lyft_plus</td>\n",
       "    </tr>\n",
       "  </tbody>\n",
       "</table>\n",
       "</div>"
      ],
      "text/plain": [
       "         vehicle    vehicle_id\n",
       "0      Lux Black      lyft_lux\n",
       "1            Lux  lyft_premier\n",
       "3   Lux Black XL   lyft_luxsuv\n",
       "4           Lyft          lyft\n",
       "7         Shared     lyft_line\n",
       "22       Lyft XL     lyft_plus"
      ]
     },
     "execution_count": 54,
     "metadata": {},
     "output_type": "execute_result"
    }
   ],
   "source": [
    "df[df[\"ride_company\"]==\"Lyft\"][[\"vehicle\",\"vehicle_id\"]].drop_duplicates()"
   ]
  },
  {
   "cell_type": "markdown",
   "id": "80035080",
   "metadata": {
    "papermill": {
     "duration": 0.025913,
     "end_time": "2025-06-14T15:49:06.002502",
     "exception": false,
     "start_time": "2025-06-14T15:49:05.976589",
     "status": "completed"
    },
    "tags": []
   },
   "source": [
    "#### After inspecting the unique combinations of ride_type and vehicle_id, we found that each ride_type is always associated with a unique vehicle_id. This means the vehicle_id column does not provide any additional or distinct information beyond what is already captured by ride_type. Therefore, we drop the vehicle_id column as this is redundant."
   ]
  },
  {
   "cell_type": "code",
   "execution_count": 55,
   "id": "616c67b4",
   "metadata": {
    "execution": {
     "iopub.execute_input": "2025-06-14T15:49:06.056771Z",
     "iopub.status.busy": "2025-06-14T15:49:06.056422Z",
     "iopub.status.idle": "2025-06-14T15:49:06.160647Z",
     "shell.execute_reply": "2025-06-14T15:49:06.159599Z"
    },
    "papermill": {
     "duration": 0.133101,
     "end_time": "2025-06-14T15:49:06.162447",
     "exception": false,
     "start_time": "2025-06-14T15:49:06.029346",
     "status": "completed"
    },
    "tags": []
   },
   "outputs": [],
   "source": [
    "df = df.drop(\"vehicle_id\", axis=1)"
   ]
  },
  {
   "cell_type": "markdown",
   "id": "58b50e9d",
   "metadata": {
    "papermill": {
     "duration": 0.02643,
     "end_time": "2025-06-14T15:49:06.215581",
     "exception": false,
     "start_time": "2025-06-14T15:49:06.189151",
     "status": "completed"
    },
    "tags": []
   },
   "source": [
    "## **Handling Outliers and Missing Values in Weather-Related Columns**\n",
    "\n",
    "After cleaning and organizing the dataset, we now focus on key weather-related features: `temperature`, `humidity`, `wind_speed` and `pressure`. These features can contain outliers or missing values that may affect model performance. Besides, temperature is in fahrenheit. We need to convert that to degree celcius.\n",
    "\n",
    "### **Strategy:**\n",
    "1. **Detect and mark outliers** using the Interquartile Range (IQR) method.\n",
    "2. **Replace outliers with `np.nan`** to treat them as missing data.\n",
    "3. **Fill all missing values (including outliers) using forward and backward fill averaging**:\n",
    "   - For each missing cell, take the average of the previous and next available values in the same column.\n"
   ]
  },
  {
   "cell_type": "code",
   "execution_count": 56,
   "id": "bd4d84bb",
   "metadata": {
    "execution": {
     "iopub.execute_input": "2025-06-14T15:49:06.269930Z",
     "iopub.status.busy": "2025-06-14T15:49:06.269593Z",
     "iopub.status.idle": "2025-06-14T15:49:06.400251Z",
     "shell.execute_reply": "2025-06-14T15:49:06.399335Z"
    },
    "papermill": {
     "duration": 0.159683,
     "end_time": "2025-06-14T15:49:06.401976",
     "exception": false,
     "start_time": "2025-06-14T15:49:06.242293",
     "status": "completed"
    },
    "tags": []
   },
   "outputs": [],
   "source": [
    "df[\"temperature_C\"] = 5*(df[\"temperature_F\"] - 32)/9 #Fahrenheit to Celcius\n",
    "df.drop(\"temperature_F\", axis=1, inplace=True)"
   ]
  },
  {
   "cell_type": "code",
   "execution_count": 57,
   "id": "009bee5d",
   "metadata": {
    "execution": {
     "iopub.execute_input": "2025-06-14T15:49:06.458270Z",
     "iopub.status.busy": "2025-06-14T15:49:06.457966Z",
     "iopub.status.idle": "2025-06-14T15:49:06.582857Z",
     "shell.execute_reply": "2025-06-14T15:49:06.581927Z"
    },
    "papermill": {
     "duration": 0.1564,
     "end_time": "2025-06-14T15:49:06.585127",
     "exception": false,
     "start_time": "2025-06-14T15:49:06.428727",
     "status": "completed"
    },
    "tags": []
   },
   "outputs": [
    {
     "data": {
      "text/html": [
       "<div>\n",
       "<style scoped>\n",
       "    .dataframe tbody tr th:only-of-type {\n",
       "        vertical-align: middle;\n",
       "    }\n",
       "\n",
       "    .dataframe tbody tr th {\n",
       "        vertical-align: top;\n",
       "    }\n",
       "\n",
       "    .dataframe thead th {\n",
       "        text-align: right;\n",
       "    }\n",
       "</style>\n",
       "<table border=\"1\" class=\"dataframe\">\n",
       "  <thead>\n",
       "    <tr style=\"text-align: right;\">\n",
       "      <th></th>\n",
       "      <th>temperature_C</th>\n",
       "      <th>humidity</th>\n",
       "      <th>pressure</th>\n",
       "      <th>wind_speed</th>\n",
       "    </tr>\n",
       "  </thead>\n",
       "  <tbody>\n",
       "    <tr>\n",
       "      <th>count</th>\n",
       "      <td>629788.000000</td>\n",
       "      <td>628544.000000</td>\n",
       "      <td>614445.000000</td>\n",
       "      <td>637194.000000</td>\n",
       "    </tr>\n",
       "    <tr>\n",
       "      <th>mean</th>\n",
       "      <td>2.271533</td>\n",
       "      <td>0.741021</td>\n",
       "      <td>1010.102458</td>\n",
       "      <td>6.235751</td>\n",
       "    </tr>\n",
       "    <tr>\n",
       "      <th>std</th>\n",
       "      <td>4.560297</td>\n",
       "      <td>0.138582</td>\n",
       "      <td>13.474793</td>\n",
       "      <td>3.264668</td>\n",
       "    </tr>\n",
       "    <tr>\n",
       "      <th>min</th>\n",
       "      <td>-11.038889</td>\n",
       "      <td>0.380000</td>\n",
       "      <td>988.090000</td>\n",
       "      <td>0.450000</td>\n",
       "    </tr>\n",
       "    <tr>\n",
       "      <th>25%</th>\n",
       "      <td>-0.050000</td>\n",
       "      <td>0.640000</td>\n",
       "      <td>999.840000</td>\n",
       "      <td>3.410000</td>\n",
       "    </tr>\n",
       "    <tr>\n",
       "      <th>50%</th>\n",
       "      <td>2.205556</td>\n",
       "      <td>0.710000</td>\n",
       "      <td>1009.250000</td>\n",
       "      <td>5.920000</td>\n",
       "    </tr>\n",
       "    <tr>\n",
       "      <th>75%</th>\n",
       "      <td>4.844444</td>\n",
       "      <td>0.880000</td>\n",
       "      <td>1021.860000</td>\n",
       "      <td>8.410000</td>\n",
       "    </tr>\n",
       "    <tr>\n",
       "      <th>max</th>\n",
       "      <td>29.905556</td>\n",
       "      <td>0.960000</td>\n",
       "      <td>1035.550000</td>\n",
       "      <td>37.500000</td>\n",
       "    </tr>\n",
       "  </tbody>\n",
       "</table>\n",
       "</div>"
      ],
      "text/plain": [
       "       temperature_C       humidity       pressure     wind_speed\n",
       "count  629788.000000  628544.000000  614445.000000  637194.000000\n",
       "mean        2.271533       0.741021    1010.102458       6.235751\n",
       "std         4.560297       0.138582      13.474793       3.264668\n",
       "min       -11.038889       0.380000     988.090000       0.450000\n",
       "25%        -0.050000       0.640000     999.840000       3.410000\n",
       "50%         2.205556       0.710000    1009.250000       5.920000\n",
       "75%         4.844444       0.880000    1021.860000       8.410000\n",
       "max        29.905556       0.960000    1035.550000      37.500000"
      ]
     },
     "execution_count": 57,
     "metadata": {},
     "output_type": "execute_result"
    }
   ],
   "source": [
    "df[[\"temperature_C\",\"humidity\",\"pressure\",\"wind_speed\"]].describe()"
   ]
  },
  {
   "cell_type": "code",
   "execution_count": 58,
   "id": "ebb7a745",
   "metadata": {
    "execution": {
     "iopub.execute_input": "2025-06-14T15:49:06.640869Z",
     "iopub.status.busy": "2025-06-14T15:49:06.640543Z",
     "iopub.status.idle": "2025-06-14T15:49:18.949065Z",
     "shell.execute_reply": "2025-06-14T15:49:18.948011Z"
    },
    "papermill": {
     "duration": 12.33956,
     "end_time": "2025-06-14T15:49:18.952061",
     "exception": false,
     "start_time": "2025-06-14T15:49:06.612501",
     "status": "completed"
    },
    "tags": []
   },
   "outputs": [
    {
     "name": "stderr",
     "output_type": "stream",
     "text": [
      "/usr/local/lib/python3.11/dist-packages/seaborn/_oldcore.py:1119: FutureWarning: use_inf_as_na option is deprecated and will be removed in a future version. Convert inf values to NaN before operating instead.\n",
      "  with pd.option_context('mode.use_inf_as_na', True):\n",
      "/usr/local/lib/python3.11/dist-packages/seaborn/_oldcore.py:1119: FutureWarning: use_inf_as_na option is deprecated and will be removed in a future version. Convert inf values to NaN before operating instead.\n",
      "  with pd.option_context('mode.use_inf_as_na', True):\n",
      "/usr/local/lib/python3.11/dist-packages/seaborn/_oldcore.py:1119: FutureWarning: use_inf_as_na option is deprecated and will be removed in a future version. Convert inf values to NaN before operating instead.\n",
      "  with pd.option_context('mode.use_inf_as_na', True):\n",
      "/usr/local/lib/python3.11/dist-packages/seaborn/_oldcore.py:1119: FutureWarning: use_inf_as_na option is deprecated and will be removed in a future version. Convert inf values to NaN before operating instead.\n",
      "  with pd.option_context('mode.use_inf_as_na', True):\n"
     ]
    },
    {
     "data": {
      "image/png": "[encoded data removed]",
      "text/plain": [
       "<Figure size 1800x1200 with 4 Axes>"
      ]
     },
     "metadata": {},
     "output_type": "display_data"
    }
   ],
   "source": [
    "plt.figure(figsize=(18,12))\n",
    "plt.subplot(2,2,1)\n",
    "sns.histplot(df[\"temperature_C\"], bins=100, kde=True)\n",
    "plt.title(\"Temperature Distribution\")\n",
    "\n",
    "plt.subplot(2,2,2)\n",
    "sns.histplot(df[\"humidity\"], bins=100, kde=True)\n",
    "plt.title(\"Humidity Distribution\")\n",
    "\n",
    "plt.subplot(2,2,3)\n",
    "sns.histplot(df[\"wind_speed\"], bins=100, kde=True)\n",
    "plt.title(\"Wind Speed Distribution\")\n",
    "\n",
    "plt.subplot(2,2,4)\n",
    "sns.histplot(df[\"pressure\"], bins=100, kde=True)\n",
    "plt.title(\"Pressure Distribution\")\n",
    "plt.show()"
   ]
  },
  {
   "cell_type": "markdown",
   "id": "d463e249",
   "metadata": {
    "papermill": {
     "duration": 0.030087,
     "end_time": "2025-06-14T15:49:19.012536",
     "exception": false,
     "start_time": "2025-06-14T15:49:18.982449",
     "status": "completed"
    },
    "tags": []
   },
   "source": [
    "#### Temperature and Wind Speed column has unrealistic values. So, we replaced the outliers with NaN."
   ]
  },
  {
   "cell_type": "code",
   "execution_count": 59,
   "id": "1da288b5",
   "metadata": {
    "execution": {
     "iopub.execute_input": "2025-06-14T15:49:19.073957Z",
     "iopub.status.busy": "2025-06-14T15:49:19.073564Z",
     "iopub.status.idle": "2025-06-14T15:49:19.101186Z",
     "shell.execute_reply": "2025-06-14T15:49:19.100191Z"
    },
    "papermill": {
     "duration": 0.060087,
     "end_time": "2025-06-14T15:49:19.102500",
     "exception": false,
     "start_time": "2025-06-14T15:49:19.042413",
     "status": "completed"
    },
    "tags": []
   },
   "outputs": [
    {
     "name": "stdout",
     "output_type": "stream",
     "text": [
      "Temperature Threshold:  14.633333333333333\n"
     ]
    },
    {
     "name": "stderr",
     "output_type": "stream",
     "text": [
      "/usr/local/lib/python3.11/dist-packages/pandas/core/computation/expressions.py:73: RuntimeWarning: invalid value encountered in greater\n",
      "  return op(a, b)\n"
     ]
    }
   ],
   "source": [
    "Q3 = df[\"temperature_C\"].quantile(0.75)\n",
    "Q1 = df[\"temperature_C\"].quantile(0.25)\n",
    "IQR = Q3 - Q1\n",
    "temp_threshold = Q3 + 2*IQR\n",
    "print(\"Temperature Threshold: \",temp_threshold)\n",
    "df.loc[df[\"temperature_C\"]>temp_threshold, \"temperature_C\"] = np.nan"
   ]
  },
  {
   "cell_type": "code",
   "execution_count": 60,
   "id": "aad1f920",
   "metadata": {
    "execution": {
     "iopub.execute_input": "2025-06-14T15:49:19.167902Z",
     "iopub.status.busy": "2025-06-14T15:49:19.167526Z",
     "iopub.status.idle": "2025-06-14T15:49:19.194434Z",
     "shell.execute_reply": "2025-06-14T15:49:19.193280Z"
    },
    "papermill": {
     "duration": 0.060808,
     "end_time": "2025-06-14T15:49:19.196098",
     "exception": false,
     "start_time": "2025-06-14T15:49:19.135290",
     "status": "completed"
    },
    "tags": []
   },
   "outputs": [
    {
     "name": "stdout",
     "output_type": "stream",
     "text": [
      "Wind Speed Threshold:  15.91\n"
     ]
    }
   ],
   "source": [
    "Q3 = df[\"wind_speed\"].quantile(0.75)\n",
    "Q1 = df[\"wind_speed\"].quantile(0.25)\n",
    "IQR = Q3 - Q1\n",
    "wind_threshold = Q3 + 1.5*IQR\n",
    "print(\"Wind Speed Threshold: \",wind_threshold)\n",
    "df.loc[df[\"wind_speed\"]>wind_threshold, \"wind_speed\"] = np.nan"
   ]
  },
  {
   "cell_type": "code",
   "execution_count": 61,
   "id": "d7f689c6",
   "metadata": {
    "execution": {
     "iopub.execute_input": "2025-06-14T15:49:19.266568Z",
     "iopub.status.busy": "2025-06-14T15:49:19.266235Z",
     "iopub.status.idle": "2025-06-14T15:49:19.275333Z",
     "shell.execute_reply": "2025-06-14T15:49:19.274336Z"
    },
    "papermill": {
     "duration": 0.044625,
     "end_time": "2025-06-14T15:49:19.277051",
     "exception": false,
     "start_time": "2025-06-14T15:49:19.232426",
     "status": "completed"
    },
    "tags": []
   },
   "outputs": [
    {
     "data": {
      "text/plain": [
       "9559"
      ]
     },
     "execution_count": 61,
     "metadata": {},
     "output_type": "execute_result"
    }
   ],
   "source": [
    "df[\"temperature_C\"].isnull().sum()"
   ]
  },
  {
   "cell_type": "code",
   "execution_count": 62,
   "id": "d426607f",
   "metadata": {
    "execution": {
     "iopub.execute_input": "2025-06-14T15:49:19.340578Z",
     "iopub.status.busy": "2025-06-14T15:49:19.339533Z",
     "iopub.status.idle": "2025-06-14T15:49:19.348885Z",
     "shell.execute_reply": "2025-06-14T15:49:19.348272Z"
    },
    "papermill": {
     "duration": 0.042962,
     "end_time": "2025-06-14T15:49:19.350458",
     "exception": false,
     "start_time": "2025-06-14T15:49:19.307496",
     "status": "completed"
    },
    "tags": []
   },
   "outputs": [
    {
     "data": {
      "text/plain": [
       "1639"
      ]
     },
     "execution_count": 62,
     "metadata": {},
     "output_type": "execute_result"
    }
   ],
   "source": [
    "df[\"wind_speed\"].isnull().sum()"
   ]
  },
  {
   "cell_type": "markdown",
   "id": "3c99610c",
   "metadata": {
    "papermill": {
     "duration": 0.033431,
     "end_time": "2025-06-14T15:49:19.417226",
     "exception": false,
     "start_time": "2025-06-14T15:49:19.383795",
     "status": "completed"
    },
    "tags": []
   },
   "source": [
    "#### The missing values in weather column is filled with forward and backward fill averaging."
   ]
  },
  {
   "cell_type": "code",
   "execution_count": 63,
   "id": "c67aeebe",
   "metadata": {
    "execution": {
     "iopub.execute_input": "2025-06-14T15:49:19.508601Z",
     "iopub.status.busy": "2025-06-14T15:49:19.508216Z",
     "iopub.status.idle": "2025-06-14T15:49:19.586472Z",
     "shell.execute_reply": "2025-06-14T15:49:19.585586Z"
    },
    "papermill": {
     "duration": 0.127732,
     "end_time": "2025-06-14T15:49:19.588181",
     "exception": false,
     "start_time": "2025-06-14T15:49:19.460449",
     "status": "completed"
    },
    "tags": []
   },
   "outputs": [],
   "source": [
    "weather_cols = [\"temperature_C\", \"humidity\", \"wind_speed\", \"pressure\"]\n",
    "\n",
    "for col in weather_cols:\n",
    "    df[col] = ((df[col].ffill() + df[col].bfill()) / 2).round(2)"
   ]
  },
  {
   "cell_type": "markdown",
   "id": "8d237c2e",
   "metadata": {
    "papermill": {
     "duration": 0.030786,
     "end_time": "2025-06-14T15:49:19.654850",
     "exception": false,
     "start_time": "2025-06-14T15:49:19.624064",
     "status": "completed"
    },
    "tags": []
   },
   "source": [
    "#### Weather data distribution after removing outliers and missing values."
   ]
  },
  {
   "cell_type": "code",
   "execution_count": 64,
   "id": "5094e151",
   "metadata": {
    "execution": {
     "iopub.execute_input": "2025-06-14T15:49:19.719186Z",
     "iopub.status.busy": "2025-06-14T15:49:19.718899Z",
     "iopub.status.idle": "2025-06-14T15:49:31.584504Z",
     "shell.execute_reply": "2025-06-14T15:49:31.583462Z"
    },
    "papermill": {
     "duration": 11.901103,
     "end_time": "2025-06-14T15:49:31.587996",
     "exception": false,
     "start_time": "2025-06-14T15:49:19.686893",
     "status": "completed"
    },
    "tags": []
   },
   "outputs": [
    {
     "name": "stderr",
     "output_type": "stream",
     "text": [
      "/usr/local/lib/python3.11/dist-packages/seaborn/_oldcore.py:1119: FutureWarning: use_inf_as_na option is deprecated and will be removed in a future version. Convert inf values to NaN before operating instead.\n",
      "  with pd.option_context('mode.use_inf_as_na', True):\n",
      "/usr/local/lib/python3.11/dist-packages/seaborn/_oldcore.py:1119: FutureWarning: use_inf_as_na option is deprecated and will be removed in a future version. Convert inf values to NaN before operating instead.\n",
      "  with pd.option_context('mode.use_inf_as_na', True):\n",
      "/usr/local/lib/python3.11/dist-packages/seaborn/_oldcore.py:1119: FutureWarning: use_inf_as_na option is deprecated and will be removed in a future version. Convert inf values to NaN before operating instead.\n",
      "  with pd.option_context('mode.use_inf_as_na', True):\n",
      "/usr/local/lib/python3.11/dist-packages/seaborn/_oldcore.py:1119: FutureWarning: use_inf_as_na option is deprecated and will be removed in a future version. Convert inf values to NaN before operating instead.\n",
      "  with pd.option_context('mode.use_inf_as_na', True):\n"
     ]
    },
    {
     "data": {
      "image/png": "[encoded data removed]",
      "text/plain": [
       "<Figure size 1800x1200 with 4 Axes>"
      ]
     },
     "metadata": {},
     "output_type": "display_data"
    }
   ],
   "source": [
    "plt.figure(figsize=(18,12))\n",
    "plt.subplot(2,2,1)\n",
    "sns.histplot(df[\"temperature_C\"], bins=100, kde=True)\n",
    "plt.title(\"Temperature Distribution\")\n",
    "\n",
    "plt.subplot(2,2,2)\n",
    "sns.histplot(df[\"humidity\"], bins=100, kde=True)\n",
    "plt.title(\"Humidity Distribution\")\n",
    "\n",
    "plt.subplot(2,2,3)\n",
    "sns.histplot(df[\"wind_speed\"], bins=100, kde=True)\n",
    "plt.title(\"Wind Speed Distribution\")\n",
    "\n",
    "plt.subplot(2,2,4)\n",
    "sns.histplot(df[\"pressure\"], bins=100, kde=True)\n",
    "plt.title(\"Pressure Distribution\")\n",
    "plt.show()"
   ]
  },
  {
   "cell_type": "code",
   "execution_count": 65,
   "id": "bd2c591f",
   "metadata": {
    "execution": {
     "iopub.execute_input": "2025-06-14T15:49:31.661568Z",
     "iopub.status.busy": "2025-06-14T15:49:31.660477Z",
     "iopub.status.idle": "2025-06-14T15:49:32.042830Z",
     "shell.execute_reply": "2025-06-14T15:49:32.041562Z"
    },
    "papermill": {
     "duration": 0.42012,
     "end_time": "2025-06-14T15:49:32.044439",
     "exception": false,
     "start_time": "2025-06-14T15:49:31.624319",
     "status": "completed"
    },
    "tags": []
   },
   "outputs": [
    {
     "data": {
      "text/plain": [
       "timestamp             0\n",
       "date                  0\n",
       "hour                  0\n",
       "day_of_week           0\n",
       "month                 0\n",
       "source                0\n",
       "destination           0\n",
       "ride_company          0\n",
       "vehicle               0\n",
       "visibility            0\n",
       "cloud_cover           0\n",
       "uv_index              0\n",
       "distance              0\n",
       "surge_multiplier      0\n",
       "fare                  0\n",
       "humidity              0\n",
       "wind_speed            0\n",
       "weather_desc_short    0\n",
       "weather_desc_long     0\n",
       "weather_status        0\n",
       "pressure              0\n",
       "temperature_C         0\n",
       "dtype: int64"
      ]
     },
     "execution_count": 65,
     "metadata": {},
     "output_type": "execute_result"
    }
   ],
   "source": [
    "df.isnull().sum()"
   ]
  },
  {
   "cell_type": "code",
   "execution_count": 66,
   "id": "0230eec6",
   "metadata": {
    "execution": {
     "iopub.execute_input": "2025-06-14T15:49:32.118348Z",
     "iopub.status.busy": "2025-06-14T15:49:32.117478Z",
     "iopub.status.idle": "2025-06-14T15:49:32.191805Z",
     "shell.execute_reply": "2025-06-14T15:49:32.190720Z"
    },
    "papermill": {
     "duration": 0.11384,
     "end_time": "2025-06-14T15:49:32.193389",
     "exception": false,
     "start_time": "2025-06-14T15:49:32.079549",
     "status": "completed"
    },
    "tags": []
   },
   "outputs": [
    {
     "data": {
      "text/html": [
       "<div>\n",
       "<style scoped>\n",
       "    .dataframe tbody tr th:only-of-type {\n",
       "        vertical-align: middle;\n",
       "    }\n",
       "\n",
       "    .dataframe tbody tr th {\n",
       "        vertical-align: top;\n",
       "    }\n",
       "\n",
       "    .dataframe thead th {\n",
       "        text-align: right;\n",
       "    }\n",
       "</style>\n",
       "<table border=\"1\" class=\"dataframe\">\n",
       "  <thead>\n",
       "    <tr style=\"text-align: right;\">\n",
       "      <th></th>\n",
       "      <th>uv_index</th>\n",
       "      <th>cloud_cover</th>\n",
       "      <th>visibility</th>\n",
       "    </tr>\n",
       "  </thead>\n",
       "  <tbody>\n",
       "    <tr>\n",
       "      <th>count</th>\n",
       "      <td>637194.000000</td>\n",
       "      <td>637194.000000</td>\n",
       "      <td>637194.000000</td>\n",
       "    </tr>\n",
       "    <tr>\n",
       "      <th>mean</th>\n",
       "      <td>0.249075</td>\n",
       "      <td>0.686230</td>\n",
       "      <td>8.469312</td>\n",
       "    </tr>\n",
       "    <tr>\n",
       "      <th>std</th>\n",
       "      <td>0.474355</td>\n",
       "      <td>0.358629</td>\n",
       "      <td>2.601731</td>\n",
       "    </tr>\n",
       "    <tr>\n",
       "      <th>min</th>\n",
       "      <td>0.000000</td>\n",
       "      <td>0.000000</td>\n",
       "      <td>0.717000</td>\n",
       "    </tr>\n",
       "    <tr>\n",
       "      <th>25%</th>\n",
       "      <td>0.000000</td>\n",
       "      <td>0.370000</td>\n",
       "      <td>8.432000</td>\n",
       "    </tr>\n",
       "    <tr>\n",
       "      <th>50%</th>\n",
       "      <td>0.000000</td>\n",
       "      <td>0.820000</td>\n",
       "      <td>9.880000</td>\n",
       "    </tr>\n",
       "    <tr>\n",
       "      <th>75%</th>\n",
       "      <td>0.000000</td>\n",
       "      <td>1.000000</td>\n",
       "      <td>9.996000</td>\n",
       "    </tr>\n",
       "    <tr>\n",
       "      <th>max</th>\n",
       "      <td>2.000000</td>\n",
       "      <td>1.000000</td>\n",
       "      <td>10.000000</td>\n",
       "    </tr>\n",
       "  </tbody>\n",
       "</table>\n",
       "</div>"
      ],
      "text/plain": [
       "            uv_index    cloud_cover     visibility\n",
       "count  637194.000000  637194.000000  637194.000000\n",
       "mean        0.249075       0.686230       8.469312\n",
       "std         0.474355       0.358629       2.601731\n",
       "min         0.000000       0.000000       0.717000\n",
       "25%         0.000000       0.370000       8.432000\n",
       "50%         0.000000       0.820000       9.880000\n",
       "75%         0.000000       1.000000       9.996000\n",
       "max         2.000000       1.000000      10.000000"
      ]
     },
     "execution_count": 66,
     "metadata": {},
     "output_type": "execute_result"
    }
   ],
   "source": [
    "df[[\"uv_index\",\"cloud_cover\",\"visibility\"]].describe()"
   ]
  },
  {
   "cell_type": "markdown",
   "id": "3c90858e",
   "metadata": {
    "papermill": {
     "duration": 0.034081,
     "end_time": "2025-06-14T15:49:32.266729",
     "exception": false,
     "start_time": "2025-06-14T15:49:32.232648",
     "status": "completed"
    },
    "tags": []
   },
   "source": [
    "uv_index, cloud_cover and visibility doesn't have outliers or missing value."
   ]
  },
  {
   "cell_type": "markdown",
   "id": "96b50c74",
   "metadata": {
    "papermill": {
     "duration": 0.035317,
     "end_time": "2025-06-14T15:49:32.336760",
     "exception": false,
     "start_time": "2025-06-14T15:49:32.301443",
     "status": "completed"
    },
    "tags": []
   },
   "source": [
    "## **Handling weather description data**"
   ]
  },
  {
   "cell_type": "code",
   "execution_count": 67,
   "id": "4aeabb87",
   "metadata": {
    "execution": {
     "iopub.execute_input": "2025-06-14T15:49:32.410310Z",
     "iopub.status.busy": "2025-06-14T15:49:32.409986Z",
     "iopub.status.idle": "2025-06-14T15:49:32.449814Z",
     "shell.execute_reply": "2025-06-14T15:49:32.448807Z"
    },
    "papermill": {
     "duration": 0.078477,
     "end_time": "2025-06-14T15:49:32.451429",
     "exception": false,
     "start_time": "2025-06-14T15:49:32.372952",
     "status": "completed"
    },
    "tags": []
   },
   "outputs": [
    {
     "data": {
      "text/plain": [
       "array([' Foggy ', ' Foggy !!', ' Overcast ', ' Overcast !!',\n",
       "       ' Possible Drizzle ', ' Possible Drizzle !!', ' Drizzle ',\n",
       "       ' Drizzle !!', ' Light Rain ', ' Light Rain !!', ' Rain ',\n",
       "       ' Rain !!', ' Mostly Cloudy ', ' Mostly Cloudy !!',\n",
       "       ' Partly Cloudy ', ' Partly Cloudy !!', ' Clear ', ' Clear !!'],\n",
       "      dtype=object)"
      ]
     },
     "execution_count": 67,
     "metadata": {},
     "output_type": "execute_result"
    }
   ],
   "source": [
    "df[\"weather_desc_short\"].unique()"
   ]
  },
  {
   "cell_type": "code",
   "execution_count": 68,
   "id": "9ce216c8",
   "metadata": {
    "execution": {
     "iopub.execute_input": "2025-06-14T15:49:32.522477Z",
     "iopub.status.busy": "2025-06-14T15:49:32.522178Z",
     "iopub.status.idle": "2025-06-14T15:49:32.581579Z",
     "shell.execute_reply": "2025-06-14T15:49:32.580614Z"
    },
    "papermill": {
     "duration": 0.096928,
     "end_time": "2025-06-14T15:49:32.583140",
     "exception": false,
     "start_time": "2025-06-14T15:49:32.486212",
     "status": "completed"
    },
    "tags": []
   },
   "outputs": [
    {
     "data": {
      "text/plain": [
       "array([' Rain in the morning and afternoon. ',\n",
       "       ' Rain until morning, starting again in the evening. ',\n",
       "       ' Light rain in the morning. ',\n",
       "       ' Mostly cloudy throughout the day. ',\n",
       "       ' Partly cloudy throughout the day. ',\n",
       "       ' Overcast throughout the day. ',\n",
       "       ' Light rain in the morning and overnight. ',\n",
       "       ' Light rain until evening. ', ' Rain throughout the day. ',\n",
       "       ' Foggy in the morning. ', ' Possible drizzle in the morning. '],\n",
       "      dtype=object)"
      ]
     },
     "execution_count": 68,
     "metadata": {},
     "output_type": "execute_result"
    }
   ],
   "source": [
    "df[\"weather_desc_long\"].unique()"
   ]
  },
  {
   "cell_type": "markdown",
   "id": "2b546e70",
   "metadata": {
    "papermill": {
     "duration": 0.0343,
     "end_time": "2025-06-14T15:49:32.652056",
     "exception": false,
     "start_time": "2025-06-14T15:49:32.617756",
     "status": "completed"
    },
    "tags": []
   },
   "source": [
    "The weather_desc_short column contains duplicate values with exclamation marks (e.g., 'Rain' and 'Rain !!'). These indicate the same weather condition and should be treated as a single category.\n",
    "To clean this, we'll remove the exclamation marks and any leading/trailing whitespace."
   ]
  },
  {
   "cell_type": "code",
   "execution_count": 69,
   "id": "c856683e",
   "metadata": {
    "execution": {
     "iopub.execute_input": "2025-06-14T15:49:32.726061Z",
     "iopub.status.busy": "2025-06-14T15:49:32.725758Z",
     "iopub.status.idle": "2025-06-14T15:49:33.000362Z",
     "shell.execute_reply": "2025-06-14T15:49:32.999376Z"
    },
    "papermill": {
     "duration": 0.313554,
     "end_time": "2025-06-14T15:49:33.002132",
     "exception": false,
     "start_time": "2025-06-14T15:49:32.688578",
     "status": "completed"
    },
    "tags": []
   },
   "outputs": [],
   "source": [
    "# Remove '!!' and any leading/trailing whitespace\n",
    "df[\"weather_desc_short\"] = df[\"weather_desc_short\"].str.replace(\"!!\", \"\", regex=False).str.strip()"
   ]
  },
  {
   "cell_type": "code",
   "execution_count": 70,
   "id": "c71b9fec",
   "metadata": {
    "execution": {
     "iopub.execute_input": "2025-06-14T15:49:33.074967Z",
     "iopub.status.busy": "2025-06-14T15:49:33.074586Z",
     "iopub.status.idle": "2025-06-14T15:49:33.117130Z",
     "shell.execute_reply": "2025-06-14T15:49:33.116093Z"
    },
    "papermill": {
     "duration": 0.080299,
     "end_time": "2025-06-14T15:49:33.118651",
     "exception": false,
     "start_time": "2025-06-14T15:49:33.038352",
     "status": "completed"
    },
    "tags": []
   },
   "outputs": [
    {
     "data": {
      "text/plain": [
       "array([' fog ', '☁️rainn%%', ' cloudy ', ' rain ', ' partly-cloudy-day ',\n",
       "       ' partly-cloudy-night ', ' clear-night ', ' clear-day '],\n",
       "      dtype=object)"
      ]
     },
     "execution_count": 70,
     "metadata": {},
     "output_type": "execute_result"
    }
   ],
   "source": [
    "df[\"weather_status\"].unique()"
   ]
  },
  {
   "cell_type": "markdown",
   "id": "e9e6e88e",
   "metadata": {
    "papermill": {
     "duration": 0.035642,
     "end_time": "2025-06-14T15:49:33.189430",
     "exception": false,
     "start_time": "2025-06-14T15:49:33.153788",
     "status": "completed"
    },
    "tags": []
   },
   "source": [
    "#### Our preprocessing ends here. Now, we will save the dataset. And, we will read this cleaned dataset from another notebook to do exploratory data analysis."
   ]
  },
  {
   "cell_type": "code",
   "execution_count": 71,
   "id": "a9ccf92b",
   "metadata": {
    "execution": {
     "iopub.execute_input": "2025-06-14T15:49:33.261119Z",
     "iopub.status.busy": "2025-06-14T15:49:33.260837Z",
     "iopub.status.idle": "2025-06-14T15:49:33.265077Z",
     "shell.execute_reply": "2025-06-14T15:49:33.264079Z"
    },
    "papermill": {
     "duration": 0.041693,
     "end_time": "2025-06-14T15:49:33.266750",
     "exception": false,
     "start_time": "2025-06-14T15:49:33.225057",
     "status": "completed"
    },
    "tags": []
   },
   "outputs": [],
   "source": [
    "# df.to_csv(\"Uber Cleaned Dataset.csv\", index=False)"
   ]
  }
 ],
 "metadata": {
  "kaggle": {
   "accelerator": "none",
   "dataSources": [
    {
     "datasetId": 7628184,
     "sourceId": 12164897,
     "sourceType": "datasetVersion"
    }
   ],
   "dockerImageVersionId": 31040,
   "isGpuEnabled": false,
   "isInternetEnabled": false,
   "language": "python",
   "sourceType": "notebook"
  },
  "kernelspec": {
   "display_name": "Python 3",
   "language": "python",
   "name": "python3"
  },
  "language_info": {
   "codemirror_mode": {
    "name": "ipython",
    "version": 3
   },
   "file_extension": ".py",
   "mimetype": "text/x-python",
   "name": "python",
   "nbconvert_exporter": "python",
   "pygments_lexer": "ipython3",
   "version": "3.11.11"
  },
  "papermill": {
   "default_parameters": {},
   "duration": 142.018784,
   "end_time": "2025-06-14T15:49:34.325141",
   "environment_variables": {},
   "exception": null,
   "input_path": "__notebook__.ipynb",
   "output_path": "__notebook__.ipynb",
   "parameters": {},
   "start_time": "2025-06-14T15:47:12.306357",
   "version": "2.6.0"
  }
 },
 "nbformat": 4,
 "nbformat_minor": 5
}
